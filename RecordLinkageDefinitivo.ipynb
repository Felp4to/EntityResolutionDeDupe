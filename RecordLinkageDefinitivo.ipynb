{
 "cells": [
  {
   "cell_type": "markdown",
   "source": [
    "# Record Linkage"
   ],
   "metadata": {
    "collapsed": false
   }
  },
  {
   "cell_type": "code",
   "execution_count": 436,
   "outputs": [],
   "source": [
    "import recordlinkage\n",
    "import pandas as pd\n",
    "import collections\n",
    "import time"
   ],
   "metadata": {
    "collapsed": false,
    "pycharm": {
     "name": "#%%\n"
    }
   }
  },
  {
   "cell_type": "code",
   "execution_count": 437,
   "outputs": [],
   "source": [
    "PATH_DS_L = './Mediated Datasets/disfold_Avengers_m.jsonl'\n",
    "PATH_DS_R = './Mediated Datasets/disfold_fr_m.jsonl'\n",
    "THRESHOLD = 0.95"
   ],
   "metadata": {
    "collapsed": false,
    "pycharm": {
     "name": "#%%\n"
    }
   }
  },
  {
   "cell_type": "code",
   "execution_count": 438,
   "outputs": [],
   "source": [
    "def get_features(df_l, df_r):\n",
    "    feature_value = 0\n",
    "    columns_l = df_l.columns.values.tolist()\n",
    "    columns_r = df_r.columns.values.tolist()\n",
    "    # set_index\n",
    "    indexer = recordlinkage.Index()\n",
    "    indexer.full()\n",
    "    candidate_links = indexer.index(df_l, df_r)\n",
    "\n",
    "    # Comparison step\n",
    "    compare_cl = recordlinkage.Compare()\n",
    "    compare_cl.string(\"name\", \"name\", method=\"levenshtein\", threshold=0.95, label=\"name\")\n",
    "\n",
    "    if 'ceo' in columns_l and 'ceo' in columns_r:\n",
    "        compare_cl.string(\"ceo\", \"ceo\", method=\"levenshtein\", threshold=0.85, label=\"ceo\")\n",
    "        feature_value = 1\n",
    "\n",
    "    if 'country' in columns_l and 'country' in columns_r:\n",
    "        compare_cl.string(\"country\", \"country\", method=\"levenshtein\", threshold=0.85, label=\"country\")\n",
    "        feature_value = 1\n",
    "\n",
    "    # compare_cl.exact(\"country\", \"country\", label=\"country\")\n",
    "\n",
    "    return compare_cl.compute(candidate_links, df_l, df_r), feature_value\n",
    "\n",
    "\n",
    "def get_pairs(features, feature_value):\n",
    "    # Classification step\n",
    "    pairs = features[features.sum(axis=1) > feature_value]\n",
    "    return pairs['name'].keys().to_list()\n",
    "\n",
    "\n",
    "def rename_columns(columns_l, columns_r):\n",
    "    columns_l = [c + '_l' for c in columns_l]\n",
    "    columns_r = [c + '_r' for c in columns_r]\n",
    "    columns_join = columns_l + columns_r\n",
    "    return columns_l, columns_r\n",
    "\n",
    "\n",
    "def find_duplicated_columns(columns_l, columns_r):\n",
    "    attr_cleaned = columns_l + columns_r\n",
    "    duplicates = [item for item, count in collections.Counter(attr_cleaned).items() if count > 1]\n",
    "    return duplicates"
   ],
   "metadata": {
    "collapsed": false,
    "pycharm": {
     "name": "#%%\n"
    }
   }
  },
  {
   "cell_type": "code",
   "execution_count": 439,
   "outputs": [
    {
     "data": {
      "text/plain": "                          name     country continent           founded  \\\n0                        apple   cupertino        ca     april 1, 1976   \n1                      danaher  washington        dc              1969   \n2                        merck  kenilworth        nj              1891   \n3                          bhp   melbourne       vic              1885   \n4                         nike   beaverton        or  january 25, 1964   \n..                         ...         ...       ...               ...   \n995   asahi group holdings ltd       tokyo     japan                     \n996  haitong securities co ltd    shanghai     china                     \n997               catalent inc    somerset        nj              2007   \n998        quanta services inc     houston        tx              1997   \n999               ubiquiti inc     newyork        ny      october 2003   \n\n    employees                        ceo        market_cap  \\\n0     100,000             timothy d cook     2825000000000   \n1      78,000             rainer m blair      208030000000   \n2      67,000          robert m davis jd      210380000000   \n3      40,110  mike p henry bsc bsc chem  a$281.66 billion   \n4      73,300          john j donahoe ii      213600000000   \n..        ...                        ...               ...   \n995    30,020            atsushi katsuki    2.231 trillion   \n996    11,282                             cn115.98 billion   \n997    17,300           john r chiminski       18240000000   \n998    43,700           earl c austin jr       18250000000   \n999     1,223              robert j pera       18250000000   \n\n                                            categories  \n0    unitedstates, technology, consumerelectronics,...  \n1    unitedstates, healthcare, diagnostics&research...  \n2    unitedstates, healthcare, drugmanufacturersgen...  \n3    australia, basicmaterials, otherindustrialmeta...  \n4    unitedstates, consumerdiscretionary, footwear&...  \n..                                                 ...  \n995  japan, consumerstaples, beveragesbrewers, japa...  \n996  china, financials, capitalmarkets, chinafinanc...  \n997  unitedstates, healthcare, drugmanufacturersspe...  \n998  unitedstates, industrials, engineering&constru...  \n999  unitedstates, technology, communicationequipme...  \n\n[1000 rows x 8 columns]",
      "text/html": "<div>\n<style scoped>\n    .dataframe tbody tr th:only-of-type {\n        vertical-align: middle;\n    }\n\n    .dataframe tbody tr th {\n        vertical-align: top;\n    }\n\n    .dataframe thead th {\n        text-align: right;\n    }\n</style>\n<table border=\"1\" class=\"dataframe\">\n  <thead>\n    <tr style=\"text-align: right;\">\n      <th></th>\n      <th>name</th>\n      <th>country</th>\n      <th>continent</th>\n      <th>founded</th>\n      <th>employees</th>\n      <th>ceo</th>\n      <th>market_cap</th>\n      <th>categories</th>\n    </tr>\n  </thead>\n  <tbody>\n    <tr>\n      <th>0</th>\n      <td>apple</td>\n      <td>cupertino</td>\n      <td>ca</td>\n      <td>april 1, 1976</td>\n      <td>100,000</td>\n      <td>timothy d cook</td>\n      <td>2825000000000</td>\n      <td>unitedstates, technology, consumerelectronics,...</td>\n    </tr>\n    <tr>\n      <th>1</th>\n      <td>danaher</td>\n      <td>washington</td>\n      <td>dc</td>\n      <td>1969</td>\n      <td>78,000</td>\n      <td>rainer m blair</td>\n      <td>208030000000</td>\n      <td>unitedstates, healthcare, diagnostics&amp;research...</td>\n    </tr>\n    <tr>\n      <th>2</th>\n      <td>merck</td>\n      <td>kenilworth</td>\n      <td>nj</td>\n      <td>1891</td>\n      <td>67,000</td>\n      <td>robert m davis jd</td>\n      <td>210380000000</td>\n      <td>unitedstates, healthcare, drugmanufacturersgen...</td>\n    </tr>\n    <tr>\n      <th>3</th>\n      <td>bhp</td>\n      <td>melbourne</td>\n      <td>vic</td>\n      <td>1885</td>\n      <td>40,110</td>\n      <td>mike p henry bsc bsc chem</td>\n      <td>a$281.66 billion</td>\n      <td>australia, basicmaterials, otherindustrialmeta...</td>\n    </tr>\n    <tr>\n      <th>4</th>\n      <td>nike</td>\n      <td>beaverton</td>\n      <td>or</td>\n      <td>january 25, 1964</td>\n      <td>73,300</td>\n      <td>john j donahoe ii</td>\n      <td>213600000000</td>\n      <td>unitedstates, consumerdiscretionary, footwear&amp;...</td>\n    </tr>\n    <tr>\n      <th>...</th>\n      <td>...</td>\n      <td>...</td>\n      <td>...</td>\n      <td>...</td>\n      <td>...</td>\n      <td>...</td>\n      <td>...</td>\n      <td>...</td>\n    </tr>\n    <tr>\n      <th>995</th>\n      <td>asahi group holdings ltd</td>\n      <td>tokyo</td>\n      <td>japan</td>\n      <td></td>\n      <td>30,020</td>\n      <td>atsushi katsuki</td>\n      <td>2.231 trillion</td>\n      <td>japan, consumerstaples, beveragesbrewers, japa...</td>\n    </tr>\n    <tr>\n      <th>996</th>\n      <td>haitong securities co ltd</td>\n      <td>shanghai</td>\n      <td>china</td>\n      <td></td>\n      <td>11,282</td>\n      <td></td>\n      <td>cn115.98 billion</td>\n      <td>china, financials, capitalmarkets, chinafinanc...</td>\n    </tr>\n    <tr>\n      <th>997</th>\n      <td>catalent inc</td>\n      <td>somerset</td>\n      <td>nj</td>\n      <td>2007</td>\n      <td>17,300</td>\n      <td>john r chiminski</td>\n      <td>18240000000</td>\n      <td>unitedstates, healthcare, drugmanufacturersspe...</td>\n    </tr>\n    <tr>\n      <th>998</th>\n      <td>quanta services inc</td>\n      <td>houston</td>\n      <td>tx</td>\n      <td>1997</td>\n      <td>43,700</td>\n      <td>earl c austin jr</td>\n      <td>18250000000</td>\n      <td>unitedstates, industrials, engineering&amp;constru...</td>\n    </tr>\n    <tr>\n      <th>999</th>\n      <td>ubiquiti inc</td>\n      <td>newyork</td>\n      <td>ny</td>\n      <td>october 2003</td>\n      <td>1,223</td>\n      <td>robert j pera</td>\n      <td>18250000000</td>\n      <td>unitedstates, technology, communicationequipme...</td>\n    </tr>\n  </tbody>\n</table>\n<p>1000 rows × 8 columns</p>\n</div>"
     },
     "execution_count": 439,
     "metadata": {},
     "output_type": "execute_result"
    }
   ],
   "source": [
    "df_l = pd.read_json(PATH_DS_L, encoding='utf-8', lines=True, dtype=object)\n",
    "df_l"
   ],
   "metadata": {
    "collapsed": false,
    "pycharm": {
     "name": "#%%\n"
    }
   }
  },
  {
   "cell_type": "code",
   "execution_count": 440,
   "outputs": [
    {
     "data": {
      "text/plain": "               founded    employees                            ceo  \\\n0        april 1, 1976      100,000                 timothy d cook   \n1        april 4, 1975      181,000                  satya nadella   \n2                                                    amin h nasser   \n3      october 2, 2015      156,500                  sundar pichai   \n4         july 5, 1994    1,608,000                 andrew r jassy   \n..                 ...          ...                            ...   \n894               1930       20,300       thomas sinnickson gayner   \n895               1939       12,023       j powell brown cpcu cpcu   \n896                          16,196                shingo konomoto   \n897               1986       52,000   william joseph hornbuckle iv   \n898                           9,594                                  \n\n                              name  \n0                            apple  \n1                        microsoft  \n2                           aramco  \n3                         alphabet  \n4                           amazon  \n..                             ...  \n894             markel corporation  \n895              brown & brown inc  \n896  nomura research institute ltd  \n897      mgm resorts international  \n898  mega financial holding co ltd  \n\n[899 rows x 4 columns]",
      "text/html": "<div>\n<style scoped>\n    .dataframe tbody tr th:only-of-type {\n        vertical-align: middle;\n    }\n\n    .dataframe tbody tr th {\n        vertical-align: top;\n    }\n\n    .dataframe thead th {\n        text-align: right;\n    }\n</style>\n<table border=\"1\" class=\"dataframe\">\n  <thead>\n    <tr style=\"text-align: right;\">\n      <th></th>\n      <th>founded</th>\n      <th>employees</th>\n      <th>ceo</th>\n      <th>name</th>\n    </tr>\n  </thead>\n  <tbody>\n    <tr>\n      <th>0</th>\n      <td>april 1, 1976</td>\n      <td>100,000</td>\n      <td>timothy d cook</td>\n      <td>apple</td>\n    </tr>\n    <tr>\n      <th>1</th>\n      <td>april 4, 1975</td>\n      <td>181,000</td>\n      <td>satya nadella</td>\n      <td>microsoft</td>\n    </tr>\n    <tr>\n      <th>2</th>\n      <td></td>\n      <td></td>\n      <td>amin h nasser</td>\n      <td>aramco</td>\n    </tr>\n    <tr>\n      <th>3</th>\n      <td>october 2, 2015</td>\n      <td>156,500</td>\n      <td>sundar pichai</td>\n      <td>alphabet</td>\n    </tr>\n    <tr>\n      <th>4</th>\n      <td>july 5, 1994</td>\n      <td>1,608,000</td>\n      <td>andrew r jassy</td>\n      <td>amazon</td>\n    </tr>\n    <tr>\n      <th>...</th>\n      <td>...</td>\n      <td>...</td>\n      <td>...</td>\n      <td>...</td>\n    </tr>\n    <tr>\n      <th>894</th>\n      <td>1930</td>\n      <td>20,300</td>\n      <td>thomas sinnickson gayner</td>\n      <td>markel corporation</td>\n    </tr>\n    <tr>\n      <th>895</th>\n      <td>1939</td>\n      <td>12,023</td>\n      <td>j powell brown cpcu cpcu</td>\n      <td>brown &amp; brown inc</td>\n    </tr>\n    <tr>\n      <th>896</th>\n      <td></td>\n      <td>16,196</td>\n      <td>shingo konomoto</td>\n      <td>nomura research institute ltd</td>\n    </tr>\n    <tr>\n      <th>897</th>\n      <td>1986</td>\n      <td>52,000</td>\n      <td>william joseph hornbuckle iv</td>\n      <td>mgm resorts international</td>\n    </tr>\n    <tr>\n      <th>898</th>\n      <td></td>\n      <td>9,594</td>\n      <td></td>\n      <td>mega financial holding co ltd</td>\n    </tr>\n  </tbody>\n</table>\n<p>899 rows × 4 columns</p>\n</div>"
     },
     "execution_count": 440,
     "metadata": {},
     "output_type": "execute_result"
    }
   ],
   "source": [
    "df_r = pd.read_json(PATH_DS_R, encoding='utf-8', lines=True, dtype=object)\n",
    "df_r"
   ],
   "metadata": {
    "collapsed": false,
    "pycharm": {
     "name": "#%%\n"
    }
   }
  },
  {
   "cell_type": "code",
   "execution_count": 441,
   "outputs": [
    {
     "name": "stdout",
     "output_type": "stream",
     "text": [
      "WARNING:recordlinkage:indexing - performance warning - A full index can result in large number of record pairs.\n"
     ]
    }
   ],
   "source": [
    "features, feature_value = get_features(df_l, df_r)\n",
    "pairs = get_pairs(features, feature_value)"
   ],
   "metadata": {
    "collapsed": false,
    "pycharm": {
     "name": "#%%\n"
    }
   }
  },
  {
   "cell_type": "code",
   "execution_count": 442,
   "outputs": [
    {
     "data": {
      "text/plain": "2.0       728\n1.0       184\n0.0    898088\ndtype: int64"
     },
     "execution_count": 442,
     "metadata": {},
     "output_type": "execute_result"
    }
   ],
   "source": [
    "features.sum(axis=1).value_counts().sort_index(ascending=False)"
   ],
   "metadata": {
    "collapsed": false,
    "pycharm": {
     "name": "#%%\n"
    }
   }
  },
  {
   "cell_type": "code",
   "execution_count": 443,
   "outputs": [],
   "source": [
    "left = []\n",
    "right = []\n",
    "\n",
    "for elem in pairs:\n",
    "    left.append(df_l.loc[elem[0]])\n",
    "    right.append(df_r.loc[elem[1]])\n",
    "\n",
    "matching_dataset_left = pd.DataFrame(left)\n",
    "matching_dataset_right = pd.DataFrame(right)\n",
    "matching_dataset_left = matching_dataset_left.reset_index(drop=True)\n",
    "matching_dataset_right = matching_dataset_right.reset_index(drop=True)"
   ],
   "metadata": {
    "collapsed": false,
    "pycharm": {
     "name": "#%%\n"
    }
   }
  },
  {
   "cell_type": "code",
   "execution_count": 444,
   "outputs": [
    {
     "data": {
      "text/plain": "                               name     country    continent  \\\n0                             apple   cupertino           ca   \n1                           danaher  washington           dc   \n2                             merck  kenilworth           nj   \n3                               bhp   melbourne          vic   \n4                              nike   beaverton           or   \n..                              ...         ...          ...   \n723           rede d'or sao luiz sa    saopaulo           sp   \n724          teck resources limited   vancouver           bc   \n725          the saudi british bank      riyadh  saudiarabia   \n726           mitsui fudosan co ltd       tokyo        japan   \n727  jb hunt transport services inc      lowell           ar   \n\n              founded employees                               ceo  \\\n0       april 1, 1976   100,000                    timothy d cook   \n1                1969    78,000                    rainer m blair   \n2                1891    67,000                 robert m davis jd   \n3                1885    40,110         mike p henry bsc bsc chem   \n4    january 25, 1964    73,300                 john j donahoe ii   \n..                ...       ...                               ...   \n723                                          paulo junqueira moll   \n724                      10,600  donald r lindsay bsc honours mba   \n725                       4,156            anthony william cripps   \n726                      23,992                   masanobu komoda   \n727   august 10, 1961    33,045                john n roberts iii   \n\n           market_cap                                         categories  \n0       2825000000000  unitedstates, technology, consumerelectronics,...  \n1        208030000000  unitedstates, healthcare, diagnostics&research...  \n2        210380000000  unitedstates, healthcare, drugmanufacturersgen...  \n3    a$281.66 billion  australia, basicmaterials, otherindustrialmeta...  \n4        213600000000  unitedstates, consumerdiscretionary, footwear&...  \n..                ...                                                ...  \n723   r$99.71 billion  brazil, healthcare, medicalcarefacilities, bra...  \n724   c$26.81 billion  canada, basicmaterials, otherindustrialmetals&...  \n725   sr80.45 billion  saudiarabia, financials, banks, saudiarabiafin...  \n726    2.629 trillion  japan, realestate, realestatediversified, japa...  \n727       21480000000  unitedstates, industrials, integratedfreight&l...  \n\n[728 rows x 8 columns]",
      "text/html": "<div>\n<style scoped>\n    .dataframe tbody tr th:only-of-type {\n        vertical-align: middle;\n    }\n\n    .dataframe tbody tr th {\n        vertical-align: top;\n    }\n\n    .dataframe thead th {\n        text-align: right;\n    }\n</style>\n<table border=\"1\" class=\"dataframe\">\n  <thead>\n    <tr style=\"text-align: right;\">\n      <th></th>\n      <th>name</th>\n      <th>country</th>\n      <th>continent</th>\n      <th>founded</th>\n      <th>employees</th>\n      <th>ceo</th>\n      <th>market_cap</th>\n      <th>categories</th>\n    </tr>\n  </thead>\n  <tbody>\n    <tr>\n      <th>0</th>\n      <td>apple</td>\n      <td>cupertino</td>\n      <td>ca</td>\n      <td>april 1, 1976</td>\n      <td>100,000</td>\n      <td>timothy d cook</td>\n      <td>2825000000000</td>\n      <td>unitedstates, technology, consumerelectronics,...</td>\n    </tr>\n    <tr>\n      <th>1</th>\n      <td>danaher</td>\n      <td>washington</td>\n      <td>dc</td>\n      <td>1969</td>\n      <td>78,000</td>\n      <td>rainer m blair</td>\n      <td>208030000000</td>\n      <td>unitedstates, healthcare, diagnostics&amp;research...</td>\n    </tr>\n    <tr>\n      <th>2</th>\n      <td>merck</td>\n      <td>kenilworth</td>\n      <td>nj</td>\n      <td>1891</td>\n      <td>67,000</td>\n      <td>robert m davis jd</td>\n      <td>210380000000</td>\n      <td>unitedstates, healthcare, drugmanufacturersgen...</td>\n    </tr>\n    <tr>\n      <th>3</th>\n      <td>bhp</td>\n      <td>melbourne</td>\n      <td>vic</td>\n      <td>1885</td>\n      <td>40,110</td>\n      <td>mike p henry bsc bsc chem</td>\n      <td>a$281.66 billion</td>\n      <td>australia, basicmaterials, otherindustrialmeta...</td>\n    </tr>\n    <tr>\n      <th>4</th>\n      <td>nike</td>\n      <td>beaverton</td>\n      <td>or</td>\n      <td>january 25, 1964</td>\n      <td>73,300</td>\n      <td>john j donahoe ii</td>\n      <td>213600000000</td>\n      <td>unitedstates, consumerdiscretionary, footwear&amp;...</td>\n    </tr>\n    <tr>\n      <th>...</th>\n      <td>...</td>\n      <td>...</td>\n      <td>...</td>\n      <td>...</td>\n      <td>...</td>\n      <td>...</td>\n      <td>...</td>\n      <td>...</td>\n    </tr>\n    <tr>\n      <th>723</th>\n      <td>rede d'or sao luiz sa</td>\n      <td>saopaulo</td>\n      <td>sp</td>\n      <td></td>\n      <td></td>\n      <td>paulo junqueira moll</td>\n      <td>r$99.71 billion</td>\n      <td>brazil, healthcare, medicalcarefacilities, bra...</td>\n    </tr>\n    <tr>\n      <th>724</th>\n      <td>teck resources limited</td>\n      <td>vancouver</td>\n      <td>bc</td>\n      <td></td>\n      <td>10,600</td>\n      <td>donald r lindsay bsc honours mba</td>\n      <td>c$26.81 billion</td>\n      <td>canada, basicmaterials, otherindustrialmetals&amp;...</td>\n    </tr>\n    <tr>\n      <th>725</th>\n      <td>the saudi british bank</td>\n      <td>riyadh</td>\n      <td>saudiarabia</td>\n      <td></td>\n      <td>4,156</td>\n      <td>anthony william cripps</td>\n      <td>sr80.45 billion</td>\n      <td>saudiarabia, financials, banks, saudiarabiafin...</td>\n    </tr>\n    <tr>\n      <th>726</th>\n      <td>mitsui fudosan co ltd</td>\n      <td>tokyo</td>\n      <td>japan</td>\n      <td></td>\n      <td>23,992</td>\n      <td>masanobu komoda</td>\n      <td>2.629 trillion</td>\n      <td>japan, realestate, realestatediversified, japa...</td>\n    </tr>\n    <tr>\n      <th>727</th>\n      <td>jb hunt transport services inc</td>\n      <td>lowell</td>\n      <td>ar</td>\n      <td>august 10, 1961</td>\n      <td>33,045</td>\n      <td>john n roberts iii</td>\n      <td>21480000000</td>\n      <td>unitedstates, industrials, integratedfreight&amp;l...</td>\n    </tr>\n  </tbody>\n</table>\n<p>728 rows × 8 columns</p>\n</div>"
     },
     "execution_count": 444,
     "metadata": {},
     "output_type": "execute_result"
    }
   ],
   "source": [
    "matching_dataset_left"
   ],
   "metadata": {
    "collapsed": false,
    "pycharm": {
     "name": "#%%\n"
    }
   }
  },
  {
   "cell_type": "code",
   "execution_count": 445,
   "outputs": [
    {
     "data": {
      "text/plain": "                founded  employees                                ceo  \\\n0         april 1, 1976    100,000                     timothy d cook   \n1                  1969     78,000                     rainer m blair   \n2                  1891     67,000                  robert m davis jd   \n3                  1885     40,110          mike p henry bsc bsc chem   \n4      january 25, 1964     73,300                  john j donahoe ii   \n..                  ...        ...                                ...   \n723                                              paulo junqueira moll   \n724                         10,600   donald r lindsay bsc honours mba   \n725                          4,156             anthony william cripps   \n726                         23,992                    masanobu komoda   \n727     august 10, 1961     33,045                 john n roberts iii   \n\n                               name  \n0                             apple  \n1                           danaher  \n2                             merck  \n3                               bhp  \n4                              nike  \n..                              ...  \n723           rede d'or sao luiz sa  \n724          teck resources limited  \n725          the saudi british bank  \n726           mitsui fudosan co ltd  \n727  jb hunt transport services inc  \n\n[728 rows x 4 columns]",
      "text/html": "<div>\n<style scoped>\n    .dataframe tbody tr th:only-of-type {\n        vertical-align: middle;\n    }\n\n    .dataframe tbody tr th {\n        vertical-align: top;\n    }\n\n    .dataframe thead th {\n        text-align: right;\n    }\n</style>\n<table border=\"1\" class=\"dataframe\">\n  <thead>\n    <tr style=\"text-align: right;\">\n      <th></th>\n      <th>founded</th>\n      <th>employees</th>\n      <th>ceo</th>\n      <th>name</th>\n    </tr>\n  </thead>\n  <tbody>\n    <tr>\n      <th>0</th>\n      <td>april 1, 1976</td>\n      <td>100,000</td>\n      <td>timothy d cook</td>\n      <td>apple</td>\n    </tr>\n    <tr>\n      <th>1</th>\n      <td>1969</td>\n      <td>78,000</td>\n      <td>rainer m blair</td>\n      <td>danaher</td>\n    </tr>\n    <tr>\n      <th>2</th>\n      <td>1891</td>\n      <td>67,000</td>\n      <td>robert m davis jd</td>\n      <td>merck</td>\n    </tr>\n    <tr>\n      <th>3</th>\n      <td>1885</td>\n      <td>40,110</td>\n      <td>mike p henry bsc bsc chem</td>\n      <td>bhp</td>\n    </tr>\n    <tr>\n      <th>4</th>\n      <td>january 25, 1964</td>\n      <td>73,300</td>\n      <td>john j donahoe ii</td>\n      <td>nike</td>\n    </tr>\n    <tr>\n      <th>...</th>\n      <td>...</td>\n      <td>...</td>\n      <td>...</td>\n      <td>...</td>\n    </tr>\n    <tr>\n      <th>723</th>\n      <td></td>\n      <td></td>\n      <td>paulo junqueira moll</td>\n      <td>rede d'or sao luiz sa</td>\n    </tr>\n    <tr>\n      <th>724</th>\n      <td></td>\n      <td>10,600</td>\n      <td>donald r lindsay bsc honours mba</td>\n      <td>teck resources limited</td>\n    </tr>\n    <tr>\n      <th>725</th>\n      <td></td>\n      <td>4,156</td>\n      <td>anthony william cripps</td>\n      <td>the saudi british bank</td>\n    </tr>\n    <tr>\n      <th>726</th>\n      <td></td>\n      <td>23,992</td>\n      <td>masanobu komoda</td>\n      <td>mitsui fudosan co ltd</td>\n    </tr>\n    <tr>\n      <th>727</th>\n      <td>august 10, 1961</td>\n      <td>33,045</td>\n      <td>john n roberts iii</td>\n      <td>jb hunt transport services inc</td>\n    </tr>\n  </tbody>\n</table>\n<p>728 rows × 4 columns</p>\n</div>"
     },
     "execution_count": 445,
     "metadata": {},
     "output_type": "execute_result"
    }
   ],
   "source": [
    "matching_dataset_right"
   ],
   "metadata": {
    "collapsed": false,
    "pycharm": {
     "name": "#%%\n"
    }
   }
  },
  {
   "cell_type": "code",
   "execution_count": 446,
   "outputs": [],
   "source": [
    "difference_l = pd.concat([df_l, matching_dataset_left]).drop_duplicates(keep=False)\n",
    "difference_r = pd.concat([df_r, matching_dataset_right]).drop_duplicates(keep=False)"
   ],
   "metadata": {
    "collapsed": false,
    "pycharm": {
     "name": "#%%\n"
    }
   }
  },
  {
   "cell_type": "code",
   "execution_count": 447,
   "outputs": [
    {
     "data": {
      "text/plain": "                           name   country continent       founded employees  \\\n15                         icbc   beijing     china                 439,787   \n27              kweichow moutai   renhuai     china                  29,031   \n57   agricultural bank of china   beijing     china                 459,000   \n66                         catl    ningde     china                  33,078   \n69      china construction bank   beijing     china                 373,814   \n..                          ...       ...       ...           ...       ...   \n995    asahi group holdings ltd     tokyo     japan                  30,020   \n996   haitong securities co ltd  shanghai     china                  11,282   \n997                catalent inc  somerset        nj          2007    17,300   \n998         quanta services inc   houston        tx          1997    43,700   \n999                ubiquiti inc   newyork        ny  october 2003     1,223   \n\n                  ceo        market_cap  \\\n15                     cn1.593 trillion   \n27                     cn2.216 trillion   \n57                     cn1.050 trillion   \n66                     cn1.181 trillion   \n69                     cn1.205 trillion   \n..                ...               ...   \n995   atsushi katsuki    2.231 trillion   \n996                    cn115.98 billion   \n997  john r chiminski       18240000000   \n998  earl c austin jr       18250000000   \n999     robert j pera       18250000000   \n\n                                            categories  \n15   china, financials, banks, chinafinancials, chi...  \n27   china, consumerstaples, beverageswineries&dist...  \n57   china, financials, banks, chinafinancials, chi...  \n66   china, industrials, electricalequipment&parts,...  \n69   china, financials, banks, chinafinancials, chi...  \n..                                                 ...  \n995  japan, consumerstaples, beveragesbrewers, japa...  \n996  china, financials, capitalmarkets, chinafinanc...  \n997  unitedstates, healthcare, drugmanufacturersspe...  \n998  unitedstates, industrials, engineering&constru...  \n999  unitedstates, technology, communicationequipme...  \n\n[272 rows x 8 columns]",
      "text/html": "<div>\n<style scoped>\n    .dataframe tbody tr th:only-of-type {\n        vertical-align: middle;\n    }\n\n    .dataframe tbody tr th {\n        vertical-align: top;\n    }\n\n    .dataframe thead th {\n        text-align: right;\n    }\n</style>\n<table border=\"1\" class=\"dataframe\">\n  <thead>\n    <tr style=\"text-align: right;\">\n      <th></th>\n      <th>name</th>\n      <th>country</th>\n      <th>continent</th>\n      <th>founded</th>\n      <th>employees</th>\n      <th>ceo</th>\n      <th>market_cap</th>\n      <th>categories</th>\n    </tr>\n  </thead>\n  <tbody>\n    <tr>\n      <th>15</th>\n      <td>icbc</td>\n      <td>beijing</td>\n      <td>china</td>\n      <td></td>\n      <td>439,787</td>\n      <td></td>\n      <td>cn1.593 trillion</td>\n      <td>china, financials, banks, chinafinancials, chi...</td>\n    </tr>\n    <tr>\n      <th>27</th>\n      <td>kweichow moutai</td>\n      <td>renhuai</td>\n      <td>china</td>\n      <td></td>\n      <td>29,031</td>\n      <td></td>\n      <td>cn2.216 trillion</td>\n      <td>china, consumerstaples, beverageswineries&amp;dist...</td>\n    </tr>\n    <tr>\n      <th>57</th>\n      <td>agricultural bank of china</td>\n      <td>beijing</td>\n      <td>china</td>\n      <td></td>\n      <td>459,000</td>\n      <td></td>\n      <td>cn1.050 trillion</td>\n      <td>china, financials, banks, chinafinancials, chi...</td>\n    </tr>\n    <tr>\n      <th>66</th>\n      <td>catl</td>\n      <td>ningde</td>\n      <td>china</td>\n      <td></td>\n      <td>33,078</td>\n      <td></td>\n      <td>cn1.181 trillion</td>\n      <td>china, industrials, electricalequipment&amp;parts,...</td>\n    </tr>\n    <tr>\n      <th>69</th>\n      <td>china construction bank</td>\n      <td>beijing</td>\n      <td>china</td>\n      <td></td>\n      <td>373,814</td>\n      <td></td>\n      <td>cn1.205 trillion</td>\n      <td>china, financials, banks, chinafinancials, chi...</td>\n    </tr>\n    <tr>\n      <th>...</th>\n      <td>...</td>\n      <td>...</td>\n      <td>...</td>\n      <td>...</td>\n      <td>...</td>\n      <td>...</td>\n      <td>...</td>\n      <td>...</td>\n    </tr>\n    <tr>\n      <th>995</th>\n      <td>asahi group holdings ltd</td>\n      <td>tokyo</td>\n      <td>japan</td>\n      <td></td>\n      <td>30,020</td>\n      <td>atsushi katsuki</td>\n      <td>2.231 trillion</td>\n      <td>japan, consumerstaples, beveragesbrewers, japa...</td>\n    </tr>\n    <tr>\n      <th>996</th>\n      <td>haitong securities co ltd</td>\n      <td>shanghai</td>\n      <td>china</td>\n      <td></td>\n      <td>11,282</td>\n      <td></td>\n      <td>cn115.98 billion</td>\n      <td>china, financials, capitalmarkets, chinafinanc...</td>\n    </tr>\n    <tr>\n      <th>997</th>\n      <td>catalent inc</td>\n      <td>somerset</td>\n      <td>nj</td>\n      <td>2007</td>\n      <td>17,300</td>\n      <td>john r chiminski</td>\n      <td>18240000000</td>\n      <td>unitedstates, healthcare, drugmanufacturersspe...</td>\n    </tr>\n    <tr>\n      <th>998</th>\n      <td>quanta services inc</td>\n      <td>houston</td>\n      <td>tx</td>\n      <td>1997</td>\n      <td>43,700</td>\n      <td>earl c austin jr</td>\n      <td>18250000000</td>\n      <td>unitedstates, industrials, engineering&amp;constru...</td>\n    </tr>\n    <tr>\n      <th>999</th>\n      <td>ubiquiti inc</td>\n      <td>newyork</td>\n      <td>ny</td>\n      <td>october 2003</td>\n      <td>1,223</td>\n      <td>robert j pera</td>\n      <td>18250000000</td>\n      <td>unitedstates, technology, communicationequipme...</td>\n    </tr>\n  </tbody>\n</table>\n<p>272 rows × 8 columns</p>\n</div>"
     },
     "execution_count": 447,
     "metadata": {},
     "output_type": "execute_result"
    }
   ],
   "source": [
    "difference_l"
   ],
   "metadata": {
    "collapsed": false,
    "pycharm": {
     "name": "#%%\n"
    }
   }
  },
  {
   "cell_type": "code",
   "execution_count": 448,
   "outputs": [
    {
     "data": {
      "text/plain": "                                               founded  employees ceo  \\\n23                                                         29,031       \n35                                                        439,787       \n51                                          march 1996    104,323       \n58                                                        373,814       \n61                                                         33,078       \n..                                                 ...        ...  ..   \n877    as chartered bank of india, australia, and c...     81,770       \n888                                                         3,280       \n891                                                        15,198       \n892                                                        27,318       \n898                                                         9,594       \n\n                               name  \n23                  kweichow moutai  \n35                             icbc  \n51                         novartis  \n58          china construction bank  \n61                             catl  \n..                              ...  \n877          standard chartered plc  \n888                     alinma bank  \n891  guotai junan securities co ltd  \n892    nippon paint holdings co ltd  \n898   mega financial holding co ltd  \n\n[171 rows x 4 columns]",
      "text/html": "<div>\n<style scoped>\n    .dataframe tbody tr th:only-of-type {\n        vertical-align: middle;\n    }\n\n    .dataframe tbody tr th {\n        vertical-align: top;\n    }\n\n    .dataframe thead th {\n        text-align: right;\n    }\n</style>\n<table border=\"1\" class=\"dataframe\">\n  <thead>\n    <tr style=\"text-align: right;\">\n      <th></th>\n      <th>founded</th>\n      <th>employees</th>\n      <th>ceo</th>\n      <th>name</th>\n    </tr>\n  </thead>\n  <tbody>\n    <tr>\n      <th>23</th>\n      <td></td>\n      <td>29,031</td>\n      <td></td>\n      <td>kweichow moutai</td>\n    </tr>\n    <tr>\n      <th>35</th>\n      <td></td>\n      <td>439,787</td>\n      <td></td>\n      <td>icbc</td>\n    </tr>\n    <tr>\n      <th>51</th>\n      <td>march 1996</td>\n      <td>104,323</td>\n      <td></td>\n      <td>novartis</td>\n    </tr>\n    <tr>\n      <th>58</th>\n      <td></td>\n      <td>373,814</td>\n      <td></td>\n      <td>china construction bank</td>\n    </tr>\n    <tr>\n      <th>61</th>\n      <td></td>\n      <td>33,078</td>\n      <td></td>\n      <td>catl</td>\n    </tr>\n    <tr>\n      <th>...</th>\n      <td>...</td>\n      <td>...</td>\n      <td>...</td>\n      <td>...</td>\n    </tr>\n    <tr>\n      <th>877</th>\n      <td>as chartered bank of india, australia, and c...</td>\n      <td>81,770</td>\n      <td></td>\n      <td>standard chartered plc</td>\n    </tr>\n    <tr>\n      <th>888</th>\n      <td></td>\n      <td>3,280</td>\n      <td></td>\n      <td>alinma bank</td>\n    </tr>\n    <tr>\n      <th>891</th>\n      <td></td>\n      <td>15,198</td>\n      <td></td>\n      <td>guotai junan securities co ltd</td>\n    </tr>\n    <tr>\n      <th>892</th>\n      <td></td>\n      <td>27,318</td>\n      <td></td>\n      <td>nippon paint holdings co ltd</td>\n    </tr>\n    <tr>\n      <th>898</th>\n      <td></td>\n      <td>9,594</td>\n      <td></td>\n      <td>mega financial holding co ltd</td>\n    </tr>\n  </tbody>\n</table>\n<p>171 rows × 4 columns</p>\n</div>"
     },
     "execution_count": 448,
     "metadata": {},
     "output_type": "execute_result"
    }
   ],
   "source": [
    "difference_r"
   ],
   "metadata": {
    "collapsed": false,
    "pycharm": {
     "name": "#%%\n"
    }
   }
  },
  {
   "cell_type": "code",
   "execution_count": 431,
   "outputs": [],
   "source": [
    "column_left, column_right = rename_columns(matching_dataset_left.columns.values.tolist(),\n",
    "                                           matching_dataset_right.columns.values.tolist())\n",
    "matching_dataset_left.columns = column_left\n",
    "matching_dataset_right.columns = column_right"
   ],
   "metadata": {
    "collapsed": false,
    "pycharm": {
     "name": "#%%\n"
    }
   }
  },
  {
   "cell_type": "code",
   "execution_count": 432,
   "outputs": [
    {
     "data": {
      "text/plain": "                             name_l   country_l  continent_l  \\\n0                             apple   cupertino           ca   \n1                           danaher  washington           dc   \n2                             merck  kenilworth           nj   \n3                               bhp   melbourne          vic   \n4                              nike   beaverton           or   \n..                              ...         ...          ...   \n647           rede d'or sao luiz sa    saopaulo           sp   \n648          teck resources limited   vancouver           bc   \n649          the saudi british bank      riyadh  saudiarabia   \n650           mitsui fudosan co ltd       tokyo        japan   \n651  jb hunt transport services inc      lowell           ar   \n\n            founded_l employees_l                             ceo_l  \\\n0       april 1, 1976     100,000                    timothy d cook   \n1                1969      78,000                    rainer m blair   \n2                1891      67,000                 robert m davis jd   \n3                1885      40,110         mike p henry bsc bsc chem   \n4    january 25, 1964      73,300                 john j donahoe ii   \n..                ...         ...                               ...   \n647                                            paulo junqueira moll   \n648                        10,600  donald r lindsay bsc honours mba   \n649                         4,156            anthony william cripps   \n650                        23,992                  masanobu  komoda   \n651   august 10, 1961      33,045                john n roberts iii   \n\n         market_cap_l                                       categories_l  \\\n0       2825000000000  unitedstates, technology, consumerelectronics,...   \n1        208030000000  unitedstates, healthcare, diagnostics&research...   \n2        210380000000  unitedstates, healthcare, drugmanufacturersgen...   \n3    a$281.66 billion  australia, basicmaterials, otherindustrialmeta...   \n4        213600000000  unitedstates, consumerdiscretionary, footwear&...   \n..                ...                                                ...   \n647   r$99.71 billion  brazil, healthcare, medicalcarefacilities, bra...   \n648   c$26.81 billion  canada, basicmaterials, otherindustrialmetals&...   \n649   sr80.45 billion  saudiarabia, financials, banks, saudiarabiafin...   \n650    2.629 trillion  japan, realestate, realestatediversified, japa...   \n651       21480000000  unitedstates, industrials, integratedfreight&l...   \n\n              founded_r employees_r                              ceo_r  \\\n0         april 1, 1976     100,000                     timothy d cook   \n1                  1969      78,000                     rainer m blair   \n2                  1891      67,000                  robert m davis jd   \n3                  1885      40,110          mike p henry bsc bsc chem   \n4      january 25, 1964      73,300                  john j donahoe ii   \n..                  ...         ...                                ...   \n647                                               paulo junqueira moll   \n648                          10,600   donald r lindsay bsc honours mba   \n649                           4,156             anthony william cripps   \n650                          23,992                    masanobu komoda   \n651     august 10, 1961      33,045                 john n roberts iii   \n\n                             name_r  \n0                             apple  \n1                           danaher  \n2                             merck  \n3                               bhp  \n4                              nike  \n..                              ...  \n647           rede d'or sao luiz sa  \n648          teck resources limited  \n649          the saudi british bank  \n650           mitsui fudosan co ltd  \n651  jb hunt transport services inc  \n\n[652 rows x 12 columns]",
      "text/html": "<div>\n<style scoped>\n    .dataframe tbody tr th:only-of-type {\n        vertical-align: middle;\n    }\n\n    .dataframe tbody tr th {\n        vertical-align: top;\n    }\n\n    .dataframe thead th {\n        text-align: right;\n    }\n</style>\n<table border=\"1\" class=\"dataframe\">\n  <thead>\n    <tr style=\"text-align: right;\">\n      <th></th>\n      <th>name_l</th>\n      <th>country_l</th>\n      <th>continent_l</th>\n      <th>founded_l</th>\n      <th>employees_l</th>\n      <th>ceo_l</th>\n      <th>market_cap_l</th>\n      <th>categories_l</th>\n      <th>founded_r</th>\n      <th>employees_r</th>\n      <th>ceo_r</th>\n      <th>name_r</th>\n    </tr>\n  </thead>\n  <tbody>\n    <tr>\n      <th>0</th>\n      <td>apple</td>\n      <td>cupertino</td>\n      <td>ca</td>\n      <td>april 1, 1976</td>\n      <td>100,000</td>\n      <td>timothy d cook</td>\n      <td>2825000000000</td>\n      <td>unitedstates, technology, consumerelectronics,...</td>\n      <td>april 1, 1976</td>\n      <td>100,000</td>\n      <td>timothy d cook</td>\n      <td>apple</td>\n    </tr>\n    <tr>\n      <th>1</th>\n      <td>danaher</td>\n      <td>washington</td>\n      <td>dc</td>\n      <td>1969</td>\n      <td>78,000</td>\n      <td>rainer m blair</td>\n      <td>208030000000</td>\n      <td>unitedstates, healthcare, diagnostics&amp;research...</td>\n      <td>1969</td>\n      <td>78,000</td>\n      <td>rainer m blair</td>\n      <td>danaher</td>\n    </tr>\n    <tr>\n      <th>2</th>\n      <td>merck</td>\n      <td>kenilworth</td>\n      <td>nj</td>\n      <td>1891</td>\n      <td>67,000</td>\n      <td>robert m davis jd</td>\n      <td>210380000000</td>\n      <td>unitedstates, healthcare, drugmanufacturersgen...</td>\n      <td>1891</td>\n      <td>67,000</td>\n      <td>robert m davis jd</td>\n      <td>merck</td>\n    </tr>\n    <tr>\n      <th>3</th>\n      <td>bhp</td>\n      <td>melbourne</td>\n      <td>vic</td>\n      <td>1885</td>\n      <td>40,110</td>\n      <td>mike p henry bsc bsc chem</td>\n      <td>a$281.66 billion</td>\n      <td>australia, basicmaterials, otherindustrialmeta...</td>\n      <td>1885</td>\n      <td>40,110</td>\n      <td>mike p henry bsc bsc chem</td>\n      <td>bhp</td>\n    </tr>\n    <tr>\n      <th>4</th>\n      <td>nike</td>\n      <td>beaverton</td>\n      <td>or</td>\n      <td>january 25, 1964</td>\n      <td>73,300</td>\n      <td>john j donahoe ii</td>\n      <td>213600000000</td>\n      <td>unitedstates, consumerdiscretionary, footwear&amp;...</td>\n      <td>january 25, 1964</td>\n      <td>73,300</td>\n      <td>john j donahoe ii</td>\n      <td>nike</td>\n    </tr>\n    <tr>\n      <th>...</th>\n      <td>...</td>\n      <td>...</td>\n      <td>...</td>\n      <td>...</td>\n      <td>...</td>\n      <td>...</td>\n      <td>...</td>\n      <td>...</td>\n      <td>...</td>\n      <td>...</td>\n      <td>...</td>\n      <td>...</td>\n    </tr>\n    <tr>\n      <th>647</th>\n      <td>rede d'or sao luiz sa</td>\n      <td>saopaulo</td>\n      <td>sp</td>\n      <td></td>\n      <td></td>\n      <td>paulo junqueira moll</td>\n      <td>r$99.71 billion</td>\n      <td>brazil, healthcare, medicalcarefacilities, bra...</td>\n      <td></td>\n      <td></td>\n      <td>paulo junqueira moll</td>\n      <td>rede d'or sao luiz sa</td>\n    </tr>\n    <tr>\n      <th>648</th>\n      <td>teck resources limited</td>\n      <td>vancouver</td>\n      <td>bc</td>\n      <td></td>\n      <td>10,600</td>\n      <td>donald r lindsay bsc honours mba</td>\n      <td>c$26.81 billion</td>\n      <td>canada, basicmaterials, otherindustrialmetals&amp;...</td>\n      <td></td>\n      <td>10,600</td>\n      <td>donald r lindsay bsc honours mba</td>\n      <td>teck resources limited</td>\n    </tr>\n    <tr>\n      <th>649</th>\n      <td>the saudi british bank</td>\n      <td>riyadh</td>\n      <td>saudiarabia</td>\n      <td></td>\n      <td>4,156</td>\n      <td>anthony william cripps</td>\n      <td>sr80.45 billion</td>\n      <td>saudiarabia, financials, banks, saudiarabiafin...</td>\n      <td></td>\n      <td>4,156</td>\n      <td>anthony william cripps</td>\n      <td>the saudi british bank</td>\n    </tr>\n    <tr>\n      <th>650</th>\n      <td>mitsui fudosan co ltd</td>\n      <td>tokyo</td>\n      <td>japan</td>\n      <td></td>\n      <td>23,992</td>\n      <td>masanobu  komoda</td>\n      <td>2.629 trillion</td>\n      <td>japan, realestate, realestatediversified, japa...</td>\n      <td></td>\n      <td>23,992</td>\n      <td>masanobu komoda</td>\n      <td>mitsui fudosan co ltd</td>\n    </tr>\n    <tr>\n      <th>651</th>\n      <td>jb hunt transport services inc</td>\n      <td>lowell</td>\n      <td>ar</td>\n      <td>august 10, 1961</td>\n      <td>33,045</td>\n      <td>john n roberts iii</td>\n      <td>21480000000</td>\n      <td>unitedstates, industrials, integratedfreight&amp;l...</td>\n      <td>august 10, 1961</td>\n      <td>33,045</td>\n      <td>john n roberts iii</td>\n      <td>jb hunt transport services inc</td>\n    </tr>\n  </tbody>\n</table>\n<p>652 rows × 12 columns</p>\n</div>"
     },
     "execution_count": 432,
     "metadata": {},
     "output_type": "execute_result"
    }
   ],
   "source": [
    "joined_df = pd.concat([matching_dataset_left, matching_dataset_right], axis=1)\n",
    "joined_df"
   ],
   "metadata": {
    "collapsed": false,
    "pycharm": {
     "name": "#%%\n"
    }
   }
  },
  {
   "cell_type": "code",
   "execution_count": 433,
   "outputs": [
    {
     "data": {
      "text/plain": "['name', 'founded', 'employees', 'ceo']"
     },
     "execution_count": 433,
     "metadata": {},
     "output_type": "execute_result"
    }
   ],
   "source": [
    "duplicates = find_duplicated_columns(df_l.columns.values.tolist(), df_r.columns.values.tolist())\n",
    "duplicates"
   ],
   "metadata": {
    "collapsed": false,
    "pycharm": {
     "name": "#%%\n"
    }
   }
  },
  {
   "cell_type": "code",
   "execution_count": 434,
   "outputs": [
    {
     "data": {
      "text/plain": "                            name_l                         name_r\n515            delta air lines inc            delta air lines inc\n126             hca healthcare inc             hca healthcare inc\n304       baxter international inc       baxter international inc\n439  amerisourcebergen corporation  amerisourcebergen corporation\n231   marvell technology group ltd   marvell technology group ltd\n376                z holdings corp                z holdings corp\n629                  marubeni corp                  marubeni corp\n501                   caixabank sa                   caixabank sa\n502   on semiconductor corporation   on semiconductor corporation\n56            china merchants bank           china merchants bank",
      "text/html": "<div>\n<style scoped>\n    .dataframe tbody tr th:only-of-type {\n        vertical-align: middle;\n    }\n\n    .dataframe tbody tr th {\n        vertical-align: top;\n    }\n\n    .dataframe thead th {\n        text-align: right;\n    }\n</style>\n<table border=\"1\" class=\"dataframe\">\n  <thead>\n    <tr style=\"text-align: right;\">\n      <th></th>\n      <th>name_l</th>\n      <th>name_r</th>\n    </tr>\n  </thead>\n  <tbody>\n    <tr>\n      <th>515</th>\n      <td>delta air lines inc</td>\n      <td>delta air lines inc</td>\n    </tr>\n    <tr>\n      <th>126</th>\n      <td>hca healthcare inc</td>\n      <td>hca healthcare inc</td>\n    </tr>\n    <tr>\n      <th>304</th>\n      <td>baxter international inc</td>\n      <td>baxter international inc</td>\n    </tr>\n    <tr>\n      <th>439</th>\n      <td>amerisourcebergen corporation</td>\n      <td>amerisourcebergen corporation</td>\n    </tr>\n    <tr>\n      <th>231</th>\n      <td>marvell technology group ltd</td>\n      <td>marvell technology group ltd</td>\n    </tr>\n    <tr>\n      <th>376</th>\n      <td>z holdings corp</td>\n      <td>z holdings corp</td>\n    </tr>\n    <tr>\n      <th>629</th>\n      <td>marubeni corp</td>\n      <td>marubeni corp</td>\n    </tr>\n    <tr>\n      <th>501</th>\n      <td>caixabank sa</td>\n      <td>caixabank sa</td>\n    </tr>\n    <tr>\n      <th>502</th>\n      <td>on semiconductor corporation</td>\n      <td>on semiconductor corporation</td>\n    </tr>\n    <tr>\n      <th>56</th>\n      <td>china merchants bank</td>\n      <td>china merchants bank</td>\n    </tr>\n  </tbody>\n</table>\n</div>"
     },
     "metadata": {},
     "output_type": "display_data"
    },
    {
     "data": {
      "text/plain": "             founded_l            founded_r\n49                1994                 1994\n471    august 27, 1906      august 27, 1906\n332  november 17, 1955    november 17, 1955\n433   17 november 1690     17 november 1690\n529                                        \n305               2000                 2000\n100      december 2000        december 2000\n63        6 april 1999         6 april 1999\n339               1996                 1996\n278               1999                 1999",
      "text/html": "<div>\n<style scoped>\n    .dataframe tbody tr th:only-of-type {\n        vertical-align: middle;\n    }\n\n    .dataframe tbody tr th {\n        vertical-align: top;\n    }\n\n    .dataframe thead th {\n        text-align: right;\n    }\n</style>\n<table border=\"1\" class=\"dataframe\">\n  <thead>\n    <tr style=\"text-align: right;\">\n      <th></th>\n      <th>founded_l</th>\n      <th>founded_r</th>\n    </tr>\n  </thead>\n  <tbody>\n    <tr>\n      <th>49</th>\n      <td>1994</td>\n      <td>1994</td>\n    </tr>\n    <tr>\n      <th>471</th>\n      <td>august 27, 1906</td>\n      <td>august 27, 1906</td>\n    </tr>\n    <tr>\n      <th>332</th>\n      <td>november 17, 1955</td>\n      <td>november 17, 1955</td>\n    </tr>\n    <tr>\n      <th>433</th>\n      <td>17 november 1690</td>\n      <td>17 november 1690</td>\n    </tr>\n    <tr>\n      <th>529</th>\n      <td></td>\n      <td></td>\n    </tr>\n    <tr>\n      <th>305</th>\n      <td>2000</td>\n      <td>2000</td>\n    </tr>\n    <tr>\n      <th>100</th>\n      <td>december 2000</td>\n      <td>december 2000</td>\n    </tr>\n    <tr>\n      <th>63</th>\n      <td>6 april 1999</td>\n      <td>6 april 1999</td>\n    </tr>\n    <tr>\n      <th>339</th>\n      <td>1996</td>\n      <td>1996</td>\n    </tr>\n    <tr>\n      <th>278</th>\n      <td>1999</td>\n      <td>1999</td>\n    </tr>\n  </tbody>\n</table>\n</div>"
     },
     "metadata": {},
     "output_type": "display_data"
    },
    {
     "data": {
      "text/plain": "    employees_l employees_r\n617      21,000      21,000\n590       1,254       1,254\n624       2,349       2,349\n120     109,700     109,700\n89       54,365      54,365\n15       47,792      47,792\n588       3,000       3,000\n4        73,300      73,300\n146      22,604      22,604\n178      45,000      45,000",
      "text/html": "<div>\n<style scoped>\n    .dataframe tbody tr th:only-of-type {\n        vertical-align: middle;\n    }\n\n    .dataframe tbody tr th {\n        vertical-align: top;\n    }\n\n    .dataframe thead th {\n        text-align: right;\n    }\n</style>\n<table border=\"1\" class=\"dataframe\">\n  <thead>\n    <tr style=\"text-align: right;\">\n      <th></th>\n      <th>employees_l</th>\n      <th>employees_r</th>\n    </tr>\n  </thead>\n  <tbody>\n    <tr>\n      <th>617</th>\n      <td>21,000</td>\n      <td>21,000</td>\n    </tr>\n    <tr>\n      <th>590</th>\n      <td>1,254</td>\n      <td>1,254</td>\n    </tr>\n    <tr>\n      <th>624</th>\n      <td>2,349</td>\n      <td>2,349</td>\n    </tr>\n    <tr>\n      <th>120</th>\n      <td>109,700</td>\n      <td>109,700</td>\n    </tr>\n    <tr>\n      <th>89</th>\n      <td>54,365</td>\n      <td>54,365</td>\n    </tr>\n    <tr>\n      <th>15</th>\n      <td>47,792</td>\n      <td>47,792</td>\n    </tr>\n    <tr>\n      <th>588</th>\n      <td>3,000</td>\n      <td>3,000</td>\n    </tr>\n    <tr>\n      <th>4</th>\n      <td>73,300</td>\n      <td>73,300</td>\n    </tr>\n    <tr>\n      <th>146</th>\n      <td>22,604</td>\n      <td>22,604</td>\n    </tr>\n    <tr>\n      <th>178</th>\n      <td>45,000</td>\n      <td>45,000</td>\n    </tr>\n  </tbody>\n</table>\n</div>"
     },
     "metadata": {},
     "output_type": "display_data"
    },
    {
     "data": {
      "text/plain": "                                 ceo_l                               ceo_r\n387          bradley william corson bs           bradley william corson bs\n537                helena  hedblom msc                  helena hedblom msc\n494                 lawrence e kurzius                  lawrence e kurzius\n436            tobias  martinez gimeno              tobias martinez gimeno\n96                 william r mcdermott                 william r mcdermott\n6                      hans e vestberg                     hans e vestberg\n324  charles victor magro bsc chem mba   charles victor magro bsc chem mba\n533       christopher jerome swift cpa        christopher jerome swift cpa\n281                     igor y zhilkin                      igor y zhilkin\n302                     carlo  messina                       carlo messina",
      "text/html": "<div>\n<style scoped>\n    .dataframe tbody tr th:only-of-type {\n        vertical-align: middle;\n    }\n\n    .dataframe tbody tr th {\n        vertical-align: top;\n    }\n\n    .dataframe thead th {\n        text-align: right;\n    }\n</style>\n<table border=\"1\" class=\"dataframe\">\n  <thead>\n    <tr style=\"text-align: right;\">\n      <th></th>\n      <th>ceo_l</th>\n      <th>ceo_r</th>\n    </tr>\n  </thead>\n  <tbody>\n    <tr>\n      <th>387</th>\n      <td>bradley william corson bs</td>\n      <td>bradley william corson bs</td>\n    </tr>\n    <tr>\n      <th>537</th>\n      <td>helena  hedblom msc</td>\n      <td>helena hedblom msc</td>\n    </tr>\n    <tr>\n      <th>494</th>\n      <td>lawrence e kurzius</td>\n      <td>lawrence e kurzius</td>\n    </tr>\n    <tr>\n      <th>436</th>\n      <td>tobias  martinez gimeno</td>\n      <td>tobias martinez gimeno</td>\n    </tr>\n    <tr>\n      <th>96</th>\n      <td>william r mcdermott</td>\n      <td>william r mcdermott</td>\n    </tr>\n    <tr>\n      <th>6</th>\n      <td>hans e vestberg</td>\n      <td>hans e vestberg</td>\n    </tr>\n    <tr>\n      <th>324</th>\n      <td>charles victor magro bsc chem mba</td>\n      <td>charles victor magro bsc chem mba</td>\n    </tr>\n    <tr>\n      <th>533</th>\n      <td>christopher jerome swift cpa</td>\n      <td>christopher jerome swift cpa</td>\n    </tr>\n    <tr>\n      <th>281</th>\n      <td>igor y zhilkin</td>\n      <td>igor y zhilkin</td>\n    </tr>\n    <tr>\n      <th>302</th>\n      <td>carlo  messina</td>\n      <td>carlo messina</td>\n    </tr>\n  </tbody>\n</table>\n</div>"
     },
     "metadata": {},
     "output_type": "display_data"
    }
   ],
   "source": [
    "for col in duplicates:\n",
    "    candidates = joined_df[[col + '_l', col + '_r']].sample(20)\n",
    "    candidate_labels = candidates.columns.values.tolist()\n",
    "    display(candidates.sample(10))\n",
    "    time.sleep(1)\n",
    "    idx_drop = int(input(\"Inserisci l'indice (0 o 1) della colonna che vuoi scartare nel dataset finale: \"))\n",
    "    joined_df.drop(candidate_labels[idx_drop], axis=1, inplace=True)\n"
   ],
   "metadata": {
    "collapsed": false,
    "pycharm": {
     "name": "#%%\n"
    }
   }
  },
  {
   "cell_type": "code",
   "execution_count": 435,
   "outputs": [
    {
     "data": {
      "text/plain": "        country    continent        market_cap  \\\n0     cupertino           ca     2825000000000   \n1    washington           dc      208030000000   \n2    kenilworth           nj      210380000000   \n3     melbourne          vic  a$281.66 billion   \n4     beaverton           or      213600000000   \n..          ...          ...               ...   \n647    saopaulo           sp   r$99.71 billion   \n648   vancouver           bc   c$26.81 billion   \n649      riyadh  saudiarabia   sr80.45 billion   \n650       tokyo        japan    2.629 trillion   \n651      lowell           ar       21480000000   \n\n                                            categories             founded  \\\n0    unitedstates, technology, consumerelectronics,...       april 1, 1976   \n1    unitedstates, healthcare, diagnostics&research...                1969   \n2    unitedstates, healthcare, drugmanufacturersgen...                1891   \n3    australia, basicmaterials, otherindustrialmeta...                1885   \n4    unitedstates, consumerdiscretionary, footwear&...    january 25, 1964   \n..                                                 ...                 ...   \n647  brazil, healthcare, medicalcarefacilities, bra...                       \n648  canada, basicmaterials, otherindustrialmetals&...                       \n649  saudiarabia, financials, banks, saudiarabiafin...                       \n650  japan, realestate, realestatediversified, japa...                       \n651  unitedstates, industrials, integratedfreight&l...     august 10, 1961   \n\n     employees                                ceo  \\\n0      100,000                     timothy d cook   \n1       78,000                     rainer m blair   \n2       67,000                  robert m davis jd   \n3       40,110          mike p henry bsc bsc chem   \n4       73,300                  john j donahoe ii   \n..         ...                                ...   \n647                          paulo junqueira moll   \n648     10,600   donald r lindsay bsc honours mba   \n649      4,156             anthony william cripps   \n650     23,992                    masanobu komoda   \n651     33,045                 john n roberts iii   \n\n                               name  \n0                             apple  \n1                           danaher  \n2                             merck  \n3                               bhp  \n4                              nike  \n..                              ...  \n647           rede d'or sao luiz sa  \n648          teck resources limited  \n649          the saudi british bank  \n650           mitsui fudosan co ltd  \n651  jb hunt transport services inc  \n\n[652 rows x 8 columns]",
      "text/html": "<div>\n<style scoped>\n    .dataframe tbody tr th:only-of-type {\n        vertical-align: middle;\n    }\n\n    .dataframe tbody tr th {\n        vertical-align: top;\n    }\n\n    .dataframe thead th {\n        text-align: right;\n    }\n</style>\n<table border=\"1\" class=\"dataframe\">\n  <thead>\n    <tr style=\"text-align: right;\">\n      <th></th>\n      <th>country</th>\n      <th>continent</th>\n      <th>market_cap</th>\n      <th>categories</th>\n      <th>founded</th>\n      <th>employees</th>\n      <th>ceo</th>\n      <th>name</th>\n    </tr>\n  </thead>\n  <tbody>\n    <tr>\n      <th>0</th>\n      <td>cupertino</td>\n      <td>ca</td>\n      <td>2825000000000</td>\n      <td>unitedstates, technology, consumerelectronics,...</td>\n      <td>april 1, 1976</td>\n      <td>100,000</td>\n      <td>timothy d cook</td>\n      <td>apple</td>\n    </tr>\n    <tr>\n      <th>1</th>\n      <td>washington</td>\n      <td>dc</td>\n      <td>208030000000</td>\n      <td>unitedstates, healthcare, diagnostics&amp;research...</td>\n      <td>1969</td>\n      <td>78,000</td>\n      <td>rainer m blair</td>\n      <td>danaher</td>\n    </tr>\n    <tr>\n      <th>2</th>\n      <td>kenilworth</td>\n      <td>nj</td>\n      <td>210380000000</td>\n      <td>unitedstates, healthcare, drugmanufacturersgen...</td>\n      <td>1891</td>\n      <td>67,000</td>\n      <td>robert m davis jd</td>\n      <td>merck</td>\n    </tr>\n    <tr>\n      <th>3</th>\n      <td>melbourne</td>\n      <td>vic</td>\n      <td>a$281.66 billion</td>\n      <td>australia, basicmaterials, otherindustrialmeta...</td>\n      <td>1885</td>\n      <td>40,110</td>\n      <td>mike p henry bsc bsc chem</td>\n      <td>bhp</td>\n    </tr>\n    <tr>\n      <th>4</th>\n      <td>beaverton</td>\n      <td>or</td>\n      <td>213600000000</td>\n      <td>unitedstates, consumerdiscretionary, footwear&amp;...</td>\n      <td>january 25, 1964</td>\n      <td>73,300</td>\n      <td>john j donahoe ii</td>\n      <td>nike</td>\n    </tr>\n    <tr>\n      <th>...</th>\n      <td>...</td>\n      <td>...</td>\n      <td>...</td>\n      <td>...</td>\n      <td>...</td>\n      <td>...</td>\n      <td>...</td>\n      <td>...</td>\n    </tr>\n    <tr>\n      <th>647</th>\n      <td>saopaulo</td>\n      <td>sp</td>\n      <td>r$99.71 billion</td>\n      <td>brazil, healthcare, medicalcarefacilities, bra...</td>\n      <td></td>\n      <td></td>\n      <td>paulo junqueira moll</td>\n      <td>rede d'or sao luiz sa</td>\n    </tr>\n    <tr>\n      <th>648</th>\n      <td>vancouver</td>\n      <td>bc</td>\n      <td>c$26.81 billion</td>\n      <td>canada, basicmaterials, otherindustrialmetals&amp;...</td>\n      <td></td>\n      <td>10,600</td>\n      <td>donald r lindsay bsc honours mba</td>\n      <td>teck resources limited</td>\n    </tr>\n    <tr>\n      <th>649</th>\n      <td>riyadh</td>\n      <td>saudiarabia</td>\n      <td>sr80.45 billion</td>\n      <td>saudiarabia, financials, banks, saudiarabiafin...</td>\n      <td></td>\n      <td>4,156</td>\n      <td>anthony william cripps</td>\n      <td>the saudi british bank</td>\n    </tr>\n    <tr>\n      <th>650</th>\n      <td>tokyo</td>\n      <td>japan</td>\n      <td>2.629 trillion</td>\n      <td>japan, realestate, realestatediversified, japa...</td>\n      <td></td>\n      <td>23,992</td>\n      <td>masanobu komoda</td>\n      <td>mitsui fudosan co ltd</td>\n    </tr>\n    <tr>\n      <th>651</th>\n      <td>lowell</td>\n      <td>ar</td>\n      <td>21480000000</td>\n      <td>unitedstates, industrials, integratedfreight&amp;l...</td>\n      <td>august 10, 1961</td>\n      <td>33,045</td>\n      <td>john n roberts iii</td>\n      <td>jb hunt transport services inc</td>\n    </tr>\n  </tbody>\n</table>\n<p>652 rows × 8 columns</p>\n</div>"
     },
     "execution_count": 435,
     "metadata": {},
     "output_type": "execute_result"
    }
   ],
   "source": [
    "joined_df.columns = [col[:-2] for col in joined_df.columns.values.tolist()]\n",
    "joined_df"
   ],
   "metadata": {
    "collapsed": false,
    "pycharm": {
     "name": "#%%\n"
    }
   }
  },
  {
   "cell_type": "markdown",
   "source": [
    "problema con record che hanno valori vuoti"
   ],
   "metadata": {
    "collapsed": false
   }
  },
  {
   "cell_type": "code",
   "execution_count": null,
   "outputs": [],
   "source": [],
   "metadata": {
    "collapsed": false,
    "pycharm": {
     "name": "#%%\n"
    }
   }
  },
  {
   "cell_type": "markdown",
   "source": [],
   "metadata": {
    "collapsed": false,
    "pycharm": {
     "name": "#%% md\n"
    }
   }
  }
 ],
 "metadata": {
  "kernelspec": {
   "display_name": "Python 3",
   "language": "python",
   "name": "python3"
  },
  "language_info": {
   "codemirror_mode": {
    "name": "ipython",
    "version": 2
   },
   "file_extension": ".py",
   "mimetype": "text/x-python",
   "name": "python",
   "nbconvert_exporter": "python",
   "pygments_lexer": "ipython2",
   "version": "2.7.6"
  }
 },
 "nbformat": 4,
 "nbformat_minor": 0
}