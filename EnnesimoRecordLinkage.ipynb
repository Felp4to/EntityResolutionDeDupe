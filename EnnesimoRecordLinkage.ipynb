{
 "cells": [
  {
   "cell_type": "markdown",
   "source": [
    "# Record Linkage"
   ],
   "metadata": {
    "collapsed": false
   }
  },
  {
   "cell_type": "code",
   "execution_count": 8,
   "metadata": {
    "collapsed": true
   },
   "outputs": [],
   "source": [
    "import recordlinkage\n",
    "import pandas as pd\n",
    "import collections\n",
    "import time\n",
    "import os\n",
    "import numpy as np\n",
    "import random"
   ]
  },
  {
   "cell_type": "code",
   "execution_count": 2,
   "outputs": [],
   "source": [
    "MEDIATED_DATASETS_PATH = \"./Mediated Datasets/\""
   ],
   "metadata": {
    "collapsed": false,
    "pycharm": {
     "name": "#%%\n"
    }
   }
  },
  {
   "cell_type": "code",
   "execution_count": 27,
   "outputs": [
    {
     "name": "stdout",
     "output_type": "stream",
     "text": [
      "Compute features and pairs...\n",
      "candidate_links: 1451\n",
      "pairs: 314\n",
      "Features and pairs computed successfully\n",
      "Write annotation file\n",
      "Compute matching datasets\n",
      "Compute difference datasets\n",
      "Compute join\n",
      "Execution time: 1.145752191543579 seconds\n"
     ]
    }
   ],
   "source": [
    "def get_all_files(path_dir):\n",
    "    res = []\n",
    "    for path in os.listdir(path_dir):\n",
    "        if os.path.isfile(os.path.join(path_dir, path)) and path != '.DS_Store':\n",
    "            res.append(path)\n",
    "    return res\n",
    "\n",
    "\n",
    "def get_features(df_l, df_r):\n",
    "    # set_index\n",
    "    indexer = recordlinkage.Index()\n",
    "    indexer.sortedneighbourhood('name')\n",
    "    candidate_links = indexer.index(df_l, df_r)\n",
    "    print('candidate_links:', len(candidate_links))\n",
    "\n",
    "    # Comparison step\n",
    "    compare_cl = recordlinkage.Compare()\n",
    "    compare_cl.string(\"name\", \"name\", method=\"jarowinkler\", threshold=0.91, label=\"name\")\n",
    "    compare_cl.exact(\"ceo\", \"ceo\", missing_value=0.5, label=\"ceo\")\n",
    "\n",
    "    return compare_cl.compute(candidate_links, df_l, df_r), candidate_links\n",
    "\n",
    "\n",
    "def get_pairs(features):\n",
    "    # Classification step\n",
    "    pairs = features[features.sum(axis=1) > 1]\n",
    "    maybe = features[features.sum(axis=1) > 0]\n",
    "    print('pairs:', len(pairs))\n",
    "    return pairs, maybe\n",
    "\n",
    "\n",
    "def rename_columns(columns_l, columns_r):\n",
    "    columns_l = [c + '_l' for c in columns_l]\n",
    "    columns_r = [c + '_r' for c in columns_r]\n",
    "    return columns_l, columns_r\n",
    "\n",
    "\n",
    "def remove_suffix(columns):\n",
    "    return [c[:-2] for c in columns]\n",
    "\n",
    "\n",
    "def find_duplicated_columns(columns_l, columns_r):\n",
    "    attr_cleaned = columns_l + columns_r\n",
    "    duplicates = [item for item, count in collections.Counter(attr_cleaned).items() if count > 1]\n",
    "    return duplicates\n",
    "\n",
    "\n",
    "def join(matching_df_l, matching_df_r):\n",
    "    matching_df_l = matching_df_l.reset_index(drop=True)\n",
    "    matching_df_r = matching_df_r.reset_index(drop=True)\n",
    "    duplicates = find_duplicated_columns(matching_df_l.columns.values.tolist(),\n",
    "                                         matching_df_r.columns.values.tolist())\n",
    "\n",
    "    col_l, col_r = rename_columns(matching_df_l.columns.values.tolist(),\n",
    "                                  matching_df_r.columns.values.tolist())\n",
    "    matching_df_l.columns = col_l\n",
    "    matching_df_r.columns = col_r\n",
    "    joined_df = pd.concat([matching_df_l, matching_df_r], axis=1)\n",
    "    candidate_joined_df = joined_df.copy()\n",
    "\n",
    "    for col in duplicates:\n",
    "        candidates = joined_df[[col + '_l', col + '_r']]\n",
    "        candidate_labels = candidates.columns.values.tolist()\n",
    "        #display(candidates.sample(10))\n",
    "        # time.sleep(1)\n",
    "        #idx_drop = int(input(\"Inserisci l'indice (0 o 1) della colonna che vuoi scartare nel dataset finale: \"))\n",
    "        joined_df.drop(candidate_labels[0], axis=1, inplace=True)\n",
    "\n",
    "    joined_df.columns = [col[:-2] for col in joined_df.columns.values.tolist()]\n",
    "    return joined_df, candidate_joined_df\n",
    "\n",
    "\n",
    "def write_annotation(candidate_links, df_l, df_r):\n",
    "    random_candidates_links = candidate_links.tolist()\n",
    "    random.shuffle(random_candidates_links)\n",
    "    x = str(random_candidates_links)\n",
    "    random_candidates_links = pd.MultiIndex.from_tuples(random_candidates_links)\n",
    "    set_training_len = int(len(random_candidates_links) * 0.3)\n",
    "    if write_annotation:\n",
    "        recordlinkage.write_annotation_file(\n",
    "            \"annotation_linking.json\",\n",
    "            random_candidates_links[0:set_training_len],\n",
    "            df_l,\n",
    "            df_r,\n",
    "            dataset_a_name=\"df_l\",\n",
    "            dataset_b_name=\"df_r\"\n",
    "        )\n",
    "\n",
    "\n",
    "def get_linking_datasets(df_l, df_r, pairs):\n",
    "    left = []\n",
    "    right = []\n",
    "\n",
    "    for elem in pairs:\n",
    "        left.append(df_l.loc[elem[0]])\n",
    "        right.append(df_r.loc[elem[1]])\n",
    "\n",
    "    matching_dataset_left = pd.DataFrame(left)\n",
    "    matching_dataset_right = pd.DataFrame(right)\n",
    "    return matching_dataset_left, matching_dataset_right\n",
    "\n",
    "\n",
    "def get_difference_datasets(df_a, df_b):\n",
    "    return pd.concat([df_a, df_b]).drop_duplicates(keep=False)\n",
    "\n",
    "\n",
    "def compute_record_linkage(df_l, df_r):\n",
    "    print('Compute features and pairs...')\n",
    "    features, candidate_links  = get_features(df_l, df_r)\n",
    "    pairs, maybe = get_pairs(features)\n",
    "    pairs_index = pairs.index\n",
    "    print('Features and pairs computed successfully')\n",
    "\n",
    "    ## genero file di annotazione per classificare manualmente le coppie di record calcolate da utilizzare su RecordLinkage ANNOTATOR\n",
    "    print('Write annotation file')\n",
    "    #write_annotation(pairs_index, df_l, df_r)\n",
    "    write_annotation(candidate_links, df_l, df_r)\n",
    "\n",
    "    print('Compute matching datasets')\n",
    "    matching_df_l, matching_df_r = get_linking_datasets(df_l, df_r, pairs_index)\n",
    "\n",
    "    print('Compute difference datasets')\n",
    "    difference_l = get_difference_datasets(df_l, matching_df_l)\n",
    "    difference_r = get_difference_datasets(df_r, matching_df_r)\n",
    "\n",
    "    print('Compute join')\n",
    "    joined_df, candidate_joined_df = join(matching_df_l, matching_df_r)\n",
    "\n",
    "    result = pd.concat([joined_df, difference_l])\n",
    "    result = pd.concat([result, difference_r])\n",
    "    result = result.reset_index(drop=True)\n",
    "\n",
    "    multi_index = pd.MultiIndex.from_tuples(random_dio)\n",
    "\n",
    "    return result, pairs, multi_index\n",
    "\n",
    "\n",
    "start_time = time.time()\n",
    "\n",
    "files = get_all_files(MEDIATED_DATASETS_PATH)\n",
    "df_l = pd.read_json(MEDIATED_DATASETS_PATH + files[0], encoding='utf-8', lines=True, dtype=object)\n",
    "df_l = df_l.replace(r'^\\s*$', np.nan, regex=True)\n",
    "files.pop(0)\n",
    "pairs = None\n",
    "multi_index = None\n",
    "\n",
    "for file in files:\n",
    "    df_r = pd.read_json(MEDIATED_DATASETS_PATH + file, encoding='utf-8', lines=True, dtype=object)\n",
    "    df_r = df_r.replace(r'^\\s*$', np.nan, regex=True)\n",
    "    df_l, pairs, multi_index = compute_record_linkage(df_l, df_r)\n",
    "    break\n",
    "\n",
    "df_l\n",
    "\n",
    "end_time = time.time()\n",
    "print('Execution time: %s seconds' % (end_time - start_time))"
   ],
   "metadata": {
    "collapsed": false,
    "pycharm": {
     "name": "#%%\n"
    }
   }
  },
  {
   "cell_type": "markdown",
   "source": [],
   "metadata": {
    "collapsed": false,
    "pycharm": {
     "name": "#%% md\n"
    }
   }
  },
  {
   "cell_type": "code",
   "execution_count": 28,
   "outputs": [
    {
     "data": {
      "text/plain": "MultiIndex([(544,   17),\n            (294, 1842),\n            (504, 4376),\n            ( 24, 6250),\n            (173,  925),\n            (107, 4021),\n            (235, 4299),\n            (559, 1234),\n            (116, 3818),\n            (191, 1351),\n            ...\n            ( 68, 4050),\n            (445, 2669),\n            (139, 1058),\n            (273, 2990),\n            (  8, 6020),\n            (216, 1963),\n            (468, 6234),\n            (320, 2265),\n            (105,  661),\n            (511, 3037)],\n           length=1451)"
     },
     "execution_count": 28,
     "metadata": {},
     "output_type": "execute_result"
    }
   ],
   "source": [
    "multi_index"
   ],
   "metadata": {
    "collapsed": false,
    "pycharm": {
     "name": "#%%\n"
    }
   }
  },
  {
   "cell_type": "code",
   "execution_count": 10,
   "outputs": [
    {
     "data": {
      "text/plain": "                               name headquarters      country continent  \\\n0      industrial bank of korea ibk          NaN  south-korea       NaN   \n2                      nestle india          NaN        india       NaN   \n3                             atoss          NaN      germany       NaN   \n5                             elisa          NaN      finland       NaN   \n6           sumitomo chemical india          NaN        india       NaN   \n...                             ...          ...          ...       ...   \n39742                     castellum          NaN          usa       NaN   \n39743    sporting clube de portugal          NaN          NaN       NaN   \n39744               huhtamaki india          NaN        india       NaN   \n39745                  digital bros          NaN        italy       NaN   \n39746                       truecar          NaN          usa       NaN   \n\n      region sub_region founded employees  ceo     market_cap  ... industry  \\\n0        NaN        NaN     NaN       NaN  NaN   6760000000.0  ...      NaN   \n2        NaN        NaN     NaN       NaN  NaN  23520000000.0  ...      NaN   \n3        NaN        NaN     NaN       NaN  NaN   1430000000.0  ...      NaN   \n5        NaN        NaN     NaN       NaN  NaN   8970000000.0  ...      NaN   \n6        NaN        NaN     NaN       NaN  NaN   2950000000.0  ...      NaN   \n...      ...        ...     ...       ...  ...            ...  ...      ...   \n39742    NaN        NaN     NaN       NaN  NaN     51080000.0  ...      NaN   \n39743    NaN        NaN     NaN       NaN  NaN     58930000.0  ...      NaN   \n39744    NaN        NaN     NaN       NaN  NaN    180000000.0  ...      NaN   \n39745    NaN        NaN     NaN       NaN  NaN    350000000.0  ...      NaN   \n39746    NaN        NaN     NaN       NaN  NaN    270000000.0  ...      NaN   \n\n      revenue link share_price results_for_year total_equity founders  \\\n0         NaN  NaN         8.0              NaN          NaN      NaN   \n2         NaN  NaN       243.0              NaN          NaN      NaN   \n3         NaN  NaN       179.0              NaN          NaN      NaN   \n5         NaN  NaN        55.0              NaN          NaN      NaN   \n6         NaN  NaN         5.0              NaN          NaN      NaN   \n...       ...  ...         ...              ...          ...      ...   \n39742     NaN  NaN         1.0              NaN          NaN      NaN   \n39743     NaN  NaN         0.0              NaN          NaN      NaN   \n39744     NaN  NaN         2.0              NaN          NaN      NaN   \n39745     NaN  NaN        24.0              NaN          NaN      NaN   \n39746     NaN  NaN         3.0              NaN          NaN      NaN   \n\n       market_value address  type  \n0               NaN     NaN   NaN  \n2               NaN     NaN   NaN  \n3               NaN     NaN   NaN  \n5               NaN     NaN   NaN  \n6               NaN     NaN   NaN  \n...             ...     ...   ...  \n39742           NaN     NaN   NaN  \n39743           NaN     NaN   NaN  \n39744           NaN     NaN   NaN  \n39745           NaN     NaN   NaN  \n39746           NaN     NaN   NaN  \n\n[39522 rows x 22 columns]",
      "text/html": "<div>\n<style scoped>\n    .dataframe tbody tr th:only-of-type {\n        vertical-align: middle;\n    }\n\n    .dataframe tbody tr th {\n        vertical-align: top;\n    }\n\n    .dataframe thead th {\n        text-align: right;\n    }\n</style>\n<table border=\"1\" class=\"dataframe\">\n  <thead>\n    <tr style=\"text-align: right;\">\n      <th></th>\n      <th>name</th>\n      <th>headquarters</th>\n      <th>country</th>\n      <th>continent</th>\n      <th>region</th>\n      <th>sub_region</th>\n      <th>founded</th>\n      <th>employees</th>\n      <th>ceo</th>\n      <th>market_cap</th>\n      <th>...</th>\n      <th>industry</th>\n      <th>revenue</th>\n      <th>link</th>\n      <th>share_price</th>\n      <th>results_for_year</th>\n      <th>total_equity</th>\n      <th>founders</th>\n      <th>market_value</th>\n      <th>address</th>\n      <th>type</th>\n    </tr>\n  </thead>\n  <tbody>\n    <tr>\n      <th>0</th>\n      <td>industrial bank of korea ibk</td>\n      <td>NaN</td>\n      <td>south-korea</td>\n      <td>NaN</td>\n      <td>NaN</td>\n      <td>NaN</td>\n      <td>NaN</td>\n      <td>NaN</td>\n      <td>NaN</td>\n      <td>6760000000.0</td>\n      <td>...</td>\n      <td>NaN</td>\n      <td>NaN</td>\n      <td>NaN</td>\n      <td>8.0</td>\n      <td>NaN</td>\n      <td>NaN</td>\n      <td>NaN</td>\n      <td>NaN</td>\n      <td>NaN</td>\n      <td>NaN</td>\n    </tr>\n    <tr>\n      <th>2</th>\n      <td>nestle india</td>\n      <td>NaN</td>\n      <td>india</td>\n      <td>NaN</td>\n      <td>NaN</td>\n      <td>NaN</td>\n      <td>NaN</td>\n      <td>NaN</td>\n      <td>NaN</td>\n      <td>23520000000.0</td>\n      <td>...</td>\n      <td>NaN</td>\n      <td>NaN</td>\n      <td>NaN</td>\n      <td>243.0</td>\n      <td>NaN</td>\n      <td>NaN</td>\n      <td>NaN</td>\n      <td>NaN</td>\n      <td>NaN</td>\n      <td>NaN</td>\n    </tr>\n    <tr>\n      <th>3</th>\n      <td>atoss</td>\n      <td>NaN</td>\n      <td>germany</td>\n      <td>NaN</td>\n      <td>NaN</td>\n      <td>NaN</td>\n      <td>NaN</td>\n      <td>NaN</td>\n      <td>NaN</td>\n      <td>1430000000.0</td>\n      <td>...</td>\n      <td>NaN</td>\n      <td>NaN</td>\n      <td>NaN</td>\n      <td>179.0</td>\n      <td>NaN</td>\n      <td>NaN</td>\n      <td>NaN</td>\n      <td>NaN</td>\n      <td>NaN</td>\n      <td>NaN</td>\n    </tr>\n    <tr>\n      <th>5</th>\n      <td>elisa</td>\n      <td>NaN</td>\n      <td>finland</td>\n      <td>NaN</td>\n      <td>NaN</td>\n      <td>NaN</td>\n      <td>NaN</td>\n      <td>NaN</td>\n      <td>NaN</td>\n      <td>8970000000.0</td>\n      <td>...</td>\n      <td>NaN</td>\n      <td>NaN</td>\n      <td>NaN</td>\n      <td>55.0</td>\n      <td>NaN</td>\n      <td>NaN</td>\n      <td>NaN</td>\n      <td>NaN</td>\n      <td>NaN</td>\n      <td>NaN</td>\n    </tr>\n    <tr>\n      <th>6</th>\n      <td>sumitomo chemical india</td>\n      <td>NaN</td>\n      <td>india</td>\n      <td>NaN</td>\n      <td>NaN</td>\n      <td>NaN</td>\n      <td>NaN</td>\n      <td>NaN</td>\n      <td>NaN</td>\n      <td>2950000000.0</td>\n      <td>...</td>\n      <td>NaN</td>\n      <td>NaN</td>\n      <td>NaN</td>\n      <td>5.0</td>\n      <td>NaN</td>\n      <td>NaN</td>\n      <td>NaN</td>\n      <td>NaN</td>\n      <td>NaN</td>\n      <td>NaN</td>\n    </tr>\n    <tr>\n      <th>...</th>\n      <td>...</td>\n      <td>...</td>\n      <td>...</td>\n      <td>...</td>\n      <td>...</td>\n      <td>...</td>\n      <td>...</td>\n      <td>...</td>\n      <td>...</td>\n      <td>...</td>\n      <td>...</td>\n      <td>...</td>\n      <td>...</td>\n      <td>...</td>\n      <td>...</td>\n      <td>...</td>\n      <td>...</td>\n      <td>...</td>\n      <td>...</td>\n      <td>...</td>\n      <td>...</td>\n    </tr>\n    <tr>\n      <th>39742</th>\n      <td>castellum</td>\n      <td>NaN</td>\n      <td>usa</td>\n      <td>NaN</td>\n      <td>NaN</td>\n      <td>NaN</td>\n      <td>NaN</td>\n      <td>NaN</td>\n      <td>NaN</td>\n      <td>51080000.0</td>\n      <td>...</td>\n      <td>NaN</td>\n      <td>NaN</td>\n      <td>NaN</td>\n      <td>1.0</td>\n      <td>NaN</td>\n      <td>NaN</td>\n      <td>NaN</td>\n      <td>NaN</td>\n      <td>NaN</td>\n      <td>NaN</td>\n    </tr>\n    <tr>\n      <th>39743</th>\n      <td>sporting clube de portugal</td>\n      <td>NaN</td>\n      <td>NaN</td>\n      <td>NaN</td>\n      <td>NaN</td>\n      <td>NaN</td>\n      <td>NaN</td>\n      <td>NaN</td>\n      <td>NaN</td>\n      <td>58930000.0</td>\n      <td>...</td>\n      <td>NaN</td>\n      <td>NaN</td>\n      <td>NaN</td>\n      <td>0.0</td>\n      <td>NaN</td>\n      <td>NaN</td>\n      <td>NaN</td>\n      <td>NaN</td>\n      <td>NaN</td>\n      <td>NaN</td>\n    </tr>\n    <tr>\n      <th>39744</th>\n      <td>huhtamaki india</td>\n      <td>NaN</td>\n      <td>india</td>\n      <td>NaN</td>\n      <td>NaN</td>\n      <td>NaN</td>\n      <td>NaN</td>\n      <td>NaN</td>\n      <td>NaN</td>\n      <td>180000000.0</td>\n      <td>...</td>\n      <td>NaN</td>\n      <td>NaN</td>\n      <td>NaN</td>\n      <td>2.0</td>\n      <td>NaN</td>\n      <td>NaN</td>\n      <td>NaN</td>\n      <td>NaN</td>\n      <td>NaN</td>\n      <td>NaN</td>\n    </tr>\n    <tr>\n      <th>39745</th>\n      <td>digital bros</td>\n      <td>NaN</td>\n      <td>italy</td>\n      <td>NaN</td>\n      <td>NaN</td>\n      <td>NaN</td>\n      <td>NaN</td>\n      <td>NaN</td>\n      <td>NaN</td>\n      <td>350000000.0</td>\n      <td>...</td>\n      <td>NaN</td>\n      <td>NaN</td>\n      <td>NaN</td>\n      <td>24.0</td>\n      <td>NaN</td>\n      <td>NaN</td>\n      <td>NaN</td>\n      <td>NaN</td>\n      <td>NaN</td>\n      <td>NaN</td>\n    </tr>\n    <tr>\n      <th>39746</th>\n      <td>truecar</td>\n      <td>NaN</td>\n      <td>usa</td>\n      <td>NaN</td>\n      <td>NaN</td>\n      <td>NaN</td>\n      <td>NaN</td>\n      <td>NaN</td>\n      <td>NaN</td>\n      <td>270000000.0</td>\n      <td>...</td>\n      <td>NaN</td>\n      <td>NaN</td>\n      <td>NaN</td>\n      <td>3.0</td>\n      <td>NaN</td>\n      <td>NaN</td>\n      <td>NaN</td>\n      <td>NaN</td>\n      <td>NaN</td>\n      <td>NaN</td>\n    </tr>\n  </tbody>\n</table>\n<p>39522 rows × 22 columns</p>\n</div>"
     },
     "execution_count": 10,
     "metadata": {},
     "output_type": "execute_result"
    }
   ],
   "source": [
    "df_l.drop_duplicates()"
   ],
   "metadata": {
    "collapsed": false,
    "pycharm": {
     "name": "#%%\n"
    }
   }
  },
  {
   "cell_type": "code",
   "execution_count": 11,
   "outputs": [
    {
     "data": {
      "text/plain": "            name  ceo\n154   1377   1.0  0.5\n9687  1377   1.0  0.5\n335   2370   1.0  0.5\n337   4110   1.0  0.5\n9491  4110   1.0  0.5\n...          ...  ...\n39832 5829   1.0  0.5\n39837 4083   1.0  0.5\n39840 6674   1.0  0.5\n39841 6674   1.0  0.5\n39843 2135   1.0  0.5\n\n[7427 rows x 2 columns]",
      "text/html": "<div>\n<style scoped>\n    .dataframe tbody tr th:only-of-type {\n        vertical-align: middle;\n    }\n\n    .dataframe tbody tr th {\n        vertical-align: top;\n    }\n\n    .dataframe thead th {\n        text-align: right;\n    }\n</style>\n<table border=\"1\" class=\"dataframe\">\n  <thead>\n    <tr style=\"text-align: right;\">\n      <th></th>\n      <th></th>\n      <th>name</th>\n      <th>ceo</th>\n    </tr>\n  </thead>\n  <tbody>\n    <tr>\n      <th>154</th>\n      <th>1377</th>\n      <td>1.0</td>\n      <td>0.5</td>\n    </tr>\n    <tr>\n      <th>9687</th>\n      <th>1377</th>\n      <td>1.0</td>\n      <td>0.5</td>\n    </tr>\n    <tr>\n      <th>335</th>\n      <th>2370</th>\n      <td>1.0</td>\n      <td>0.5</td>\n    </tr>\n    <tr>\n      <th>337</th>\n      <th>4110</th>\n      <td>1.0</td>\n      <td>0.5</td>\n    </tr>\n    <tr>\n      <th>9491</th>\n      <th>4110</th>\n      <td>1.0</td>\n      <td>0.5</td>\n    </tr>\n    <tr>\n      <th>...</th>\n      <th>...</th>\n      <td>...</td>\n      <td>...</td>\n    </tr>\n    <tr>\n      <th>39832</th>\n      <th>5829</th>\n      <td>1.0</td>\n      <td>0.5</td>\n    </tr>\n    <tr>\n      <th>39837</th>\n      <th>4083</th>\n      <td>1.0</td>\n      <td>0.5</td>\n    </tr>\n    <tr>\n      <th>39840</th>\n      <th>6674</th>\n      <td>1.0</td>\n      <td>0.5</td>\n    </tr>\n    <tr>\n      <th>39841</th>\n      <th>6674</th>\n      <td>1.0</td>\n      <td>0.5</td>\n    </tr>\n    <tr>\n      <th>39843</th>\n      <th>2135</th>\n      <td>1.0</td>\n      <td>0.5</td>\n    </tr>\n  </tbody>\n</table>\n<p>7427 rows × 2 columns</p>\n</div>"
     },
     "execution_count": 11,
     "metadata": {},
     "output_type": "execute_result"
    }
   ],
   "source": [
    "pairs"
   ],
   "metadata": {
    "collapsed": false,
    "pycharm": {
     "name": "#%%\n"
    }
   }
  },
  {
   "cell_type": "code",
   "execution_count": 4,
   "outputs": [
    {
     "name": "stdout",
     "output_type": "stream",
     "text": [
      "Compute features and pairs...\n",
      "candidate_links: 21282\n",
      "pairs: 7334\n",
      "Features and pairs computed successfully\n",
      "Write annotation file\n",
      "Compute matching datasets\n",
      "Compute difference datasets\n",
      "Compute join\n",
      "Compute features and pairs...\n"
     ]
    },
    {
     "ename": "ValueError",
     "evalue": "index of DataFrame is not unique",
     "output_type": "error",
     "traceback": [
      "\u001B[0;31m---------------------------------------------------------------------------\u001B[0m",
      "\u001B[0;31mValueError\u001B[0m                                Traceback (most recent call last)",
      "Cell \u001B[0;32mIn[4], line 12\u001B[0m\n\u001B[1;32m     10\u001B[0m     df_r \u001B[38;5;241m=\u001B[39m pd\u001B[38;5;241m.\u001B[39mread_json(MEDIATED_DATASETS_PATH \u001B[38;5;241m+\u001B[39m file, encoding\u001B[38;5;241m=\u001B[39m\u001B[38;5;124m'\u001B[39m\u001B[38;5;124mutf-8\u001B[39m\u001B[38;5;124m'\u001B[39m, lines\u001B[38;5;241m=\u001B[39m\u001B[38;5;28;01mTrue\u001B[39;00m, dtype\u001B[38;5;241m=\u001B[39m\u001B[38;5;28mobject\u001B[39m)\n\u001B[1;32m     11\u001B[0m     df_r \u001B[38;5;241m=\u001B[39m df_r\u001B[38;5;241m.\u001B[39mreplace(\u001B[38;5;124mr\u001B[39m\u001B[38;5;124m'\u001B[39m\u001B[38;5;124m^\u001B[39m\u001B[38;5;124m\\\u001B[39m\u001B[38;5;124ms*$\u001B[39m\u001B[38;5;124m'\u001B[39m, np\u001B[38;5;241m.\u001B[39mnan, regex\u001B[38;5;241m=\u001B[39m\u001B[38;5;28;01mTrue\u001B[39;00m)\n\u001B[0;32m---> 12\u001B[0m     df_l, pairs \u001B[38;5;241m=\u001B[39m \u001B[43mcompute_record_linkage\u001B[49m\u001B[43m(\u001B[49m\u001B[43mdf_l\u001B[49m\u001B[43m,\u001B[49m\u001B[43m \u001B[49m\u001B[43mdf_r\u001B[49m\u001B[43m)\u001B[49m\n\u001B[1;32m     13\u001B[0m     df_l\u001B[38;5;241m.\u001B[39mreset_index(drop\u001B[38;5;241m=\u001B[39m\u001B[38;5;28;01mTrue\u001B[39;00m)\n\u001B[1;32m     15\u001B[0m df_l\n",
      "Cell \u001B[0;32mIn[3], line 103\u001B[0m, in \u001B[0;36mcompute_record_linkage\u001B[0;34m(df_l, df_r)\u001B[0m\n\u001B[1;32m    101\u001B[0m \u001B[38;5;28;01mdef\u001B[39;00m \u001B[38;5;21mcompute_record_linkage\u001B[39m(df_l, df_r):\n\u001B[1;32m    102\u001B[0m     \u001B[38;5;28mprint\u001B[39m(\u001B[38;5;124m'\u001B[39m\u001B[38;5;124mCompute features and pairs...\u001B[39m\u001B[38;5;124m'\u001B[39m)\n\u001B[0;32m--> 103\u001B[0m     features \u001B[38;5;241m=\u001B[39m \u001B[43mget_features\u001B[49m\u001B[43m(\u001B[49m\u001B[43mdf_l\u001B[49m\u001B[43m,\u001B[49m\u001B[43m \u001B[49m\u001B[43mdf_r\u001B[49m\u001B[43m)\u001B[49m\n\u001B[1;32m    104\u001B[0m     pairs \u001B[38;5;241m=\u001B[39m get_pairs(features)\n\u001B[1;32m    105\u001B[0m     pairs_index \u001B[38;5;241m=\u001B[39m pairs\u001B[38;5;241m.\u001B[39mindex\n",
      "Cell \u001B[0;32mIn[3], line 13\u001B[0m, in \u001B[0;36mget_features\u001B[0;34m(df_l, df_r)\u001B[0m\n\u001B[1;32m     11\u001B[0m indexer \u001B[38;5;241m=\u001B[39m recordlinkage\u001B[38;5;241m.\u001B[39mIndex()\n\u001B[1;32m     12\u001B[0m indexer\u001B[38;5;241m.\u001B[39msortedneighbourhood(\u001B[38;5;124m'\u001B[39m\u001B[38;5;124mname\u001B[39m\u001B[38;5;124m'\u001B[39m)\n\u001B[0;32m---> 13\u001B[0m candidate_links \u001B[38;5;241m=\u001B[39m \u001B[43mindexer\u001B[49m\u001B[38;5;241;43m.\u001B[39;49m\u001B[43mindex\u001B[49m\u001B[43m(\u001B[49m\u001B[43mdf_l\u001B[49m\u001B[43m,\u001B[49m\u001B[43m \u001B[49m\u001B[43mdf_r\u001B[49m\u001B[43m)\u001B[49m\n\u001B[1;32m     14\u001B[0m \u001B[38;5;28mprint\u001B[39m(\u001B[38;5;124m'\u001B[39m\u001B[38;5;124mcandidate_links:\u001B[39m\u001B[38;5;124m'\u001B[39m, \u001B[38;5;28mlen\u001B[39m(candidate_links))\n\u001B[1;32m     16\u001B[0m \u001B[38;5;66;03m# Comparison step\u001B[39;00m\n",
      "File \u001B[0;32m~/opt/anaconda3/envs/Homework8/lib/python3.10/site-packages/recordlinkage/base.py:124\u001B[0m, in \u001B[0;36mBaseIndex.index\u001B[0;34m(self, x, x_link)\u001B[0m\n\u001B[1;32m    122\u001B[0m pairs \u001B[38;5;241m=\u001B[39m \u001B[38;5;28;01mNone\u001B[39;00m\n\u001B[1;32m    123\u001B[0m \u001B[38;5;28;01mfor\u001B[39;00m cl_alg \u001B[38;5;129;01min\u001B[39;00m \u001B[38;5;28mself\u001B[39m\u001B[38;5;241m.\u001B[39malgorithms:\n\u001B[0;32m--> 124\u001B[0m     pairs_i \u001B[38;5;241m=\u001B[39m \u001B[43mcl_alg\u001B[49m\u001B[38;5;241;43m.\u001B[39;49m\u001B[43mindex\u001B[49m\u001B[43m(\u001B[49m\u001B[43mx\u001B[49m\u001B[43m,\u001B[49m\u001B[43m \u001B[49m\u001B[43mx_link\u001B[49m\u001B[43m)\u001B[49m\n\u001B[1;32m    126\u001B[0m     \u001B[38;5;28;01mif\u001B[39;00m pairs \u001B[38;5;129;01mis\u001B[39;00m \u001B[38;5;28;01mNone\u001B[39;00m:\n\u001B[1;32m    127\u001B[0m         pairs \u001B[38;5;241m=\u001B[39m pairs_i\n",
      "File \u001B[0;32m~/opt/anaconda3/envs/Homework8/lib/python3.10/site-packages/recordlinkage/base.py:339\u001B[0m, in \u001B[0;36mBaseIndexAlgorithm.index\u001B[0;34m(self, x, x_link)\u001B[0m\n\u001B[1;32m    336\u001B[0m \u001B[38;5;28;01mif\u001B[39;00m \u001B[38;5;28mself\u001B[39m\u001B[38;5;241m.\u001B[39mverify_integrity:\n\u001B[1;32m    338\u001B[0m     \u001B[38;5;28;01mfor\u001B[39;00m df \u001B[38;5;129;01min\u001B[39;00m x:\n\u001B[0;32m--> 339\u001B[0m         \u001B[38;5;28;43mself\u001B[39;49m\u001B[38;5;241;43m.\u001B[39;49m\u001B[43m_verify_integrety\u001B[49m\u001B[43m(\u001B[49m\u001B[43mdf\u001B[49m\u001B[43m)\u001B[49m\n\u001B[1;32m    341\u001B[0m \u001B[38;5;66;03m# linking\u001B[39;00m\n\u001B[1;32m    342\u001B[0m \u001B[38;5;28;01mif\u001B[39;00m \u001B[38;5;129;01mnot\u001B[39;00m \u001B[38;5;28mself\u001B[39m\u001B[38;5;241m.\u001B[39m_deduplication(x):\n",
      "File \u001B[0;32m~/opt/anaconda3/envs/Homework8/lib/python3.10/site-packages/recordlinkage/base.py:237\u001B[0m, in \u001B[0;36mBaseIndexAlgorithm._verify_integrety\u001B[0;34m(self, x)\u001B[0m\n\u001B[1;32m    234\u001B[0m \u001B[38;5;28;01mif\u001B[39;00m \u001B[38;5;28misinstance\u001B[39m(x\u001B[38;5;241m.\u001B[39mindex, pandas\u001B[38;5;241m.\u001B[39mIndex):\n\u001B[1;32m    236\u001B[0m     \u001B[38;5;28;01mif\u001B[39;00m \u001B[38;5;129;01mnot\u001B[39;00m x\u001B[38;5;241m.\u001B[39mindex\u001B[38;5;241m.\u001B[39mis_unique:\n\u001B[0;32m--> 237\u001B[0m         \u001B[38;5;28;01mraise\u001B[39;00m \u001B[38;5;167;01mValueError\u001B[39;00m(\u001B[38;5;124m'\u001B[39m\u001B[38;5;124mindex of DataFrame is not unique\u001B[39m\u001B[38;5;124m'\u001B[39m)\n\u001B[1;32m    239\u001B[0m \u001B[38;5;28;01melif\u001B[39;00m \u001B[38;5;28misinstance\u001B[39m(x\u001B[38;5;241m.\u001B[39mindex, pandas\u001B[38;5;241m.\u001B[39mMultiIndex):\n\u001B[1;32m    240\u001B[0m     \u001B[38;5;28;01mraise\u001B[39;00m \u001B[38;5;167;01mValueError\u001B[39;00m(\n\u001B[1;32m    241\u001B[0m         \u001B[38;5;124m'\u001B[39m\u001B[38;5;124mexpected pandas.Index instead of pandas.MultiIndex\u001B[39m\u001B[38;5;124m'\u001B[39m)\n",
      "\u001B[0;31mValueError\u001B[0m: index of DataFrame is not unique"
     ]
    }
   ],
   "source": [
    "start_time = time.time()\n",
    "\n",
    "files = get_all_files(MEDIATED_DATASETS_PATH)\n",
    "df_l = pd.read_json(MEDIATED_DATASETS_PATH + files[0], encoding='utf-8', lines=True, dtype=object)\n",
    "df_l = df_l.replace(r'^\\s*$', np.nan, regex=True)\n",
    "files.pop(0)\n",
    "pairs = None\n",
    "\n",
    "for file in files:\n",
    "    df_r = pd.read_json(MEDIATED_DATASETS_PATH + file, encoding='utf-8', lines=True, dtype=object)\n",
    "    df_r = df_r.replace(r'^\\s*$', np.nan, regex=True)\n",
    "    df_l, pairs = compute_record_linkage(df_l, df_r)\n",
    "    df_l.reset_index(drop=True)\n",
    "\n",
    "df_l\n",
    "\n",
    "end_time = time.time()\n",
    "print('Execution time: %s seconds' % (end_time - start_time))"
   ],
   "metadata": {
    "collapsed": false,
    "pycharm": {
     "name": "#%%\n"
    }
   }
  },
  {
   "cell_type": "code",
   "execution_count": 30,
   "outputs": [],
   "source": [],
   "metadata": {
    "collapsed": false,
    "pycharm": {
     "name": "#%%\n"
    }
   }
  },
  {
   "cell_type": "markdown",
   "source": [],
   "metadata": {
    "collapsed": false
   }
  },
  {
   "cell_type": "markdown",
   "source": [
    "## Classification"
   ],
   "metadata": {
    "collapsed": false
   }
  },
  {
   "cell_type": "code",
   "execution_count": 52,
   "outputs": [
    {
     "name": "stdout",
     "output_type": "stream",
     "text": [
      "links: 112\n",
      "distinct: 323\n"
     ]
    }
   ],
   "source": [
    "##all'interno della funzione read_annotation_file metti il nome del file che esport da recordlinkage annotator\n",
    "result_json = recordlinkage.read_annotation_file('result_30%.json')\n",
    "true_links = result_json.links  ##record etichettati con match\n",
    "false_links = result_json.distinct  ##record etichettati con distinct\n",
    "print('links:', len(true_links))\n",
    "print('distinct:', len(false_links))"
   ],
   "metadata": {
    "collapsed": false,
    "pycharm": {
     "name": "#%%\n"
    }
   }
  },
  {
   "cell_type": "code",
   "execution_count": 53,
   "outputs": [
    {
     "data": {
      "text/plain": "314"
     },
     "execution_count": 53,
     "metadata": {},
     "output_type": "execute_result"
    }
   ],
   "source": [
    "lung = int(len(multi_index)*0.3)\n",
    "golden_pairs = pairs[0:lung]\n",
    "golden_match_index = golden_pairs.index.intersection(true_links)\n",
    "len(golden_pairs)"
   ],
   "metadata": {
    "collapsed": false,
    "pycharm": {
     "name": "#%%\n"
    }
   }
  },
  {
   "cell_type": "code",
   "execution_count": 60,
   "outputs": [
    {
     "data": {
      "text/plain": "          name  ceo\n28  1136   1.0  0.5\n64  385    1.0  0.5\n71  6458   1.0  0.5\n113 2695   1.0  0.5\n130 708    1.0  0.5\n139 2322   1.0  0.5\n279 4899   1.0  0.5\n313 1369   1.0  0.5\n315 2993   1.0  0.5\n353 2306   1.0  0.5\n356 78     1.0  0.5\n404 4194   1.0  0.5\n415 305    1.0  0.5\n425 2174   1.0  0.5\n510 2528   1.0  0.5\n537 1238   1.0  0.5\n573 1119   1.0  0.5\n575 1112   1.0  0.5\n583 3285   1.0  0.5\n591 3051   1.0  0.5\n595 1665   1.0  0.5\n4   195    1.0  0.5\n5   457    1.0  0.5\n7   1019   1.0  0.5\n8   1109   1.0  0.5\n9   48     1.0  0.5\n10  946    1.0  0.5\n11  27     1.0  0.5\n12  56     1.0  0.5\n13  322    1.0  0.5\n15  239    1.0  0.5\n16  638    1.0  0.5\n18  2803   1.0  0.5\n21  127    1.0  0.5\n24  603    1.0  0.5\n26  136    1.0  0.5\n27  1257   1.0  0.5\n29  1247   1.0  0.5\n32  148    1.0  0.5\n34  1126   1.0  0.5\n35  1459   1.0  0.5\n40  897    1.0  0.5\n42  321    1.0  0.5\n45  3348   1.0  0.5\n49  4315   1.0  0.5\n50  1908   1.0  0.5\n51  1908   1.0  0.5\n52  85     1.0  0.5\n53  6584   1.0  0.5\n56  201    1.0  0.5\n58  479    1.0  0.5\n59  125    1.0  0.5\n103 125    1.0  0.5\n60  562    1.0  0.5\n61  956    1.0  0.5\n63  416    1.0  0.5\n66  2433   1.0  0.5\n68  205    1.0  0.5\n69  503    1.0  0.5\n72  498    1.0  0.5\n73  297    1.0  0.5\n76  1392   1.0  0.5\n77  345    1.0  0.5\n78  293    1.0  0.5\n83  891    1.0  0.5\n84  251    1.0  0.5\n89  118    1.0  0.5\n90  230    1.0  0.5\n93  176    1.0  0.5\n95  98     1.0  0.5\n98  1282   1.0  0.5\n101 704    1.0  0.5\n104 1451   1.0  0.5\n105 1052   1.0  0.5\n109 1924   1.0  0.5\n111 578    1.0  0.5\n112 3455   1.0  0.5\n113 452    1.0  0.5\n118 1194   1.0  0.5\n120 4148   1.0  0.5\n122 2485   1.0  0.5\n124 73     1.0  0.5\n133 46     1.0  0.5\n134 145    1.0  0.5\n139 208    1.0  0.5\n141 1826   1.0  0.5\n142 75     1.0  0.5\n144 40     1.0  0.5\n147 505    1.0  0.5\n148 1857   1.0  0.5\n149 1168   1.0  0.5\n150 486    1.0  0.5\n152 4468   1.0  0.5\n155 1259   1.0  0.5\n156 362    1.0  0.5\n160 506    1.0  0.5\n165 559    1.0  0.5\n167 731    1.0  0.5\n168 660    1.0  0.5\n169 130    1.0  0.5\n173 519    1.0  0.5\n174 1350   1.0  0.5\n175 4641   1.0  0.5\n176 1241   1.0  0.5\n179 1925   1.0  0.5\n181 693    1.0  0.5\n182 490    1.0  0.5\n183 3626   1.0  0.5\n186 294    1.0  0.5\n187 793    1.0  0.5\n190 2352   1.0  0.5\n192 2424   1.0  0.5\n198 234    1.0  0.5\n200 332    1.0  0.5\n202 4006   1.0  0.5\n207 442    1.0  0.5\n211 824    1.0  0.5\n212 670    1.0  0.5\n215 2319   1.0  0.5\n216 2550   1.0  0.5\n217 872    1.0  0.5\n218 652    1.0  0.5\n219 7158   1.0  0.5\n221 171    1.0  0.5\n223 300    1.0  0.5\n224 298    1.0  0.5\n226 1452   1.0  0.5\n229 4606   1.0  0.5\n233 1030   1.0  0.5\n236 1290   1.0  0.5\n237 4807   1.0  0.5\n238 1937   1.0  0.5\n239 54     1.0  0.5\n244 459    1.0  0.5\n245 3066   1.0  0.5\n248 884    1.0  0.5\n249 1539   1.0  0.5\n251 600    1.0  0.5\n252 762    1.0  0.5\n255 342    1.0  0.5\n256 407    1.0  0.5\n257 82     1.0  0.5\n259 86     1.0  0.5\n263 780    1.0  0.5\n264 1523   1.0  0.5\n265 2056   1.0  0.5\n269 95     1.0  0.5\n271 182    1.0  0.5\n276 196    1.0  0.5\n277 178    1.0  0.5\n279 751    1.0  0.5\n280 110    1.0  0.5\n281 355    1.0  0.5\n282 1562   1.0  0.5\n286 438    1.0  0.5\n289 6      1.0  0.5\n291 12     1.0  0.5\n297 686    1.0  0.5\n298 1488   1.0  0.5\n300 336    1.0  0.5\n309 291    1.0  0.5\n311 238    1.0  0.5\n313 473    1.0  0.5\n317 1705   1.0  0.5\n318 710    1.0  0.5\n319 1456   1.0  0.5\n324 1297   1.0  0.5\n329 103    1.0  0.5\n330 44     1.0  0.5\n331 3885   1.0  0.5\n333 1400   1.0  0.5\n334 7156   1.0  0.5\n335 2631   1.0  0.5\n338 583    1.0  0.5\n340 2042   1.0  0.5\n347 447    1.0  0.5\n350 1822   1.0  0.5\n354 489    1.0  0.5\n355 1838   1.0  0.5\n359 180    1.0  0.5\n362 767    1.0  0.5\n365 2      1.0  0.5\n369 1853   1.0  0.5\n370 797    1.0  0.5\n380 2052   1.0  0.5\n381 23     1.0  0.5\n383 1108   1.0  0.5\n386 2954   1.0  0.5\n387 320    1.0  0.5\n388 1200   1.0  0.5\n389 626    1.0  0.5\n390 1084   1.0  0.5\n391 45     1.0  0.5\n392 25     1.0  0.5\n402 851    1.0  0.5\n404 1209   1.0  0.5\n408 34     1.0  0.5\n409 3420   1.0  0.5\n411 299    1.0  0.5\n414 29     1.0  0.5\n415 1073   1.0  0.5\n416 397    1.0  0.5\n417 89     1.0  0.5\n419 2385   1.0  0.5\n423 2193   1.0  0.5\n425 16     1.0  0.5\n427 1055   1.0  0.5\n428 450    1.0  0.5\n433 93     1.0  0.5\n436 5319   1.0  0.5\n441 42     1.0  0.5\n442 1341   1.0  0.5\n443 761    1.0  0.5\n448 87     1.0  0.5\n460 722    1.0  0.5\n462 104    1.0  0.5\n463 1      1.0  0.5\n464 96     1.0  0.5\n467 6234   1.0  0.5\n468 1430   1.0  0.5\n469 175    1.0  0.5\n471 157    1.0  0.5\n472 786    1.0  0.5\n474 241    1.0  0.5\n480 3292   1.0  0.5\n482 1298   1.0  0.5\n483 2978   1.0  0.5\n486 7161   1.0  0.5\n487 382    1.0  0.5\n490 825    1.0  0.5\n492 114    1.0  0.5\n495 542    1.0  0.5\n496 187    1.0  0.5\n501 774    1.0  0.5\n503 1661   1.0  0.5\n508 128    1.0  0.5\n510 788    1.0  0.5\n511 2176   1.0  0.5\n513 706    1.0  0.5\n514 105    1.0  0.5\n515 215    1.0  0.5\n518 306    1.0  0.5\n519 1426   1.0  0.5\n528 908    1.0  0.5\n530 2820   1.0  0.5\n532 79     1.0  0.5\n535 1287   1.0  0.5\n537 760    1.0  0.5\n538 593    1.0  0.5\n539 10     1.0  0.5\n541 340    1.0  0.5\n543 779    1.0  0.5\n546 544    1.0  0.5\n547 63     1.0  0.5\n548 1050   1.0  0.5\n549 259    1.0  0.5\n553 1054   1.0  0.5\n554 4690   1.0  0.5\n556 70     1.0  0.5\n558 2021   1.0  0.5\n559 1234   1.0  0.5\n561 50     1.0  0.5\n562 1935   1.0  0.5\n564 11     1.0  0.5\n566 289    1.0  0.5\n569 566    1.0  0.5\n570 91     1.0  0.5\n571 2852   1.0  0.5\n572 5633   1.0  0.5\n576 527    1.0  0.5\n579 601    1.0  0.5\n581 1304   1.0  0.5\n585 4565   1.0  0.5\n588 4084   1.0  0.5\n589 1409   1.0  0.5\n591 582    1.0  0.5\n596 14     1.0  0.5\n598 634    1.0  0.5\n602 654    1.0  0.5\n604 454    1.0  0.5\n606 1453   1.0  0.5\n607 586    1.0  0.5\n609 1541   1.0  0.5\n612 458    1.0  0.5\n616 962    1.0  0.5\n22  1394   1.0  0.5\n41  1518   1.0  0.5\n43  2097   1.0  0.5\n96  2720   1.0  0.5\n110 749    1.0  0.5\n117 841    1.0  0.5\n119 92     1.0  0.5\n157 180    1.0  0.5\n191 1351   1.0  0.5\n193 9      1.0  0.5\n203 1025   1.0  0.5\n314 2452   1.0  0.5\n316 1919   1.0  0.5\n321 2333   1.0  0.5\n325 65     1.0  0.5\n353 47     1.0  0.5\n356 3002   1.0  0.5\n381 471    1.0  0.5\n399 3656   1.0  0.5\n410 99     1.0  0.5\n449 43     1.0  0.5\n455 1609   1.0  0.5\n509 219    1.0  0.5\n526 1458   1.0  0.5\n542 4589   1.0  0.5\n544 17     1.0  0.5\n568 910    1.0  0.5\n593 174    1.0  0.5\n611 1736   1.0  0.5",
      "text/html": "<div>\n<style scoped>\n    .dataframe tbody tr th:only-of-type {\n        vertical-align: middle;\n    }\n\n    .dataframe tbody tr th {\n        vertical-align: top;\n    }\n\n    .dataframe thead th {\n        text-align: right;\n    }\n</style>\n<table border=\"1\" class=\"dataframe\">\n  <thead>\n    <tr style=\"text-align: right;\">\n      <th></th>\n      <th></th>\n      <th>name</th>\n      <th>ceo</th>\n    </tr>\n  </thead>\n  <tbody>\n    <tr>\n      <th>28</th>\n      <th>1136</th>\n      <td>1.0</td>\n      <td>0.5</td>\n    </tr>\n    <tr>\n      <th>64</th>\n      <th>385</th>\n      <td>1.0</td>\n      <td>0.5</td>\n    </tr>\n    <tr>\n      <th>71</th>\n      <th>6458</th>\n      <td>1.0</td>\n      <td>0.5</td>\n    </tr>\n    <tr>\n      <th>113</th>\n      <th>2695</th>\n      <td>1.0</td>\n      <td>0.5</td>\n    </tr>\n    <tr>\n      <th>130</th>\n      <th>708</th>\n      <td>1.0</td>\n      <td>0.5</td>\n    </tr>\n    <tr>\n      <th>139</th>\n      <th>2322</th>\n      <td>1.0</td>\n      <td>0.5</td>\n    </tr>\n    <tr>\n      <th>279</th>\n      <th>4899</th>\n      <td>1.0</td>\n      <td>0.5</td>\n    </tr>\n    <tr>\n      <th>313</th>\n      <th>1369</th>\n      <td>1.0</td>\n      <td>0.5</td>\n    </tr>\n    <tr>\n      <th>315</th>\n      <th>2993</th>\n      <td>1.0</td>\n      <td>0.5</td>\n    </tr>\n    <tr>\n      <th>353</th>\n      <th>2306</th>\n      <td>1.0</td>\n      <td>0.5</td>\n    </tr>\n    <tr>\n      <th>356</th>\n      <th>78</th>\n      <td>1.0</td>\n      <td>0.5</td>\n    </tr>\n    <tr>\n      <th>404</th>\n      <th>4194</th>\n      <td>1.0</td>\n      <td>0.5</td>\n    </tr>\n    <tr>\n      <th>415</th>\n      <th>305</th>\n      <td>1.0</td>\n      <td>0.5</td>\n    </tr>\n    <tr>\n      <th>425</th>\n      <th>2174</th>\n      <td>1.0</td>\n      <td>0.5</td>\n    </tr>\n    <tr>\n      <th>510</th>\n      <th>2528</th>\n      <td>1.0</td>\n      <td>0.5</td>\n    </tr>\n    <tr>\n      <th>537</th>\n      <th>1238</th>\n      <td>1.0</td>\n      <td>0.5</td>\n    </tr>\n    <tr>\n      <th>573</th>\n      <th>1119</th>\n      <td>1.0</td>\n      <td>0.5</td>\n    </tr>\n    <tr>\n      <th>575</th>\n      <th>1112</th>\n      <td>1.0</td>\n      <td>0.5</td>\n    </tr>\n    <tr>\n      <th>583</th>\n      <th>3285</th>\n      <td>1.0</td>\n      <td>0.5</td>\n    </tr>\n    <tr>\n      <th>591</th>\n      <th>3051</th>\n      <td>1.0</td>\n      <td>0.5</td>\n    </tr>\n    <tr>\n      <th>595</th>\n      <th>1665</th>\n      <td>1.0</td>\n      <td>0.5</td>\n    </tr>\n    <tr>\n      <th>4</th>\n      <th>195</th>\n      <td>1.0</td>\n      <td>0.5</td>\n    </tr>\n    <tr>\n      <th>5</th>\n      <th>457</th>\n      <td>1.0</td>\n      <td>0.5</td>\n    </tr>\n    <tr>\n      <th>7</th>\n      <th>1019</th>\n      <td>1.0</td>\n      <td>0.5</td>\n    </tr>\n    <tr>\n      <th>8</th>\n      <th>1109</th>\n      <td>1.0</td>\n      <td>0.5</td>\n    </tr>\n    <tr>\n      <th>9</th>\n      <th>48</th>\n      <td>1.0</td>\n      <td>0.5</td>\n    </tr>\n    <tr>\n      <th>10</th>\n      <th>946</th>\n      <td>1.0</td>\n      <td>0.5</td>\n    </tr>\n    <tr>\n      <th>11</th>\n      <th>27</th>\n      <td>1.0</td>\n      <td>0.5</td>\n    </tr>\n    <tr>\n      <th>12</th>\n      <th>56</th>\n      <td>1.0</td>\n      <td>0.5</td>\n    </tr>\n    <tr>\n      <th>13</th>\n      <th>322</th>\n      <td>1.0</td>\n      <td>0.5</td>\n    </tr>\n    <tr>\n      <th>15</th>\n      <th>239</th>\n      <td>1.0</td>\n      <td>0.5</td>\n    </tr>\n    <tr>\n      <th>16</th>\n      <th>638</th>\n      <td>1.0</td>\n      <td>0.5</td>\n    </tr>\n    <tr>\n      <th>18</th>\n      <th>2803</th>\n      <td>1.0</td>\n      <td>0.5</td>\n    </tr>\n    <tr>\n      <th>21</th>\n      <th>127</th>\n      <td>1.0</td>\n      <td>0.5</td>\n    </tr>\n    <tr>\n      <th>24</th>\n      <th>603</th>\n      <td>1.0</td>\n      <td>0.5</td>\n    </tr>\n    <tr>\n      <th>26</th>\n      <th>136</th>\n      <td>1.0</td>\n      <td>0.5</td>\n    </tr>\n    <tr>\n      <th>27</th>\n      <th>1257</th>\n      <td>1.0</td>\n      <td>0.5</td>\n    </tr>\n    <tr>\n      <th>29</th>\n      <th>1247</th>\n      <td>1.0</td>\n      <td>0.5</td>\n    </tr>\n    <tr>\n      <th>32</th>\n      <th>148</th>\n      <td>1.0</td>\n      <td>0.5</td>\n    </tr>\n    <tr>\n      <th>34</th>\n      <th>1126</th>\n      <td>1.0</td>\n      <td>0.5</td>\n    </tr>\n    <tr>\n      <th>35</th>\n      <th>1459</th>\n      <td>1.0</td>\n      <td>0.5</td>\n    </tr>\n    <tr>\n      <th>40</th>\n      <th>897</th>\n      <td>1.0</td>\n      <td>0.5</td>\n    </tr>\n    <tr>\n      <th>42</th>\n      <th>321</th>\n      <td>1.0</td>\n      <td>0.5</td>\n    </tr>\n    <tr>\n      <th>45</th>\n      <th>3348</th>\n      <td>1.0</td>\n      <td>0.5</td>\n    </tr>\n    <tr>\n      <th>49</th>\n      <th>4315</th>\n      <td>1.0</td>\n      <td>0.5</td>\n    </tr>\n    <tr>\n      <th>50</th>\n      <th>1908</th>\n      <td>1.0</td>\n      <td>0.5</td>\n    </tr>\n    <tr>\n      <th>51</th>\n      <th>1908</th>\n      <td>1.0</td>\n      <td>0.5</td>\n    </tr>\n    <tr>\n      <th>52</th>\n      <th>85</th>\n      <td>1.0</td>\n      <td>0.5</td>\n    </tr>\n    <tr>\n      <th>53</th>\n      <th>6584</th>\n      <td>1.0</td>\n      <td>0.5</td>\n    </tr>\n    <tr>\n      <th>56</th>\n      <th>201</th>\n      <td>1.0</td>\n      <td>0.5</td>\n    </tr>\n    <tr>\n      <th>58</th>\n      <th>479</th>\n      <td>1.0</td>\n      <td>0.5</td>\n    </tr>\n    <tr>\n      <th>59</th>\n      <th>125</th>\n      <td>1.0</td>\n      <td>0.5</td>\n    </tr>\n    <tr>\n      <th>103</th>\n      <th>125</th>\n      <td>1.0</td>\n      <td>0.5</td>\n    </tr>\n    <tr>\n      <th>60</th>\n      <th>562</th>\n      <td>1.0</td>\n      <td>0.5</td>\n    </tr>\n    <tr>\n      <th>61</th>\n      <th>956</th>\n      <td>1.0</td>\n      <td>0.5</td>\n    </tr>\n    <tr>\n      <th>63</th>\n      <th>416</th>\n      <td>1.0</td>\n      <td>0.5</td>\n    </tr>\n    <tr>\n      <th>66</th>\n      <th>2433</th>\n      <td>1.0</td>\n      <td>0.5</td>\n    </tr>\n    <tr>\n      <th>68</th>\n      <th>205</th>\n      <td>1.0</td>\n      <td>0.5</td>\n    </tr>\n    <tr>\n      <th>69</th>\n      <th>503</th>\n      <td>1.0</td>\n      <td>0.5</td>\n    </tr>\n    <tr>\n      <th>72</th>\n      <th>498</th>\n      <td>1.0</td>\n      <td>0.5</td>\n    </tr>\n    <tr>\n      <th>73</th>\n      <th>297</th>\n      <td>1.0</td>\n      <td>0.5</td>\n    </tr>\n    <tr>\n      <th>76</th>\n      <th>1392</th>\n      <td>1.0</td>\n      <td>0.5</td>\n    </tr>\n    <tr>\n      <th>77</th>\n      <th>345</th>\n      <td>1.0</td>\n      <td>0.5</td>\n    </tr>\n    <tr>\n      <th>78</th>\n      <th>293</th>\n      <td>1.0</td>\n      <td>0.5</td>\n    </tr>\n    <tr>\n      <th>83</th>\n      <th>891</th>\n      <td>1.0</td>\n      <td>0.5</td>\n    </tr>\n    <tr>\n      <th>84</th>\n      <th>251</th>\n      <td>1.0</td>\n      <td>0.5</td>\n    </tr>\n    <tr>\n      <th>89</th>\n      <th>118</th>\n      <td>1.0</td>\n      <td>0.5</td>\n    </tr>\n    <tr>\n      <th>90</th>\n      <th>230</th>\n      <td>1.0</td>\n      <td>0.5</td>\n    </tr>\n    <tr>\n      <th>93</th>\n      <th>176</th>\n      <td>1.0</td>\n      <td>0.5</td>\n    </tr>\n    <tr>\n      <th>95</th>\n      <th>98</th>\n      <td>1.0</td>\n      <td>0.5</td>\n    </tr>\n    <tr>\n      <th>98</th>\n      <th>1282</th>\n      <td>1.0</td>\n      <td>0.5</td>\n    </tr>\n    <tr>\n      <th>101</th>\n      <th>704</th>\n      <td>1.0</td>\n      <td>0.5</td>\n    </tr>\n    <tr>\n      <th>104</th>\n      <th>1451</th>\n      <td>1.0</td>\n      <td>0.5</td>\n    </tr>\n    <tr>\n      <th>105</th>\n      <th>1052</th>\n      <td>1.0</td>\n      <td>0.5</td>\n    </tr>\n    <tr>\n      <th>109</th>\n      <th>1924</th>\n      <td>1.0</td>\n      <td>0.5</td>\n    </tr>\n    <tr>\n      <th>111</th>\n      <th>578</th>\n      <td>1.0</td>\n      <td>0.5</td>\n    </tr>\n    <tr>\n      <th>112</th>\n      <th>3455</th>\n      <td>1.0</td>\n      <td>0.5</td>\n    </tr>\n    <tr>\n      <th>113</th>\n      <th>452</th>\n      <td>1.0</td>\n      <td>0.5</td>\n    </tr>\n    <tr>\n      <th>118</th>\n      <th>1194</th>\n      <td>1.0</td>\n      <td>0.5</td>\n    </tr>\n    <tr>\n      <th>120</th>\n      <th>4148</th>\n      <td>1.0</td>\n      <td>0.5</td>\n    </tr>\n    <tr>\n      <th>122</th>\n      <th>2485</th>\n      <td>1.0</td>\n      <td>0.5</td>\n    </tr>\n    <tr>\n      <th>124</th>\n      <th>73</th>\n      <td>1.0</td>\n      <td>0.5</td>\n    </tr>\n    <tr>\n      <th>133</th>\n      <th>46</th>\n      <td>1.0</td>\n      <td>0.5</td>\n    </tr>\n    <tr>\n      <th>134</th>\n      <th>145</th>\n      <td>1.0</td>\n      <td>0.5</td>\n    </tr>\n    <tr>\n      <th>139</th>\n      <th>208</th>\n      <td>1.0</td>\n      <td>0.5</td>\n    </tr>\n    <tr>\n      <th>141</th>\n      <th>1826</th>\n      <td>1.0</td>\n      <td>0.5</td>\n    </tr>\n    <tr>\n      <th>142</th>\n      <th>75</th>\n      <td>1.0</td>\n      <td>0.5</td>\n    </tr>\n    <tr>\n      <th>144</th>\n      <th>40</th>\n      <td>1.0</td>\n      <td>0.5</td>\n    </tr>\n    <tr>\n      <th>147</th>\n      <th>505</th>\n      <td>1.0</td>\n      <td>0.5</td>\n    </tr>\n    <tr>\n      <th>148</th>\n      <th>1857</th>\n      <td>1.0</td>\n      <td>0.5</td>\n    </tr>\n    <tr>\n      <th>149</th>\n      <th>1168</th>\n      <td>1.0</td>\n      <td>0.5</td>\n    </tr>\n    <tr>\n      <th>150</th>\n      <th>486</th>\n      <td>1.0</td>\n      <td>0.5</td>\n    </tr>\n    <tr>\n      <th>152</th>\n      <th>4468</th>\n      <td>1.0</td>\n      <td>0.5</td>\n    </tr>\n    <tr>\n      <th>155</th>\n      <th>1259</th>\n      <td>1.0</td>\n      <td>0.5</td>\n    </tr>\n    <tr>\n      <th>156</th>\n      <th>362</th>\n      <td>1.0</td>\n      <td>0.5</td>\n    </tr>\n    <tr>\n      <th>160</th>\n      <th>506</th>\n      <td>1.0</td>\n      <td>0.5</td>\n    </tr>\n    <tr>\n      <th>165</th>\n      <th>559</th>\n      <td>1.0</td>\n      <td>0.5</td>\n    </tr>\n    <tr>\n      <th>167</th>\n      <th>731</th>\n      <td>1.0</td>\n      <td>0.5</td>\n    </tr>\n    <tr>\n      <th>168</th>\n      <th>660</th>\n      <td>1.0</td>\n      <td>0.5</td>\n    </tr>\n    <tr>\n      <th>169</th>\n      <th>130</th>\n      <td>1.0</td>\n      <td>0.5</td>\n    </tr>\n    <tr>\n      <th>173</th>\n      <th>519</th>\n      <td>1.0</td>\n      <td>0.5</td>\n    </tr>\n    <tr>\n      <th>174</th>\n      <th>1350</th>\n      <td>1.0</td>\n      <td>0.5</td>\n    </tr>\n    <tr>\n      <th>175</th>\n      <th>4641</th>\n      <td>1.0</td>\n      <td>0.5</td>\n    </tr>\n    <tr>\n      <th>176</th>\n      <th>1241</th>\n      <td>1.0</td>\n      <td>0.5</td>\n    </tr>\n    <tr>\n      <th>179</th>\n      <th>1925</th>\n      <td>1.0</td>\n      <td>0.5</td>\n    </tr>\n    <tr>\n      <th>181</th>\n      <th>693</th>\n      <td>1.0</td>\n      <td>0.5</td>\n    </tr>\n    <tr>\n      <th>182</th>\n      <th>490</th>\n      <td>1.0</td>\n      <td>0.5</td>\n    </tr>\n    <tr>\n      <th>183</th>\n      <th>3626</th>\n      <td>1.0</td>\n      <td>0.5</td>\n    </tr>\n    <tr>\n      <th>186</th>\n      <th>294</th>\n      <td>1.0</td>\n      <td>0.5</td>\n    </tr>\n    <tr>\n      <th>187</th>\n      <th>793</th>\n      <td>1.0</td>\n      <td>0.5</td>\n    </tr>\n    <tr>\n      <th>190</th>\n      <th>2352</th>\n      <td>1.0</td>\n      <td>0.5</td>\n    </tr>\n    <tr>\n      <th>192</th>\n      <th>2424</th>\n      <td>1.0</td>\n      <td>0.5</td>\n    </tr>\n    <tr>\n      <th>198</th>\n      <th>234</th>\n      <td>1.0</td>\n      <td>0.5</td>\n    </tr>\n    <tr>\n      <th>200</th>\n      <th>332</th>\n      <td>1.0</td>\n      <td>0.5</td>\n    </tr>\n    <tr>\n      <th>202</th>\n      <th>4006</th>\n      <td>1.0</td>\n      <td>0.5</td>\n    </tr>\n    <tr>\n      <th>207</th>\n      <th>442</th>\n      <td>1.0</td>\n      <td>0.5</td>\n    </tr>\n    <tr>\n      <th>211</th>\n      <th>824</th>\n      <td>1.0</td>\n      <td>0.5</td>\n    </tr>\n    <tr>\n      <th>212</th>\n      <th>670</th>\n      <td>1.0</td>\n      <td>0.5</td>\n    </tr>\n    <tr>\n      <th>215</th>\n      <th>2319</th>\n      <td>1.0</td>\n      <td>0.5</td>\n    </tr>\n    <tr>\n      <th>216</th>\n      <th>2550</th>\n      <td>1.0</td>\n      <td>0.5</td>\n    </tr>\n    <tr>\n      <th>217</th>\n      <th>872</th>\n      <td>1.0</td>\n      <td>0.5</td>\n    </tr>\n    <tr>\n      <th>218</th>\n      <th>652</th>\n      <td>1.0</td>\n      <td>0.5</td>\n    </tr>\n    <tr>\n      <th>219</th>\n      <th>7158</th>\n      <td>1.0</td>\n      <td>0.5</td>\n    </tr>\n    <tr>\n      <th>221</th>\n      <th>171</th>\n      <td>1.0</td>\n      <td>0.5</td>\n    </tr>\n    <tr>\n      <th>223</th>\n      <th>300</th>\n      <td>1.0</td>\n      <td>0.5</td>\n    </tr>\n    <tr>\n      <th>224</th>\n      <th>298</th>\n      <td>1.0</td>\n      <td>0.5</td>\n    </tr>\n    <tr>\n      <th>226</th>\n      <th>1452</th>\n      <td>1.0</td>\n      <td>0.5</td>\n    </tr>\n    <tr>\n      <th>229</th>\n      <th>4606</th>\n      <td>1.0</td>\n      <td>0.5</td>\n    </tr>\n    <tr>\n      <th>233</th>\n      <th>1030</th>\n      <td>1.0</td>\n      <td>0.5</td>\n    </tr>\n    <tr>\n      <th>236</th>\n      <th>1290</th>\n      <td>1.0</td>\n      <td>0.5</td>\n    </tr>\n    <tr>\n      <th>237</th>\n      <th>4807</th>\n      <td>1.0</td>\n      <td>0.5</td>\n    </tr>\n    <tr>\n      <th>238</th>\n      <th>1937</th>\n      <td>1.0</td>\n      <td>0.5</td>\n    </tr>\n    <tr>\n      <th>239</th>\n      <th>54</th>\n      <td>1.0</td>\n      <td>0.5</td>\n    </tr>\n    <tr>\n      <th>244</th>\n      <th>459</th>\n      <td>1.0</td>\n      <td>0.5</td>\n    </tr>\n    <tr>\n      <th>245</th>\n      <th>3066</th>\n      <td>1.0</td>\n      <td>0.5</td>\n    </tr>\n    <tr>\n      <th>248</th>\n      <th>884</th>\n      <td>1.0</td>\n      <td>0.5</td>\n    </tr>\n    <tr>\n      <th>249</th>\n      <th>1539</th>\n      <td>1.0</td>\n      <td>0.5</td>\n    </tr>\n    <tr>\n      <th>251</th>\n      <th>600</th>\n      <td>1.0</td>\n      <td>0.5</td>\n    </tr>\n    <tr>\n      <th>252</th>\n      <th>762</th>\n      <td>1.0</td>\n      <td>0.5</td>\n    </tr>\n    <tr>\n      <th>255</th>\n      <th>342</th>\n      <td>1.0</td>\n      <td>0.5</td>\n    </tr>\n    <tr>\n      <th>256</th>\n      <th>407</th>\n      <td>1.0</td>\n      <td>0.5</td>\n    </tr>\n    <tr>\n      <th>257</th>\n      <th>82</th>\n      <td>1.0</td>\n      <td>0.5</td>\n    </tr>\n    <tr>\n      <th>259</th>\n      <th>86</th>\n      <td>1.0</td>\n      <td>0.5</td>\n    </tr>\n    <tr>\n      <th>263</th>\n      <th>780</th>\n      <td>1.0</td>\n      <td>0.5</td>\n    </tr>\n    <tr>\n      <th>264</th>\n      <th>1523</th>\n      <td>1.0</td>\n      <td>0.5</td>\n    </tr>\n    <tr>\n      <th>265</th>\n      <th>2056</th>\n      <td>1.0</td>\n      <td>0.5</td>\n    </tr>\n    <tr>\n      <th>269</th>\n      <th>95</th>\n      <td>1.0</td>\n      <td>0.5</td>\n    </tr>\n    <tr>\n      <th>271</th>\n      <th>182</th>\n      <td>1.0</td>\n      <td>0.5</td>\n    </tr>\n    <tr>\n      <th>276</th>\n      <th>196</th>\n      <td>1.0</td>\n      <td>0.5</td>\n    </tr>\n    <tr>\n      <th>277</th>\n      <th>178</th>\n      <td>1.0</td>\n      <td>0.5</td>\n    </tr>\n    <tr>\n      <th>279</th>\n      <th>751</th>\n      <td>1.0</td>\n      <td>0.5</td>\n    </tr>\n    <tr>\n      <th>280</th>\n      <th>110</th>\n      <td>1.0</td>\n      <td>0.5</td>\n    </tr>\n    <tr>\n      <th>281</th>\n      <th>355</th>\n      <td>1.0</td>\n      <td>0.5</td>\n    </tr>\n    <tr>\n      <th>282</th>\n      <th>1562</th>\n      <td>1.0</td>\n      <td>0.5</td>\n    </tr>\n    <tr>\n      <th>286</th>\n      <th>438</th>\n      <td>1.0</td>\n      <td>0.5</td>\n    </tr>\n    <tr>\n      <th>289</th>\n      <th>6</th>\n      <td>1.0</td>\n      <td>0.5</td>\n    </tr>\n    <tr>\n      <th>291</th>\n      <th>12</th>\n      <td>1.0</td>\n      <td>0.5</td>\n    </tr>\n    <tr>\n      <th>297</th>\n      <th>686</th>\n      <td>1.0</td>\n      <td>0.5</td>\n    </tr>\n    <tr>\n      <th>298</th>\n      <th>1488</th>\n      <td>1.0</td>\n      <td>0.5</td>\n    </tr>\n    <tr>\n      <th>300</th>\n      <th>336</th>\n      <td>1.0</td>\n      <td>0.5</td>\n    </tr>\n    <tr>\n      <th>309</th>\n      <th>291</th>\n      <td>1.0</td>\n      <td>0.5</td>\n    </tr>\n    <tr>\n      <th>311</th>\n      <th>238</th>\n      <td>1.0</td>\n      <td>0.5</td>\n    </tr>\n    <tr>\n      <th>313</th>\n      <th>473</th>\n      <td>1.0</td>\n      <td>0.5</td>\n    </tr>\n    <tr>\n      <th>317</th>\n      <th>1705</th>\n      <td>1.0</td>\n      <td>0.5</td>\n    </tr>\n    <tr>\n      <th>318</th>\n      <th>710</th>\n      <td>1.0</td>\n      <td>0.5</td>\n    </tr>\n    <tr>\n      <th>319</th>\n      <th>1456</th>\n      <td>1.0</td>\n      <td>0.5</td>\n    </tr>\n    <tr>\n      <th>324</th>\n      <th>1297</th>\n      <td>1.0</td>\n      <td>0.5</td>\n    </tr>\n    <tr>\n      <th>329</th>\n      <th>103</th>\n      <td>1.0</td>\n      <td>0.5</td>\n    </tr>\n    <tr>\n      <th>330</th>\n      <th>44</th>\n      <td>1.0</td>\n      <td>0.5</td>\n    </tr>\n    <tr>\n      <th>331</th>\n      <th>3885</th>\n      <td>1.0</td>\n      <td>0.5</td>\n    </tr>\n    <tr>\n      <th>333</th>\n      <th>1400</th>\n      <td>1.0</td>\n      <td>0.5</td>\n    </tr>\n    <tr>\n      <th>334</th>\n      <th>7156</th>\n      <td>1.0</td>\n      <td>0.5</td>\n    </tr>\n    <tr>\n      <th>335</th>\n      <th>2631</th>\n      <td>1.0</td>\n      <td>0.5</td>\n    </tr>\n    <tr>\n      <th>338</th>\n      <th>583</th>\n      <td>1.0</td>\n      <td>0.5</td>\n    </tr>\n    <tr>\n      <th>340</th>\n      <th>2042</th>\n      <td>1.0</td>\n      <td>0.5</td>\n    </tr>\n    <tr>\n      <th>347</th>\n      <th>447</th>\n      <td>1.0</td>\n      <td>0.5</td>\n    </tr>\n    <tr>\n      <th>350</th>\n      <th>1822</th>\n      <td>1.0</td>\n      <td>0.5</td>\n    </tr>\n    <tr>\n      <th>354</th>\n      <th>489</th>\n      <td>1.0</td>\n      <td>0.5</td>\n    </tr>\n    <tr>\n      <th>355</th>\n      <th>1838</th>\n      <td>1.0</td>\n      <td>0.5</td>\n    </tr>\n    <tr>\n      <th>359</th>\n      <th>180</th>\n      <td>1.0</td>\n      <td>0.5</td>\n    </tr>\n    <tr>\n      <th>362</th>\n      <th>767</th>\n      <td>1.0</td>\n      <td>0.5</td>\n    </tr>\n    <tr>\n      <th>365</th>\n      <th>2</th>\n      <td>1.0</td>\n      <td>0.5</td>\n    </tr>\n    <tr>\n      <th>369</th>\n      <th>1853</th>\n      <td>1.0</td>\n      <td>0.5</td>\n    </tr>\n    <tr>\n      <th>370</th>\n      <th>797</th>\n      <td>1.0</td>\n      <td>0.5</td>\n    </tr>\n    <tr>\n      <th>380</th>\n      <th>2052</th>\n      <td>1.0</td>\n      <td>0.5</td>\n    </tr>\n    <tr>\n      <th>381</th>\n      <th>23</th>\n      <td>1.0</td>\n      <td>0.5</td>\n    </tr>\n    <tr>\n      <th>383</th>\n      <th>1108</th>\n      <td>1.0</td>\n      <td>0.5</td>\n    </tr>\n    <tr>\n      <th>386</th>\n      <th>2954</th>\n      <td>1.0</td>\n      <td>0.5</td>\n    </tr>\n    <tr>\n      <th>387</th>\n      <th>320</th>\n      <td>1.0</td>\n      <td>0.5</td>\n    </tr>\n    <tr>\n      <th>388</th>\n      <th>1200</th>\n      <td>1.0</td>\n      <td>0.5</td>\n    </tr>\n    <tr>\n      <th>389</th>\n      <th>626</th>\n      <td>1.0</td>\n      <td>0.5</td>\n    </tr>\n    <tr>\n      <th>390</th>\n      <th>1084</th>\n      <td>1.0</td>\n      <td>0.5</td>\n    </tr>\n    <tr>\n      <th>391</th>\n      <th>45</th>\n      <td>1.0</td>\n      <td>0.5</td>\n    </tr>\n    <tr>\n      <th>392</th>\n      <th>25</th>\n      <td>1.0</td>\n      <td>0.5</td>\n    </tr>\n    <tr>\n      <th>402</th>\n      <th>851</th>\n      <td>1.0</td>\n      <td>0.5</td>\n    </tr>\n    <tr>\n      <th>404</th>\n      <th>1209</th>\n      <td>1.0</td>\n      <td>0.5</td>\n    </tr>\n    <tr>\n      <th>408</th>\n      <th>34</th>\n      <td>1.0</td>\n      <td>0.5</td>\n    </tr>\n    <tr>\n      <th>409</th>\n      <th>3420</th>\n      <td>1.0</td>\n      <td>0.5</td>\n    </tr>\n    <tr>\n      <th>411</th>\n      <th>299</th>\n      <td>1.0</td>\n      <td>0.5</td>\n    </tr>\n    <tr>\n      <th>414</th>\n      <th>29</th>\n      <td>1.0</td>\n      <td>0.5</td>\n    </tr>\n    <tr>\n      <th>415</th>\n      <th>1073</th>\n      <td>1.0</td>\n      <td>0.5</td>\n    </tr>\n    <tr>\n      <th>416</th>\n      <th>397</th>\n      <td>1.0</td>\n      <td>0.5</td>\n    </tr>\n    <tr>\n      <th>417</th>\n      <th>89</th>\n      <td>1.0</td>\n      <td>0.5</td>\n    </tr>\n    <tr>\n      <th>419</th>\n      <th>2385</th>\n      <td>1.0</td>\n      <td>0.5</td>\n    </tr>\n    <tr>\n      <th>423</th>\n      <th>2193</th>\n      <td>1.0</td>\n      <td>0.5</td>\n    </tr>\n    <tr>\n      <th>425</th>\n      <th>16</th>\n      <td>1.0</td>\n      <td>0.5</td>\n    </tr>\n    <tr>\n      <th>427</th>\n      <th>1055</th>\n      <td>1.0</td>\n      <td>0.5</td>\n    </tr>\n    <tr>\n      <th>428</th>\n      <th>450</th>\n      <td>1.0</td>\n      <td>0.5</td>\n    </tr>\n    <tr>\n      <th>433</th>\n      <th>93</th>\n      <td>1.0</td>\n      <td>0.5</td>\n    </tr>\n    <tr>\n      <th>436</th>\n      <th>5319</th>\n      <td>1.0</td>\n      <td>0.5</td>\n    </tr>\n    <tr>\n      <th>441</th>\n      <th>42</th>\n      <td>1.0</td>\n      <td>0.5</td>\n    </tr>\n    <tr>\n      <th>442</th>\n      <th>1341</th>\n      <td>1.0</td>\n      <td>0.5</td>\n    </tr>\n    <tr>\n      <th>443</th>\n      <th>761</th>\n      <td>1.0</td>\n      <td>0.5</td>\n    </tr>\n    <tr>\n      <th>448</th>\n      <th>87</th>\n      <td>1.0</td>\n      <td>0.5</td>\n    </tr>\n    <tr>\n      <th>460</th>\n      <th>722</th>\n      <td>1.0</td>\n      <td>0.5</td>\n    </tr>\n    <tr>\n      <th>462</th>\n      <th>104</th>\n      <td>1.0</td>\n      <td>0.5</td>\n    </tr>\n    <tr>\n      <th>463</th>\n      <th>1</th>\n      <td>1.0</td>\n      <td>0.5</td>\n    </tr>\n    <tr>\n      <th>464</th>\n      <th>96</th>\n      <td>1.0</td>\n      <td>0.5</td>\n    </tr>\n    <tr>\n      <th>467</th>\n      <th>6234</th>\n      <td>1.0</td>\n      <td>0.5</td>\n    </tr>\n    <tr>\n      <th>468</th>\n      <th>1430</th>\n      <td>1.0</td>\n      <td>0.5</td>\n    </tr>\n    <tr>\n      <th>469</th>\n      <th>175</th>\n      <td>1.0</td>\n      <td>0.5</td>\n    </tr>\n    <tr>\n      <th>471</th>\n      <th>157</th>\n      <td>1.0</td>\n      <td>0.5</td>\n    </tr>\n    <tr>\n      <th>472</th>\n      <th>786</th>\n      <td>1.0</td>\n      <td>0.5</td>\n    </tr>\n    <tr>\n      <th>474</th>\n      <th>241</th>\n      <td>1.0</td>\n      <td>0.5</td>\n    </tr>\n    <tr>\n      <th>480</th>\n      <th>3292</th>\n      <td>1.0</td>\n      <td>0.5</td>\n    </tr>\n    <tr>\n      <th>482</th>\n      <th>1298</th>\n      <td>1.0</td>\n      <td>0.5</td>\n    </tr>\n    <tr>\n      <th>483</th>\n      <th>2978</th>\n      <td>1.0</td>\n      <td>0.5</td>\n    </tr>\n    <tr>\n      <th>486</th>\n      <th>7161</th>\n      <td>1.0</td>\n      <td>0.5</td>\n    </tr>\n    <tr>\n      <th>487</th>\n      <th>382</th>\n      <td>1.0</td>\n      <td>0.5</td>\n    </tr>\n    <tr>\n      <th>490</th>\n      <th>825</th>\n      <td>1.0</td>\n      <td>0.5</td>\n    </tr>\n    <tr>\n      <th>492</th>\n      <th>114</th>\n      <td>1.0</td>\n      <td>0.5</td>\n    </tr>\n    <tr>\n      <th>495</th>\n      <th>542</th>\n      <td>1.0</td>\n      <td>0.5</td>\n    </tr>\n    <tr>\n      <th>496</th>\n      <th>187</th>\n      <td>1.0</td>\n      <td>0.5</td>\n    </tr>\n    <tr>\n      <th>501</th>\n      <th>774</th>\n      <td>1.0</td>\n      <td>0.5</td>\n    </tr>\n    <tr>\n      <th>503</th>\n      <th>1661</th>\n      <td>1.0</td>\n      <td>0.5</td>\n    </tr>\n    <tr>\n      <th>508</th>\n      <th>128</th>\n      <td>1.0</td>\n      <td>0.5</td>\n    </tr>\n    <tr>\n      <th>510</th>\n      <th>788</th>\n      <td>1.0</td>\n      <td>0.5</td>\n    </tr>\n    <tr>\n      <th>511</th>\n      <th>2176</th>\n      <td>1.0</td>\n      <td>0.5</td>\n    </tr>\n    <tr>\n      <th>513</th>\n      <th>706</th>\n      <td>1.0</td>\n      <td>0.5</td>\n    </tr>\n    <tr>\n      <th>514</th>\n      <th>105</th>\n      <td>1.0</td>\n      <td>0.5</td>\n    </tr>\n    <tr>\n      <th>515</th>\n      <th>215</th>\n      <td>1.0</td>\n      <td>0.5</td>\n    </tr>\n    <tr>\n      <th>518</th>\n      <th>306</th>\n      <td>1.0</td>\n      <td>0.5</td>\n    </tr>\n    <tr>\n      <th>519</th>\n      <th>1426</th>\n      <td>1.0</td>\n      <td>0.5</td>\n    </tr>\n    <tr>\n      <th>528</th>\n      <th>908</th>\n      <td>1.0</td>\n      <td>0.5</td>\n    </tr>\n    <tr>\n      <th>530</th>\n      <th>2820</th>\n      <td>1.0</td>\n      <td>0.5</td>\n    </tr>\n    <tr>\n      <th>532</th>\n      <th>79</th>\n      <td>1.0</td>\n      <td>0.5</td>\n    </tr>\n    <tr>\n      <th>535</th>\n      <th>1287</th>\n      <td>1.0</td>\n      <td>0.5</td>\n    </tr>\n    <tr>\n      <th>537</th>\n      <th>760</th>\n      <td>1.0</td>\n      <td>0.5</td>\n    </tr>\n    <tr>\n      <th>538</th>\n      <th>593</th>\n      <td>1.0</td>\n      <td>0.5</td>\n    </tr>\n    <tr>\n      <th>539</th>\n      <th>10</th>\n      <td>1.0</td>\n      <td>0.5</td>\n    </tr>\n    <tr>\n      <th>541</th>\n      <th>340</th>\n      <td>1.0</td>\n      <td>0.5</td>\n    </tr>\n    <tr>\n      <th>543</th>\n      <th>779</th>\n      <td>1.0</td>\n      <td>0.5</td>\n    </tr>\n    <tr>\n      <th>546</th>\n      <th>544</th>\n      <td>1.0</td>\n      <td>0.5</td>\n    </tr>\n    <tr>\n      <th>547</th>\n      <th>63</th>\n      <td>1.0</td>\n      <td>0.5</td>\n    </tr>\n    <tr>\n      <th>548</th>\n      <th>1050</th>\n      <td>1.0</td>\n      <td>0.5</td>\n    </tr>\n    <tr>\n      <th>549</th>\n      <th>259</th>\n      <td>1.0</td>\n      <td>0.5</td>\n    </tr>\n    <tr>\n      <th>553</th>\n      <th>1054</th>\n      <td>1.0</td>\n      <td>0.5</td>\n    </tr>\n    <tr>\n      <th>554</th>\n      <th>4690</th>\n      <td>1.0</td>\n      <td>0.5</td>\n    </tr>\n    <tr>\n      <th>556</th>\n      <th>70</th>\n      <td>1.0</td>\n      <td>0.5</td>\n    </tr>\n    <tr>\n      <th>558</th>\n      <th>2021</th>\n      <td>1.0</td>\n      <td>0.5</td>\n    </tr>\n    <tr>\n      <th>559</th>\n      <th>1234</th>\n      <td>1.0</td>\n      <td>0.5</td>\n    </tr>\n    <tr>\n      <th>561</th>\n      <th>50</th>\n      <td>1.0</td>\n      <td>0.5</td>\n    </tr>\n    <tr>\n      <th>562</th>\n      <th>1935</th>\n      <td>1.0</td>\n      <td>0.5</td>\n    </tr>\n    <tr>\n      <th>564</th>\n      <th>11</th>\n      <td>1.0</td>\n      <td>0.5</td>\n    </tr>\n    <tr>\n      <th>566</th>\n      <th>289</th>\n      <td>1.0</td>\n      <td>0.5</td>\n    </tr>\n    <tr>\n      <th>569</th>\n      <th>566</th>\n      <td>1.0</td>\n      <td>0.5</td>\n    </tr>\n    <tr>\n      <th>570</th>\n      <th>91</th>\n      <td>1.0</td>\n      <td>0.5</td>\n    </tr>\n    <tr>\n      <th>571</th>\n      <th>2852</th>\n      <td>1.0</td>\n      <td>0.5</td>\n    </tr>\n    <tr>\n      <th>572</th>\n      <th>5633</th>\n      <td>1.0</td>\n      <td>0.5</td>\n    </tr>\n    <tr>\n      <th>576</th>\n      <th>527</th>\n      <td>1.0</td>\n      <td>0.5</td>\n    </tr>\n    <tr>\n      <th>579</th>\n      <th>601</th>\n      <td>1.0</td>\n      <td>0.5</td>\n    </tr>\n    <tr>\n      <th>581</th>\n      <th>1304</th>\n      <td>1.0</td>\n      <td>0.5</td>\n    </tr>\n    <tr>\n      <th>585</th>\n      <th>4565</th>\n      <td>1.0</td>\n      <td>0.5</td>\n    </tr>\n    <tr>\n      <th>588</th>\n      <th>4084</th>\n      <td>1.0</td>\n      <td>0.5</td>\n    </tr>\n    <tr>\n      <th>589</th>\n      <th>1409</th>\n      <td>1.0</td>\n      <td>0.5</td>\n    </tr>\n    <tr>\n      <th>591</th>\n      <th>582</th>\n      <td>1.0</td>\n      <td>0.5</td>\n    </tr>\n    <tr>\n      <th>596</th>\n      <th>14</th>\n      <td>1.0</td>\n      <td>0.5</td>\n    </tr>\n    <tr>\n      <th>598</th>\n      <th>634</th>\n      <td>1.0</td>\n      <td>0.5</td>\n    </tr>\n    <tr>\n      <th>602</th>\n      <th>654</th>\n      <td>1.0</td>\n      <td>0.5</td>\n    </tr>\n    <tr>\n      <th>604</th>\n      <th>454</th>\n      <td>1.0</td>\n      <td>0.5</td>\n    </tr>\n    <tr>\n      <th>606</th>\n      <th>1453</th>\n      <td>1.0</td>\n      <td>0.5</td>\n    </tr>\n    <tr>\n      <th>607</th>\n      <th>586</th>\n      <td>1.0</td>\n      <td>0.5</td>\n    </tr>\n    <tr>\n      <th>609</th>\n      <th>1541</th>\n      <td>1.0</td>\n      <td>0.5</td>\n    </tr>\n    <tr>\n      <th>612</th>\n      <th>458</th>\n      <td>1.0</td>\n      <td>0.5</td>\n    </tr>\n    <tr>\n      <th>616</th>\n      <th>962</th>\n      <td>1.0</td>\n      <td>0.5</td>\n    </tr>\n    <tr>\n      <th>22</th>\n      <th>1394</th>\n      <td>1.0</td>\n      <td>0.5</td>\n    </tr>\n    <tr>\n      <th>41</th>\n      <th>1518</th>\n      <td>1.0</td>\n      <td>0.5</td>\n    </tr>\n    <tr>\n      <th>43</th>\n      <th>2097</th>\n      <td>1.0</td>\n      <td>0.5</td>\n    </tr>\n    <tr>\n      <th>96</th>\n      <th>2720</th>\n      <td>1.0</td>\n      <td>0.5</td>\n    </tr>\n    <tr>\n      <th>110</th>\n      <th>749</th>\n      <td>1.0</td>\n      <td>0.5</td>\n    </tr>\n    <tr>\n      <th>117</th>\n      <th>841</th>\n      <td>1.0</td>\n      <td>0.5</td>\n    </tr>\n    <tr>\n      <th>119</th>\n      <th>92</th>\n      <td>1.0</td>\n      <td>0.5</td>\n    </tr>\n    <tr>\n      <th>157</th>\n      <th>180</th>\n      <td>1.0</td>\n      <td>0.5</td>\n    </tr>\n    <tr>\n      <th>191</th>\n      <th>1351</th>\n      <td>1.0</td>\n      <td>0.5</td>\n    </tr>\n    <tr>\n      <th>193</th>\n      <th>9</th>\n      <td>1.0</td>\n      <td>0.5</td>\n    </tr>\n    <tr>\n      <th>203</th>\n      <th>1025</th>\n      <td>1.0</td>\n      <td>0.5</td>\n    </tr>\n    <tr>\n      <th>314</th>\n      <th>2452</th>\n      <td>1.0</td>\n      <td>0.5</td>\n    </tr>\n    <tr>\n      <th>316</th>\n      <th>1919</th>\n      <td>1.0</td>\n      <td>0.5</td>\n    </tr>\n    <tr>\n      <th>321</th>\n      <th>2333</th>\n      <td>1.0</td>\n      <td>0.5</td>\n    </tr>\n    <tr>\n      <th>325</th>\n      <th>65</th>\n      <td>1.0</td>\n      <td>0.5</td>\n    </tr>\n    <tr>\n      <th>353</th>\n      <th>47</th>\n      <td>1.0</td>\n      <td>0.5</td>\n    </tr>\n    <tr>\n      <th>356</th>\n      <th>3002</th>\n      <td>1.0</td>\n      <td>0.5</td>\n    </tr>\n    <tr>\n      <th>381</th>\n      <th>471</th>\n      <td>1.0</td>\n      <td>0.5</td>\n    </tr>\n    <tr>\n      <th>399</th>\n      <th>3656</th>\n      <td>1.0</td>\n      <td>0.5</td>\n    </tr>\n    <tr>\n      <th>410</th>\n      <th>99</th>\n      <td>1.0</td>\n      <td>0.5</td>\n    </tr>\n    <tr>\n      <th>449</th>\n      <th>43</th>\n      <td>1.0</td>\n      <td>0.5</td>\n    </tr>\n    <tr>\n      <th>455</th>\n      <th>1609</th>\n      <td>1.0</td>\n      <td>0.5</td>\n    </tr>\n    <tr>\n      <th>509</th>\n      <th>219</th>\n      <td>1.0</td>\n      <td>0.5</td>\n    </tr>\n    <tr>\n      <th>526</th>\n      <th>1458</th>\n      <td>1.0</td>\n      <td>0.5</td>\n    </tr>\n    <tr>\n      <th>542</th>\n      <th>4589</th>\n      <td>1.0</td>\n      <td>0.5</td>\n    </tr>\n    <tr>\n      <th>544</th>\n      <th>17</th>\n      <td>1.0</td>\n      <td>0.5</td>\n    </tr>\n    <tr>\n      <th>568</th>\n      <th>910</th>\n      <td>1.0</td>\n      <td>0.5</td>\n    </tr>\n    <tr>\n      <th>593</th>\n      <th>174</th>\n      <td>1.0</td>\n      <td>0.5</td>\n    </tr>\n    <tr>\n      <th>611</th>\n      <th>1736</th>\n      <td>1.0</td>\n      <td>0.5</td>\n    </tr>\n  </tbody>\n</table>\n</div>"
     },
     "execution_count": 60,
     "metadata": {},
     "output_type": "execute_result"
    }
   ],
   "source": [
    "pairs"
   ],
   "metadata": {
    "collapsed": false,
    "pycharm": {
     "name": "#%%\n"
    }
   }
  },
  {
   "cell_type": "markdown",
   "source": [
    "multi_index"
   ],
   "metadata": {
    "collapsed": false,
    "pycharm": {
     "name": "#%% md\n"
    }
   }
  },
  {
   "cell_type": "code",
   "execution_count": 54,
   "outputs": [
    {
     "data": {
      "text/plain": "MultiIndex([(313, 1369),\n            (573, 1119),\n            (575, 1112),\n            (583, 3285),\n            (  5,  457),\n            ( 18, 2803),\n            ( 24,  603),\n            ( 32,  148),\n            ( 34, 1126),\n            ( 40,  897),\n            ( 45, 3348),\n            ( 50, 1908),\n            ( 52,   85),\n            ( 56,  201),\n            ( 58,  479),\n            ( 68,  205),\n            ( 78,  293),\n            ( 90,  230),\n            ( 95,   98),\n            (104, 1451),\n            (105, 1052),\n            (111,  578),\n            (113,  452),\n            (122, 2485),\n            (133,   46),\n            (139,  208),\n            (141, 1826),\n            (149, 1168),\n            (176, 1241),\n            (183, 3626),\n            (186,  294),\n            (192, 2424),\n            (202, 4006),\n            (212,  670),\n            (216, 2550),\n            (217,  872),\n            (219, 7158),\n            (226, 1452),\n            (229, 4606),\n            (244,  459),\n            (252,  762),\n            (255,  342),\n            (257,   82),\n            (263,  780),\n            (265, 2056),\n            (271,  182),\n            (276,  196),\n            (282, 1562),\n            (286,  438),\n            (291,   12),\n            (309,  291),\n            (318,  710),\n            (350, 1822),\n            (365,    2),\n            (369, 1853),\n            (380, 2052),\n            (381,   23),\n            (386, 2954),\n            (388, 1200),\n            (389,  626),\n            (391,   45),\n            (414,   29),\n            (415, 1073),\n            (416,  397),\n            (419, 2385),\n            (423, 2193),\n            (425,   16),\n            (428,  450),\n            (442, 1341),\n            (443,  761),\n            (460,  722),\n            (463,    1),\n            (495,  542),\n            (519, 1426),\n            (538,  593),\n            (539,   10),\n            (541,  340),\n            (546,  544),\n            (547,   63),\n            (548, 1050),\n            (559, 1234),\n            (561,   50),\n            (562, 1935),\n            (570,   91),\n            (588, 4084),\n            (596,   14),\n            (598,  634),\n            (602,  654),\n            (604,  454),\n            (119,   92),\n            (191, 1351),\n            (544,   17),\n            (611, 1736)],\n           )"
     },
     "execution_count": 54,
     "metadata": {},
     "output_type": "execute_result"
    }
   ],
   "source": [
    "golden_match_index"
   ],
   "metadata": {
    "collapsed": false,
    "pycharm": {
     "name": "#%%\n"
    }
   }
  },
  {
   "cell_type": "code",
   "execution_count": 55,
   "outputs": [
    {
     "data": {
      "text/plain": "          name  ceo\n28  1136   1.0  0.5\n64  385    1.0  0.5\n71  6458   1.0  0.5\n113 2695   1.0  0.5\n130 708    1.0  0.5\n139 2322   1.0  0.5\n279 4899   1.0  0.5\n313 1369   1.0  0.5\n315 2993   1.0  0.5\n353 2306   1.0  0.5\n356 78     1.0  0.5\n404 4194   1.0  0.5\n415 305    1.0  0.5\n425 2174   1.0  0.5\n510 2528   1.0  0.5\n537 1238   1.0  0.5\n573 1119   1.0  0.5\n575 1112   1.0  0.5\n583 3285   1.0  0.5\n591 3051   1.0  0.5\n595 1665   1.0  0.5\n4   195    1.0  0.5\n5   457    1.0  0.5\n7   1019   1.0  0.5\n8   1109   1.0  0.5\n9   48     1.0  0.5\n10  946    1.0  0.5\n11  27     1.0  0.5\n12  56     1.0  0.5\n13  322    1.0  0.5\n15  239    1.0  0.5\n16  638    1.0  0.5\n18  2803   1.0  0.5\n21  127    1.0  0.5\n24  603    1.0  0.5\n26  136    1.0  0.5\n27  1257   1.0  0.5\n29  1247   1.0  0.5\n32  148    1.0  0.5\n34  1126   1.0  0.5\n35  1459   1.0  0.5\n40  897    1.0  0.5\n42  321    1.0  0.5\n45  3348   1.0  0.5\n49  4315   1.0  0.5\n50  1908   1.0  0.5\n51  1908   1.0  0.5\n52  85     1.0  0.5\n53  6584   1.0  0.5\n56  201    1.0  0.5\n58  479    1.0  0.5\n59  125    1.0  0.5\n103 125    1.0  0.5\n60  562    1.0  0.5\n61  956    1.0  0.5\n63  416    1.0  0.5\n66  2433   1.0  0.5\n68  205    1.0  0.5\n69  503    1.0  0.5\n72  498    1.0  0.5\n73  297    1.0  0.5\n76  1392   1.0  0.5\n77  345    1.0  0.5\n78  293    1.0  0.5\n83  891    1.0  0.5\n84  251    1.0  0.5\n89  118    1.0  0.5\n90  230    1.0  0.5\n93  176    1.0  0.5\n95  98     1.0  0.5\n98  1282   1.0  0.5\n101 704    1.0  0.5\n104 1451   1.0  0.5\n105 1052   1.0  0.5\n109 1924   1.0  0.5\n111 578    1.0  0.5\n112 3455   1.0  0.5\n113 452    1.0  0.5\n118 1194   1.0  0.5\n120 4148   1.0  0.5\n122 2485   1.0  0.5\n124 73     1.0  0.5\n133 46     1.0  0.5\n134 145    1.0  0.5\n139 208    1.0  0.5\n141 1826   1.0  0.5\n142 75     1.0  0.5\n144 40     1.0  0.5\n147 505    1.0  0.5\n148 1857   1.0  0.5\n149 1168   1.0  0.5\n150 486    1.0  0.5\n152 4468   1.0  0.5\n155 1259   1.0  0.5\n156 362    1.0  0.5\n160 506    1.0  0.5\n165 559    1.0  0.5\n167 731    1.0  0.5\n168 660    1.0  0.5\n169 130    1.0  0.5\n173 519    1.0  0.5\n174 1350   1.0  0.5\n175 4641   1.0  0.5\n176 1241   1.0  0.5\n179 1925   1.0  0.5\n181 693    1.0  0.5\n182 490    1.0  0.5\n183 3626   1.0  0.5\n186 294    1.0  0.5\n187 793    1.0  0.5\n190 2352   1.0  0.5\n192 2424   1.0  0.5\n198 234    1.0  0.5\n200 332    1.0  0.5\n202 4006   1.0  0.5\n207 442    1.0  0.5\n211 824    1.0  0.5\n212 670    1.0  0.5\n215 2319   1.0  0.5\n216 2550   1.0  0.5\n217 872    1.0  0.5\n218 652    1.0  0.5\n219 7158   1.0  0.5\n221 171    1.0  0.5\n223 300    1.0  0.5\n224 298    1.0  0.5\n226 1452   1.0  0.5\n229 4606   1.0  0.5\n233 1030   1.0  0.5\n236 1290   1.0  0.5\n237 4807   1.0  0.5\n238 1937   1.0  0.5\n239 54     1.0  0.5\n244 459    1.0  0.5\n245 3066   1.0  0.5\n248 884    1.0  0.5\n249 1539   1.0  0.5\n251 600    1.0  0.5\n252 762    1.0  0.5\n255 342    1.0  0.5\n256 407    1.0  0.5\n257 82     1.0  0.5\n259 86     1.0  0.5\n263 780    1.0  0.5\n264 1523   1.0  0.5\n265 2056   1.0  0.5\n269 95     1.0  0.5\n271 182    1.0  0.5\n276 196    1.0  0.5\n277 178    1.0  0.5\n279 751    1.0  0.5\n280 110    1.0  0.5\n281 355    1.0  0.5\n282 1562   1.0  0.5\n286 438    1.0  0.5\n289 6      1.0  0.5\n291 12     1.0  0.5\n297 686    1.0  0.5\n298 1488   1.0  0.5\n300 336    1.0  0.5\n309 291    1.0  0.5\n311 238    1.0  0.5\n313 473    1.0  0.5\n317 1705   1.0  0.5\n318 710    1.0  0.5\n319 1456   1.0  0.5\n324 1297   1.0  0.5\n329 103    1.0  0.5\n330 44     1.0  0.5\n331 3885   1.0  0.5\n333 1400   1.0  0.5\n334 7156   1.0  0.5\n335 2631   1.0  0.5\n338 583    1.0  0.5\n340 2042   1.0  0.5\n347 447    1.0  0.5\n350 1822   1.0  0.5\n354 489    1.0  0.5\n355 1838   1.0  0.5\n359 180    1.0  0.5\n362 767    1.0  0.5\n365 2      1.0  0.5\n369 1853   1.0  0.5\n370 797    1.0  0.5\n380 2052   1.0  0.5\n381 23     1.0  0.5\n383 1108   1.0  0.5\n386 2954   1.0  0.5\n387 320    1.0  0.5\n388 1200   1.0  0.5\n389 626    1.0  0.5\n390 1084   1.0  0.5\n391 45     1.0  0.5\n392 25     1.0  0.5\n402 851    1.0  0.5\n404 1209   1.0  0.5\n408 34     1.0  0.5\n409 3420   1.0  0.5\n411 299    1.0  0.5\n414 29     1.0  0.5\n415 1073   1.0  0.5\n416 397    1.0  0.5\n417 89     1.0  0.5\n419 2385   1.0  0.5\n423 2193   1.0  0.5\n425 16     1.0  0.5\n427 1055   1.0  0.5\n428 450    1.0  0.5\n433 93     1.0  0.5\n436 5319   1.0  0.5\n441 42     1.0  0.5\n442 1341   1.0  0.5\n443 761    1.0  0.5\n448 87     1.0  0.5\n460 722    1.0  0.5\n462 104    1.0  0.5\n463 1      1.0  0.5\n464 96     1.0  0.5\n467 6234   1.0  0.5\n468 1430   1.0  0.5\n469 175    1.0  0.5\n471 157    1.0  0.5\n472 786    1.0  0.5\n474 241    1.0  0.5\n480 3292   1.0  0.5\n482 1298   1.0  0.5\n483 2978   1.0  0.5\n486 7161   1.0  0.5\n487 382    1.0  0.5\n490 825    1.0  0.5\n492 114    1.0  0.5\n495 542    1.0  0.5\n496 187    1.0  0.5\n501 774    1.0  0.5\n503 1661   1.0  0.5\n508 128    1.0  0.5\n510 788    1.0  0.5\n511 2176   1.0  0.5\n513 706    1.0  0.5\n514 105    1.0  0.5\n515 215    1.0  0.5\n518 306    1.0  0.5\n519 1426   1.0  0.5\n528 908    1.0  0.5\n530 2820   1.0  0.5\n532 79     1.0  0.5\n535 1287   1.0  0.5\n537 760    1.0  0.5\n538 593    1.0  0.5\n539 10     1.0  0.5\n541 340    1.0  0.5\n543 779    1.0  0.5\n546 544    1.0  0.5\n547 63     1.0  0.5\n548 1050   1.0  0.5\n549 259    1.0  0.5\n553 1054   1.0  0.5\n554 4690   1.0  0.5\n556 70     1.0  0.5\n558 2021   1.0  0.5\n559 1234   1.0  0.5\n561 50     1.0  0.5\n562 1935   1.0  0.5\n564 11     1.0  0.5\n566 289    1.0  0.5\n569 566    1.0  0.5\n570 91     1.0  0.5\n571 2852   1.0  0.5\n572 5633   1.0  0.5\n576 527    1.0  0.5\n579 601    1.0  0.5\n581 1304   1.0  0.5\n585 4565   1.0  0.5\n588 4084   1.0  0.5\n589 1409   1.0  0.5\n591 582    1.0  0.5\n596 14     1.0  0.5\n598 634    1.0  0.5\n602 654    1.0  0.5\n604 454    1.0  0.5\n606 1453   1.0  0.5\n607 586    1.0  0.5\n609 1541   1.0  0.5\n612 458    1.0  0.5\n616 962    1.0  0.5\n22  1394   1.0  0.5\n41  1518   1.0  0.5\n43  2097   1.0  0.5\n96  2720   1.0  0.5\n110 749    1.0  0.5\n117 841    1.0  0.5\n119 92     1.0  0.5\n157 180    1.0  0.5\n191 1351   1.0  0.5\n193 9      1.0  0.5\n203 1025   1.0  0.5\n314 2452   1.0  0.5\n316 1919   1.0  0.5\n321 2333   1.0  0.5\n325 65     1.0  0.5\n353 47     1.0  0.5\n356 3002   1.0  0.5\n381 471    1.0  0.5\n399 3656   1.0  0.5\n410 99     1.0  0.5\n449 43     1.0  0.5\n455 1609   1.0  0.5\n509 219    1.0  0.5\n526 1458   1.0  0.5\n542 4589   1.0  0.5\n544 17     1.0  0.5\n568 910    1.0  0.5\n593 174    1.0  0.5\n611 1736   1.0  0.5",
      "text/html": "<div>\n<style scoped>\n    .dataframe tbody tr th:only-of-type {\n        vertical-align: middle;\n    }\n\n    .dataframe tbody tr th {\n        vertical-align: top;\n    }\n\n    .dataframe thead th {\n        text-align: right;\n    }\n</style>\n<table border=\"1\" class=\"dataframe\">\n  <thead>\n    <tr style=\"text-align: right;\">\n      <th></th>\n      <th></th>\n      <th>name</th>\n      <th>ceo</th>\n    </tr>\n  </thead>\n  <tbody>\n    <tr>\n      <th>28</th>\n      <th>1136</th>\n      <td>1.0</td>\n      <td>0.5</td>\n    </tr>\n    <tr>\n      <th>64</th>\n      <th>385</th>\n      <td>1.0</td>\n      <td>0.5</td>\n    </tr>\n    <tr>\n      <th>71</th>\n      <th>6458</th>\n      <td>1.0</td>\n      <td>0.5</td>\n    </tr>\n    <tr>\n      <th>113</th>\n      <th>2695</th>\n      <td>1.0</td>\n      <td>0.5</td>\n    </tr>\n    <tr>\n      <th>130</th>\n      <th>708</th>\n      <td>1.0</td>\n      <td>0.5</td>\n    </tr>\n    <tr>\n      <th>139</th>\n      <th>2322</th>\n      <td>1.0</td>\n      <td>0.5</td>\n    </tr>\n    <tr>\n      <th>279</th>\n      <th>4899</th>\n      <td>1.0</td>\n      <td>0.5</td>\n    </tr>\n    <tr>\n      <th>313</th>\n      <th>1369</th>\n      <td>1.0</td>\n      <td>0.5</td>\n    </tr>\n    <tr>\n      <th>315</th>\n      <th>2993</th>\n      <td>1.0</td>\n      <td>0.5</td>\n    </tr>\n    <tr>\n      <th>353</th>\n      <th>2306</th>\n      <td>1.0</td>\n      <td>0.5</td>\n    </tr>\n    <tr>\n      <th>356</th>\n      <th>78</th>\n      <td>1.0</td>\n      <td>0.5</td>\n    </tr>\n    <tr>\n      <th>404</th>\n      <th>4194</th>\n      <td>1.0</td>\n      <td>0.5</td>\n    </tr>\n    <tr>\n      <th>415</th>\n      <th>305</th>\n      <td>1.0</td>\n      <td>0.5</td>\n    </tr>\n    <tr>\n      <th>425</th>\n      <th>2174</th>\n      <td>1.0</td>\n      <td>0.5</td>\n    </tr>\n    <tr>\n      <th>510</th>\n      <th>2528</th>\n      <td>1.0</td>\n      <td>0.5</td>\n    </tr>\n    <tr>\n      <th>537</th>\n      <th>1238</th>\n      <td>1.0</td>\n      <td>0.5</td>\n    </tr>\n    <tr>\n      <th>573</th>\n      <th>1119</th>\n      <td>1.0</td>\n      <td>0.5</td>\n    </tr>\n    <tr>\n      <th>575</th>\n      <th>1112</th>\n      <td>1.0</td>\n      <td>0.5</td>\n    </tr>\n    <tr>\n      <th>583</th>\n      <th>3285</th>\n      <td>1.0</td>\n      <td>0.5</td>\n    </tr>\n    <tr>\n      <th>591</th>\n      <th>3051</th>\n      <td>1.0</td>\n      <td>0.5</td>\n    </tr>\n    <tr>\n      <th>595</th>\n      <th>1665</th>\n      <td>1.0</td>\n      <td>0.5</td>\n    </tr>\n    <tr>\n      <th>4</th>\n      <th>195</th>\n      <td>1.0</td>\n      <td>0.5</td>\n    </tr>\n    <tr>\n      <th>5</th>\n      <th>457</th>\n      <td>1.0</td>\n      <td>0.5</td>\n    </tr>\n    <tr>\n      <th>7</th>\n      <th>1019</th>\n      <td>1.0</td>\n      <td>0.5</td>\n    </tr>\n    <tr>\n      <th>8</th>\n      <th>1109</th>\n      <td>1.0</td>\n      <td>0.5</td>\n    </tr>\n    <tr>\n      <th>9</th>\n      <th>48</th>\n      <td>1.0</td>\n      <td>0.5</td>\n    </tr>\n    <tr>\n      <th>10</th>\n      <th>946</th>\n      <td>1.0</td>\n      <td>0.5</td>\n    </tr>\n    <tr>\n      <th>11</th>\n      <th>27</th>\n      <td>1.0</td>\n      <td>0.5</td>\n    </tr>\n    <tr>\n      <th>12</th>\n      <th>56</th>\n      <td>1.0</td>\n      <td>0.5</td>\n    </tr>\n    <tr>\n      <th>13</th>\n      <th>322</th>\n      <td>1.0</td>\n      <td>0.5</td>\n    </tr>\n    <tr>\n      <th>15</th>\n      <th>239</th>\n      <td>1.0</td>\n      <td>0.5</td>\n    </tr>\n    <tr>\n      <th>16</th>\n      <th>638</th>\n      <td>1.0</td>\n      <td>0.5</td>\n    </tr>\n    <tr>\n      <th>18</th>\n      <th>2803</th>\n      <td>1.0</td>\n      <td>0.5</td>\n    </tr>\n    <tr>\n      <th>21</th>\n      <th>127</th>\n      <td>1.0</td>\n      <td>0.5</td>\n    </tr>\n    <tr>\n      <th>24</th>\n      <th>603</th>\n      <td>1.0</td>\n      <td>0.5</td>\n    </tr>\n    <tr>\n      <th>26</th>\n      <th>136</th>\n      <td>1.0</td>\n      <td>0.5</td>\n    </tr>\n    <tr>\n      <th>27</th>\n      <th>1257</th>\n      <td>1.0</td>\n      <td>0.5</td>\n    </tr>\n    <tr>\n      <th>29</th>\n      <th>1247</th>\n      <td>1.0</td>\n      <td>0.5</td>\n    </tr>\n    <tr>\n      <th>32</th>\n      <th>148</th>\n      <td>1.0</td>\n      <td>0.5</td>\n    </tr>\n    <tr>\n      <th>34</th>\n      <th>1126</th>\n      <td>1.0</td>\n      <td>0.5</td>\n    </tr>\n    <tr>\n      <th>35</th>\n      <th>1459</th>\n      <td>1.0</td>\n      <td>0.5</td>\n    </tr>\n    <tr>\n      <th>40</th>\n      <th>897</th>\n      <td>1.0</td>\n      <td>0.5</td>\n    </tr>\n    <tr>\n      <th>42</th>\n      <th>321</th>\n      <td>1.0</td>\n      <td>0.5</td>\n    </tr>\n    <tr>\n      <th>45</th>\n      <th>3348</th>\n      <td>1.0</td>\n      <td>0.5</td>\n    </tr>\n    <tr>\n      <th>49</th>\n      <th>4315</th>\n      <td>1.0</td>\n      <td>0.5</td>\n    </tr>\n    <tr>\n      <th>50</th>\n      <th>1908</th>\n      <td>1.0</td>\n      <td>0.5</td>\n    </tr>\n    <tr>\n      <th>51</th>\n      <th>1908</th>\n      <td>1.0</td>\n      <td>0.5</td>\n    </tr>\n    <tr>\n      <th>52</th>\n      <th>85</th>\n      <td>1.0</td>\n      <td>0.5</td>\n    </tr>\n    <tr>\n      <th>53</th>\n      <th>6584</th>\n      <td>1.0</td>\n      <td>0.5</td>\n    </tr>\n    <tr>\n      <th>56</th>\n      <th>201</th>\n      <td>1.0</td>\n      <td>0.5</td>\n    </tr>\n    <tr>\n      <th>58</th>\n      <th>479</th>\n      <td>1.0</td>\n      <td>0.5</td>\n    </tr>\n    <tr>\n      <th>59</th>\n      <th>125</th>\n      <td>1.0</td>\n      <td>0.5</td>\n    </tr>\n    <tr>\n      <th>103</th>\n      <th>125</th>\n      <td>1.0</td>\n      <td>0.5</td>\n    </tr>\n    <tr>\n      <th>60</th>\n      <th>562</th>\n      <td>1.0</td>\n      <td>0.5</td>\n    </tr>\n    <tr>\n      <th>61</th>\n      <th>956</th>\n      <td>1.0</td>\n      <td>0.5</td>\n    </tr>\n    <tr>\n      <th>63</th>\n      <th>416</th>\n      <td>1.0</td>\n      <td>0.5</td>\n    </tr>\n    <tr>\n      <th>66</th>\n      <th>2433</th>\n      <td>1.0</td>\n      <td>0.5</td>\n    </tr>\n    <tr>\n      <th>68</th>\n      <th>205</th>\n      <td>1.0</td>\n      <td>0.5</td>\n    </tr>\n    <tr>\n      <th>69</th>\n      <th>503</th>\n      <td>1.0</td>\n      <td>0.5</td>\n    </tr>\n    <tr>\n      <th>72</th>\n      <th>498</th>\n      <td>1.0</td>\n      <td>0.5</td>\n    </tr>\n    <tr>\n      <th>73</th>\n      <th>297</th>\n      <td>1.0</td>\n      <td>0.5</td>\n    </tr>\n    <tr>\n      <th>76</th>\n      <th>1392</th>\n      <td>1.0</td>\n      <td>0.5</td>\n    </tr>\n    <tr>\n      <th>77</th>\n      <th>345</th>\n      <td>1.0</td>\n      <td>0.5</td>\n    </tr>\n    <tr>\n      <th>78</th>\n      <th>293</th>\n      <td>1.0</td>\n      <td>0.5</td>\n    </tr>\n    <tr>\n      <th>83</th>\n      <th>891</th>\n      <td>1.0</td>\n      <td>0.5</td>\n    </tr>\n    <tr>\n      <th>84</th>\n      <th>251</th>\n      <td>1.0</td>\n      <td>0.5</td>\n    </tr>\n    <tr>\n      <th>89</th>\n      <th>118</th>\n      <td>1.0</td>\n      <td>0.5</td>\n    </tr>\n    <tr>\n      <th>90</th>\n      <th>230</th>\n      <td>1.0</td>\n      <td>0.5</td>\n    </tr>\n    <tr>\n      <th>93</th>\n      <th>176</th>\n      <td>1.0</td>\n      <td>0.5</td>\n    </tr>\n    <tr>\n      <th>95</th>\n      <th>98</th>\n      <td>1.0</td>\n      <td>0.5</td>\n    </tr>\n    <tr>\n      <th>98</th>\n      <th>1282</th>\n      <td>1.0</td>\n      <td>0.5</td>\n    </tr>\n    <tr>\n      <th>101</th>\n      <th>704</th>\n      <td>1.0</td>\n      <td>0.5</td>\n    </tr>\n    <tr>\n      <th>104</th>\n      <th>1451</th>\n      <td>1.0</td>\n      <td>0.5</td>\n    </tr>\n    <tr>\n      <th>105</th>\n      <th>1052</th>\n      <td>1.0</td>\n      <td>0.5</td>\n    </tr>\n    <tr>\n      <th>109</th>\n      <th>1924</th>\n      <td>1.0</td>\n      <td>0.5</td>\n    </tr>\n    <tr>\n      <th>111</th>\n      <th>578</th>\n      <td>1.0</td>\n      <td>0.5</td>\n    </tr>\n    <tr>\n      <th>112</th>\n      <th>3455</th>\n      <td>1.0</td>\n      <td>0.5</td>\n    </tr>\n    <tr>\n      <th>113</th>\n      <th>452</th>\n      <td>1.0</td>\n      <td>0.5</td>\n    </tr>\n    <tr>\n      <th>118</th>\n      <th>1194</th>\n      <td>1.0</td>\n      <td>0.5</td>\n    </tr>\n    <tr>\n      <th>120</th>\n      <th>4148</th>\n      <td>1.0</td>\n      <td>0.5</td>\n    </tr>\n    <tr>\n      <th>122</th>\n      <th>2485</th>\n      <td>1.0</td>\n      <td>0.5</td>\n    </tr>\n    <tr>\n      <th>124</th>\n      <th>73</th>\n      <td>1.0</td>\n      <td>0.5</td>\n    </tr>\n    <tr>\n      <th>133</th>\n      <th>46</th>\n      <td>1.0</td>\n      <td>0.5</td>\n    </tr>\n    <tr>\n      <th>134</th>\n      <th>145</th>\n      <td>1.0</td>\n      <td>0.5</td>\n    </tr>\n    <tr>\n      <th>139</th>\n      <th>208</th>\n      <td>1.0</td>\n      <td>0.5</td>\n    </tr>\n    <tr>\n      <th>141</th>\n      <th>1826</th>\n      <td>1.0</td>\n      <td>0.5</td>\n    </tr>\n    <tr>\n      <th>142</th>\n      <th>75</th>\n      <td>1.0</td>\n      <td>0.5</td>\n    </tr>\n    <tr>\n      <th>144</th>\n      <th>40</th>\n      <td>1.0</td>\n      <td>0.5</td>\n    </tr>\n    <tr>\n      <th>147</th>\n      <th>505</th>\n      <td>1.0</td>\n      <td>0.5</td>\n    </tr>\n    <tr>\n      <th>148</th>\n      <th>1857</th>\n      <td>1.0</td>\n      <td>0.5</td>\n    </tr>\n    <tr>\n      <th>149</th>\n      <th>1168</th>\n      <td>1.0</td>\n      <td>0.5</td>\n    </tr>\n    <tr>\n      <th>150</th>\n      <th>486</th>\n      <td>1.0</td>\n      <td>0.5</td>\n    </tr>\n    <tr>\n      <th>152</th>\n      <th>4468</th>\n      <td>1.0</td>\n      <td>0.5</td>\n    </tr>\n    <tr>\n      <th>155</th>\n      <th>1259</th>\n      <td>1.0</td>\n      <td>0.5</td>\n    </tr>\n    <tr>\n      <th>156</th>\n      <th>362</th>\n      <td>1.0</td>\n      <td>0.5</td>\n    </tr>\n    <tr>\n      <th>160</th>\n      <th>506</th>\n      <td>1.0</td>\n      <td>0.5</td>\n    </tr>\n    <tr>\n      <th>165</th>\n      <th>559</th>\n      <td>1.0</td>\n      <td>0.5</td>\n    </tr>\n    <tr>\n      <th>167</th>\n      <th>731</th>\n      <td>1.0</td>\n      <td>0.5</td>\n    </tr>\n    <tr>\n      <th>168</th>\n      <th>660</th>\n      <td>1.0</td>\n      <td>0.5</td>\n    </tr>\n    <tr>\n      <th>169</th>\n      <th>130</th>\n      <td>1.0</td>\n      <td>0.5</td>\n    </tr>\n    <tr>\n      <th>173</th>\n      <th>519</th>\n      <td>1.0</td>\n      <td>0.5</td>\n    </tr>\n    <tr>\n      <th>174</th>\n      <th>1350</th>\n      <td>1.0</td>\n      <td>0.5</td>\n    </tr>\n    <tr>\n      <th>175</th>\n      <th>4641</th>\n      <td>1.0</td>\n      <td>0.5</td>\n    </tr>\n    <tr>\n      <th>176</th>\n      <th>1241</th>\n      <td>1.0</td>\n      <td>0.5</td>\n    </tr>\n    <tr>\n      <th>179</th>\n      <th>1925</th>\n      <td>1.0</td>\n      <td>0.5</td>\n    </tr>\n    <tr>\n      <th>181</th>\n      <th>693</th>\n      <td>1.0</td>\n      <td>0.5</td>\n    </tr>\n    <tr>\n      <th>182</th>\n      <th>490</th>\n      <td>1.0</td>\n      <td>0.5</td>\n    </tr>\n    <tr>\n      <th>183</th>\n      <th>3626</th>\n      <td>1.0</td>\n      <td>0.5</td>\n    </tr>\n    <tr>\n      <th>186</th>\n      <th>294</th>\n      <td>1.0</td>\n      <td>0.5</td>\n    </tr>\n    <tr>\n      <th>187</th>\n      <th>793</th>\n      <td>1.0</td>\n      <td>0.5</td>\n    </tr>\n    <tr>\n      <th>190</th>\n      <th>2352</th>\n      <td>1.0</td>\n      <td>0.5</td>\n    </tr>\n    <tr>\n      <th>192</th>\n      <th>2424</th>\n      <td>1.0</td>\n      <td>0.5</td>\n    </tr>\n    <tr>\n      <th>198</th>\n      <th>234</th>\n      <td>1.0</td>\n      <td>0.5</td>\n    </tr>\n    <tr>\n      <th>200</th>\n      <th>332</th>\n      <td>1.0</td>\n      <td>0.5</td>\n    </tr>\n    <tr>\n      <th>202</th>\n      <th>4006</th>\n      <td>1.0</td>\n      <td>0.5</td>\n    </tr>\n    <tr>\n      <th>207</th>\n      <th>442</th>\n      <td>1.0</td>\n      <td>0.5</td>\n    </tr>\n    <tr>\n      <th>211</th>\n      <th>824</th>\n      <td>1.0</td>\n      <td>0.5</td>\n    </tr>\n    <tr>\n      <th>212</th>\n      <th>670</th>\n      <td>1.0</td>\n      <td>0.5</td>\n    </tr>\n    <tr>\n      <th>215</th>\n      <th>2319</th>\n      <td>1.0</td>\n      <td>0.5</td>\n    </tr>\n    <tr>\n      <th>216</th>\n      <th>2550</th>\n      <td>1.0</td>\n      <td>0.5</td>\n    </tr>\n    <tr>\n      <th>217</th>\n      <th>872</th>\n      <td>1.0</td>\n      <td>0.5</td>\n    </tr>\n    <tr>\n      <th>218</th>\n      <th>652</th>\n      <td>1.0</td>\n      <td>0.5</td>\n    </tr>\n    <tr>\n      <th>219</th>\n      <th>7158</th>\n      <td>1.0</td>\n      <td>0.5</td>\n    </tr>\n    <tr>\n      <th>221</th>\n      <th>171</th>\n      <td>1.0</td>\n      <td>0.5</td>\n    </tr>\n    <tr>\n      <th>223</th>\n      <th>300</th>\n      <td>1.0</td>\n      <td>0.5</td>\n    </tr>\n    <tr>\n      <th>224</th>\n      <th>298</th>\n      <td>1.0</td>\n      <td>0.5</td>\n    </tr>\n    <tr>\n      <th>226</th>\n      <th>1452</th>\n      <td>1.0</td>\n      <td>0.5</td>\n    </tr>\n    <tr>\n      <th>229</th>\n      <th>4606</th>\n      <td>1.0</td>\n      <td>0.5</td>\n    </tr>\n    <tr>\n      <th>233</th>\n      <th>1030</th>\n      <td>1.0</td>\n      <td>0.5</td>\n    </tr>\n    <tr>\n      <th>236</th>\n      <th>1290</th>\n      <td>1.0</td>\n      <td>0.5</td>\n    </tr>\n    <tr>\n      <th>237</th>\n      <th>4807</th>\n      <td>1.0</td>\n      <td>0.5</td>\n    </tr>\n    <tr>\n      <th>238</th>\n      <th>1937</th>\n      <td>1.0</td>\n      <td>0.5</td>\n    </tr>\n    <tr>\n      <th>239</th>\n      <th>54</th>\n      <td>1.0</td>\n      <td>0.5</td>\n    </tr>\n    <tr>\n      <th>244</th>\n      <th>459</th>\n      <td>1.0</td>\n      <td>0.5</td>\n    </tr>\n    <tr>\n      <th>245</th>\n      <th>3066</th>\n      <td>1.0</td>\n      <td>0.5</td>\n    </tr>\n    <tr>\n      <th>248</th>\n      <th>884</th>\n      <td>1.0</td>\n      <td>0.5</td>\n    </tr>\n    <tr>\n      <th>249</th>\n      <th>1539</th>\n      <td>1.0</td>\n      <td>0.5</td>\n    </tr>\n    <tr>\n      <th>251</th>\n      <th>600</th>\n      <td>1.0</td>\n      <td>0.5</td>\n    </tr>\n    <tr>\n      <th>252</th>\n      <th>762</th>\n      <td>1.0</td>\n      <td>0.5</td>\n    </tr>\n    <tr>\n      <th>255</th>\n      <th>342</th>\n      <td>1.0</td>\n      <td>0.5</td>\n    </tr>\n    <tr>\n      <th>256</th>\n      <th>407</th>\n      <td>1.0</td>\n      <td>0.5</td>\n    </tr>\n    <tr>\n      <th>257</th>\n      <th>82</th>\n      <td>1.0</td>\n      <td>0.5</td>\n    </tr>\n    <tr>\n      <th>259</th>\n      <th>86</th>\n      <td>1.0</td>\n      <td>0.5</td>\n    </tr>\n    <tr>\n      <th>263</th>\n      <th>780</th>\n      <td>1.0</td>\n      <td>0.5</td>\n    </tr>\n    <tr>\n      <th>264</th>\n      <th>1523</th>\n      <td>1.0</td>\n      <td>0.5</td>\n    </tr>\n    <tr>\n      <th>265</th>\n      <th>2056</th>\n      <td>1.0</td>\n      <td>0.5</td>\n    </tr>\n    <tr>\n      <th>269</th>\n      <th>95</th>\n      <td>1.0</td>\n      <td>0.5</td>\n    </tr>\n    <tr>\n      <th>271</th>\n      <th>182</th>\n      <td>1.0</td>\n      <td>0.5</td>\n    </tr>\n    <tr>\n      <th>276</th>\n      <th>196</th>\n      <td>1.0</td>\n      <td>0.5</td>\n    </tr>\n    <tr>\n      <th>277</th>\n      <th>178</th>\n      <td>1.0</td>\n      <td>0.5</td>\n    </tr>\n    <tr>\n      <th>279</th>\n      <th>751</th>\n      <td>1.0</td>\n      <td>0.5</td>\n    </tr>\n    <tr>\n      <th>280</th>\n      <th>110</th>\n      <td>1.0</td>\n      <td>0.5</td>\n    </tr>\n    <tr>\n      <th>281</th>\n      <th>355</th>\n      <td>1.0</td>\n      <td>0.5</td>\n    </tr>\n    <tr>\n      <th>282</th>\n      <th>1562</th>\n      <td>1.0</td>\n      <td>0.5</td>\n    </tr>\n    <tr>\n      <th>286</th>\n      <th>438</th>\n      <td>1.0</td>\n      <td>0.5</td>\n    </tr>\n    <tr>\n      <th>289</th>\n      <th>6</th>\n      <td>1.0</td>\n      <td>0.5</td>\n    </tr>\n    <tr>\n      <th>291</th>\n      <th>12</th>\n      <td>1.0</td>\n      <td>0.5</td>\n    </tr>\n    <tr>\n      <th>297</th>\n      <th>686</th>\n      <td>1.0</td>\n      <td>0.5</td>\n    </tr>\n    <tr>\n      <th>298</th>\n      <th>1488</th>\n      <td>1.0</td>\n      <td>0.5</td>\n    </tr>\n    <tr>\n      <th>300</th>\n      <th>336</th>\n      <td>1.0</td>\n      <td>0.5</td>\n    </tr>\n    <tr>\n      <th>309</th>\n      <th>291</th>\n      <td>1.0</td>\n      <td>0.5</td>\n    </tr>\n    <tr>\n      <th>311</th>\n      <th>238</th>\n      <td>1.0</td>\n      <td>0.5</td>\n    </tr>\n    <tr>\n      <th>313</th>\n      <th>473</th>\n      <td>1.0</td>\n      <td>0.5</td>\n    </tr>\n    <tr>\n      <th>317</th>\n      <th>1705</th>\n      <td>1.0</td>\n      <td>0.5</td>\n    </tr>\n    <tr>\n      <th>318</th>\n      <th>710</th>\n      <td>1.0</td>\n      <td>0.5</td>\n    </tr>\n    <tr>\n      <th>319</th>\n      <th>1456</th>\n      <td>1.0</td>\n      <td>0.5</td>\n    </tr>\n    <tr>\n      <th>324</th>\n      <th>1297</th>\n      <td>1.0</td>\n      <td>0.5</td>\n    </tr>\n    <tr>\n      <th>329</th>\n      <th>103</th>\n      <td>1.0</td>\n      <td>0.5</td>\n    </tr>\n    <tr>\n      <th>330</th>\n      <th>44</th>\n      <td>1.0</td>\n      <td>0.5</td>\n    </tr>\n    <tr>\n      <th>331</th>\n      <th>3885</th>\n      <td>1.0</td>\n      <td>0.5</td>\n    </tr>\n    <tr>\n      <th>333</th>\n      <th>1400</th>\n      <td>1.0</td>\n      <td>0.5</td>\n    </tr>\n    <tr>\n      <th>334</th>\n      <th>7156</th>\n      <td>1.0</td>\n      <td>0.5</td>\n    </tr>\n    <tr>\n      <th>335</th>\n      <th>2631</th>\n      <td>1.0</td>\n      <td>0.5</td>\n    </tr>\n    <tr>\n      <th>338</th>\n      <th>583</th>\n      <td>1.0</td>\n      <td>0.5</td>\n    </tr>\n    <tr>\n      <th>340</th>\n      <th>2042</th>\n      <td>1.0</td>\n      <td>0.5</td>\n    </tr>\n    <tr>\n      <th>347</th>\n      <th>447</th>\n      <td>1.0</td>\n      <td>0.5</td>\n    </tr>\n    <tr>\n      <th>350</th>\n      <th>1822</th>\n      <td>1.0</td>\n      <td>0.5</td>\n    </tr>\n    <tr>\n      <th>354</th>\n      <th>489</th>\n      <td>1.0</td>\n      <td>0.5</td>\n    </tr>\n    <tr>\n      <th>355</th>\n      <th>1838</th>\n      <td>1.0</td>\n      <td>0.5</td>\n    </tr>\n    <tr>\n      <th>359</th>\n      <th>180</th>\n      <td>1.0</td>\n      <td>0.5</td>\n    </tr>\n    <tr>\n      <th>362</th>\n      <th>767</th>\n      <td>1.0</td>\n      <td>0.5</td>\n    </tr>\n    <tr>\n      <th>365</th>\n      <th>2</th>\n      <td>1.0</td>\n      <td>0.5</td>\n    </tr>\n    <tr>\n      <th>369</th>\n      <th>1853</th>\n      <td>1.0</td>\n      <td>0.5</td>\n    </tr>\n    <tr>\n      <th>370</th>\n      <th>797</th>\n      <td>1.0</td>\n      <td>0.5</td>\n    </tr>\n    <tr>\n      <th>380</th>\n      <th>2052</th>\n      <td>1.0</td>\n      <td>0.5</td>\n    </tr>\n    <tr>\n      <th>381</th>\n      <th>23</th>\n      <td>1.0</td>\n      <td>0.5</td>\n    </tr>\n    <tr>\n      <th>383</th>\n      <th>1108</th>\n      <td>1.0</td>\n      <td>0.5</td>\n    </tr>\n    <tr>\n      <th>386</th>\n      <th>2954</th>\n      <td>1.0</td>\n      <td>0.5</td>\n    </tr>\n    <tr>\n      <th>387</th>\n      <th>320</th>\n      <td>1.0</td>\n      <td>0.5</td>\n    </tr>\n    <tr>\n      <th>388</th>\n      <th>1200</th>\n      <td>1.0</td>\n      <td>0.5</td>\n    </tr>\n    <tr>\n      <th>389</th>\n      <th>626</th>\n      <td>1.0</td>\n      <td>0.5</td>\n    </tr>\n    <tr>\n      <th>390</th>\n      <th>1084</th>\n      <td>1.0</td>\n      <td>0.5</td>\n    </tr>\n    <tr>\n      <th>391</th>\n      <th>45</th>\n      <td>1.0</td>\n      <td>0.5</td>\n    </tr>\n    <tr>\n      <th>392</th>\n      <th>25</th>\n      <td>1.0</td>\n      <td>0.5</td>\n    </tr>\n    <tr>\n      <th>402</th>\n      <th>851</th>\n      <td>1.0</td>\n      <td>0.5</td>\n    </tr>\n    <tr>\n      <th>404</th>\n      <th>1209</th>\n      <td>1.0</td>\n      <td>0.5</td>\n    </tr>\n    <tr>\n      <th>408</th>\n      <th>34</th>\n      <td>1.0</td>\n      <td>0.5</td>\n    </tr>\n    <tr>\n      <th>409</th>\n      <th>3420</th>\n      <td>1.0</td>\n      <td>0.5</td>\n    </tr>\n    <tr>\n      <th>411</th>\n      <th>299</th>\n      <td>1.0</td>\n      <td>0.5</td>\n    </tr>\n    <tr>\n      <th>414</th>\n      <th>29</th>\n      <td>1.0</td>\n      <td>0.5</td>\n    </tr>\n    <tr>\n      <th>415</th>\n      <th>1073</th>\n      <td>1.0</td>\n      <td>0.5</td>\n    </tr>\n    <tr>\n      <th>416</th>\n      <th>397</th>\n      <td>1.0</td>\n      <td>0.5</td>\n    </tr>\n    <tr>\n      <th>417</th>\n      <th>89</th>\n      <td>1.0</td>\n      <td>0.5</td>\n    </tr>\n    <tr>\n      <th>419</th>\n      <th>2385</th>\n      <td>1.0</td>\n      <td>0.5</td>\n    </tr>\n    <tr>\n      <th>423</th>\n      <th>2193</th>\n      <td>1.0</td>\n      <td>0.5</td>\n    </tr>\n    <tr>\n      <th>425</th>\n      <th>16</th>\n      <td>1.0</td>\n      <td>0.5</td>\n    </tr>\n    <tr>\n      <th>427</th>\n      <th>1055</th>\n      <td>1.0</td>\n      <td>0.5</td>\n    </tr>\n    <tr>\n      <th>428</th>\n      <th>450</th>\n      <td>1.0</td>\n      <td>0.5</td>\n    </tr>\n    <tr>\n      <th>433</th>\n      <th>93</th>\n      <td>1.0</td>\n      <td>0.5</td>\n    </tr>\n    <tr>\n      <th>436</th>\n      <th>5319</th>\n      <td>1.0</td>\n      <td>0.5</td>\n    </tr>\n    <tr>\n      <th>441</th>\n      <th>42</th>\n      <td>1.0</td>\n      <td>0.5</td>\n    </tr>\n    <tr>\n      <th>442</th>\n      <th>1341</th>\n      <td>1.0</td>\n      <td>0.5</td>\n    </tr>\n    <tr>\n      <th>443</th>\n      <th>761</th>\n      <td>1.0</td>\n      <td>0.5</td>\n    </tr>\n    <tr>\n      <th>448</th>\n      <th>87</th>\n      <td>1.0</td>\n      <td>0.5</td>\n    </tr>\n    <tr>\n      <th>460</th>\n      <th>722</th>\n      <td>1.0</td>\n      <td>0.5</td>\n    </tr>\n    <tr>\n      <th>462</th>\n      <th>104</th>\n      <td>1.0</td>\n      <td>0.5</td>\n    </tr>\n    <tr>\n      <th>463</th>\n      <th>1</th>\n      <td>1.0</td>\n      <td>0.5</td>\n    </tr>\n    <tr>\n      <th>464</th>\n      <th>96</th>\n      <td>1.0</td>\n      <td>0.5</td>\n    </tr>\n    <tr>\n      <th>467</th>\n      <th>6234</th>\n      <td>1.0</td>\n      <td>0.5</td>\n    </tr>\n    <tr>\n      <th>468</th>\n      <th>1430</th>\n      <td>1.0</td>\n      <td>0.5</td>\n    </tr>\n    <tr>\n      <th>469</th>\n      <th>175</th>\n      <td>1.0</td>\n      <td>0.5</td>\n    </tr>\n    <tr>\n      <th>471</th>\n      <th>157</th>\n      <td>1.0</td>\n      <td>0.5</td>\n    </tr>\n    <tr>\n      <th>472</th>\n      <th>786</th>\n      <td>1.0</td>\n      <td>0.5</td>\n    </tr>\n    <tr>\n      <th>474</th>\n      <th>241</th>\n      <td>1.0</td>\n      <td>0.5</td>\n    </tr>\n    <tr>\n      <th>480</th>\n      <th>3292</th>\n      <td>1.0</td>\n      <td>0.5</td>\n    </tr>\n    <tr>\n      <th>482</th>\n      <th>1298</th>\n      <td>1.0</td>\n      <td>0.5</td>\n    </tr>\n    <tr>\n      <th>483</th>\n      <th>2978</th>\n      <td>1.0</td>\n      <td>0.5</td>\n    </tr>\n    <tr>\n      <th>486</th>\n      <th>7161</th>\n      <td>1.0</td>\n      <td>0.5</td>\n    </tr>\n    <tr>\n      <th>487</th>\n      <th>382</th>\n      <td>1.0</td>\n      <td>0.5</td>\n    </tr>\n    <tr>\n      <th>490</th>\n      <th>825</th>\n      <td>1.0</td>\n      <td>0.5</td>\n    </tr>\n    <tr>\n      <th>492</th>\n      <th>114</th>\n      <td>1.0</td>\n      <td>0.5</td>\n    </tr>\n    <tr>\n      <th>495</th>\n      <th>542</th>\n      <td>1.0</td>\n      <td>0.5</td>\n    </tr>\n    <tr>\n      <th>496</th>\n      <th>187</th>\n      <td>1.0</td>\n      <td>0.5</td>\n    </tr>\n    <tr>\n      <th>501</th>\n      <th>774</th>\n      <td>1.0</td>\n      <td>0.5</td>\n    </tr>\n    <tr>\n      <th>503</th>\n      <th>1661</th>\n      <td>1.0</td>\n      <td>0.5</td>\n    </tr>\n    <tr>\n      <th>508</th>\n      <th>128</th>\n      <td>1.0</td>\n      <td>0.5</td>\n    </tr>\n    <tr>\n      <th>510</th>\n      <th>788</th>\n      <td>1.0</td>\n      <td>0.5</td>\n    </tr>\n    <tr>\n      <th>511</th>\n      <th>2176</th>\n      <td>1.0</td>\n      <td>0.5</td>\n    </tr>\n    <tr>\n      <th>513</th>\n      <th>706</th>\n      <td>1.0</td>\n      <td>0.5</td>\n    </tr>\n    <tr>\n      <th>514</th>\n      <th>105</th>\n      <td>1.0</td>\n      <td>0.5</td>\n    </tr>\n    <tr>\n      <th>515</th>\n      <th>215</th>\n      <td>1.0</td>\n      <td>0.5</td>\n    </tr>\n    <tr>\n      <th>518</th>\n      <th>306</th>\n      <td>1.0</td>\n      <td>0.5</td>\n    </tr>\n    <tr>\n      <th>519</th>\n      <th>1426</th>\n      <td>1.0</td>\n      <td>0.5</td>\n    </tr>\n    <tr>\n      <th>528</th>\n      <th>908</th>\n      <td>1.0</td>\n      <td>0.5</td>\n    </tr>\n    <tr>\n      <th>530</th>\n      <th>2820</th>\n      <td>1.0</td>\n      <td>0.5</td>\n    </tr>\n    <tr>\n      <th>532</th>\n      <th>79</th>\n      <td>1.0</td>\n      <td>0.5</td>\n    </tr>\n    <tr>\n      <th>535</th>\n      <th>1287</th>\n      <td>1.0</td>\n      <td>0.5</td>\n    </tr>\n    <tr>\n      <th>537</th>\n      <th>760</th>\n      <td>1.0</td>\n      <td>0.5</td>\n    </tr>\n    <tr>\n      <th>538</th>\n      <th>593</th>\n      <td>1.0</td>\n      <td>0.5</td>\n    </tr>\n    <tr>\n      <th>539</th>\n      <th>10</th>\n      <td>1.0</td>\n      <td>0.5</td>\n    </tr>\n    <tr>\n      <th>541</th>\n      <th>340</th>\n      <td>1.0</td>\n      <td>0.5</td>\n    </tr>\n    <tr>\n      <th>543</th>\n      <th>779</th>\n      <td>1.0</td>\n      <td>0.5</td>\n    </tr>\n    <tr>\n      <th>546</th>\n      <th>544</th>\n      <td>1.0</td>\n      <td>0.5</td>\n    </tr>\n    <tr>\n      <th>547</th>\n      <th>63</th>\n      <td>1.0</td>\n      <td>0.5</td>\n    </tr>\n    <tr>\n      <th>548</th>\n      <th>1050</th>\n      <td>1.0</td>\n      <td>0.5</td>\n    </tr>\n    <tr>\n      <th>549</th>\n      <th>259</th>\n      <td>1.0</td>\n      <td>0.5</td>\n    </tr>\n    <tr>\n      <th>553</th>\n      <th>1054</th>\n      <td>1.0</td>\n      <td>0.5</td>\n    </tr>\n    <tr>\n      <th>554</th>\n      <th>4690</th>\n      <td>1.0</td>\n      <td>0.5</td>\n    </tr>\n    <tr>\n      <th>556</th>\n      <th>70</th>\n      <td>1.0</td>\n      <td>0.5</td>\n    </tr>\n    <tr>\n      <th>558</th>\n      <th>2021</th>\n      <td>1.0</td>\n      <td>0.5</td>\n    </tr>\n    <tr>\n      <th>559</th>\n      <th>1234</th>\n      <td>1.0</td>\n      <td>0.5</td>\n    </tr>\n    <tr>\n      <th>561</th>\n      <th>50</th>\n      <td>1.0</td>\n      <td>0.5</td>\n    </tr>\n    <tr>\n      <th>562</th>\n      <th>1935</th>\n      <td>1.0</td>\n      <td>0.5</td>\n    </tr>\n    <tr>\n      <th>564</th>\n      <th>11</th>\n      <td>1.0</td>\n      <td>0.5</td>\n    </tr>\n    <tr>\n      <th>566</th>\n      <th>289</th>\n      <td>1.0</td>\n      <td>0.5</td>\n    </tr>\n    <tr>\n      <th>569</th>\n      <th>566</th>\n      <td>1.0</td>\n      <td>0.5</td>\n    </tr>\n    <tr>\n      <th>570</th>\n      <th>91</th>\n      <td>1.0</td>\n      <td>0.5</td>\n    </tr>\n    <tr>\n      <th>571</th>\n      <th>2852</th>\n      <td>1.0</td>\n      <td>0.5</td>\n    </tr>\n    <tr>\n      <th>572</th>\n      <th>5633</th>\n      <td>1.0</td>\n      <td>0.5</td>\n    </tr>\n    <tr>\n      <th>576</th>\n      <th>527</th>\n      <td>1.0</td>\n      <td>0.5</td>\n    </tr>\n    <tr>\n      <th>579</th>\n      <th>601</th>\n      <td>1.0</td>\n      <td>0.5</td>\n    </tr>\n    <tr>\n      <th>581</th>\n      <th>1304</th>\n      <td>1.0</td>\n      <td>0.5</td>\n    </tr>\n    <tr>\n      <th>585</th>\n      <th>4565</th>\n      <td>1.0</td>\n      <td>0.5</td>\n    </tr>\n    <tr>\n      <th>588</th>\n      <th>4084</th>\n      <td>1.0</td>\n      <td>0.5</td>\n    </tr>\n    <tr>\n      <th>589</th>\n      <th>1409</th>\n      <td>1.0</td>\n      <td>0.5</td>\n    </tr>\n    <tr>\n      <th>591</th>\n      <th>582</th>\n      <td>1.0</td>\n      <td>0.5</td>\n    </tr>\n    <tr>\n      <th>596</th>\n      <th>14</th>\n      <td>1.0</td>\n      <td>0.5</td>\n    </tr>\n    <tr>\n      <th>598</th>\n      <th>634</th>\n      <td>1.0</td>\n      <td>0.5</td>\n    </tr>\n    <tr>\n      <th>602</th>\n      <th>654</th>\n      <td>1.0</td>\n      <td>0.5</td>\n    </tr>\n    <tr>\n      <th>604</th>\n      <th>454</th>\n      <td>1.0</td>\n      <td>0.5</td>\n    </tr>\n    <tr>\n      <th>606</th>\n      <th>1453</th>\n      <td>1.0</td>\n      <td>0.5</td>\n    </tr>\n    <tr>\n      <th>607</th>\n      <th>586</th>\n      <td>1.0</td>\n      <td>0.5</td>\n    </tr>\n    <tr>\n      <th>609</th>\n      <th>1541</th>\n      <td>1.0</td>\n      <td>0.5</td>\n    </tr>\n    <tr>\n      <th>612</th>\n      <th>458</th>\n      <td>1.0</td>\n      <td>0.5</td>\n    </tr>\n    <tr>\n      <th>616</th>\n      <th>962</th>\n      <td>1.0</td>\n      <td>0.5</td>\n    </tr>\n    <tr>\n      <th>22</th>\n      <th>1394</th>\n      <td>1.0</td>\n      <td>0.5</td>\n    </tr>\n    <tr>\n      <th>41</th>\n      <th>1518</th>\n      <td>1.0</td>\n      <td>0.5</td>\n    </tr>\n    <tr>\n      <th>43</th>\n      <th>2097</th>\n      <td>1.0</td>\n      <td>0.5</td>\n    </tr>\n    <tr>\n      <th>96</th>\n      <th>2720</th>\n      <td>1.0</td>\n      <td>0.5</td>\n    </tr>\n    <tr>\n      <th>110</th>\n      <th>749</th>\n      <td>1.0</td>\n      <td>0.5</td>\n    </tr>\n    <tr>\n      <th>117</th>\n      <th>841</th>\n      <td>1.0</td>\n      <td>0.5</td>\n    </tr>\n    <tr>\n      <th>119</th>\n      <th>92</th>\n      <td>1.0</td>\n      <td>0.5</td>\n    </tr>\n    <tr>\n      <th>157</th>\n      <th>180</th>\n      <td>1.0</td>\n      <td>0.5</td>\n    </tr>\n    <tr>\n      <th>191</th>\n      <th>1351</th>\n      <td>1.0</td>\n      <td>0.5</td>\n    </tr>\n    <tr>\n      <th>193</th>\n      <th>9</th>\n      <td>1.0</td>\n      <td>0.5</td>\n    </tr>\n    <tr>\n      <th>203</th>\n      <th>1025</th>\n      <td>1.0</td>\n      <td>0.5</td>\n    </tr>\n    <tr>\n      <th>314</th>\n      <th>2452</th>\n      <td>1.0</td>\n      <td>0.5</td>\n    </tr>\n    <tr>\n      <th>316</th>\n      <th>1919</th>\n      <td>1.0</td>\n      <td>0.5</td>\n    </tr>\n    <tr>\n      <th>321</th>\n      <th>2333</th>\n      <td>1.0</td>\n      <td>0.5</td>\n    </tr>\n    <tr>\n      <th>325</th>\n      <th>65</th>\n      <td>1.0</td>\n      <td>0.5</td>\n    </tr>\n    <tr>\n      <th>353</th>\n      <th>47</th>\n      <td>1.0</td>\n      <td>0.5</td>\n    </tr>\n    <tr>\n      <th>356</th>\n      <th>3002</th>\n      <td>1.0</td>\n      <td>0.5</td>\n    </tr>\n    <tr>\n      <th>381</th>\n      <th>471</th>\n      <td>1.0</td>\n      <td>0.5</td>\n    </tr>\n    <tr>\n      <th>399</th>\n      <th>3656</th>\n      <td>1.0</td>\n      <td>0.5</td>\n    </tr>\n    <tr>\n      <th>410</th>\n      <th>99</th>\n      <td>1.0</td>\n      <td>0.5</td>\n    </tr>\n    <tr>\n      <th>449</th>\n      <th>43</th>\n      <td>1.0</td>\n      <td>0.5</td>\n    </tr>\n    <tr>\n      <th>455</th>\n      <th>1609</th>\n      <td>1.0</td>\n      <td>0.5</td>\n    </tr>\n    <tr>\n      <th>509</th>\n      <th>219</th>\n      <td>1.0</td>\n      <td>0.5</td>\n    </tr>\n    <tr>\n      <th>526</th>\n      <th>1458</th>\n      <td>1.0</td>\n      <td>0.5</td>\n    </tr>\n    <tr>\n      <th>542</th>\n      <th>4589</th>\n      <td>1.0</td>\n      <td>0.5</td>\n    </tr>\n    <tr>\n      <th>544</th>\n      <th>17</th>\n      <td>1.0</td>\n      <td>0.5</td>\n    </tr>\n    <tr>\n      <th>568</th>\n      <th>910</th>\n      <td>1.0</td>\n      <td>0.5</td>\n    </tr>\n    <tr>\n      <th>593</th>\n      <th>174</th>\n      <td>1.0</td>\n      <td>0.5</td>\n    </tr>\n    <tr>\n      <th>611</th>\n      <th>1736</th>\n      <td>1.0</td>\n      <td>0.5</td>\n    </tr>\n  </tbody>\n</table>\n</div>"
     },
     "execution_count": 55,
     "metadata": {},
     "output_type": "execute_result"
    }
   ],
   "source": [
    "golden_pairs"
   ],
   "metadata": {
    "collapsed": false,
    "pycharm": {
     "name": "#%%\n"
    }
   }
  },
  {
   "cell_type": "markdown",
   "source": [],
   "metadata": {
    "collapsed": false
   }
  },
  {
   "cell_type": "code",
   "execution_count": 56,
   "outputs": [
    {
     "name": "stdout",
     "output_type": "stream",
     "text": [
      "Intercept:  -0.8655910874090981\n",
      "Coefficient:  [2.33481273e-05 1.16740636e-05]\n"
     ]
    }
   ],
   "source": [
    "logreg = recordlinkage.LogisticRegressionClassifier()\n",
    "logreg.fit(golden_pairs, golden_match_index)\n",
    "print('Intercept: ', logreg.intercept)\n",
    "print('Coefficient: ', logreg.coefficients)"
   ],
   "metadata": {
    "collapsed": false,
    "pycharm": {
     "name": "#%%\n"
    }
   }
  },
  {
   "cell_type": "code",
   "execution_count": 57,
   "outputs": [
    {
     "data": {
      "text/plain": "0"
     },
     "execution_count": 57,
     "metadata": {},
     "output_type": "execute_result"
    }
   ],
   "source": [
    "result_logreg = logreg.predict(pairs)\n",
    "len(result_logreg)"
   ],
   "metadata": {
    "collapsed": false,
    "pycharm": {
     "name": "#%%\n"
    }
   }
  },
  {
   "cell_type": "code",
   "execution_count": 58,
   "outputs": [
    {
     "data": {
      "text/plain": "0.0"
     },
     "execution_count": 58,
     "metadata": {},
     "output_type": "execute_result"
    }
   ],
   "source": [
    "recordlinkage.recall(true_links, result_logreg)"
   ],
   "metadata": {
    "collapsed": false,
    "pycharm": {
     "name": "#%%\n"
    }
   }
  },
  {
   "cell_type": "code",
   "execution_count": 59,
   "outputs": [
    {
     "ename": "ZeroDivisionError",
     "evalue": "division by zero",
     "output_type": "error",
     "traceback": [
      "\u001B[0;31m---------------------------------------------------------------------------\u001B[0m",
      "\u001B[0;31mZeroDivisionError\u001B[0m                         Traceback (most recent call last)",
      "Cell \u001B[0;32mIn[59], line 1\u001B[0m\n\u001B[0;32m----> 1\u001B[0m \u001B[43mrecordlinkage\u001B[49m\u001B[38;5;241;43m.\u001B[39;49m\u001B[43mprecision\u001B[49m\u001B[43m(\u001B[49m\u001B[43mtrue_links\u001B[49m\u001B[43m,\u001B[49m\u001B[43m \u001B[49m\u001B[43mresult_logreg\u001B[49m\u001B[43m)\u001B[49m\n",
      "File \u001B[0;32m~/opt/anaconda3/envs/Homework8/lib/python3.10/site-packages/recordlinkage/measures.py:325\u001B[0m, in \u001B[0;36mprecision\u001B[0;34m(links_true, links_pred)\u001B[0m\n\u001B[1;32m    323\u001B[0m     tp \u001B[38;5;241m=\u001B[39m true_positives(links_true, links_pred)\n\u001B[1;32m    324\u001B[0m     fp \u001B[38;5;241m=\u001B[39m false_positives(links_true, links_pred)\n\u001B[0;32m--> 325\u001B[0m     v \u001B[38;5;241m=\u001B[39m \u001B[43mtp\u001B[49m\u001B[43m \u001B[49m\u001B[38;5;241;43m/\u001B[39;49m\u001B[43m \u001B[49m\u001B[43m(\u001B[49m\u001B[43mtp\u001B[49m\u001B[43m \u001B[49m\u001B[38;5;241;43m+\u001B[39;49m\u001B[43m \u001B[49m\u001B[43mfp\u001B[49m\u001B[43m)\u001B[49m\n\u001B[1;32m    327\u001B[0m \u001B[38;5;28;01mreturn\u001B[39;00m \u001B[38;5;28mfloat\u001B[39m(v)\n",
      "\u001B[0;31mZeroDivisionError\u001B[0m: division by zero"
     ]
    }
   ],
   "source": [
    "recordlinkage.precision(true_links, result_logreg)"
   ],
   "metadata": {
    "collapsed": false,
    "pycharm": {
     "name": "#%%\n"
    }
   }
  },
  {
   "cell_type": "code",
   "execution_count": 9,
   "outputs": [
    {
     "data": {
      "text/plain": "0.19075144508670522"
     },
     "execution_count": 9,
     "metadata": {},
     "output_type": "execute_result"
    }
   ],
   "source": [
    "f_score_reg = recordlinkage.fscore(true_links, result_logreg)\n",
    "print('Fscore:', f_score_reg)"
   ],
   "metadata": {
    "collapsed": false,
    "pycharm": {
     "name": "#%%\n"
    }
   }
  },
  {
   "cell_type": "code",
   "execution_count": 10,
   "outputs": [],
   "source": [
    "svm = recordlinkage.SVMClassifier()\n",
    "svm.fit(golden_pairs, golden_match_index)"
   ],
   "metadata": {
    "collapsed": false,
    "pycharm": {
     "name": "#%%\n"
    }
   }
  },
  {
   "cell_type": "code",
   "execution_count": 11,
   "outputs": [
    {
     "data": {
      "text/plain": "939"
     },
     "execution_count": 11,
     "metadata": {},
     "output_type": "execute_result"
    }
   ],
   "source": [
    "result_svm = svm.predict(pairs)\n",
    "len(result_svm)"
   ],
   "metadata": {
    "collapsed": false,
    "pycharm": {
     "name": "#%%\n"
    }
   }
  },
  {
   "cell_type": "code",
   "execution_count": 14,
   "outputs": [
    {
     "name": "stdout",
     "output_type": "stream",
     "text": [
      "Fscore: 0.19075144508670522\n"
     ]
    }
   ],
   "source": [
    "fscore_svm = recordlinkage.fscore(true_links, result_svm)\n",
    "print('Fscore:', fscore_svm)"
   ],
   "metadata": {
    "collapsed": false,
    "pycharm": {
     "name": "#%%\n"
    }
   }
  },
  {
   "cell_type": "code",
   "execution_count": 23,
   "outputs": [],
   "source": [
    "random_dio = [(544, 17), (294, 1842), (504, 4376), (24, 6250), (173, 925), (107, 4021), (235, 4299), (559, 1234), (116, 3818), (191, 1351), (607, 6161), (398, 1672), (575, 1112), (596, 14), (175, 267), (356, 3002), (100, 2673), (414, 29), (133, 46), (538, 593), (55, 5686), (34, 1126), (73, 4120), (604, 454), (495, 4710), (425, 16), (506, 1367), (397, 4213), (515, 2026), (324, 164), (539, 10), (246, 6490), (276, 196), (121, 4885), (366, 453), (149, 1168), (603, 654), (491, 333), (396, 1662), (24, 603), (533, 439), (54, 1134), (463, 665), (254, 2444), (580, 2223), (55, 4109), (208, 285), (602, 654), (253, 3690), (90, 2178), (402, 1899), (550, 4781), (512, 2718), (176, 1241), (587, 3315), (342, 2216), (574, 352), (415, 1073), (326, 1001), (56, 201), (271, 182), (531, 5566), (271, 4754), (442, 1341), (507, 4059), (582, 2999), (323, 487), (540, 340), (465, 5004), (552, 3887), (345, 5992), (394, 1355), (90, 230), (217, 872), (234, 3014), (39, 4), (85, 57), (283, 3982), (605, 4341), (592, 4397), (570, 91), (407, 34), (23, 941), (386, 2954), (28, 6186), (101, 4448), (63, 3190), (160, 6390), (369, 1853), (135, 954), (29, 1742), (280, 4116), (535, 2143), (311, 3533), (612, 696), (529, 3868), (499, 557), (281, 1657), (112, 4305), (548, 3933), (179, 1903), (83, 5930), (431, 4988), (212, 670), (200, 7144), (330, 427), (18, 638), (612, 458), (48, 2834), (226, 1452), (364, 231), (583, 3285), (216, 2550), (547, 63), (122, 2485), (570, 2747), (128, 20), (478, 1897), (154, 520), (365, 231), (229, 4606), (573, 1119), (391, 45), (23, 3488), (419, 2385), (494, 3514), (64, 385), (204, 2127), (484, 1734), (118, 3745), (107, 134), (421, 7139), (198, 5167), (423, 2193), (575, 2945), (254, 4630), (569, 6241), (152, 3503), (437, 303), (551, 1979), (114, 3773), (21, 897), (337, 570), (448, 5355), (141, 1826), (139, 208), (571, 6076), (156, 5505), (317, 2582), (45, 3348), (26, 526), (463, 1), (56, 6782), (381, 23), (44, 1123), (120, 1191), (244, 459), (289, 343), (459, 5136), (27, 6581), (45, 6026), (58, 479), (60, 5782), (365, 2), (32, 148), (519, 1426), (219, 7158), (352, 727), (458, 5007), (393, 6254), (50, 1908), (527, 4011), (591, 3051), (383, 7050), (178, 469), (40, 897), (72, 1344), (152, 5328), (436, 6693), (416, 397), (219, 2684), (414, 3832), (346, 6348), (571, 959), (226, 6027), (312, 4383), (561, 50), (6, 4922), (5, 4749), (613, 4985), (20, 4898), (231, 4337), (443, 761), (576, 947), (227, 3448), (380, 2052), (309, 1180), (368, 7073), (474, 3050), (32, 1115), (438, 290), (105, 1052), (318, 710), (536, 2162), (113, 452), (584, 3744), (252, 575), (534, 2532), (265, 1523), (530, 3630), (380, 5311), (142, 4496), (519, 5112), (117, 1321), (266, 584), (585, 836), (428, 389), (133, 529), (361, 3541), (369, 2009), (258, 619), (581, 4979), (412, 6401), (155, 506), (475, 4166), (610, 5168), (164, 97), (202, 4279), (524, 2930), (428, 450), (470, 4268), (175, 1834), (543, 17), (416, 107), (68, 205), (517, 5741), (224, 300), (553, 70), (195, 3282), (503, 359), (24, 88), (423, 6373), (80, 2862), (265, 6175), (265, 2056), (300, 1148), (182, 2725), (373, 1752), (246, 252), (204, 216), (132, 2836), (370, 344), (138, 1585), (583, 3380), (476, 2066), (399, 3656), (153, 4093), (52, 4192), (239, 1893), (577, 620), (252, 6151), (416, 89), (192, 2424), (507, 3516), (347, 2318), (98, 209), (148, 1318), (185, 2434), (21, 1337), (457, 2052), (291, 2167), (218, 4271), (18, 2803), (213, 4702), (285, 5852), (546, 5716), (615, 5398), (598, 843), (282, 1562), (419, 3906), (328, 2111), (558, 5360), (453, 2438), (62, 6055), (88, 7067), (65, 1139), (171, 6638), (257, 82), (381, 471), (432, 1709), (46, 2832), (375, 2018), (531, 4929), (263, 780), (222, 617), (307, 296), (617, 1716), (381, 725), (221, 2705), (600, 1641), (180, 5517), (160, 1259), (548, 1050), (126, 2039), (111, 578), (463, 899), (186, 294), (162, 6665), (252, 762), (363, 3568), (201, 4839), (429, 4670), (603, 5053), (589, 7062), (400, 2397), (114, 4009), (522, 4642), (51, 6091), (488, 3914), (618, 5147), (374, 1494), (123, 803), (546, 544), (493, 2924), (88, 2608), (555, 4690), (350, 3410), (479, 6924), (291, 12), (233, 3124), (104, 1451), (309, 291), (165, 1197), (541, 340), (78, 3320), (210, 637), (389, 4025), (562, 1935), (82, 7087), (230, 5050), (439, 4144), (11, 2798), (434, 1151), (287, 3604), (271, 1738), (22, 1394), (438, 4144), (385, 6908), (465, 985), (549, 2497), (95, 98), (325, 3923), (548, 4142), (331, 2332), (389, 626), (369, 261), (1, 5560), (52, 85), (131, 1772), (492, 1118), (502, 5303), (96, 1990), (513, 5270), (247, 2837), (498, 2885), (22, 5104), (255, 342), (313, 1369), (382, 1861), (108, 2458), (350, 1822), (218, 5349), (286, 438), (15, 2195), (201, 399), (489, 4766), (217, 5349), (563, 1188), (609, 2181), (194, 5325), (149, 3769), (611, 2125), (516, 272), (494, 3717), (5, 457), (539, 1031), (19, 2565), (86, 4329), (588, 4084), (78, 293), (396, 494), (262, 1034), (420, 4162), (161, 3396), (174, 1834), (561, 3873), (49, 4567), (31, 3322), (17, 5023), (545, 1790), (482, 672), (52, 6748), (598, 634), (419, 4838), (209, 363), (316, 5518), (429, 4354), (122, 7098), (203, 1358), (144, 859), (611, 1736), (43, 6235), (95, 820), (195, 4179), (304, 2157), (119, 92), (572, 4482), (582, 6139), (183, 3626), (453, 1819), (151, 1920), (388, 1200), (460, 722), (518, 4039), (594, 6953), (264, 780), (247, 6509), (202, 4006), (565, 714), (569, 773), (422, 6110), (128, 1009), (495, 542), (126, 1170), (143, 6109), (343, 6066), (329, 103), (33, 6155), (29, 700), (48, 3824), (561, 944), (474, 241), (86, 5441), (564, 918), (7, 3842), (46, 6180), (541, 677), (540, 5852), (508, 1056), (379, 4140), (395, 5707), (473, 175), (134, 393), (260, 7113), (565, 1175), (215, 6647), (440, 3268), (427, 2778), (5, 6728), (576, 527), (278, 751), (69, 5438), (566, 959), (456, 26), (297, 5060), (516, 4288), (97, 6771), (30, 5129), (404, 1209), (29, 1247), (485, 6300), (347, 447), (41, 1518), (390, 5636), (501, 774), (616, 962), (514, 7075), (422, 6272), (442, 3631), (533, 6827), (426, 4859), (157, 4832), (184, 255), (115, 4009), (11, 27), (230, 5081), (295, 6481), (443, 4804), (240, 986), (487, 4272), (348, 6328), (242, 2343), (60, 1718), (85, 251), (345, 881), (433, 3001), (223, 2705), (68, 5277), (274, 2346), (314, 6377), (503, 3395), (281, 355), (486, 7161), (144, 536), (387, 320), (581, 5557), (532, 1593), (609, 1795), (553, 6765), (375, 2258), (205, 3290), (581, 1304), (357, 78), (498, 1192), (569, 566), (89, 6067), (146, 3653), (206, 3290), (169, 4215), (405, 2451), (412, 866), (192, 4074), (402, 1408), (238, 1937), (478, 5380), (277, 178), (553, 1054), (145, 5176), (4, 6549), (439, 6708), (490, 3244), (241, 5479), (169, 4789), (539, 842), (340, 2042), (35, 3284), (192, 1125), (98, 3509), (34, 3811), (388, 2051), (148, 3971), (131, 139), (325, 65), (475, 1580), (275, 196), (552, 2607), (179, 5250), (25, 5964), (434, 1709), (31, 2752), (172, 433), (91, 4756), (92, 2901), (177, 2689), (319, 1587), (518, 306), (444, 6044), (411, 2365), (579, 601), (129, 1008), (209, 2605), (397, 4870), (501, 2772), (425, 2174), (443, 2563), (136, 5435), (328, 3060), (371, 6694), (403, 3102), (19, 2803), (93, 230), (93, 176), (457, 3707), (229, 3130), (307, 1559), (278, 318), (221, 171), (61, 4026), (372, 1752), (60, 562), (353, 2306), (387, 3674), (269, 7082), (244, 5739), (371, 6878), (164, 2974), (399, 5651), (95, 3243), (505, 3015), (384, 49), (476, 1643), (537, 1238), (574, 4913), (80, 5527), (12, 5905), (471, 5286), (67, 992), (248, 3846), (145, 1693), (340, 3965), (339, 1104), (508, 128), (523, 6352), (44, 221), (418, 977), (16, 638), (358, 4752), (183, 2159), (99, 4473), (528, 1682), (138, 548), (53, 5710), (411, 2345), (446, 903), (118, 1194), (167, 731), (163, 2843), (421, 6199), (321, 2333), (511, 2176), (40, 4951), (320, 6423), (58, 2411), (469, 2511), (2, 2791), (190, 6061), (484, 6484), (556, 1054), (599, 2626), (319, 3804), (544, 6740), (326, 3044), (96, 2720), (200, 332), (330, 44), (362, 767), (9, 48), (614, 5148), (557, 2371), (587, 4893), (602, 2270), (243, 3788), (445, 1639), (173, 267), (391, 7151), (467, 1430), (502, 3498), (109, 1924), (500, 4206), (411, 299), (568, 910), (385, 5519), (520, 1024), (160, 506), (194, 6427), (290, 2364), (280, 2937), (403, 4193), (607, 586), (334, 1400), (83, 891), (483, 1291), (314, 2452), (76, 1392), (432, 3936), (462, 104), (514, 6439), (244, 7016), (103, 4473), (59, 2911), (449, 4729), (550, 1443), (323, 5443), (111, 1924), (63, 416), (608, 2003), (464, 96), (174, 6870), (49, 4315), (207, 442), (193, 9), (202, 5990), (409, 3420), (300, 336), (454, 6812), (106, 4021), (301, 4024), (279, 751), (214, 2010), (519, 5082), (535, 1287), (513, 1003), (562, 5388), (413, 3820), (493, 5401), (554, 4690), (9, 27), (404, 4194), (306, 1878), (496, 1769), (318, 6009), (190, 2352), (594, 2256), (248, 2123), (339, 3313), (347, 6641), (124, 73), (147, 2267), (408, 3687), (327, 3596), (302, 6160), (497, 3167), (71, 6458), (503, 1661), (558, 2021), (170, 4308), (84, 251), (329, 4972), (379, 1208), (123, 589), (245, 3066), (510, 2528), (451, 3120), (148, 1857), (37, 3570), (270, 4802), (144, 40), (250, 7072), (256, 407), (232, 7010), (549, 259), (224, 298), (74, 6239), (10, 946), (577, 5557), (173, 519), (221, 202), (547, 3033), (49, 647), (103, 125), (486, 382), (73, 1344), (556, 2092), (277, 5981), (288, 4352), (315, 2993), (306, 4396), (362, 3568), (215, 1166), (473, 786), (38, 160), (481, 5013), (472, 786), (448, 2487), (82, 6299), (238, 4096), (335, 2268), (366, 1923), (211, 824), (146, 1289), (66, 2433), (521, 1037), (81, 1725), (97, 155), (614, 4348), (248, 884), (341, 3994), (187, 1159), (352, 5801), (70, 503), (140, 59), (132, 4335), (477, 6484), (452, 782), (383, 1751), (435, 5205), (525, 317), (162, 1676), (93, 3792), (433, 93), (373, 4078), (199, 6872), (486, 2246), (74, 3713), (466, 1306), (605, 6321), (250, 4942), (308, 1180), (578, 620), (615, 5488), (388, 1323), (229, 6056), (66, 2976), (177, 5097), (400, 6992), (547, 990), (303, 1476), (524, 2895), (579, 766), (441, 6568), (579, 4051), (427, 4205), (99, 3436), (302, 1872), (417, 2131), (317, 1705), (249, 2449), (26, 262), (236, 3043), (10, 3056), (294, 613), (617, 3791), (398, 6946), (9, 2113), (77, 5604), (586, 2965), (390, 7160), (424, 6662), (245, 4469), (239, 4830), (222, 4688), (113, 5242), (293, 3941), (299, 1261), (156, 247), (267, 1475), (327, 5417), (236, 1290), (157, 180), (322, 2902), (176, 295), (593, 174), (487, 382), (354, 4371), (183, 1827), (260, 86), (189, 1814), (33, 30), (410, 99), (75, 3343), (61, 2279), (224, 595), (483, 2978), (69, 503), (163, 2848), (203, 1025), (285, 6058), (251, 600), (455, 2933), (461, 3897), (338, 2247), (59, 125), (207, 830), (351, 643), (147, 505), (333, 2342), (336, 5531), (8, 3056), (471, 157), (208, 1807), (509, 3106), (273, 2697), (449, 43), (551, 631), (358, 1852), (259, 3867), (532, 5342), (109, 578), (186, 6733), (127, 431), (181, 5201), (255, 3230), (532, 79), (181, 693), (284, 5026), (525, 922), (596, 5006), (268, 5554), (179, 1925), (559, 439), (319, 1456), (62, 1964), (125, 5051), (556, 70), (520, 4097), (189, 1045), (571, 2852), (268, 1020), (340, 6520), (17, 5510), (124, 787), (269, 95), (601, 2616), (492, 114), (316, 1919), (597, 4913), (213, 670), (45, 5948), (101, 704), (604, 6587), (227, 5279), (310, 3854), (35, 5369), (355, 1838), (332, 2502), (206, 2770), (613, 1364), (220, 6618), (408, 34), (407, 2547), (431, 1497), (372, 4078), (342, 154), (452, 2196), (102, 146), (245, 1868), (363, 6839), (134, 6356), (448, 87), (383, 1108), (597, 2256), (489, 5116), (237, 4807), (282, 4992), (442, 995), (53, 6584), (491, 4617), (290, 1676), (308, 3437), (155, 1259), (187, 793), (32, 6687), (223, 298), (528, 2425), (415, 305), (266, 5356), (570, 1286), (198, 234), (459, 6209), (334, 7156), (72, 498), (350, 4875), (435, 6974), (13, 5420), (501, 6867), (496, 187), (14, 3451), (43, 2097), (135, 4991), (333, 7156), (458, 5034), (35, 1459), (492, 3187), (232, 5549), (54, 6923), (279, 4899), (523, 5896), (578, 4301), (109, 6340), (343, 4286), (450, 3675), (472, 2580), (471, 2511), (110, 749), (158, 6178), (424, 6442), (504, 6287), (406, 3287), (218, 652), (607, 7027), (170, 4306), (389, 6415), (269, 2873), (480, 2530), (130, 708), (409, 1513), (560, 2251), (374, 4633), (376, 5091), (150, 6629), (124, 1496), (150, 486), (368, 2651), (376, 873), (413, 7076), (104, 1242), (116, 1272), (392, 25), (84, 1533), (288, 6), (522, 1324), (50, 6091), (59, 4473), (129, 100), (589, 3210), (223, 300), (274, 5507), (462, 3977), (470, 4368), (538, 2230), (154, 6390), (616, 743), (510, 788), (36, 3), (77, 4842), (567, 1928), (568, 3461), (289, 6), (444, 6333), (174, 1350), (341, 5025), (16, 5631), (616, 1051), (94, 5313), (231, 2281), (176, 5473), (298, 4137), (255, 2435), (182, 490), (47, 1710), (75, 6239), (151, 6638), (228, 1789), (351, 3255), (480, 1482), (140, 5166), (311, 1467), (212, 824), (72, 5069), (386, 4463), (515, 579), (196, 2409), (576, 2369), (56, 2086), (417, 397), (215, 2319), (20, 2565), (354, 489), (217, 1963), (393, 740), (239, 54), (303, 6418), (482, 1298), (311, 238), (514, 105), (401, 3102), (172, 2080), (299, 2712), (468, 5756), (264, 2056), (591, 1260), (42, 5570), (153, 6888), (112, 3455), (64, 2122), (585, 6258), (103, 2911), (591, 582), (38, 2691), (606, 5049), (111, 5242), (256, 5874), (509, 219), (249, 1539), (180, 5109), (237, 5107), (497, 4659), (490, 825), (508, 6363), (15, 239), (460, 4001), (81, 891), (113, 2695), (16, 2803), (304, 818), (286, 1649), (360, 3354), (257, 2562), (89, 118), (440, 6794), (317, 2630), (526, 1458), (6, 5506), (249, 2837), (267, 1724), (159, 2046), (312, 4237), (165, 559), (270, 5571), (482, 3969), (120, 4148), (338, 583), (593, 6570), (600, 3485), (584, 3285), (590, 5117), (589, 1409), (405, 2700), (517, 4596), (47, 3177), (554, 2310), (7, 6186), (101, 5362), (468, 1430), (313, 473), (171, 1920), (27, 4926), (367, 3662), (42, 1199), (237, 4299), (537, 1244), (427, 1055), (610, 1226), (21, 127), (414, 2868), (296, 6387), (454, 1864), (586, 4549), (464, 4454), (355, 1740), (324, 2704), (536, 1287), (566, 4940), (225, 3824), (384, 4463), (200, 2886), (188, 4956), (392, 4651), (588, 7066), (612, 6582), (609, 1541), (122, 877), (141, 5632), (437, 4696), (286, 2366), (4, 3048), (546, 593), (73, 297), (297, 686), (346, 862), (150, 2380), (133, 2540), (210, 6791), (467, 6234), (199, 3847), (89, 2608), (166, 559), (12, 1433), (142, 75), (281, 6207), (87, 1447), (142, 7119), (355, 5736), (365, 3779), (356, 78), (216, 4679), (79, 384), (557, 3526), (0, 4749), (258, 3867), (77, 345), (315, 2758), (423, 3076), (257, 5874), (446, 2023), (51, 1908), (394, 5935), (30, 6899), (477, 5628), (580, 5070), (349, 5676), (537, 760), (261, 1103), (564, 2812), (391, 2340), (436, 5319), (430, 6316), (461, 3918), (106, 4434), (543, 4730), (409, 2744), (219, 4537), (175, 4641), (182, 5847), (168, 5455), (66, 6136), (608, 1736), (595, 378), (512, 7061), (63, 2099), (76, 3343), (193, 6427), (456, 2093), (226, 4443), (149, 505), (241, 6864), (344, 154), (564, 11), (57, 479), (282, 2421), (8, 1109), (57, 2088), (335, 5215), (542, 4589), (105, 4708), (534, 2162), (152, 4468), (464, 804), (590, 6512), (228, 1249), (121, 4148), (0, 5258), (480, 3292), (382, 1525), (330, 1275), (549, 6200), (25, 1155), (495, 6298), (386, 5680), (14, 3273), (426, 4941), (559, 3780), (3, 4477), (253, 2393), (361, 767), (487, 7161), (313, 5543), (50, 1574), (377, 2405), (13, 4905), (156, 362), (94, 2019), (417, 89), (104, 1284), (240, 495), (26, 136), (190, 3755), (430, 4354), (233, 1030), (158, 4445), (390, 1084), (357, 3831), (378, 4774), (61, 956), (251, 1308), (542, 5465), (588, 6043), (11, 48), (601, 7127), (272, 3723), (378, 6709), (433, 2033), (3, 1005), (428, 1461), (353, 47), (15, 5429), (263, 1888), (284, 6563), (100, 3803), (555, 6773), (12, 56), (130, 861), (242, 1937), (108, 2925), (305, 2157), (277, 2674), (2, 5315), (567, 685), (334, 6513), (298, 7078), (566, 289), (118, 5444), (181, 218), (425, 2020), (451, 2668), (488, 905), (98, 1282), (606, 2204), (545, 6144), (141, 837), (335, 2631), (455, 1609), (364, 415), (543, 779), (187, 2483), (595, 1665), (410, 2664), (395, 4338), (296, 4053), (211, 4402), (359, 180), (490, 1082), (530, 2820), (276, 524), (259, 86), (562, 2212), (572, 5633), (79, 1212), (505, 5724), (167, 6574), (263, 1523), (36, 6216), (318, 3923), (530, 7152), (370, 972), (324, 1297), (441, 5423), (119, 931), (112, 5068), (331, 3885), (515, 215), (496, 1651), (292, 4591), (402, 851), (469, 175), (606, 1453), (572, 2466), (415, 3671), (41, 3623), (28, 1136), (599, 5317), (197, 3878), (42, 321), (211, 670), (7, 1019), (102, 1186), (186, 5108), (506, 5307), (134, 145), (39, 4902), (370, 797), (558, 5210), (280, 110), (483, 5816), (450, 6218), (166, 731), (40, 127), (460, 3857), (447, 3524), (563, 1510), (225, 2834), (359, 2888), (34, 6786), (436, 5713), (251, 935), (214, 3659), (139, 2322), (360, 21), (310, 4237), (197, 2303), (53, 2822), (110, 5590), (474, 3026), (70, 4680), (592, 2286), (1, 2536), (467, 1306), (466, 681), (90, 176), (287, 462), (401, 1899), (117, 841), (404, 3990), (441, 42), (585, 4565), (301, 6943), (10, 4323), (367, 153), (305, 2069), (406, 1468), (236, 5052), (137, 5974), (147, 1168), (526, 7129), (4, 195), (37, 2946), (78, 5940), (518, 3549), (298, 1488), (295, 5667), (243, 3008), (499, 6411), (528, 908), (155, 3046), (511, 3115), (159, 247), (125, 2039), (169, 130), (529, 6989), (205, 6391), (527, 185), (479, 6837), (354, 2201), (392, 1309), (67, 6136), (329, 1996), (13, 322), (198, 624), (196, 5938), (300, 3491), (51, 1574), (513, 706), (338, 6495), (344, 4666), (333, 1400), (76, 6182), (161, 6339), (264, 1523), (538, 544), (418, 268), (127, 2011), (573, 6171), (220, 1030), (27, 1257), (178, 3138), (596, 217), (521, 796), (560, 4056), (510, 4395), (115, 3088), (87, 1348), (500, 3446), (143, 2910), (604, 3326), (168, 660), (387, 885), (447, 1828), (598, 3819), (291, 3248), (462, 2949), (420, 107), (71, 4704), (297, 4045), (207, 354), (256, 5591), (188, 2221), (309, 2014), (168, 558), (332, 3885), (283, 4650), (191, 1063), (68, 4050), (445, 2669), (139, 1058), (273, 2990), (8, 6020), (216, 1963), (468, 6234), (320, 2265), (105, 661), (511, 3037)]"
   ],
   "metadata": {
    "collapsed": false,
    "pycharm": {
     "name": "#%%\n"
    }
   }
  },
  {
   "cell_type": "code",
   "execution_count": null,
   "outputs": [],
   "source": [],
   "metadata": {
    "collapsed": false,
    "pycharm": {
     "name": "#%%\n"
    }
   }
  }
 ],
 "metadata": {
  "kernelspec": {
   "display_name": "Python 3",
   "language": "python",
   "name": "python3"
  },
  "language_info": {
   "codemirror_mode": {
    "name": "ipython",
    "version": 2
   },
   "file_extension": ".py",
   "mimetype": "text/x-python",
   "name": "python",
   "nbconvert_exporter": "python",
   "pygments_lexer": "ipython2",
   "version": "2.7.6"
  }
 },
 "nbformat": 4,
 "nbformat_minor": 0
}