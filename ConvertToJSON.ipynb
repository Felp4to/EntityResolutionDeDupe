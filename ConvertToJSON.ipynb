{
 "cells": [
  {
   "cell_type": "markdown",
   "source": [
    "# Convert CSV to JSON"
   ],
   "metadata": {
    "collapsed": false
   }
  },
  {
   "cell_type": "code",
   "execution_count": 171,
   "outputs": [],
   "source": [
    "from os import listdir\n",
    "from os.path import isfile, isdir\n",
    "import pandas as pd"
   ],
   "metadata": {
    "collapsed": false,
    "pycharm": {
     "name": "#%%\n"
    }
   }
  },
  {
   "cell_type": "code",
   "execution_count": 172,
   "metadata": {
    "collapsed": true
   },
   "outputs": [],
   "source": [
    "def make_json(csv_file_path, json_file_path, encoding):\n",
    "    df = pd.read_csv(csv_file_path, encoding=encoding)\n",
    "    if 'Unnamed: 0' in df.columns:\n",
    "        df = df.drop('Unnamed: 0', axis=1)\n",
    "    df.to_json(json_file_path, orient='records', lines=True, force_ascii=False)"
   ]
  },
  {
   "cell_type": "code",
   "execution_count": 173,
   "outputs": [
    {
     "name": "stdout",
     "output_type": "stream",
     "text": [
      "{'csv_file_name': 'value.today_silvestri.csv', 'json_file_name': 'value.today_silvestri.jsonl', 'encoding': 'utf-8', 'outcome': 'ok'}\n",
      "{'csv_file_name': 'ft_fr.csv', 'json_file_name': 'ft_fr.jsonl', 'encoding': 'utf-8', 'outcome': 'ok'}\n",
      "{'csv_file_name': 'ft_DDD.csv', 'json_file_name': 'ft_DDD.jsonl', 'encoding': 'utf-8', 'outcome': 'ok'}\n",
      "{'csv_file_name': 'ft_silvestri.csv', 'json_file_name': 'ft_silvestri.jsonl', 'encoding': 'utf-8', 'outcome': 'ok'}\n",
      "{'csv_file_name': 'Disfold_MarScoToc.csv', 'json_file_name': 'Disfold_MarScoToc.jsonl', 'encoding': 'unicode_escape', 'outcome': 'ok'}\n",
      "{'csv_file_name': 'disfold_fr.csv', 'json_file_name': 'disfold_fr.jsonl', 'encoding': 'utf-8', 'outcome': 'ok'}\n",
      "{'csv_file_name': 'disfold_silvestri.csv', 'json_file_name': 'disfold_silvestri.jsonl', 'encoding': 'utf-8', 'outcome': 'ok'}\n",
      "{'csv_file_name': 'CompaniesMarketCap_MarScoToc.csv', 'json_file_name': 'CompaniesMarketCap_MarScoToc.jsonl', 'encoding': 'unicode_escape', 'outcome': 'ok'}\n",
      "{'csv_file_name': 'companiesmarketcap_DDD.csv', 'json_file_name': 'companiesmarketcap_DDD.jsonl', 'encoding': 'utf-8', 'outcome': 'ok'}\n",
      "{'csv_file_name': 'cbinsights_DDD.csv', 'json_file_name': 'cbinsights_DDD.jsonl', 'encoding': 'utf-8', 'outcome': 'ok'}\n",
      "{'csv_file_name': 'Wikipedia_MarScoToc.csv', 'json_file_name': 'Wikipedia_MarScoToc.jsonl', 'encoding': 'unicode_escape', 'outcome': 'ok'}\n"
     ]
    }
   ],
   "source": [
    "BASE_PATH = './Schema Mediato/Datasets Original/'\n",
    "\n",
    "for elem in listdir(BASE_PATH):\n",
    "    dir_path = BASE_PATH + elem\n",
    "    if isdir(dir_path):\n",
    "        for f in listdir(dir_path):\n",
    "            file_path = dir_path + '/' + f\n",
    "            if isfile(file_path) and file_path.endswith('.csv'):\n",
    "                csv_file_name = file_path[file_path.rfind('/') + 1:]\n",
    "                json_file_path = file_path.replace('.csv', '.jsonl')\n",
    "                json_file_name = json_file_path[json_file_path.rfind('/') + 1:]\n",
    "\n",
    "                d = {\n",
    "                    'csv_file_name': csv_file_name,\n",
    "                    'json_file_name': json_file_name,\n",
    "                }\n",
    "\n",
    "                jsonFilePath = file_path.replace('.csv', '.jsonl')\n",
    "                try:\n",
    "                    make_json(file_path, jsonFilePath, 'utf-8')\n",
    "                    d['encoding'] = 'utf-8'\n",
    "                    d['outcome'] = 'ok'\n",
    "                except UnicodeDecodeError:\n",
    "                    make_json(file_path, jsonFilePath, 'unicode_escape')\n",
    "                    d['encoding'] = 'unicode_escape'\n",
    "                    d['outcome'] = 'ok'\n",
    "                except:\n",
    "                    d['outcome'] = 'ko'\n",
    "\n",
    "                print(d)"
   ],
   "metadata": {
    "collapsed": false,
    "pycharm": {
     "name": "#%%\n"
    }
   }
  }
 ],
 "metadata": {
  "kernelspec": {
   "display_name": "Python 3",
   "language": "python",
   "name": "python3"
  },
  "language_info": {
   "codemirror_mode": {
    "name": "ipython",
    "version": 2
   },
   "file_extension": ".py",
   "mimetype": "text/x-python",
   "name": "python",
   "nbconvert_exporter": "python",
   "pygments_lexer": "ipython2",
   "version": "2.7.6"
  }
 },
 "nbformat": 4,
 "nbformat_minor": 0
}