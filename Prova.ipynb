{
 "cells": [
  {
   "cell_type": "code",
   "execution_count": 1,
   "outputs": [],
   "source": [
    "from os import listdir\n",
    "from os.path import isfile, isdir\n",
    "import pandas as pd"
   ],
   "metadata": {
    "collapsed": false,
    "pycharm": {
     "name": "#%%\n"
    }
   }
  },
  {
   "cell_type": "code",
   "execution_count": 2,
   "outputs": [],
   "source": [
    "SOURCE_PATH = './Schema Mediato/Datasets Original/'\n",
    "CLEANED_DATASETS_PATH = './Cleaned Datasets/'\n",
    "COLUMNS_TO_DROP = ['id', 'Unnamed: 0']"
   ],
   "metadata": {
    "collapsed": false,
    "pycharm": {
     "name": "#%%\n"
    }
   }
  },
  {
   "cell_type": "code",
   "execution_count": 3,
   "outputs": [],
   "source": [],
   "metadata": {
    "collapsed": false,
    "pycharm": {
     "name": "#%%\n"
    }
   }
  },
  {
   "cell_type": "code",
   "execution_count": 23,
   "outputs": [
    {
     "name": "stdout",
     "output_type": "stream",
     "text": [
      "{'csv_file_name': 'value.today_silvestri.csv', 'json_file_name': 'value.today_silvestri.jsonl', 'encoding': 'utf-8', 'outcome': 'ok'}\n",
      "{'csv_file_name': 'ft_fr.csv', 'json_file_name': 'ft_fr.jsonl', 'encoding': 'utf-8', 'outcome': 'ok'}\n",
      "{'csv_file_name': 'ft_DDD.csv', 'json_file_name': 'ft_DDD.jsonl', 'encoding': 'utf-8', 'outcome': 'ok'}\n",
      "{'csv_file_name': 'ft_silvestri.csv', 'json_file_name': 'ft_silvestri.jsonl', 'encoding': 'utf-8', 'outcome': 'ok'}\n",
      "{'csv_file_name': 'Disfold_MarScoToc.csv', 'json_file_name': 'Disfold_MarScoToc.jsonl', 'encoding': 'unicode_escape', 'outcome': 'ok'}\n",
      "{'csv_file_name': 'disfold_fr.csv', 'json_file_name': 'disfold_fr.jsonl', 'encoding': 'utf-8', 'outcome': 'ok'}\n",
      "{'csv_file_name': 'disfold_silvestri.csv', 'json_file_name': 'disfold_silvestri.jsonl', 'encoding': 'utf-8', 'outcome': 'ok'}\n",
      "{'csv_file_name': 'CompaniesMarketCap_MarScoToc.csv', 'json_file_name': 'CompaniesMarketCap_MarScoToc.jsonl', 'encoding': 'unicode_escape', 'outcome': 'ok'}\n",
      "{'csv_file_name': 'companiesmarketcap_DDD.csv', 'json_file_name': 'companiesmarketcap_DDD.jsonl', 'encoding': 'utf-8', 'outcome': 'ok'}\n",
      "{'csv_file_name': 'cbinsights_DDD.csv', 'json_file_name': 'cbinsights_DDD.jsonl', 'encoding': 'utf-8', 'outcome': 'ok'}\n",
      "{'csv_file_name': 'Wikipedia_MarScoToc.csv', 'json_file_name': 'Wikipedia_MarScoToc.jsonl', 'encoding': 'unicode_escape', 'outcome': 'ok'}\n"
     ]
    }
   ],
   "source": [
    "def clean_dataset(dataset):\n",
    "    for col in COLUMNS_TO_DROP:\n",
    "        if col in dataset.columns:\n",
    "            dataset.drop(col, axis=1, inplace=True)\n",
    "\n",
    "    dataset.dropna(axis=0, how='all', inplace=True)\n",
    "    dataset.fillna('', inplace=True)\n",
    "\n",
    "    for i in dataset:\n",
    "        dataset[i] = [', '.join(map(str, l)) if isinstance(l, list) else l for l in dataset[i]]\n",
    "\n",
    "    for i in dataset:\n",
    "        if dataset[i].dtype == object:\n",
    "            dataset[i] = dataset[i].str.lower()\n",
    "            dataset[i] = dataset[i].str.replace('mr|ms|[^\\w\\s]', '', regex=True)\n",
    "            dataset[i] = dataset[i].str.replace('none', '', regex=True)\n",
    "            dataset[i] = dataset[i].str.replace('[0-9]\\sb$|[0-9]\\sbillion$', '000000000', regex=True)\n",
    "            dataset[i] = dataset[i].str.replace('[0-9]\\st$|[0-9]\\strillion$', '000000000000', regex=True)\n",
    "            dataset[i] = dataset[i].str.strip()\n",
    "\n",
    "    return dataset\n",
    "\n",
    "for elem in listdir(SOURCE_PATH):\n",
    "    dir_path = SOURCE_PATH + elem\n",
    "    if isdir(dir_path):\n",
    "        for f in listdir(dir_path):\n",
    "            file_path = dir_path + '/' + f\n",
    "            csv_file_name = file_path[file_path.rfind('/') + 1:]\n",
    "            json_file_path = CLEANED_DATASETS_PATH\n",
    "            df = None\n",
    "\n",
    "            if isfile(file_path):\n",
    "                if file_path.endswith('.csv'):\n",
    "                    json_file_name = csv_file_name.replace('.csv', '.jsonl')\n",
    "                    json_file_path = json_file_path + json_file_name\n",
    "\n",
    "                    d = {\n",
    "                        'csv_file_name': csv_file_name,\n",
    "                        'json_file_name': json_file_name,\n",
    "                    }\n",
    "\n",
    "                    try:\n",
    "                        df = pd.read_csv(file_path, encoding='utf-8')\n",
    "                        d['encoding'] = 'utf-8'\n",
    "                        d['outcome'] = 'ok'\n",
    "                    except UnicodeDecodeError:\n",
    "                        df = pd.read_csv(file_path, encoding='unicode_escape')\n",
    "                        d['encoding'] = 'unicode_escape'\n",
    "                        d['outcome'] = 'ok'\n",
    "                    except:\n",
    "                        d['outcome'] = 'ko'\n",
    "\n",
    "                    print(d)\n",
    "                elif file_path.endswith('.json'):\n",
    "                    json_file_name = csv_file_name.replace('.json', '.jsonl')\n",
    "                    json_file_path = json_file_path + json_file_name\n",
    "                    df = pd.read_json(file_path, encoding='utf-8')\n",
    "                elif file_path.endswith('jsonl'):\n",
    "                    json_file_path = file_path\n",
    "                    df = pd.read_json(file_path, encoding='utf-8', lines=True)\n",
    "\n",
    "                if df is not None:\n",
    "                    clean_dataset(df)\n",
    "                    df.to_json(json_file_path, orient='records', lines=True, force_ascii=False)"
   ],
   "metadata": {
    "collapsed": false,
    "pycharm": {
     "name": "#%%\n"
    }
   }
  },
  {
   "cell_type": "code",
   "execution_count": null,
   "outputs": [],
   "source": [],
   "metadata": {
    "collapsed": false,
    "pycharm": {
     "name": "#%%\n"
    }
   }
  }
 ],
 "metadata": {
  "kernelspec": {
   "display_name": "Python 3",
   "language": "python",
   "name": "python3"
  },
  "language_info": {
   "codemirror_mode": {
    "name": "ipython",
    "version": 2
   },
   "file_extension": ".py",
   "mimetype": "text/x-python",
   "name": "python",
   "nbconvert_exporter": "python",
   "pygments_lexer": "ipython2",
   "version": "2.7.6"
  }
 },
 "nbformat": 4,
 "nbformat_minor": 0
}