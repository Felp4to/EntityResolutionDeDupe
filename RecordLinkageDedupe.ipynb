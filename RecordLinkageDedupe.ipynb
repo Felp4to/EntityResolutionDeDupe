{
 "cells": [
  {
   "cell_type": "markdown",
   "source": [
    "# Record Linkage"
   ],
   "metadata": {
    "collapsed": false
   }
  },
  {
   "cell_type": "code",
   "execution_count": 13,
   "metadata": {},
   "outputs": [],
   "source": [
    "import os\n",
    "import csv\n",
    "import re\n",
    "import pandas as pd\n",
    "import numpy as np\n",
    "import dedupe\n",
    "from unidecode import unidecode"
   ]
  },
  {
   "cell_type": "code",
   "execution_count": 14,
   "metadata": {
    "pycharm": {
     "name": "#%%\n"
    }
   },
   "outputs": [],
   "source": [
    "output_file = './Data Matching Output/data_matching_output'\n",
    "settings_file = 'data_matching_learned_settings'\n",
    "training_file = 'data_matching_training.json'\n",
    "sources_path = './Mediated Datasets/'\n",
    "record_linkage_path = './Record Linkage/'"
   ]
  },
  {
   "cell_type": "code",
   "execution_count": 15,
   "metadata": {
    "pycharm": {
     "name": "#%%\n"
    }
   },
   "outputs": [],
   "source": [
    "def get_all_files(path_dir):\n",
    "    res = []\n",
    "    for path in os.listdir(path_dir):\n",
    "        filename = os.path.join(path_dir, path)\n",
    "        if os.path.isfile(filename) and filename != '.DS_Store':\n",
    "            res.append(path)\n",
    "    return res\n",
    "\n",
    "\n",
    "def pre_process(column):\n",
    "    column = unidecode(column)\n",
    "    column = re.sub('\\n', ' ', column)\n",
    "    column = re.sub('-', '', column)\n",
    "    column = re.sub('/', ' ', column)\n",
    "    column = re.sub(\"'\", '', column)\n",
    "    column = re.sub(\",\", '', column)\n",
    "    column = re.sub(\":\", ' ', column)\n",
    "    column = re.sub('  +', ' ', column)\n",
    "    column = column.strip().strip('\"').strip(\"'\").lower().strip()\n",
    "    if not column:\n",
    "        column = None\n",
    "    return column\n",
    "\n",
    "\n",
    "def read_data(filename):\n",
    "    data_d = {}\n",
    "\n",
    "    with open(filename, 'r', encoding='utf-8') as f:\n",
    "        reader = csv.DictReader(f)\n",
    "        for i, row in enumerate(reader):\n",
    "            clean_row = dict([(k, pre_process(v)) for (k, v) in row.items()])\n",
    "            data_d[filename + str(i)] = dict(clean_row)\n",
    "\n",
    "    return data_d\n",
    "\n",
    "\n",
    "def merge_same_entities(df):\n",
    "    unique = df[df['Cluster ID'].isnull()].reset_index(drop=True)\n",
    "    duplicates = df[~df['Cluster ID'].isnull()].reset_index(drop=True)\n",
    "    merged = duplicates.fillna('')\\\n",
    "        .groupby('Cluster ID')\\\n",
    "        .max().replace('', np.nan)\\\n",
    "        .reset_index()\n",
    "    return pd.concat([merged, unique])\\\n",
    "        .drop(['Cluster ID', 'Link Score'], axis=1)\\\n",
    "        .reset_index(drop=True)"
   ]
  },
  {
   "cell_type": "code",
   "execution_count": 16,
   "outputs": [
    {
     "name": "stdout",
     "output_type": "stream",
     "text": [
      "36\n",
      "importing: ./Mediated Datasets/valuetoday_fr_cleaned_mediated.csv\n",
      "################  START ITERATION 1  ################\n",
      "importing: ./Mediated Datasets/valueToday_iGMM_cleaned_mediated.csv\n",
      "reading from data_matching_learned_settings\n",
      "clustering...\n",
      "# duplicate sets 999\n",
      "################  END ITERATION 1  ################\n"
     ]
    }
   ],
   "source": [
    "def get_all_files(path_dir):\n",
    "    res = []\n",
    "    for file in os.listdir(path_dir):\n",
    "        path = os.path.join(path_dir, file)\n",
    "        if os.path.isfile(path) and file != '.DS_Store':\n",
    "            res.append(file)\n",
    "    return res\n",
    "\n",
    "files = get_all_files(sources_path)\n",
    "left_file = sources_path + files.pop(0)\n",
    "print('importing:', left_file)\n",
    "data_1 = read_data(left_file)\n",
    "\n",
    "\n",
    "for n, file in enumerate(files):\n",
    "    print('################  START ITERATION ' + str(n+1) + '  ################')\n",
    "    right_file = sources_path + file\n",
    "    print('importing:', right_file)\n",
    "    data_2 = read_data(right_file)\n",
    "\n",
    "    if os.path.exists(settings_file):\n",
    "        print('reading from', settings_file)\n",
    "        with open(settings_file, 'rb') as sf:\n",
    "            linker = dedupe.StaticRecordLink(sf)\n",
    "    else:\n",
    "        fields = [\n",
    "            {'field': 'name', 'type': 'String', 'has_missing': True},\n",
    "            {'field': 'ceo', 'type': 'String', 'has missing': True},\n",
    "            {'field': 'country', 'type': 'String', 'has missing': True},\n",
    "        ]\n",
    "        linker = dedupe.RecordLink(fields)\n",
    "\n",
    "        if os.path.exists(training_file):\n",
    "            print('reading labeled examples from ', training_file)\n",
    "            with open(training_file) as tf:\n",
    "                linker.prepare_training(data_1,\n",
    "                                        data_2,\n",
    "                                        training_file=tf,\n",
    "                                        sample_size=1000)\n",
    "        else:\n",
    "            linker.prepare_training(data_1, data_2, sample_size=1000)\n",
    "\n",
    "        print('starting active labeling...')\n",
    "\n",
    "        dedupe.console_label(linker)\n",
    "\n",
    "        linker.train()\n",
    "\n",
    "        with open(training_file, 'w') as tf:\n",
    "            linker.write_training(tf)\n",
    "\n",
    "        with open(settings_file, 'wb') as sf:\n",
    "            linker.write_settings(sf)\n",
    "\n",
    "    print('clustering...')\n",
    "    linked_records = linker.join(data_1, data_2, 0.0)\n",
    "\n",
    "    print('# duplicate sets', len(linked_records))\n",
    "\n",
    "    cluster_membership = {}\n",
    "    for cluster_id, (cluster, score) in enumerate(linked_records):\n",
    "        for record_id in cluster:\n",
    "            cluster_membership[record_id] = {'Cluster ID': cluster_id,\n",
    "                                             'Link Score': score}\n",
    "\n",
    "    with open(output_file + '_' + str(n) + '.csv', 'w') as f:\n",
    "        header_unwritten = True\n",
    "\n",
    "        for fileno, filename in enumerate((left_file, right_file)):\n",
    "            with open(filename) as f_input:\n",
    "                reader = csv.DictReader(f_input)\n",
    "\n",
    "                if header_unwritten:\n",
    "                    fieldnames = (['Cluster ID', 'Link Score'] +\n",
    "                                  reader.fieldnames)\n",
    "\n",
    "                    writer = csv.DictWriter(f, fieldnames=fieldnames)\n",
    "                    writer.writeheader()\n",
    "\n",
    "                    header_unwritten = False\n",
    "\n",
    "                for row_id, row in enumerate(reader):\n",
    "                    record_id = filename + str(row_id)\n",
    "                    cluster_details = cluster_membership.get(record_id, {})\n",
    "                    row.update(cluster_details)\n",
    "\n",
    "                    writer.writerow(row)\n",
    "\n",
    "    ### Mergio le informazioni dei record appartenenti alle stesse aziende\n",
    "    df = pd.read_csv(output_file + '_' + str(n) + '.csv', encoding='utf-8', dtype=object)\n",
    "    result = merge_same_entities(df)\n",
    "    if n == (len(files)-1):\n",
    "        left_file = record_linkage_path + 'final_result_merge.csv'\n",
    "    else:\n",
    "        left_file = record_linkage_path + 'result_merge' + '_' + str(n) + '.csv'\n",
    "    result.to_csv(left_file, index=False)\n",
    "    data_1 = read_data(left_file)\n",
    "    print('################  END ITERATION ' + str(n+1) + '  ################')"
   ],
   "metadata": {
    "collapsed": false,
    "pycharm": {
     "name": "#%%\n"
    }
   }
  },
  {
   "cell_type": "code",
   "execution_count": null,
   "outputs": [],
   "source": [],
   "metadata": {
    "collapsed": false,
    "pycharm": {
     "name": "#%%\n"
    }
   }
  }
 ],
 "metadata": {
  "kernelspec": {
   "display_name": "Python 3",
   "language": "python",
   "name": "python3"
  },
  "language_info": {
   "codemirror_mode": {
    "name": "ipython",
    "version": 3
   },
   "file_extension": ".py",
   "mimetype": "text/x-python",
   "name": "python",
   "nbconvert_exporter": "python",
   "pygments_lexer": "ipython3",
   "version": "3.10.9"
  }
 },
 "nbformat": 4,
 "nbformat_minor": 1
}