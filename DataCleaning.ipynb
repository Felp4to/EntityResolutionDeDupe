{
 "cells": [
  {
   "cell_type": "code",
   "execution_count": 1,
   "outputs": [],
   "source": [
    "from os import listdir\n",
    "from os.path import isfile, isdir\n",
    "import pandas as pd\n",
    "import re\n",
    "import unicodedata"
   ],
   "metadata": {
    "collapsed": false,
    "pycharm": {
     "name": "#%%\n"
    }
   }
  },
  {
   "cell_type": "code",
   "execution_count": 2,
   "outputs": [],
   "source": [
    "SOURCE_PATH = './Datasets/'\n",
    "CLEANED_DATASETS_PATH = './Cleaned Datasets/'\n",
    "COLUMNS_TO_DROP = ['id', 'unnamed:_0']\n",
    "COLUMNS_WITH_AMOUNT = ['pricecap', 'price', 'shareprice', 'marketcap', 'gbp', 'total_raised', 'valuation',\n",
    "                       'share_price', 'market_cap', 'master_cap', 'revenue', 'market_value_apr_2022',\n",
    "                       'annual_revenue_in_usd', 'annual_net_income_in_usd', 'market_value', 'marketvalue',\n",
    "                       'annual_revenue', 'revenue_2022', 'net_income', 'annual_results_for_year_ending', 'total_assets_in_usd', 'total_liabilities_in_usd', 'total_equity_in_usd', 'market_value_(jan_1st_2020)', 'market_value_(jan-07-2022)', 'market_value_jan_2020', 'market_value_jan_2021', 'market_value_jan_2022']\n",
    "COLUMNS_WITH_NAME = ['name', 'company', 'ceo', 'founders']"
   ],
   "metadata": {
    "collapsed": false,
    "pycharm": {
     "name": "#%%\n"
    }
   }
  },
  {
   "cell_type": "code",
   "execution_count": 3,
   "outputs": [],
   "source": [
    "def clean_dataset(dataset):\n",
    "    dataset.columns = [re.sub(r'([a-z])([A-Z])', r'\\1 \\2', col).lower().replace(' ', '_') for col in dataset.columns]\n",
    "\n",
    "    for col in COLUMNS_TO_DROP:\n",
    "        if col in dataset.columns:\n",
    "            dataset.drop(col, axis=1, inplace=True)\n",
    "\n",
    "    dataset.dropna(axis=0, how='all', inplace=True)\n",
    "    dataset.fillna('', inplace=True)\n",
    "\n",
    "    for col in dataset:\n",
    "        dataset[col] = [', '.join(map(str, l)) if isinstance(l, list) else l for l in dataset[col]]\n",
    "\n",
    "        if dataset[col].dtype == object:\n",
    "            dataset[col] = dataset[col].str.lower()\n",
    "\n",
    "            if col in COLUMNS_WITH_NAME:\n",
    "                dataset[col] = clean_name_column(dataset[col])\n",
    "            elif col in COLUMNS_WITH_AMOUNT:\n",
    "                dataset[col] = clean_amount_column(dataset[col])\n",
    "            else:\n",
    "                dataset[col] = clean_general_column(dataset[col])\n",
    "\n",
    "    return dataset\n",
    "\n",
    "\n",
    "def get_multiplier(value):\n",
    "    if re.compile(r'\\s*million|\\sm').search(value):\n",
    "        return 1000000\n",
    "    elif re.compile(r'\\s*billion|\\sb').search(value):\n",
    "        return 1000000000\n",
    "    elif re.compile(r'\\s*trillion|\\st').search(value):\n",
    "        return 1000000000000\n",
    "    else:\n",
    "        return 1\n",
    "\n",
    "\n",
    "def clean_amount(amount):\n",
    "    return re.sub(r'million|m|billion|b|trillion|t|usd|us|\\$|\\(([a-z0-9\\s]+)\\)', '', amount)\\\n",
    "        .replace(',', '.')\\\n",
    "        .strip()\n",
    "\n",
    "\n",
    "def clean_name_column(column):\n",
    "    return column.str.replace('none|mr|ms|[._?!()^\";@:#+*\\t]', '', regex=True)\\\n",
    "        .str.replace('\\\\n', ' ', regex=True)\n",
    "\n",
    "\n",
    "def clean_general_column(column):\n",
    "    return column.str.replace('\\\\r\\\\n|founded|none|mr|ms|[\\\\n_?!()^\";#*\\t]', ' ', regex=True)\n",
    "\n",
    "\n",
    "def clean_amount_column(column):\n",
    "    l = []\n",
    "    for elem in column:\n",
    "        elem = elem.lower()\n",
    "        cleaned = clean_amount(elem)\n",
    "        multiplier = get_multiplier(elem)\n",
    "        if re.match('^[0-9]+(.[0-9]+)?$', cleaned):\n",
    "            l.append(int(float(cleaned) * multiplier))\n",
    "        else:\n",
    "            l.append(elem)\n",
    "\n",
    "    return l"
   ],
   "metadata": {
    "collapsed": false,
    "pycharm": {
     "name": "#%%\n"
    }
   }
  },
  {
   "cell_type": "code",
   "execution_count": 4,
   "outputs": [
    {
     "name": "stdout",
     "output_type": "stream",
     "text": [
      "forbes_fr.jsonl\n",
      "wiki_GioPonSPiz.jsonl\n",
      "Wikipedia_MarScoToc.jsonl\n",
      "famcap_germany_FR.jsonl\n",
      "govuk_DeBiGa.jsonl\n",
      "cbinsights_DDD.jsonl\n",
      "cbinsights_iGMM.jsonl\n",
      "globaldata_DeBiGa.jsonl\n",
      "CompaniesMarketCap_GioPonSpiz.jsonl\n",
      "companiesMarketCap_Avengers.jsonl\n",
      "CompaniesMarketCap_MarScoToc.jsonl\n",
      "companiesmarketcap_gren.jsonl\n",
      "companiesmarketcap_DDD.jsonl\n",
      "companiesmarketcap_iGMM.jsonl\n",
      "disfold_Avengers.jsonl\n",
      "disfold_iGMM.jsonl\n",
      "Disfold_MarScoToc.jsonl\n",
      "disfold_gren.jsonl\n",
      "disfold_GioPonSpiz.jsonl\n",
      "disfold_fr.jsonl\n",
      "disfold_silvestri.jsonl\n",
      "disfold_DeBiGa.jsonl\n",
      "disfold_slyherin.jsonl\n",
      "hitHorizons_Avengers.jsonl\n",
      "ft_iGMM.jsonl\n",
      "ft_Slytherin.jsonl\n",
      "ft_gren.jsonl\n",
      "ft_fr.jsonl\n",
      "ft_DDD.jsonl\n",
      "ft_silvestri.jsonl\n",
      "valueToday_Avengers.jsonl\n",
      "valueToday_GioPonSPiz.jsonl\n",
      "valuetoday_silvestri.jsonl\n",
      "valuetoday_fr.jsonl\n",
      "valuetoday_slytherin.jsonl\n",
      "valueToday_gren.jsonl\n",
      "valueToday_iGMM.jsonl\n"
     ]
    }
   ],
   "source": [
    "for directory in listdir(SOURCE_PATH):\n",
    "    dir_path = SOURCE_PATH + directory\n",
    "    if isdir(dir_path):\n",
    "        for f in listdir(dir_path):\n",
    "            file_path = dir_path + '/' + f\n",
    "            file_name = file_path[file_path.rfind('/') + 1:]\n",
    "            json_file_path = ''\n",
    "            df = None\n",
    "\n",
    "            if isfile(file_path):\n",
    "                if file_name.endswith('.csv'):\n",
    "                    json_file_name = file_name.replace('.csv', '.jsonl')\n",
    "                    json_file_path = CLEANED_DATASETS_PATH + json_file_name\n",
    "                    print(json_file_name)\n",
    "\n",
    "                    d = {\n",
    "                        'csv_file_name': file_name,\n",
    "                        'json_file_name': json_file_name,\n",
    "                    }\n",
    "\n",
    "                    try:\n",
    "                        df = pd.read_csv(file_path, encoding='utf-8', dtype=object)\n",
    "                        d['encoding'] = 'utf-8'\n",
    "                        d['outcome'] = 'ok'\n",
    "                    except UnicodeDecodeError:\n",
    "                        df = pd.read_csv(file_path, encoding='unicode_escape', dtype=object)\n",
    "                        d['encoding'] = 'unicode_escape'\n",
    "                        d['outcome'] = 'ok'\n",
    "                    except:\n",
    "                        d['outcome'] = 'ko'\n",
    "\n",
    "                    #print(d)\n",
    "                elif file_name.endswith('.json'):\n",
    "                    json_file_name = file_name.replace('.json', '.jsonl')\n",
    "                    json_file_path = CLEANED_DATASETS_PATH + json_file_name\n",
    "                    print(json_file_name)\n",
    "                    df = pd.read_json(file_path, encoding='utf-8', dtype=object)\n",
    "                elif file_name.endswith('.jsonl'):\n",
    "                    json_file_path = CLEANED_DATASETS_PATH + file_name\n",
    "                    print(file_name)\n",
    "                    df = pd.read_json(file_path, encoding='utf-8', lines=True, dtype=object)\n",
    "\n",
    "                if df is not None:\n",
    "                    clean_dataset(df)\n",
    "                    json = re.sub(r'\\\\*/', '/', df.to_json(orient='records', lines=True, force_ascii=False))\n",
    "                    json = unicodedata.normalize('NFKD', json).encode('ascii', 'ignore').decode('utf-8')\n",
    "                    print(json, file=open(json_file_path, encoding='utf-8', mode='w'))"
   ],
   "metadata": {
    "collapsed": false,
    "pycharm": {
     "name": "#%%\n"
    }
   }
  }
 ],
 "metadata": {
  "kernelspec": {
   "display_name": "Python 3",
   "language": "python",
   "name": "python3"
  },
  "language_info": {
   "codemirror_mode": {
    "name": "ipython",
    "version": 2
   },
   "file_extension": ".py",
   "mimetype": "text/x-python",
   "name": "python",
   "nbconvert_exporter": "python",
   "pygments_lexer": "ipython2",
   "version": "2.7.6"
  }
 },
 "nbformat": 4,
 "nbformat_minor": 0
}