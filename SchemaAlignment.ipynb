{
 "cells": [
  {
   "cell_type": "markdown",
   "id": "15db2ad2",
   "metadata": {},
   "source": [
    "# Schema Alignment"
   ]
  },
  {
   "cell_type": "code",
   "execution_count": 11,
   "id": "efb43f79",
   "metadata": {},
   "outputs": [],
   "source": [
    "import json\n",
    "import os\n",
    "import csv"
   ]
  },
  {
   "cell_type": "code",
   "execution_count": 12,
   "id": "f7ac6470",
   "metadata": {},
   "outputs": [],
   "source": [
    "CLEANED_DATASETS_PATH = \"./Cleaned Datasets/\"\n",
    "MEDIATED_DATASETS_PATH = \"./Mediated Datasets/\"\n",
    "\n",
    "#dictionary containing keys of the mediated schema\n",
    "mediated_schema = {\n",
    "    \"name\": None, \"headquarters\": None, \"country\": None, \"address\": None, \"founded\": None, \"employees\": None, \"ceo\": None,\n",
    "    \"founders\": None, \"market_cap\": None, \"share_price\": None, \"categories\": None, \"sector\": None, \"link\": None,\n",
    "    \"type\": None\n",
    "}\n",
    "\n",
    "# match attributes\n",
    "MATCHING_ATTRIBUTES = {\n",
    "    'name': 'name', 'company': 'name',\n",
    "    #\n",
    "    'country': 'country', 'headquarters_country': 'country', 'location': 'country',\n",
    "    #\n",
    "    'sector': 'sector', 'company_type': 'sector',\n",
    "    #\n",
    "    'founded': 'founded', 'founded_year': 'founded', 'ipo_year': 'founded', 'founding_year': 'founded',\n",
    "    'registration_date': 'founded', 'family_ownership': 'founded',\n",
    "    #\n",
    "    'employees': 'employees', 'number_of_employees': 'employees',\n",
    "    #\n",
    "    'ceo': 'ceo',\n",
    "    #\n",
    "    'market_capitalization_usd': 'market_cap', 'market_cap': 'market_cap', 'marketcap': 'market_cap',\n",
    "    'mastercap': 'market_cap', 'pricecap': 'market_cap', 'master_cap': 'market_cap',\n",
    "    'market_value_apr_2022': 'market_cap', 'market_capitalization_2022': 'market_cap',\n",
    "    #\n",
    "    'share_price': 'share_price',\n",
    "    #\n",
    "    'link': 'link', 'company_website': 'link', 'website': 'link',\n",
    "    #\n",
    "    'headquarters': 'headquarters', 'head_quarters': 'headquarters',\n",
    "    #\n",
    "    'categories': 'categories', 'company_business': 'categories', 'category': 'categories',\n",
    "    #\n",
    "    'founders': 'founders',\n",
    "    #\n",
    "    'address': 'address', 'registered_office_address': 'address', 'office_address': 'address',\n",
    "    #\n",
    "    'public/private': 'type', 'type': 'type'\n",
    "}"
   ]
  },
  {
   "cell_type": "code",
   "execution_count": 13,
   "id": "533483ca",
   "metadata": {
    "pycharm": {
     "name": "#%%\n"
    }
   },
   "outputs": [],
   "source": [
    "# return json with relabeling\n",
    "def rename_and_projection_json(company):\n",
    "    r_json = mediated_schema.copy()\n",
    "    for field in company:\n",
    "        if (field in MATCHING_ATTRIBUTES) and (MATCHING_ATTRIBUTES[field] in mediated_schema):\n",
    "            r_json[MATCHING_ATTRIBUTES[field]] = company[field]\n",
    "    return r_json\n",
    "\n",
    "\n",
    "def rename_and_projection_file(file_name):\n",
    "    file = open(CLEANED_DATASETS_PATH + file_name, 'r', encoding=\"utf8\")\n",
    "    rp_file = open(MEDIATED_DATASETS_PATH + file_name.replace('cleaned.csv', '') + \"mediated\" + \".csv\", \"w\", encoding=\"utf8\")\n",
    "    reader = csv.DictReader(file)\n",
    "\n",
    "    writer = csv.DictWriter(rp_file, list(mediated_schema.keys()))\n",
    "    writer.writeheader()\n",
    "    for line in reader:\n",
    "        writer.writerow(rename_and_projection_json(line))\n",
    "    rp_file.close()\n",
    "    file.close()\n",
    "\n",
    "\n",
    "# return files list\n",
    "def get_all_files(path_dir):\n",
    "    res = []\n",
    "    for path in os.listdir(path_dir):\n",
    "        if os.path.isfile(os.path.join(path_dir, path)):\n",
    "            res.append(path)\n",
    "    return res\n",
    "\n",
    "\n",
    "# find folders list\n",
    "def get_all_folders(path):\n",
    "    return os.listdir(path)\n",
    "\n",
    "\n",
    "# create folder\n",
    "def create_folder(name, path):\n",
    "    d = os.path.join(path, name)\n",
    "    if not os.path.exists(d):\n",
    "        os.mkdir(d)\n",
    "\n",
    "\n",
    "def rename_and_projection():\n",
    "    files = get_all_files(CLEANED_DATASETS_PATH)\n",
    "    for file in files:\n",
    "        if file != '.DS_Store':\n",
    "            rename_and_projection_file(file)"
   ]
  },
  {
   "cell_type": "code",
   "execution_count": 14,
   "id": "49953fe2",
   "metadata": {
    "pycharm": {
     "name": "#%%\n"
    }
   },
   "outputs": [],
   "source": [
    "rename_and_projection()"
   ]
  },
  {
   "cell_type": "code",
   "execution_count": null,
   "id": "a31e17b9",
   "metadata": {
    "pycharm": {
     "name": "#%%\n"
    }
   },
   "outputs": [],
   "source": []
  }
 ],
 "metadata": {
  "kernelspec": {
   "display_name": "Python 3",
   "language": "python",
   "name": "python3"
  },
  "language_info": {
   "codemirror_mode": {
    "name": "ipython",
    "version": 3
   },
   "file_extension": ".py",
   "mimetype": "text/x-python",
   "name": "python",
   "nbconvert_exporter": "python",
   "pygments_lexer": "ipython3",
   "version": "3.10.9"
  }
 },
 "nbformat": 4,
 "nbformat_minor": 5
}