{
 "cells": [
  {
   "cell_type": "markdown",
   "source": [
    "# Record Linkage"
   ],
   "metadata": {
    "collapsed": false
   }
  },
  {
   "cell_type": "code",
   "execution_count": 368,
   "outputs": [],
   "source": [
    "import recordlinkage\n",
    "import pandas as pd\n",
    "import collections\n",
    "import time"
   ],
   "metadata": {
    "collapsed": false,
    "pycharm": {
     "name": "#%%\n"
    }
   }
  },
  {
   "cell_type": "code",
   "execution_count": 356,
   "outputs": [],
   "source": [
    "PATH_DS_L = './Mediated Datasets/disfold_Avengers_m.jsonl'\n",
    "PATH_DS_R = './Mediated Datasets/disfold_fr_m.jsonl'\n",
    "THRESHOLD = 0.85"
   ],
   "metadata": {
    "collapsed": false,
    "pycharm": {
     "name": "#%%\n"
    }
   }
  },
  {
   "cell_type": "code",
   "execution_count": 357,
   "outputs": [],
   "source": [
    "def get_features(df_l, df_r):\n",
    "    feature_value = 0\n",
    "    columns_l = df_l.columns.values.tolist()\n",
    "    columns_r = df_r.columns.values.tolist()\n",
    "    # set_index\n",
    "    indexer = recordlinkage.Index()\n",
    "    indexer.full()\n",
    "    candidate_links = indexer.index(df_l, df_r)\n",
    "\n",
    "    # Comparison step\n",
    "    compare_cl = recordlinkage.Compare()\n",
    "    compare_cl.string(\"name\", \"name\", method=\"levenshtein\", threshold=THRESHOLD, label=\"name\")\n",
    "\n",
    "    if 'ceo' in columns_l and 'ceo' in columns_r:\n",
    "        compare_cl.string(\"ceo\", \"ceo\", method=\"levenshtein\", threshold=THRESHOLD, label=\"ceo\")\n",
    "        feature_value = 1\n",
    "\n",
    "    if 'country' in columns_l and 'country' in columns_r:\n",
    "        compare_cl.string(\"country\", \"country\", method=\"levenshtein\", threshold=THRESHOLD, label=\"country\")\n",
    "        feature_value = 1\n",
    "\n",
    "    # compare_cl.exact(\"country\", \"country\", label=\"country\")\n",
    "\n",
    "    return compare_cl.compute(candidate_links, df_l, df_r), feature_value\n",
    "\n",
    "\n",
    "def get_pairs(features, feature_value):\n",
    "    # Classification step\n",
    "    pairs = features[features.sum(axis=1) > feature_value]\n",
    "    return pairs['name'].keys().to_list()\n",
    "\n",
    "\n",
    "def rename_columns(columns_l, columns_r):\n",
    "    columns_l = [c + '_l' for c in columns_l]\n",
    "    columns_r = [c + '_r' for c in columns_r]\n",
    "    columns_join = columns_l + columns_r\n",
    "    return columns_l, columns_r\n",
    "\n",
    "\n",
    "def find_duplicated_columns(columns_l, columns_r):\n",
    "    attr_cleaned = columns_l + columns_r\n",
    "    duplicates = [item for item, count in collections.Counter(attr_cleaned).items() if count > 1]\n",
    "    return duplicates"
   ],
   "metadata": {
    "collapsed": false,
    "pycharm": {
     "name": "#%%\n"
    }
   }
  },
  {
   "cell_type": "code",
   "execution_count": 358,
   "outputs": [
    {
     "data": {
      "text/plain": "                          name     country continent           founded  \\\n0                        apple   cupertino        ca     april 1, 1976   \n1                      danaher  washington        dc              1969   \n2                        merck  kenilworth        nj              1891   \n3                          bhp   melbourne       vic              1885   \n4                         nike   beaverton        or  january 25, 1964   \n..                         ...         ...       ...               ...   \n995   asahi group holdings ltd       tokyo     japan                     \n996  haitong securities co ltd    shanghai     china                     \n997               catalent inc    somerset        nj              2007   \n998        quanta services inc     houston        tx              1997   \n999               ubiquiti inc     newyork        ny      october 2003   \n\n    employees                        ceo        market_cap  \\\n0     100,000             timothy d cook     2825000000000   \n1      78,000             rainer m blair      208030000000   \n2      67,000          robert m davis jd      210380000000   \n3      40,110  mike p henry bsc bsc chem  a$281.66 billion   \n4      73,300          john j donahoe ii      213600000000   \n..        ...                        ...               ...   \n995    30,020           atsushi  katsuki    2.231 trillion   \n996    11,282                             cn115.98 billion   \n997    17,300           john r chiminski       18240000000   \n998    43,700           earl c austin jr       18250000000   \n999     1,223              robert j pera       18250000000   \n\n                                            categories  \n0    unitedstates, technology, consumerelectronics,...  \n1    unitedstates, healthcare, diagnostics&research...  \n2    unitedstates, healthcare, drugmanufacturersgen...  \n3    australia, basicmaterials, otherindustrialmeta...  \n4    unitedstates, consumerdiscretionary, footwear&...  \n..                                                 ...  \n995  japan, consumerstaples, beveragesbrewers, japa...  \n996  china, financials, capitalmarkets, chinafinanc...  \n997  unitedstates, healthcare, drugmanufacturersspe...  \n998  unitedstates, industrials, engineering&constru...  \n999  unitedstates, technology, communicationequipme...  \n\n[1000 rows x 8 columns]",
      "text/html": "<div>\n<style scoped>\n    .dataframe tbody tr th:only-of-type {\n        vertical-align: middle;\n    }\n\n    .dataframe tbody tr th {\n        vertical-align: top;\n    }\n\n    .dataframe thead th {\n        text-align: right;\n    }\n</style>\n<table border=\"1\" class=\"dataframe\">\n  <thead>\n    <tr style=\"text-align: right;\">\n      <th></th>\n      <th>name</th>\n      <th>country</th>\n      <th>continent</th>\n      <th>founded</th>\n      <th>employees</th>\n      <th>ceo</th>\n      <th>market_cap</th>\n      <th>categories</th>\n    </tr>\n  </thead>\n  <tbody>\n    <tr>\n      <th>0</th>\n      <td>apple</td>\n      <td>cupertino</td>\n      <td>ca</td>\n      <td>april 1, 1976</td>\n      <td>100,000</td>\n      <td>timothy d cook</td>\n      <td>2825000000000</td>\n      <td>unitedstates, technology, consumerelectronics,...</td>\n    </tr>\n    <tr>\n      <th>1</th>\n      <td>danaher</td>\n      <td>washington</td>\n      <td>dc</td>\n      <td>1969</td>\n      <td>78,000</td>\n      <td>rainer m blair</td>\n      <td>208030000000</td>\n      <td>unitedstates, healthcare, diagnostics&amp;research...</td>\n    </tr>\n    <tr>\n      <th>2</th>\n      <td>merck</td>\n      <td>kenilworth</td>\n      <td>nj</td>\n      <td>1891</td>\n      <td>67,000</td>\n      <td>robert m davis jd</td>\n      <td>210380000000</td>\n      <td>unitedstates, healthcare, drugmanufacturersgen...</td>\n    </tr>\n    <tr>\n      <th>3</th>\n      <td>bhp</td>\n      <td>melbourne</td>\n      <td>vic</td>\n      <td>1885</td>\n      <td>40,110</td>\n      <td>mike p henry bsc bsc chem</td>\n      <td>a$281.66 billion</td>\n      <td>australia, basicmaterials, otherindustrialmeta...</td>\n    </tr>\n    <tr>\n      <th>4</th>\n      <td>nike</td>\n      <td>beaverton</td>\n      <td>or</td>\n      <td>january 25, 1964</td>\n      <td>73,300</td>\n      <td>john j donahoe ii</td>\n      <td>213600000000</td>\n      <td>unitedstates, consumerdiscretionary, footwear&amp;...</td>\n    </tr>\n    <tr>\n      <th>...</th>\n      <td>...</td>\n      <td>...</td>\n      <td>...</td>\n      <td>...</td>\n      <td>...</td>\n      <td>...</td>\n      <td>...</td>\n      <td>...</td>\n    </tr>\n    <tr>\n      <th>995</th>\n      <td>asahi group holdings ltd</td>\n      <td>tokyo</td>\n      <td>japan</td>\n      <td></td>\n      <td>30,020</td>\n      <td>atsushi  katsuki</td>\n      <td>2.231 trillion</td>\n      <td>japan, consumerstaples, beveragesbrewers, japa...</td>\n    </tr>\n    <tr>\n      <th>996</th>\n      <td>haitong securities co ltd</td>\n      <td>shanghai</td>\n      <td>china</td>\n      <td></td>\n      <td>11,282</td>\n      <td></td>\n      <td>cn115.98 billion</td>\n      <td>china, financials, capitalmarkets, chinafinanc...</td>\n    </tr>\n    <tr>\n      <th>997</th>\n      <td>catalent inc</td>\n      <td>somerset</td>\n      <td>nj</td>\n      <td>2007</td>\n      <td>17,300</td>\n      <td>john r chiminski</td>\n      <td>18240000000</td>\n      <td>unitedstates, healthcare, drugmanufacturersspe...</td>\n    </tr>\n    <tr>\n      <th>998</th>\n      <td>quanta services inc</td>\n      <td>houston</td>\n      <td>tx</td>\n      <td>1997</td>\n      <td>43,700</td>\n      <td>earl c austin jr</td>\n      <td>18250000000</td>\n      <td>unitedstates, industrials, engineering&amp;constru...</td>\n    </tr>\n    <tr>\n      <th>999</th>\n      <td>ubiquiti inc</td>\n      <td>newyork</td>\n      <td>ny</td>\n      <td>october 2003</td>\n      <td>1,223</td>\n      <td>robert j pera</td>\n      <td>18250000000</td>\n      <td>unitedstates, technology, communicationequipme...</td>\n    </tr>\n  </tbody>\n</table>\n<p>1000 rows × 8 columns</p>\n</div>"
     },
     "execution_count": 358,
     "metadata": {},
     "output_type": "execute_result"
    }
   ],
   "source": [
    "df_l = pd.read_json(PATH_DS_L, encoding='utf-8', lines=True, dtype=object)\n",
    "df_l"
   ],
   "metadata": {
    "collapsed": false,
    "pycharm": {
     "name": "#%%\n"
    }
   }
  },
  {
   "cell_type": "code",
   "execution_count": 359,
   "outputs": [
    {
     "data": {
      "text/plain": "                                             founded    employees  \\\n0                                      april 1, 1976      100,000   \n1                                      april 4, 1975      181,000   \n2                                                                   \n3                                    october 2, 2015      156,500   \n4                                       july 5, 1994    1,608,000   \n5                                       july 1, 2003       99,290   \n6                                               1839      372,000   \n7                                      april 5, 1993       22,473   \n8                                    january 4, 2004       71,970   \n9    industrial technology research institute, hs...       54,193   \n\n                       ceo                name  \n0           timothy d cook               apple  \n1            satya nadella           microsoft  \n2            amin h nasser              aramco  \n3            sundar pichai            alphabet  \n4           andrew r jassy              amazon  \n5              elon r musk               tesla  \n6         warren e buffett  berkshire hathaway  \n7           jen-hsun huang              nvidia  \n8   mark elliot zuckerberg                meta  \n9                  c c wei                tsmc  ",
      "text/html": "<div>\n<style scoped>\n    .dataframe tbody tr th:only-of-type {\n        vertical-align: middle;\n    }\n\n    .dataframe tbody tr th {\n        vertical-align: top;\n    }\n\n    .dataframe thead th {\n        text-align: right;\n    }\n</style>\n<table border=\"1\" class=\"dataframe\">\n  <thead>\n    <tr style=\"text-align: right;\">\n      <th></th>\n      <th>founded</th>\n      <th>employees</th>\n      <th>ceo</th>\n      <th>name</th>\n    </tr>\n  </thead>\n  <tbody>\n    <tr>\n      <th>0</th>\n      <td>april 1, 1976</td>\n      <td>100,000</td>\n      <td>timothy d cook</td>\n      <td>apple</td>\n    </tr>\n    <tr>\n      <th>1</th>\n      <td>april 4, 1975</td>\n      <td>181,000</td>\n      <td>satya nadella</td>\n      <td>microsoft</td>\n    </tr>\n    <tr>\n      <th>2</th>\n      <td></td>\n      <td></td>\n      <td>amin h nasser</td>\n      <td>aramco</td>\n    </tr>\n    <tr>\n      <th>3</th>\n      <td>october 2, 2015</td>\n      <td>156,500</td>\n      <td>sundar pichai</td>\n      <td>alphabet</td>\n    </tr>\n    <tr>\n      <th>4</th>\n      <td>july 5, 1994</td>\n      <td>1,608,000</td>\n      <td>andrew r jassy</td>\n      <td>amazon</td>\n    </tr>\n    <tr>\n      <th>5</th>\n      <td>july 1, 2003</td>\n      <td>99,290</td>\n      <td>elon r musk</td>\n      <td>tesla</td>\n    </tr>\n    <tr>\n      <th>6</th>\n      <td>1839</td>\n      <td>372,000</td>\n      <td>warren e buffett</td>\n      <td>berkshire hathaway</td>\n    </tr>\n    <tr>\n      <th>7</th>\n      <td>april 5, 1993</td>\n      <td>22,473</td>\n      <td>jen-hsun huang</td>\n      <td>nvidia</td>\n    </tr>\n    <tr>\n      <th>8</th>\n      <td>january 4, 2004</td>\n      <td>71,970</td>\n      <td>mark elliot zuckerberg</td>\n      <td>meta</td>\n    </tr>\n    <tr>\n      <th>9</th>\n      <td>industrial technology research institute, hs...</td>\n      <td>54,193</td>\n      <td>c c wei</td>\n      <td>tsmc</td>\n    </tr>\n  </tbody>\n</table>\n</div>"
     },
     "execution_count": 359,
     "metadata": {},
     "output_type": "execute_result"
    }
   ],
   "source": [
    "df_r = pd.read_json(PATH_DS_R, encoding='utf-8', lines=True, dtype=object)\n",
    "df_r.head(10)"
   ],
   "metadata": {
    "collapsed": false,
    "pycharm": {
     "name": "#%%\n"
    }
   }
  },
  {
   "cell_type": "code",
   "execution_count": 360,
   "outputs": [
    {
     "name": "stdout",
     "output_type": "stream",
     "text": [
      "WARNING:recordlinkage:indexing - performance warning - A full index can result in large number of record pairs.\n"
     ]
    }
   ],
   "source": [
    "features, feature_value = get_features(df_l, df_r)\n",
    "pairs = get_pairs(features, feature_value)"
   ],
   "metadata": {
    "collapsed": false,
    "pycharm": {
     "name": "#%%\n"
    }
   }
  },
  {
   "cell_type": "code",
   "execution_count": 361,
   "outputs": [
    {
     "data": {
      "text/plain": "2.0       652\n1.0       275\n0.0    898073\ndtype: int64"
     },
     "execution_count": 361,
     "metadata": {},
     "output_type": "execute_result"
    }
   ],
   "source": [
    "features.sum(axis=1).value_counts().sort_index(ascending=False)"
   ],
   "metadata": {
    "collapsed": false,
    "pycharm": {
     "name": "#%%\n"
    }
   }
  },
  {
   "cell_type": "code",
   "execution_count": 362,
   "outputs": [],
   "source": [
    "left = []\n",
    "right = []\n",
    "\n",
    "for elem in pairs:\n",
    "    left.append(df_l.loc[elem[0]])\n",
    "    right.append(df_r.loc[elem[1]])\n",
    "\n",
    "matching_dataset_left = pd.DataFrame(left)\n",
    "matching_dataset_right = pd.DataFrame(right)\n",
    "\n",
    "column_left, column_right = rename_columns(matching_dataset_left.columns.values.tolist(),\n",
    "                                           matching_dataset_right.columns.values.tolist())\n",
    "matching_dataset_left.columns = column_left\n",
    "matching_dataset_right.columns = column_right\n",
    "\n",
    "matching_dataset_left = matching_dataset_left.reset_index(drop=True)\n",
    "matching_dataset_right = matching_dataset_right.reset_index(drop=True)"
   ],
   "metadata": {
    "collapsed": false,
    "pycharm": {
     "name": "#%%\n"
    }
   }
  },
  {
   "cell_type": "code",
   "execution_count": 363,
   "outputs": [
    {
     "data": {
      "text/plain": "                             name_l   country_l  continent_l  \\\n0                             apple   cupertino           ca   \n1                           danaher  washington           dc   \n2                             merck  kenilworth           nj   \n3                               bhp   melbourne          vic   \n4                              nike   beaverton           or   \n..                              ...         ...          ...   \n647           rede d'or sao luiz sa    saopaulo           sp   \n648          teck resources limited   vancouver           bc   \n649          the saudi british bank      riyadh  saudiarabia   \n650           mitsui fudosan co ltd       tokyo        japan   \n651  jb hunt transport services inc      lowell           ar   \n\n            founded_l employees_l                             ceo_l  \\\n0       april 1, 1976     100,000                    timothy d cook   \n1                1969      78,000                    rainer m blair   \n2                1891      67,000                 robert m davis jd   \n3                1885      40,110         mike p henry bsc bsc chem   \n4    january 25, 1964      73,300                 john j donahoe ii   \n..                ...         ...                               ...   \n647                                            paulo junqueira moll   \n648                        10,600  donald r lindsay bsc honours mba   \n649                         4,156            anthony william cripps   \n650                        23,992                  masanobu  komoda   \n651   august 10, 1961      33,045                john n roberts iii   \n\n         market_cap_l                                       categories_l  \n0       2825000000000  unitedstates, technology, consumerelectronics,...  \n1        208030000000  unitedstates, healthcare, diagnostics&research...  \n2        210380000000  unitedstates, healthcare, drugmanufacturersgen...  \n3    a$281.66 billion  australia, basicmaterials, otherindustrialmeta...  \n4        213600000000  unitedstates, consumerdiscretionary, footwear&...  \n..                ...                                                ...  \n647   r$99.71 billion  brazil, healthcare, medicalcarefacilities, bra...  \n648   c$26.81 billion  canada, basicmaterials, otherindustrialmetals&...  \n649   sr80.45 billion  saudiarabia, financials, banks, saudiarabiafin...  \n650    2.629 trillion  japan, realestate, realestatediversified, japa...  \n651       21480000000  unitedstates, industrials, integratedfreight&l...  \n\n[652 rows x 8 columns]",
      "text/html": "<div>\n<style scoped>\n    .dataframe tbody tr th:only-of-type {\n        vertical-align: middle;\n    }\n\n    .dataframe tbody tr th {\n        vertical-align: top;\n    }\n\n    .dataframe thead th {\n        text-align: right;\n    }\n</style>\n<table border=\"1\" class=\"dataframe\">\n  <thead>\n    <tr style=\"text-align: right;\">\n      <th></th>\n      <th>name_l</th>\n      <th>country_l</th>\n      <th>continent_l</th>\n      <th>founded_l</th>\n      <th>employees_l</th>\n      <th>ceo_l</th>\n      <th>market_cap_l</th>\n      <th>categories_l</th>\n    </tr>\n  </thead>\n  <tbody>\n    <tr>\n      <th>0</th>\n      <td>apple</td>\n      <td>cupertino</td>\n      <td>ca</td>\n      <td>april 1, 1976</td>\n      <td>100,000</td>\n      <td>timothy d cook</td>\n      <td>2825000000000</td>\n      <td>unitedstates, technology, consumerelectronics,...</td>\n    </tr>\n    <tr>\n      <th>1</th>\n      <td>danaher</td>\n      <td>washington</td>\n      <td>dc</td>\n      <td>1969</td>\n      <td>78,000</td>\n      <td>rainer m blair</td>\n      <td>208030000000</td>\n      <td>unitedstates, healthcare, diagnostics&amp;research...</td>\n    </tr>\n    <tr>\n      <th>2</th>\n      <td>merck</td>\n      <td>kenilworth</td>\n      <td>nj</td>\n      <td>1891</td>\n      <td>67,000</td>\n      <td>robert m davis jd</td>\n      <td>210380000000</td>\n      <td>unitedstates, healthcare, drugmanufacturersgen...</td>\n    </tr>\n    <tr>\n      <th>3</th>\n      <td>bhp</td>\n      <td>melbourne</td>\n      <td>vic</td>\n      <td>1885</td>\n      <td>40,110</td>\n      <td>mike p henry bsc bsc chem</td>\n      <td>a$281.66 billion</td>\n      <td>australia, basicmaterials, otherindustrialmeta...</td>\n    </tr>\n    <tr>\n      <th>4</th>\n      <td>nike</td>\n      <td>beaverton</td>\n      <td>or</td>\n      <td>january 25, 1964</td>\n      <td>73,300</td>\n      <td>john j donahoe ii</td>\n      <td>213600000000</td>\n      <td>unitedstates, consumerdiscretionary, footwear&amp;...</td>\n    </tr>\n    <tr>\n      <th>...</th>\n      <td>...</td>\n      <td>...</td>\n      <td>...</td>\n      <td>...</td>\n      <td>...</td>\n      <td>...</td>\n      <td>...</td>\n      <td>...</td>\n    </tr>\n    <tr>\n      <th>647</th>\n      <td>rede d'or sao luiz sa</td>\n      <td>saopaulo</td>\n      <td>sp</td>\n      <td></td>\n      <td></td>\n      <td>paulo junqueira moll</td>\n      <td>r$99.71 billion</td>\n      <td>brazil, healthcare, medicalcarefacilities, bra...</td>\n    </tr>\n    <tr>\n      <th>648</th>\n      <td>teck resources limited</td>\n      <td>vancouver</td>\n      <td>bc</td>\n      <td></td>\n      <td>10,600</td>\n      <td>donald r lindsay bsc honours mba</td>\n      <td>c$26.81 billion</td>\n      <td>canada, basicmaterials, otherindustrialmetals&amp;...</td>\n    </tr>\n    <tr>\n      <th>649</th>\n      <td>the saudi british bank</td>\n      <td>riyadh</td>\n      <td>saudiarabia</td>\n      <td></td>\n      <td>4,156</td>\n      <td>anthony william cripps</td>\n      <td>sr80.45 billion</td>\n      <td>saudiarabia, financials, banks, saudiarabiafin...</td>\n    </tr>\n    <tr>\n      <th>650</th>\n      <td>mitsui fudosan co ltd</td>\n      <td>tokyo</td>\n      <td>japan</td>\n      <td></td>\n      <td>23,992</td>\n      <td>masanobu  komoda</td>\n      <td>2.629 trillion</td>\n      <td>japan, realestate, realestatediversified, japa...</td>\n    </tr>\n    <tr>\n      <th>651</th>\n      <td>jb hunt transport services inc</td>\n      <td>lowell</td>\n      <td>ar</td>\n      <td>august 10, 1961</td>\n      <td>33,045</td>\n      <td>john n roberts iii</td>\n      <td>21480000000</td>\n      <td>unitedstates, industrials, integratedfreight&amp;l...</td>\n    </tr>\n  </tbody>\n</table>\n<p>652 rows × 8 columns</p>\n</div>"
     },
     "execution_count": 363,
     "metadata": {},
     "output_type": "execute_result"
    }
   ],
   "source": [
    "matching_dataset_left"
   ],
   "metadata": {
    "collapsed": false,
    "pycharm": {
     "name": "#%%\n"
    }
   }
  },
  {
   "cell_type": "code",
   "execution_count": 364,
   "outputs": [
    {
     "data": {
      "text/plain": "              founded_r employees_r                              ceo_r  \\\n0         april 1, 1976     100,000                     timothy d cook   \n1                  1969      78,000                     rainer m blair   \n2                  1891      67,000                  robert m davis jd   \n3                  1885      40,110          mike p henry bsc bsc chem   \n4      january 25, 1964      73,300                  john j donahoe ii   \n..                  ...         ...                                ...   \n647                                               paulo junqueira moll   \n648                          10,600   donald r lindsay bsc honours mba   \n649                           4,156             anthony william cripps   \n650                          23,992                    masanobu komoda   \n651     august 10, 1961      33,045                 john n roberts iii   \n\n                             name_r  \n0                             apple  \n1                           danaher  \n2                             merck  \n3                               bhp  \n4                              nike  \n..                              ...  \n647           rede d'or sao luiz sa  \n648          teck resources limited  \n649          the saudi british bank  \n650           mitsui fudosan co ltd  \n651  jb hunt transport services inc  \n\n[652 rows x 4 columns]",
      "text/html": "<div>\n<style scoped>\n    .dataframe tbody tr th:only-of-type {\n        vertical-align: middle;\n    }\n\n    .dataframe tbody tr th {\n        vertical-align: top;\n    }\n\n    .dataframe thead th {\n        text-align: right;\n    }\n</style>\n<table border=\"1\" class=\"dataframe\">\n  <thead>\n    <tr style=\"text-align: right;\">\n      <th></th>\n      <th>founded_r</th>\n      <th>employees_r</th>\n      <th>ceo_r</th>\n      <th>name_r</th>\n    </tr>\n  </thead>\n  <tbody>\n    <tr>\n      <th>0</th>\n      <td>april 1, 1976</td>\n      <td>100,000</td>\n      <td>timothy d cook</td>\n      <td>apple</td>\n    </tr>\n    <tr>\n      <th>1</th>\n      <td>1969</td>\n      <td>78,000</td>\n      <td>rainer m blair</td>\n      <td>danaher</td>\n    </tr>\n    <tr>\n      <th>2</th>\n      <td>1891</td>\n      <td>67,000</td>\n      <td>robert m davis jd</td>\n      <td>merck</td>\n    </tr>\n    <tr>\n      <th>3</th>\n      <td>1885</td>\n      <td>40,110</td>\n      <td>mike p henry bsc bsc chem</td>\n      <td>bhp</td>\n    </tr>\n    <tr>\n      <th>4</th>\n      <td>january 25, 1964</td>\n      <td>73,300</td>\n      <td>john j donahoe ii</td>\n      <td>nike</td>\n    </tr>\n    <tr>\n      <th>...</th>\n      <td>...</td>\n      <td>...</td>\n      <td>...</td>\n      <td>...</td>\n    </tr>\n    <tr>\n      <th>647</th>\n      <td></td>\n      <td></td>\n      <td>paulo junqueira moll</td>\n      <td>rede d'or sao luiz sa</td>\n    </tr>\n    <tr>\n      <th>648</th>\n      <td></td>\n      <td>10,600</td>\n      <td>donald r lindsay bsc honours mba</td>\n      <td>teck resources limited</td>\n    </tr>\n    <tr>\n      <th>649</th>\n      <td></td>\n      <td>4,156</td>\n      <td>anthony william cripps</td>\n      <td>the saudi british bank</td>\n    </tr>\n    <tr>\n      <th>650</th>\n      <td></td>\n      <td>23,992</td>\n      <td>masanobu komoda</td>\n      <td>mitsui fudosan co ltd</td>\n    </tr>\n    <tr>\n      <th>651</th>\n      <td>august 10, 1961</td>\n      <td>33,045</td>\n      <td>john n roberts iii</td>\n      <td>jb hunt transport services inc</td>\n    </tr>\n  </tbody>\n</table>\n<p>652 rows × 4 columns</p>\n</div>"
     },
     "execution_count": 364,
     "metadata": {},
     "output_type": "execute_result"
    }
   ],
   "source": [
    "matching_dataset_right"
   ],
   "metadata": {
    "collapsed": false,
    "pycharm": {
     "name": "#%%\n"
    }
   }
  },
  {
   "cell_type": "code",
   "execution_count": 365,
   "outputs": [
    {
     "data": {
      "text/plain": "                             name_l   country_l  continent_l  \\\n0                             apple   cupertino           ca   \n1                           danaher  washington           dc   \n2                             merck  kenilworth           nj   \n3                               bhp   melbourne          vic   \n4                              nike   beaverton           or   \n..                              ...         ...          ...   \n647           rede d'or sao luiz sa    saopaulo           sp   \n648          teck resources limited   vancouver           bc   \n649          the saudi british bank      riyadh  saudiarabia   \n650           mitsui fudosan co ltd       tokyo        japan   \n651  jb hunt transport services inc      lowell           ar   \n\n            founded_l employees_l                             ceo_l  \\\n0       april 1, 1976     100,000                    timothy d cook   \n1                1969      78,000                    rainer m blair   \n2                1891      67,000                 robert m davis jd   \n3                1885      40,110         mike p henry bsc bsc chem   \n4    january 25, 1964      73,300                 john j donahoe ii   \n..                ...         ...                               ...   \n647                                            paulo junqueira moll   \n648                        10,600  donald r lindsay bsc honours mba   \n649                         4,156            anthony william cripps   \n650                        23,992                  masanobu  komoda   \n651   august 10, 1961      33,045                john n roberts iii   \n\n         market_cap_l                                       categories_l  \\\n0       2825000000000  unitedstates, technology, consumerelectronics,...   \n1        208030000000  unitedstates, healthcare, diagnostics&research...   \n2        210380000000  unitedstates, healthcare, drugmanufacturersgen...   \n3    a$281.66 billion  australia, basicmaterials, otherindustrialmeta...   \n4        213600000000  unitedstates, consumerdiscretionary, footwear&...   \n..                ...                                                ...   \n647   r$99.71 billion  brazil, healthcare, medicalcarefacilities, bra...   \n648   c$26.81 billion  canada, basicmaterials, otherindustrialmetals&...   \n649   sr80.45 billion  saudiarabia, financials, banks, saudiarabiafin...   \n650    2.629 trillion  japan, realestate, realestatediversified, japa...   \n651       21480000000  unitedstates, industrials, integratedfreight&l...   \n\n              founded_r employees_r                              ceo_r  \\\n0         april 1, 1976     100,000                     timothy d cook   \n1                  1969      78,000                     rainer m blair   \n2                  1891      67,000                  robert m davis jd   \n3                  1885      40,110          mike p henry bsc bsc chem   \n4      january 25, 1964      73,300                  john j donahoe ii   \n..                  ...         ...                                ...   \n647                                               paulo junqueira moll   \n648                          10,600   donald r lindsay bsc honours mba   \n649                           4,156             anthony william cripps   \n650                          23,992                    masanobu komoda   \n651     august 10, 1961      33,045                 john n roberts iii   \n\n                             name_r  \n0                             apple  \n1                           danaher  \n2                             merck  \n3                               bhp  \n4                              nike  \n..                              ...  \n647           rede d'or sao luiz sa  \n648          teck resources limited  \n649          the saudi british bank  \n650           mitsui fudosan co ltd  \n651  jb hunt transport services inc  \n\n[652 rows x 12 columns]",
      "text/html": "<div>\n<style scoped>\n    .dataframe tbody tr th:only-of-type {\n        vertical-align: middle;\n    }\n\n    .dataframe tbody tr th {\n        vertical-align: top;\n    }\n\n    .dataframe thead th {\n        text-align: right;\n    }\n</style>\n<table border=\"1\" class=\"dataframe\">\n  <thead>\n    <tr style=\"text-align: right;\">\n      <th></th>\n      <th>name_l</th>\n      <th>country_l</th>\n      <th>continent_l</th>\n      <th>founded_l</th>\n      <th>employees_l</th>\n      <th>ceo_l</th>\n      <th>market_cap_l</th>\n      <th>categories_l</th>\n      <th>founded_r</th>\n      <th>employees_r</th>\n      <th>ceo_r</th>\n      <th>name_r</th>\n    </tr>\n  </thead>\n  <tbody>\n    <tr>\n      <th>0</th>\n      <td>apple</td>\n      <td>cupertino</td>\n      <td>ca</td>\n      <td>april 1, 1976</td>\n      <td>100,000</td>\n      <td>timothy d cook</td>\n      <td>2825000000000</td>\n      <td>unitedstates, technology, consumerelectronics,...</td>\n      <td>april 1, 1976</td>\n      <td>100,000</td>\n      <td>timothy d cook</td>\n      <td>apple</td>\n    </tr>\n    <tr>\n      <th>1</th>\n      <td>danaher</td>\n      <td>washington</td>\n      <td>dc</td>\n      <td>1969</td>\n      <td>78,000</td>\n      <td>rainer m blair</td>\n      <td>208030000000</td>\n      <td>unitedstates, healthcare, diagnostics&amp;research...</td>\n      <td>1969</td>\n      <td>78,000</td>\n      <td>rainer m blair</td>\n      <td>danaher</td>\n    </tr>\n    <tr>\n      <th>2</th>\n      <td>merck</td>\n      <td>kenilworth</td>\n      <td>nj</td>\n      <td>1891</td>\n      <td>67,000</td>\n      <td>robert m davis jd</td>\n      <td>210380000000</td>\n      <td>unitedstates, healthcare, drugmanufacturersgen...</td>\n      <td>1891</td>\n      <td>67,000</td>\n      <td>robert m davis jd</td>\n      <td>merck</td>\n    </tr>\n    <tr>\n      <th>3</th>\n      <td>bhp</td>\n      <td>melbourne</td>\n      <td>vic</td>\n      <td>1885</td>\n      <td>40,110</td>\n      <td>mike p henry bsc bsc chem</td>\n      <td>a$281.66 billion</td>\n      <td>australia, basicmaterials, otherindustrialmeta...</td>\n      <td>1885</td>\n      <td>40,110</td>\n      <td>mike p henry bsc bsc chem</td>\n      <td>bhp</td>\n    </tr>\n    <tr>\n      <th>4</th>\n      <td>nike</td>\n      <td>beaverton</td>\n      <td>or</td>\n      <td>january 25, 1964</td>\n      <td>73,300</td>\n      <td>john j donahoe ii</td>\n      <td>213600000000</td>\n      <td>unitedstates, consumerdiscretionary, footwear&amp;...</td>\n      <td>january 25, 1964</td>\n      <td>73,300</td>\n      <td>john j donahoe ii</td>\n      <td>nike</td>\n    </tr>\n    <tr>\n      <th>...</th>\n      <td>...</td>\n      <td>...</td>\n      <td>...</td>\n      <td>...</td>\n      <td>...</td>\n      <td>...</td>\n      <td>...</td>\n      <td>...</td>\n      <td>...</td>\n      <td>...</td>\n      <td>...</td>\n      <td>...</td>\n    </tr>\n    <tr>\n      <th>647</th>\n      <td>rede d'or sao luiz sa</td>\n      <td>saopaulo</td>\n      <td>sp</td>\n      <td></td>\n      <td></td>\n      <td>paulo junqueira moll</td>\n      <td>r$99.71 billion</td>\n      <td>brazil, healthcare, medicalcarefacilities, bra...</td>\n      <td></td>\n      <td></td>\n      <td>paulo junqueira moll</td>\n      <td>rede d'or sao luiz sa</td>\n    </tr>\n    <tr>\n      <th>648</th>\n      <td>teck resources limited</td>\n      <td>vancouver</td>\n      <td>bc</td>\n      <td></td>\n      <td>10,600</td>\n      <td>donald r lindsay bsc honours mba</td>\n      <td>c$26.81 billion</td>\n      <td>canada, basicmaterials, otherindustrialmetals&amp;...</td>\n      <td></td>\n      <td>10,600</td>\n      <td>donald r lindsay bsc honours mba</td>\n      <td>teck resources limited</td>\n    </tr>\n    <tr>\n      <th>649</th>\n      <td>the saudi british bank</td>\n      <td>riyadh</td>\n      <td>saudiarabia</td>\n      <td></td>\n      <td>4,156</td>\n      <td>anthony william cripps</td>\n      <td>sr80.45 billion</td>\n      <td>saudiarabia, financials, banks, saudiarabiafin...</td>\n      <td></td>\n      <td>4,156</td>\n      <td>anthony william cripps</td>\n      <td>the saudi british bank</td>\n    </tr>\n    <tr>\n      <th>650</th>\n      <td>mitsui fudosan co ltd</td>\n      <td>tokyo</td>\n      <td>japan</td>\n      <td></td>\n      <td>23,992</td>\n      <td>masanobu  komoda</td>\n      <td>2.629 trillion</td>\n      <td>japan, realestate, realestatediversified, japa...</td>\n      <td></td>\n      <td>23,992</td>\n      <td>masanobu komoda</td>\n      <td>mitsui fudosan co ltd</td>\n    </tr>\n    <tr>\n      <th>651</th>\n      <td>jb hunt transport services inc</td>\n      <td>lowell</td>\n      <td>ar</td>\n      <td>august 10, 1961</td>\n      <td>33,045</td>\n      <td>john n roberts iii</td>\n      <td>21480000000</td>\n      <td>unitedstates, industrials, integratedfreight&amp;l...</td>\n      <td>august 10, 1961</td>\n      <td>33,045</td>\n      <td>john n roberts iii</td>\n      <td>jb hunt transport services inc</td>\n    </tr>\n  </tbody>\n</table>\n<p>652 rows × 12 columns</p>\n</div>"
     },
     "execution_count": 365,
     "metadata": {},
     "output_type": "execute_result"
    }
   ],
   "source": [
    "joined_df = pd.concat([matching_dataset_left, matching_dataset_right], axis=1)\n",
    "joined_df"
   ],
   "metadata": {
    "collapsed": false,
    "pycharm": {
     "name": "#%%\n"
    }
   }
  },
  {
   "cell_type": "code",
   "execution_count": 366,
   "outputs": [
    {
     "data": {
      "text/plain": "['name', 'founded', 'employees', 'ceo']"
     },
     "execution_count": 366,
     "metadata": {},
     "output_type": "execute_result"
    }
   ],
   "source": [
    "duplicates = find_duplicated_columns(df_l.columns.values.tolist(), df_r.columns.values.tolist())\n",
    "duplicates"
   ],
   "metadata": {
    "collapsed": false,
    "pycharm": {
     "name": "#%%\n"
    }
   }
  },
  {
   "cell_type": "code",
   "execution_count": 370,
   "outputs": [
    {
     "data": {
      "text/plain": "                         name_l                      name_r\n338      intuitive surgical inc      intuitive surgical inc\n589      skyworks solutions inc      skyworks solutions inc\n73                totalenergies               totalenergies\n393                   orange sa                   orange sa\n626   advanced info service pcl   advanced info service pcl\n228      marvell technology inc      marvell technology inc\n142  mondelez international inc  mondelez international inc\n95           target corporation          target corporation\n397     rockwell automation inc     rockwell automation inc\n24                   home depot                  home depot",
      "text/html": "<div>\n<style scoped>\n    .dataframe tbody tr th:only-of-type {\n        vertical-align: middle;\n    }\n\n    .dataframe tbody tr th {\n        vertical-align: top;\n    }\n\n    .dataframe thead th {\n        text-align: right;\n    }\n</style>\n<table border=\"1\" class=\"dataframe\">\n  <thead>\n    <tr style=\"text-align: right;\">\n      <th></th>\n      <th>name_l</th>\n      <th>name_r</th>\n    </tr>\n  </thead>\n  <tbody>\n    <tr>\n      <th>338</th>\n      <td>intuitive surgical inc</td>\n      <td>intuitive surgical inc</td>\n    </tr>\n    <tr>\n      <th>589</th>\n      <td>skyworks solutions inc</td>\n      <td>skyworks solutions inc</td>\n    </tr>\n    <tr>\n      <th>73</th>\n      <td>totalenergies</td>\n      <td>totalenergies</td>\n    </tr>\n    <tr>\n      <th>393</th>\n      <td>orange sa</td>\n      <td>orange sa</td>\n    </tr>\n    <tr>\n      <th>626</th>\n      <td>advanced info service pcl</td>\n      <td>advanced info service pcl</td>\n    </tr>\n    <tr>\n      <th>228</th>\n      <td>marvell technology inc</td>\n      <td>marvell technology inc</td>\n    </tr>\n    <tr>\n      <th>142</th>\n      <td>mondelez international inc</td>\n      <td>mondelez international inc</td>\n    </tr>\n    <tr>\n      <th>95</th>\n      <td>target corporation</td>\n      <td>target corporation</td>\n    </tr>\n    <tr>\n      <th>397</th>\n      <td>rockwell automation inc</td>\n      <td>rockwell automation inc</td>\n    </tr>\n    <tr>\n      <th>24</th>\n      <td>home depot</td>\n      <td>home depot</td>\n    </tr>\n  </tbody>\n</table>\n</div>"
     },
     "metadata": {},
     "output_type": "display_data"
    },
    {
     "data": {
      "text/plain": "                      founded_l                     founded_r\n540                                                          \n567                                                          \n238                                                          \n133                        1848                          1848\n138               june 13, 1902                 june 13, 1902\n496                        1927                          1927\n585  cincinnati, ohio, u.s 1950    cincinnati, ohio, u.s 1950\n427                        1906                          1906\n612             august 29, 1856               august 29, 1856\n634                        2000                          2000",
      "text/html": "<div>\n<style scoped>\n    .dataframe tbody tr th:only-of-type {\n        vertical-align: middle;\n    }\n\n    .dataframe tbody tr th {\n        vertical-align: top;\n    }\n\n    .dataframe thead th {\n        text-align: right;\n    }\n</style>\n<table border=\"1\" class=\"dataframe\">\n  <thead>\n    <tr style=\"text-align: right;\">\n      <th></th>\n      <th>founded_l</th>\n      <th>founded_r</th>\n    </tr>\n  </thead>\n  <tbody>\n    <tr>\n      <th>540</th>\n      <td></td>\n      <td></td>\n    </tr>\n    <tr>\n      <th>567</th>\n      <td></td>\n      <td></td>\n    </tr>\n    <tr>\n      <th>238</th>\n      <td></td>\n      <td></td>\n    </tr>\n    <tr>\n      <th>133</th>\n      <td>1848</td>\n      <td>1848</td>\n    </tr>\n    <tr>\n      <th>138</th>\n      <td>june 13, 1902</td>\n      <td>june 13, 1902</td>\n    </tr>\n    <tr>\n      <th>496</th>\n      <td>1927</td>\n      <td>1927</td>\n    </tr>\n    <tr>\n      <th>585</th>\n      <td>cincinnati, ohio, u.s 1950</td>\n      <td>cincinnati, ohio, u.s 1950</td>\n    </tr>\n    <tr>\n      <th>427</th>\n      <td>1906</td>\n      <td>1906</td>\n    </tr>\n    <tr>\n      <th>612</th>\n      <td>august 29, 1856</td>\n      <td>august 29, 1856</td>\n    </tr>\n    <tr>\n      <th>634</th>\n      <td>2000</td>\n      <td>2000</td>\n    </tr>\n  </tbody>\n</table>\n</div>"
     },
     "metadata": {},
     "output_type": "display_data"
    },
    {
     "data": {
      "text/plain": "    employees_l employees_r\n100      90,096      90,096\n553     124,089     124,089\n576       1,212       1,212\n558       9,095       9,095\n42                         \n155      14,400      14,400\n94      292,067     292,067\n125      32,741      32,741\n5       113,000     113,000\n433      81,600      81,600",
      "text/html": "<div>\n<style scoped>\n    .dataframe tbody tr th:only-of-type {\n        vertical-align: middle;\n    }\n\n    .dataframe tbody tr th {\n        vertical-align: top;\n    }\n\n    .dataframe thead th {\n        text-align: right;\n    }\n</style>\n<table border=\"1\" class=\"dataframe\">\n  <thead>\n    <tr style=\"text-align: right;\">\n      <th></th>\n      <th>employees_l</th>\n      <th>employees_r</th>\n    </tr>\n  </thead>\n  <tbody>\n    <tr>\n      <th>100</th>\n      <td>90,096</td>\n      <td>90,096</td>\n    </tr>\n    <tr>\n      <th>553</th>\n      <td>124,089</td>\n      <td>124,089</td>\n    </tr>\n    <tr>\n      <th>576</th>\n      <td>1,212</td>\n      <td>1,212</td>\n    </tr>\n    <tr>\n      <th>558</th>\n      <td>9,095</td>\n      <td>9,095</td>\n    </tr>\n    <tr>\n      <th>42</th>\n      <td></td>\n      <td></td>\n    </tr>\n    <tr>\n      <th>155</th>\n      <td>14,400</td>\n      <td>14,400</td>\n    </tr>\n    <tr>\n      <th>94</th>\n      <td>292,067</td>\n      <td>292,067</td>\n    </tr>\n    <tr>\n      <th>125</th>\n      <td>32,741</td>\n      <td>32,741</td>\n    </tr>\n    <tr>\n      <th>5</th>\n      <td>113,000</td>\n      <td>113,000</td>\n    </tr>\n    <tr>\n      <th>433</th>\n      <td>81,600</td>\n      <td>81,600</td>\n    </tr>\n  </tbody>\n</table>\n</div>"
     },
     "metadata": {},
     "output_type": "display_data"
    },
    {
     "data": {
      "text/plain": "                            ceo_l                          ceo_r\n123            francesco  milleri              francesco milleri\n315              alan s armstrong               alan s armstrong\n533  christopher jerome swift cpa   christopher jerome swift cpa\n421     urs  schaeppi lic oec hsg       urs schaeppi lic oec hsg\n88                   kevin a lobo                   kevin a lobo\n167                toshio  kagami                  toshio kagami\n346             kevin m stein phd              kevin m stein phd\n18                  david a ricks                  david a ricks\n17                     hock e tan                     hock e tan\n280              brian  humphries                brian humphries",
      "text/html": "<div>\n<style scoped>\n    .dataframe tbody tr th:only-of-type {\n        vertical-align: middle;\n    }\n\n    .dataframe tbody tr th {\n        vertical-align: top;\n    }\n\n    .dataframe thead th {\n        text-align: right;\n    }\n</style>\n<table border=\"1\" class=\"dataframe\">\n  <thead>\n    <tr style=\"text-align: right;\">\n      <th></th>\n      <th>ceo_l</th>\n      <th>ceo_r</th>\n    </tr>\n  </thead>\n  <tbody>\n    <tr>\n      <th>123</th>\n      <td>francesco  milleri</td>\n      <td>francesco milleri</td>\n    </tr>\n    <tr>\n      <th>315</th>\n      <td>alan s armstrong</td>\n      <td>alan s armstrong</td>\n    </tr>\n    <tr>\n      <th>533</th>\n      <td>christopher jerome swift cpa</td>\n      <td>christopher jerome swift cpa</td>\n    </tr>\n    <tr>\n      <th>421</th>\n      <td>urs  schaeppi lic oec hsg</td>\n      <td>urs schaeppi lic oec hsg</td>\n    </tr>\n    <tr>\n      <th>88</th>\n      <td>kevin a lobo</td>\n      <td>kevin a lobo</td>\n    </tr>\n    <tr>\n      <th>167</th>\n      <td>toshio  kagami</td>\n      <td>toshio kagami</td>\n    </tr>\n    <tr>\n      <th>346</th>\n      <td>kevin m stein phd</td>\n      <td>kevin m stein phd</td>\n    </tr>\n    <tr>\n      <th>18</th>\n      <td>david a ricks</td>\n      <td>david a ricks</td>\n    </tr>\n    <tr>\n      <th>17</th>\n      <td>hock e tan</td>\n      <td>hock e tan</td>\n    </tr>\n    <tr>\n      <th>280</th>\n      <td>brian  humphries</td>\n      <td>brian humphries</td>\n    </tr>\n  </tbody>\n</table>\n</div>"
     },
     "metadata": {},
     "output_type": "display_data"
    }
   ],
   "source": [
    "for col in duplicates:\n",
    "    candidates = joined_df[[col + '_l', col + '_r']].sample(20)\n",
    "    candidate_labels = candidates.columns.values.tolist()\n",
    "    display(candidates.sample(10))\n",
    "    time.sleep(2)\n",
    "    idx_drop = int(input(\"Inserisci l'indice (0 o 1) della colonna che vuoi scartare nel dataset finale: \"))\n",
    "    joined_df.drop(candidate_labels[idx_drop], axis=1, inplace=True)\n"
   ],
   "metadata": {
    "collapsed": false,
    "pycharm": {
     "name": "#%%\n"
    }
   }
  },
  {
   "cell_type": "code",
   "execution_count": 374,
   "outputs": [
    {
     "data": {
      "text/plain": "        country    continent        market_cap  \\\n0     cupertino           ca     2825000000000   \n1    washington           dc      208030000000   \n2    kenilworth           nj      210380000000   \n3     melbourne          vic  a$281.66 billion   \n4     beaverton           or      213600000000   \n..          ...          ...               ...   \n647    saopaulo           sp   r$99.71 billion   \n648   vancouver           bc   c$26.81 billion   \n649      riyadh  saudiarabia   sr80.45 billion   \n650       tokyo        japan    2.629 trillion   \n651      lowell           ar       21480000000   \n\n                                            categories             founded  \\\n0    unitedstates, technology, consumerelectronics,...       april 1, 1976   \n1    unitedstates, healthcare, diagnostics&research...                1969   \n2    unitedstates, healthcare, drugmanufacturersgen...                1891   \n3    australia, basicmaterials, otherindustrialmeta...                1885   \n4    unitedstates, consumerdiscretionary, footwear&...    january 25, 1964   \n..                                                 ...                 ...   \n647  brazil, healthcare, medicalcarefacilities, bra...                       \n648  canada, basicmaterials, otherindustrialmetals&...                       \n649  saudiarabia, financials, banks, saudiarabiafin...                       \n650  japan, realestate, realestatediversified, japa...                       \n651  unitedstates, industrials, integratedfreight&l...     august 10, 1961   \n\n     employees                                ceo  \\\n0      100,000                     timothy d cook   \n1       78,000                     rainer m blair   \n2       67,000                  robert m davis jd   \n3       40,110          mike p henry bsc bsc chem   \n4       73,300                  john j donahoe ii   \n..         ...                                ...   \n647                          paulo junqueira moll   \n648     10,600   donald r lindsay bsc honours mba   \n649      4,156             anthony william cripps   \n650     23,992                    masanobu komoda   \n651     33,045                 john n roberts iii   \n\n                               name  \n0                             apple  \n1                           danaher  \n2                             merck  \n3                               bhp  \n4                              nike  \n..                              ...  \n647           rede d'or sao luiz sa  \n648          teck resources limited  \n649          the saudi british bank  \n650           mitsui fudosan co ltd  \n651  jb hunt transport services inc  \n\n[652 rows x 8 columns]",
      "text/html": "<div>\n<style scoped>\n    .dataframe tbody tr th:only-of-type {\n        vertical-align: middle;\n    }\n\n    .dataframe tbody tr th {\n        vertical-align: top;\n    }\n\n    .dataframe thead th {\n        text-align: right;\n    }\n</style>\n<table border=\"1\" class=\"dataframe\">\n  <thead>\n    <tr style=\"text-align: right;\">\n      <th></th>\n      <th>country</th>\n      <th>continent</th>\n      <th>market_cap</th>\n      <th>categories</th>\n      <th>founded</th>\n      <th>employees</th>\n      <th>ceo</th>\n      <th>name</th>\n    </tr>\n  </thead>\n  <tbody>\n    <tr>\n      <th>0</th>\n      <td>cupertino</td>\n      <td>ca</td>\n      <td>2825000000000</td>\n      <td>unitedstates, technology, consumerelectronics,...</td>\n      <td>april 1, 1976</td>\n      <td>100,000</td>\n      <td>timothy d cook</td>\n      <td>apple</td>\n    </tr>\n    <tr>\n      <th>1</th>\n      <td>washington</td>\n      <td>dc</td>\n      <td>208030000000</td>\n      <td>unitedstates, healthcare, diagnostics&amp;research...</td>\n      <td>1969</td>\n      <td>78,000</td>\n      <td>rainer m blair</td>\n      <td>danaher</td>\n    </tr>\n    <tr>\n      <th>2</th>\n      <td>kenilworth</td>\n      <td>nj</td>\n      <td>210380000000</td>\n      <td>unitedstates, healthcare, drugmanufacturersgen...</td>\n      <td>1891</td>\n      <td>67,000</td>\n      <td>robert m davis jd</td>\n      <td>merck</td>\n    </tr>\n    <tr>\n      <th>3</th>\n      <td>melbourne</td>\n      <td>vic</td>\n      <td>a$281.66 billion</td>\n      <td>australia, basicmaterials, otherindustrialmeta...</td>\n      <td>1885</td>\n      <td>40,110</td>\n      <td>mike p henry bsc bsc chem</td>\n      <td>bhp</td>\n    </tr>\n    <tr>\n      <th>4</th>\n      <td>beaverton</td>\n      <td>or</td>\n      <td>213600000000</td>\n      <td>unitedstates, consumerdiscretionary, footwear&amp;...</td>\n      <td>january 25, 1964</td>\n      <td>73,300</td>\n      <td>john j donahoe ii</td>\n      <td>nike</td>\n    </tr>\n    <tr>\n      <th>...</th>\n      <td>...</td>\n      <td>...</td>\n      <td>...</td>\n      <td>...</td>\n      <td>...</td>\n      <td>...</td>\n      <td>...</td>\n      <td>...</td>\n    </tr>\n    <tr>\n      <th>647</th>\n      <td>saopaulo</td>\n      <td>sp</td>\n      <td>r$99.71 billion</td>\n      <td>brazil, healthcare, medicalcarefacilities, bra...</td>\n      <td></td>\n      <td></td>\n      <td>paulo junqueira moll</td>\n      <td>rede d'or sao luiz sa</td>\n    </tr>\n    <tr>\n      <th>648</th>\n      <td>vancouver</td>\n      <td>bc</td>\n      <td>c$26.81 billion</td>\n      <td>canada, basicmaterials, otherindustrialmetals&amp;...</td>\n      <td></td>\n      <td>10,600</td>\n      <td>donald r lindsay bsc honours mba</td>\n      <td>teck resources limited</td>\n    </tr>\n    <tr>\n      <th>649</th>\n      <td>riyadh</td>\n      <td>saudiarabia</td>\n      <td>sr80.45 billion</td>\n      <td>saudiarabia, financials, banks, saudiarabiafin...</td>\n      <td></td>\n      <td>4,156</td>\n      <td>anthony william cripps</td>\n      <td>the saudi british bank</td>\n    </tr>\n    <tr>\n      <th>650</th>\n      <td>tokyo</td>\n      <td>japan</td>\n      <td>2.629 trillion</td>\n      <td>japan, realestate, realestatediversified, japa...</td>\n      <td></td>\n      <td>23,992</td>\n      <td>masanobu komoda</td>\n      <td>mitsui fudosan co ltd</td>\n    </tr>\n    <tr>\n      <th>651</th>\n      <td>lowell</td>\n      <td>ar</td>\n      <td>21480000000</td>\n      <td>unitedstates, industrials, integratedfreight&amp;l...</td>\n      <td>august 10, 1961</td>\n      <td>33,045</td>\n      <td>john n roberts iii</td>\n      <td>jb hunt transport services inc</td>\n    </tr>\n  </tbody>\n</table>\n<p>652 rows × 8 columns</p>\n</div>"
     },
     "execution_count": 374,
     "metadata": {},
     "output_type": "execute_result"
    }
   ],
   "source": [
    "joined_df.columns = [col[:-2] for col in joined_df.columns.values.tolist()]\n",
    "joined_df"
   ],
   "metadata": {
    "collapsed": false,
    "pycharm": {
     "name": "#%%\n"
    }
   }
  },
  {
   "cell_type": "markdown",
   "source": [],
   "metadata": {
    "collapsed": false,
    "pycharm": {
     "name": "#%% md\n"
    }
   }
  }
 ],
 "metadata": {
  "kernelspec": {
   "display_name": "Python 3",
   "language": "python",
   "name": "python3"
  },
  "language_info": {
   "codemirror_mode": {
    "name": "ipython",
    "version": 2
   },
   "file_extension": ".py",
   "mimetype": "text/x-python",
   "name": "python",
   "nbconvert_exporter": "python",
   "pygments_lexer": "ipython2",
   "version": "2.7.6"
  }
 },
 "nbformat": 4,
 "nbformat_minor": 0
}