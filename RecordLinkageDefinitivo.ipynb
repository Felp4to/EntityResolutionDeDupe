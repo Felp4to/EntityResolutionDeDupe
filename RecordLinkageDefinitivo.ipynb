{
 "cells": [
  {
   "cell_type": "markdown",
   "source": [
    "# Record Linkage"
   ],
   "metadata": {
    "collapsed": false
   }
  },
  {
   "cell_type": "code",
   "execution_count": 2,
   "outputs": [],
   "source": [
    "import recordlinkage\n",
    "import pandas as pd\n",
    "import collections\n",
    "import time"
   ],
   "metadata": {
    "collapsed": false,
    "pycharm": {
     "name": "#%%\n"
    }
   }
  },
  {
   "cell_type": "code",
   "execution_count": 3,
   "outputs": [],
   "source": [
    "PATH_DS_L = './Mediated Datasets/cbinsights_DDD_m.jsonl'\n",
    "PATH_DS_R = './Mediated Datasets/disfold_fr_m.jsonl'"
   ],
   "metadata": {
    "collapsed": false,
    "pycharm": {
     "name": "#%%\n"
    }
   }
  },
  {
   "cell_type": "code",
   "execution_count": 4,
   "outputs": [
    {
     "data": {
      "text/plain": "            name        country                             industry founded\n0       lacework  united states                        cybersecurity    2015\n1        tipalti  united states                              fintech    2010\n2         tempus  united states                               health    2015\n3        anduril  united states              artificial intelligence    2017\n4           bolt        estonia                auto & transportation    2013\n...          ...            ...                                  ...     ...\n1180      spacex  united states                                other    2002\n1181    fanatics  united states      e-commerce & direct-to-consumer    1995\n1182   instacart  united states  supply chain, logistics, & delivery    2012\n1183  databricks  united states          data management & analytics    2013\n1184      stripe  united states                              fintech    2010\n\n[1185 rows x 4 columns]",
      "text/html": "<div>\n<style scoped>\n    .dataframe tbody tr th:only-of-type {\n        vertical-align: middle;\n    }\n\n    .dataframe tbody tr th {\n        vertical-align: top;\n    }\n\n    .dataframe thead th {\n        text-align: right;\n    }\n</style>\n<table border=\"1\" class=\"dataframe\">\n  <thead>\n    <tr style=\"text-align: right;\">\n      <th></th>\n      <th>name</th>\n      <th>country</th>\n      <th>industry</th>\n      <th>founded</th>\n    </tr>\n  </thead>\n  <tbody>\n    <tr>\n      <th>0</th>\n      <td>lacework</td>\n      <td>united states</td>\n      <td>cybersecurity</td>\n      <td>2015</td>\n    </tr>\n    <tr>\n      <th>1</th>\n      <td>tipalti</td>\n      <td>united states</td>\n      <td>fintech</td>\n      <td>2010</td>\n    </tr>\n    <tr>\n      <th>2</th>\n      <td>tempus</td>\n      <td>united states</td>\n      <td>health</td>\n      <td>2015</td>\n    </tr>\n    <tr>\n      <th>3</th>\n      <td>anduril</td>\n      <td>united states</td>\n      <td>artificial intelligence</td>\n      <td>2017</td>\n    </tr>\n    <tr>\n      <th>4</th>\n      <td>bolt</td>\n      <td>estonia</td>\n      <td>auto &amp; transportation</td>\n      <td>2013</td>\n    </tr>\n    <tr>\n      <th>...</th>\n      <td>...</td>\n      <td>...</td>\n      <td>...</td>\n      <td>...</td>\n    </tr>\n    <tr>\n      <th>1180</th>\n      <td>spacex</td>\n      <td>united states</td>\n      <td>other</td>\n      <td>2002</td>\n    </tr>\n    <tr>\n      <th>1181</th>\n      <td>fanatics</td>\n      <td>united states</td>\n      <td>e-commerce &amp; direct-to-consumer</td>\n      <td>1995</td>\n    </tr>\n    <tr>\n      <th>1182</th>\n      <td>instacart</td>\n      <td>united states</td>\n      <td>supply chain, logistics, &amp; delivery</td>\n      <td>2012</td>\n    </tr>\n    <tr>\n      <th>1183</th>\n      <td>databricks</td>\n      <td>united states</td>\n      <td>data management &amp; analytics</td>\n      <td>2013</td>\n    </tr>\n    <tr>\n      <th>1184</th>\n      <td>stripe</td>\n      <td>united states</td>\n      <td>fintech</td>\n      <td>2010</td>\n    </tr>\n  </tbody>\n</table>\n<p>1185 rows × 4 columns</p>\n</div>"
     },
     "execution_count": 4,
     "metadata": {},
     "output_type": "execute_result"
    }
   ],
   "source": [
    "df_l = pd.read_json(PATH_DS_L, encoding='utf-8', lines=True, dtype=object)\n",
    "df_l"
   ],
   "metadata": {
    "collapsed": false,
    "pycharm": {
     "name": "#%%\n"
    }
   }
  },
  {
   "cell_type": "code",
   "execution_count": 5,
   "outputs": [
    {
     "data": {
      "text/plain": "               founded    employees                            ceo  \\\n0        april 1, 1976      100,000                 timothy d cook   \n1        april 4, 1975      181,000                  satya nadella   \n2                                                    amin h nasser   \n3      october 2, 2015      156,500                  sundar pichai   \n4         july 5, 1994    1,608,000                 andrew r jassy   \n..                 ...          ...                            ...   \n894               1930       20,300       thomas sinnickson gayner   \n895               1939       12,023       j powell brown cpcu cpcu   \n896                          16,196                shingo konomoto   \n897               1986       52,000   william joseph hornbuckle iv   \n898                           9,594                                  \n\n                              name  \n0                            apple  \n1                        microsoft  \n2                           aramco  \n3                         alphabet  \n4                           amazon  \n..                             ...  \n894             markel corporation  \n895              brown & brown inc  \n896  nomura research institute ltd  \n897      mgm resorts international  \n898  mega financial holding co ltd  \n\n[899 rows x 4 columns]",
      "text/html": "<div>\n<style scoped>\n    .dataframe tbody tr th:only-of-type {\n        vertical-align: middle;\n    }\n\n    .dataframe tbody tr th {\n        vertical-align: top;\n    }\n\n    .dataframe thead th {\n        text-align: right;\n    }\n</style>\n<table border=\"1\" class=\"dataframe\">\n  <thead>\n    <tr style=\"text-align: right;\">\n      <th></th>\n      <th>founded</th>\n      <th>employees</th>\n      <th>ceo</th>\n      <th>name</th>\n    </tr>\n  </thead>\n  <tbody>\n    <tr>\n      <th>0</th>\n      <td>april 1, 1976</td>\n      <td>100,000</td>\n      <td>timothy d cook</td>\n      <td>apple</td>\n    </tr>\n    <tr>\n      <th>1</th>\n      <td>april 4, 1975</td>\n      <td>181,000</td>\n      <td>satya nadella</td>\n      <td>microsoft</td>\n    </tr>\n    <tr>\n      <th>2</th>\n      <td></td>\n      <td></td>\n      <td>amin h nasser</td>\n      <td>aramco</td>\n    </tr>\n    <tr>\n      <th>3</th>\n      <td>october 2, 2015</td>\n      <td>156,500</td>\n      <td>sundar pichai</td>\n      <td>alphabet</td>\n    </tr>\n    <tr>\n      <th>4</th>\n      <td>july 5, 1994</td>\n      <td>1,608,000</td>\n      <td>andrew r jassy</td>\n      <td>amazon</td>\n    </tr>\n    <tr>\n      <th>...</th>\n      <td>...</td>\n      <td>...</td>\n      <td>...</td>\n      <td>...</td>\n    </tr>\n    <tr>\n      <th>894</th>\n      <td>1930</td>\n      <td>20,300</td>\n      <td>thomas sinnickson gayner</td>\n      <td>markel corporation</td>\n    </tr>\n    <tr>\n      <th>895</th>\n      <td>1939</td>\n      <td>12,023</td>\n      <td>j powell brown cpcu cpcu</td>\n      <td>brown &amp; brown inc</td>\n    </tr>\n    <tr>\n      <th>896</th>\n      <td></td>\n      <td>16,196</td>\n      <td>shingo konomoto</td>\n      <td>nomura research institute ltd</td>\n    </tr>\n    <tr>\n      <th>897</th>\n      <td>1986</td>\n      <td>52,000</td>\n      <td>william joseph hornbuckle iv</td>\n      <td>mgm resorts international</td>\n    </tr>\n    <tr>\n      <th>898</th>\n      <td></td>\n      <td>9,594</td>\n      <td></td>\n      <td>mega financial holding co ltd</td>\n    </tr>\n  </tbody>\n</table>\n<p>899 rows × 4 columns</p>\n</div>"
     },
     "execution_count": 5,
     "metadata": {},
     "output_type": "execute_result"
    }
   ],
   "source": [
    "df_r = pd.read_json(PATH_DS_R, encoding='utf-8', lines=True, dtype=object)\n",
    "df_r"
   ],
   "metadata": {
    "collapsed": false,
    "pycharm": {
     "name": "#%%\n"
    }
   }
  },
  {
   "cell_type": "code",
   "execution_count": 6,
   "outputs": [
    {
     "name": "stdout",
     "output_type": "stream",
     "text": [
      "WARNING:recordlinkage:indexing - performance warning - A full index can result in large number of record pairs.\n"
     ]
    },
    {
     "data": {
      "text/plain": "Empty DataFrame\nColumns: []\nIndex: []",
      "text/html": "<div>\n<style scoped>\n    .dataframe tbody tr th:only-of-type {\n        vertical-align: middle;\n    }\n\n    .dataframe tbody tr th {\n        vertical-align: top;\n    }\n\n    .dataframe thead th {\n        text-align: right;\n    }\n</style>\n<table border=\"1\" class=\"dataframe\">\n  <thead>\n    <tr style=\"text-align: right;\">\n      <th></th>\n    </tr>\n  </thead>\n  <tbody>\n  </tbody>\n</table>\n</div>"
     },
     "metadata": {},
     "output_type": "display_data"
    },
    {
     "name": "stdout",
     "output_type": "stream",
     "text": [
      "WARNING:recordlinkage:indexing - performance warning - A full index can result in large number of record pairs.\n"
     ]
    },
    {
     "data": {
      "text/plain": "Empty DataFrame\nColumns: []\nIndex: []",
      "text/html": "<div>\n<style scoped>\n    .dataframe tbody tr th:only-of-type {\n        vertical-align: middle;\n    }\n\n    .dataframe tbody tr th {\n        vertical-align: top;\n    }\n\n    .dataframe thead th {\n        text-align: right;\n    }\n</style>\n<table border=\"1\" class=\"dataframe\">\n  <thead>\n    <tr style=\"text-align: right;\">\n      <th></th>\n    </tr>\n  </thead>\n  <tbody>\n  </tbody>\n</table>\n</div>"
     },
     "metadata": {},
     "output_type": "display_data"
    },
    {
     "data": {
      "text/plain": "Empty DataFrame\nColumns: []\nIndex: []",
      "text/html": "<div>\n<style scoped>\n    .dataframe tbody tr th:only-of-type {\n        vertical-align: middle;\n    }\n\n    .dataframe tbody tr th {\n        vertical-align: top;\n    }\n\n    .dataframe thead th {\n        text-align: right;\n    }\n</style>\n<table border=\"1\" class=\"dataframe\">\n  <thead>\n    <tr style=\"text-align: right;\">\n      <th></th>\n    </tr>\n  </thead>\n  <tbody>\n  </tbody>\n</table>\n</div>"
     },
     "metadata": {},
     "output_type": "display_data"
    },
    {
     "data": {
      "text/plain": "                              name        country                 industry  \\\n0                         lacework  united states            cybersecurity   \n1                          tipalti  united states                  fintech   \n2                           tempus  united states                   health   \n3                          anduril  united states  artificial intelligence   \n4                             bolt        estonia    auto & transportation   \n..                             ...            ...                      ...   \n894             markel corporation            NaN                      NaN   \n895              brown & brown inc            NaN                      NaN   \n896  nomura research institute ltd            NaN                      NaN   \n897      mgm resorts international            NaN                      NaN   \n898  mega financial holding co ltd            NaN                      NaN   \n\n    founded employees                            ceo  \n0      2015       NaN                            NaN  \n1      2010       NaN                            NaN  \n2      2015       NaN                            NaN  \n3      2017       NaN                            NaN  \n4      2013       NaN                            NaN  \n..      ...       ...                            ...  \n894    1930    20,300       thomas sinnickson gayner  \n895    1939    12,023       j powell brown cpcu cpcu  \n896            16,196                shingo konomoto  \n897    1986    52,000   william joseph hornbuckle iv  \n898             9,594                                 \n\n[2084 rows x 6 columns]",
      "text/html": "<div>\n<style scoped>\n    .dataframe tbody tr th:only-of-type {\n        vertical-align: middle;\n    }\n\n    .dataframe tbody tr th {\n        vertical-align: top;\n    }\n\n    .dataframe thead th {\n        text-align: right;\n    }\n</style>\n<table border=\"1\" class=\"dataframe\">\n  <thead>\n    <tr style=\"text-align: right;\">\n      <th></th>\n      <th>name</th>\n      <th>country</th>\n      <th>industry</th>\n      <th>founded</th>\n      <th>employees</th>\n      <th>ceo</th>\n    </tr>\n  </thead>\n  <tbody>\n    <tr>\n      <th>0</th>\n      <td>lacework</td>\n      <td>united states</td>\n      <td>cybersecurity</td>\n      <td>2015</td>\n      <td>NaN</td>\n      <td>NaN</td>\n    </tr>\n    <tr>\n      <th>1</th>\n      <td>tipalti</td>\n      <td>united states</td>\n      <td>fintech</td>\n      <td>2010</td>\n      <td>NaN</td>\n      <td>NaN</td>\n    </tr>\n    <tr>\n      <th>2</th>\n      <td>tempus</td>\n      <td>united states</td>\n      <td>health</td>\n      <td>2015</td>\n      <td>NaN</td>\n      <td>NaN</td>\n    </tr>\n    <tr>\n      <th>3</th>\n      <td>anduril</td>\n      <td>united states</td>\n      <td>artificial intelligence</td>\n      <td>2017</td>\n      <td>NaN</td>\n      <td>NaN</td>\n    </tr>\n    <tr>\n      <th>4</th>\n      <td>bolt</td>\n      <td>estonia</td>\n      <td>auto &amp; transportation</td>\n      <td>2013</td>\n      <td>NaN</td>\n      <td>NaN</td>\n    </tr>\n    <tr>\n      <th>...</th>\n      <td>...</td>\n      <td>...</td>\n      <td>...</td>\n      <td>...</td>\n      <td>...</td>\n      <td>...</td>\n    </tr>\n    <tr>\n      <th>894</th>\n      <td>markel corporation</td>\n      <td>NaN</td>\n      <td>NaN</td>\n      <td>1930</td>\n      <td>20,300</td>\n      <td>thomas sinnickson gayner</td>\n    </tr>\n    <tr>\n      <th>895</th>\n      <td>brown &amp; brown inc</td>\n      <td>NaN</td>\n      <td>NaN</td>\n      <td>1939</td>\n      <td>12,023</td>\n      <td>j powell brown cpcu cpcu</td>\n    </tr>\n    <tr>\n      <th>896</th>\n      <td>nomura research institute ltd</td>\n      <td>NaN</td>\n      <td>NaN</td>\n      <td></td>\n      <td>16,196</td>\n      <td>shingo konomoto</td>\n    </tr>\n    <tr>\n      <th>897</th>\n      <td>mgm resorts international</td>\n      <td>NaN</td>\n      <td>NaN</td>\n      <td>1986</td>\n      <td>52,000</td>\n      <td>william joseph hornbuckle iv</td>\n    </tr>\n    <tr>\n      <th>898</th>\n      <td>mega financial holding co ltd</td>\n      <td>NaN</td>\n      <td>NaN</td>\n      <td></td>\n      <td>9,594</td>\n      <td></td>\n    </tr>\n  </tbody>\n</table>\n<p>2084 rows × 6 columns</p>\n</div>"
     },
     "execution_count": 6,
     "metadata": {},
     "output_type": "execute_result"
    },
    {
     "name": "stderr",
     "output_type": "stream",
     "text": [
      "Traceback (most recent call last):\n",
      "  File \"_pydevd_bundle/pydevd_cython_darwin_310_64.pyx\", line 1035, in _pydevd_bundle.pydevd_cython_darwin_310_64.PyDBFrame.trace_dispatch\n",
      "  File \"/Applications/PyCharm.app/Contents/plugins/python/helpers-pro/jupyter_debug/pydev_jupyter_plugin.py\", line 144, in cmd_step_over\n",
      "    if _is_inside_jupyter_cell(frame, pydb):\n",
      "  File \"/Applications/PyCharm.app/Contents/plugins/python/helpers-pro/jupyter_debug/pydev_jupyter_plugin.py\", line 209, in _is_inside_jupyter_cell\n",
      "    if is_cell_filename(filename):\n",
      "  File \"/Applications/PyCharm.app/Contents/plugins/python/helpers-pro/jupyter_debug/pydev_jupyter_plugin.py\", line 220, in is_cell_filename\n",
      "    ipython_shell = get_ipython()\n",
      "NameError: name 'get_ipython' is not defined\n"
     ]
    }
   ],
   "source": [
    "def get_features(df_l, df_r, name_threshold, is_name):\n",
    "    feature_value = 0\n",
    "    columns_l = df_l.columns.values.tolist()\n",
    "    columns_r = df_r.columns.values.tolist()\n",
    "    # set_index\n",
    "    indexer = recordlinkage.Index()\n",
    "    indexer.full()\n",
    "    candidate_links = indexer.index(df_l, df_r)\n",
    "\n",
    "    # Comparison step\n",
    "    compare_cl = recordlinkage.Compare()\n",
    "    compare_cl.string(\"name\", \"name\", method=\"levenshtein\", threshold=name_threshold, label=\"name\")\n",
    "\n",
    "    if not is_name:\n",
    "        if 'ceo' in columns_l and 'ceo' in columns_r:\n",
    "            compare_cl.string(\"ceo\", \"ceo\", method=\"levenshtein\", threshold=0.85, label=\"ceo\")\n",
    "            feature_value = 1\n",
    "\n",
    "    # compare_cl.exact(\"country\", \"country\", label=\"country\")\n",
    "\n",
    "    return compare_cl.compute(candidate_links, df_l, df_r), feature_value\n",
    "\n",
    "\n",
    "def get_pairs(features, feature_value):\n",
    "    # Classification step\n",
    "    pairs = features[features.sum(axis=1) > feature_value]\n",
    "    return pairs['name'].keys().to_list()\n",
    "\n",
    "\n",
    "def rename_columns(columns_l, columns_r):\n",
    "    columns_l = [c + '_l' for c in columns_l]\n",
    "    columns_r = [c + '_r' for c in columns_r]\n",
    "    columns_join = columns_l + columns_r\n",
    "    return columns_l, columns_r\n",
    "\n",
    "def remove_suffix(columns):\n",
    "    return [c[:-2] for c in columns]\n",
    "\n",
    "\n",
    "def find_duplicated_columns(columns_l, columns_r):\n",
    "    attr_cleaned = columns_l + columns_r\n",
    "    duplicates = [item for item, count in collections.Counter(attr_cleaned).items() if count > 1]\n",
    "    return duplicates\n",
    "\n",
    "# def join(matching_dataset_left, matching_dataset_right):\n",
    "#     column_left, column_right = rename_columns(matching_dataset_left.columns.values.tolist(),\n",
    "#                                            matching_dataset_right.columns.values.tolist())\n",
    "#     matching_dataset_left.columns = column_left\n",
    "#     matching_dataset_right.columns = column_right\n",
    "#     joined_df = pd.concat([matching_dataset_left, matching_dataset_right], axis=1)\n",
    "#\n",
    "#     duplicates = find_duplicated_columns(df_l.columns.values.tolist(), df_r.columns.values.tolist())\n",
    "#     for col in duplicates:\n",
    "#         candidates = joined_df[[col + '_l', col + '_r']].sample(20)\n",
    "#         candidate_labels = candidates.columns.values.tolist()\n",
    "#         display(candidates.sample(10))\n",
    "#         time.sleep(1)\n",
    "#         idx_drop = int(input(\"Inserisci l'indice (0 o 1) della colonna che vuoi scartare nel dataset finale: \"))\n",
    "#         joined_df.drop(candidate_labels[idx_drop], axis=1, inplace=True)\n",
    "#\n",
    "#     joined_df.columns = [col[:-2] for col in joined_df.columns.values.tolist()]\n",
    "#     return joined_df\n",
    "\n",
    "def join(matching_dataset_left, matching_dataset_right):\n",
    "    duplicates = find_duplicated_columns(matching_dataset_left.columns.values.tolist(), matching_dataset_right.columns.values.tolist())\n",
    "\n",
    "    column_left, column_right = rename_columns(matching_dataset_left.columns.values.tolist(),\n",
    "                                           matching_dataset_right.columns.values.tolist())\n",
    "    matching_dataset_left.columns = column_left\n",
    "    matching_dataset_right.columns = column_right\n",
    "    joined_df = pd.concat([matching_dataset_left, matching_dataset_right], axis=1)\n",
    "\n",
    "    # duplicates = find_duplicated_columns(matching_dataset_left.columns.values.tolist(), matching_dataset_right.columns.values.tolist())\n",
    "    for col in duplicates:\n",
    "        candidates = joined_df[[col + '_l', col + '_r']].sample(20)\n",
    "        candidate_labels = candidates.columns.values.tolist()\n",
    "        display(candidates.sample(10))\n",
    "        time.sleep(1)\n",
    "        idx_drop = int(input(\"Inserisci l'indice (0 o 1) della colonna che vuoi scartare nel dataset finale: \"))\n",
    "        joined_df.drop(candidate_labels[idx_drop], axis=1, inplace=True)\n",
    "\n",
    "    joined_df.columns = [col[:-2] for col in joined_df.columns.values.tolist()]\n",
    "    return joined_df\n",
    "\n",
    "features, feature_value = get_features(df_l, df_r, 0.95, False)\n",
    "pairs = get_pairs(features, feature_value)\n",
    "features.sum(axis=1).value_counts().sort_index(ascending=False)\n",
    "\n",
    "left = []\n",
    "right = []\n",
    "\n",
    "for elem in pairs:\n",
    "    left.append(df_l.loc[elem[0]])\n",
    "    right.append(df_r.loc[elem[1]])\n",
    "\n",
    "matching_dataset_left = pd.DataFrame(left)\n",
    "matching_dataset_right = pd.DataFrame(right)\n",
    "matching_dataset_left = matching_dataset_left.reset_index(drop=True)\n",
    "matching_dataset_right = matching_dataset_right.reset_index(drop=True)\n",
    "\n",
    "difference_l = pd.concat([df_l, matching_dataset_left]).drop_duplicates(keep=False)\n",
    "difference_r = pd.concat([df_r, matching_dataset_right]).drop_duplicates(keep=False)\n",
    "\n",
    "match_join_df = join(matching_dataset_left, matching_dataset_right)\n",
    "display(match_join_df)\n",
    "\n",
    "\n",
    "\n",
    "features_difference, feature_value_difference = get_features(difference_l, difference_r, 0.95, True)\n",
    "pairs_difference = get_pairs(features_difference, feature_value_difference)\n",
    "features_difference.sum(axis=1).value_counts().sort_index(ascending=False)\n",
    "\n",
    "left = []\n",
    "right = []\n",
    "\n",
    "for elem in pairs_difference:\n",
    "    left.append(difference_l.loc[elem[0]])\n",
    "    right.append(difference_r.loc[elem[1]])\n",
    "\n",
    "matching_difference_dataset_left = pd.DataFrame(left)\n",
    "matching_difference_dataset_right = pd.DataFrame(right)\n",
    "matching_difference_dataset_left = matching_difference_dataset_left.reset_index(drop=True)\n",
    "matching_difference_dataset_right = matching_difference_dataset_right.reset_index(drop=True)\n",
    "\n",
    "difference_join_df = join(matching_difference_dataset_left, matching_difference_dataset_right)\n",
    "display(difference_join_df)\n",
    "\n",
    "result= pd.concat([match_join_df, difference_join_df])\n",
    "display(result)\n",
    "\n",
    "matching_difference_dataset_left.columns = remove_suffix(matching_difference_dataset_left.columns.values.tolist())\n",
    "matching_difference_dataset_right.columns = remove_suffix(matching_difference_dataset_right.columns.values.tolist())\n",
    "\n",
    "unique_left_df =pd.concat([difference_l, matching_difference_dataset_left]).drop_duplicates(keep=False)\n",
    "result = pd.concat([result, unique_left_df])\n",
    "\n",
    "unique_right_df = pd.concat([difference_r, matching_difference_dataset_right]).drop_duplicates(keep=False)\n",
    "result = pd.concat([result, unique_right_df])\n",
    "\n",
    "result"
   ],
   "metadata": {
    "collapsed": false,
    "pycharm": {
     "name": "#%%\n"
    }
   }
  },
  {
   "cell_type": "code",
   "execution_count": null,
   "outputs": [],
   "source": [
    "r"
   ],
   "metadata": {
    "collapsed": false,
    "pycharm": {
     "name": "#%%\n"
    }
   }
  },
  {
   "cell_type": "code",
   "execution_count": null,
   "outputs": [],
   "source": [],
   "metadata": {
    "collapsed": false,
    "pycharm": {
     "name": "#%%\n"
    }
   }
  },
  {
   "cell_type": "code",
   "execution_count": null,
   "outputs": [],
   "source": [],
   "metadata": {
    "collapsed": false,
    "pycharm": {
     "name": "#%%\n"
    }
   }
  },
  {
   "cell_type": "code",
   "execution_count": null,
   "outputs": [],
   "source": [],
   "metadata": {
    "collapsed": false,
    "pycharm": {
     "name": "#%%\n"
    }
   }
  },
  {
   "cell_type": "code",
   "execution_count": null,
   "outputs": [],
   "source": [],
   "metadata": {
    "collapsed": false,
    "pycharm": {
     "name": "#%%\n"
    }
   }
  },
  {
   "cell_type": "code",
   "execution_count": null,
   "outputs": [],
   "source": [],
   "metadata": {
    "collapsed": false,
    "pycharm": {
     "name": "#%%\n"
    }
   }
  },
  {
   "cell_type": "code",
   "execution_count": 29,
   "outputs": [],
   "source": [
    "unique_left_df =pd.concat([difference_l, matching_difference_dataset_left]).drop_duplicates(keep=False)\n",
    "result = pd.concat([result, unique_left_df])"
   ],
   "metadata": {
    "collapsed": false,
    "pycharm": {
     "name": "#%%\n"
    }
   }
  },
  {
   "cell_type": "code",
   "execution_count": 30,
   "outputs": [
    {
     "data": {
      "text/plain": "            name        country                             industry founded\n0       lacework  united states                        cybersecurity    2015\n1        tipalti  united states                              fintech    2010\n2         tempus  united states                               health    2015\n3        anduril  united states              artificial intelligence    2017\n4           bolt        estonia                auto & transportation    2013\n...          ...            ...                                  ...     ...\n1180      spacex  united states                                other    2002\n1181    fanatics  united states      e-commerce & direct-to-consumer    1995\n1182   instacart  united states  supply chain, logistics, & delivery    2012\n1183  databricks  united states          data management & analytics    2013\n1184      stripe  united states                              fintech    2010\n\n[1185 rows x 4 columns]",
      "text/html": "<div>\n<style scoped>\n    .dataframe tbody tr th:only-of-type {\n        vertical-align: middle;\n    }\n\n    .dataframe tbody tr th {\n        vertical-align: top;\n    }\n\n    .dataframe thead th {\n        text-align: right;\n    }\n</style>\n<table border=\"1\" class=\"dataframe\">\n  <thead>\n    <tr style=\"text-align: right;\">\n      <th></th>\n      <th>name</th>\n      <th>country</th>\n      <th>industry</th>\n      <th>founded</th>\n    </tr>\n  </thead>\n  <tbody>\n    <tr>\n      <th>0</th>\n      <td>lacework</td>\n      <td>united states</td>\n      <td>cybersecurity</td>\n      <td>2015</td>\n    </tr>\n    <tr>\n      <th>1</th>\n      <td>tipalti</td>\n      <td>united states</td>\n      <td>fintech</td>\n      <td>2010</td>\n    </tr>\n    <tr>\n      <th>2</th>\n      <td>tempus</td>\n      <td>united states</td>\n      <td>health</td>\n      <td>2015</td>\n    </tr>\n    <tr>\n      <th>3</th>\n      <td>anduril</td>\n      <td>united states</td>\n      <td>artificial intelligence</td>\n      <td>2017</td>\n    </tr>\n    <tr>\n      <th>4</th>\n      <td>bolt</td>\n      <td>estonia</td>\n      <td>auto &amp; transportation</td>\n      <td>2013</td>\n    </tr>\n    <tr>\n      <th>...</th>\n      <td>...</td>\n      <td>...</td>\n      <td>...</td>\n      <td>...</td>\n    </tr>\n    <tr>\n      <th>1180</th>\n      <td>spacex</td>\n      <td>united states</td>\n      <td>other</td>\n      <td>2002</td>\n    </tr>\n    <tr>\n      <th>1181</th>\n      <td>fanatics</td>\n      <td>united states</td>\n      <td>e-commerce &amp; direct-to-consumer</td>\n      <td>1995</td>\n    </tr>\n    <tr>\n      <th>1182</th>\n      <td>instacart</td>\n      <td>united states</td>\n      <td>supply chain, logistics, &amp; delivery</td>\n      <td>2012</td>\n    </tr>\n    <tr>\n      <th>1183</th>\n      <td>databricks</td>\n      <td>united states</td>\n      <td>data management &amp; analytics</td>\n      <td>2013</td>\n    </tr>\n    <tr>\n      <th>1184</th>\n      <td>stripe</td>\n      <td>united states</td>\n      <td>fintech</td>\n      <td>2010</td>\n    </tr>\n  </tbody>\n</table>\n<p>1185 rows × 4 columns</p>\n</div>"
     },
     "execution_count": 30,
     "metadata": {},
     "output_type": "execute_result"
    }
   ],
   "source": [
    "result"
   ],
   "metadata": {
    "collapsed": false,
    "pycharm": {
     "name": "#%%\n"
    }
   }
  },
  {
   "cell_type": "code",
   "execution_count": 31,
   "outputs": [],
   "source": [
    "unique_right_df = pd.concat([difference_r, matching_difference_dataset_right]).drop_duplicates(keep=False)\n",
    "result = pd.concat([result, unique_right_df])"
   ],
   "metadata": {
    "collapsed": false,
    "pycharm": {
     "name": "#%%\n"
    }
   }
  },
  {
   "cell_type": "code",
   "execution_count": 32,
   "outputs": [
    {
     "data": {
      "text/plain": "                              name        country                 industry  \\\n0                         lacework  united states            cybersecurity   \n1                          tipalti  united states                  fintech   \n2                           tempus  united states                   health   \n3                          anduril  united states  artificial intelligence   \n4                             bolt        estonia    auto & transportation   \n..                             ...            ...                      ...   \n894             markel corporation            NaN                      NaN   \n895              brown & brown inc            NaN                      NaN   \n896  nomura research institute ltd            NaN                      NaN   \n897      mgm resorts international            NaN                      NaN   \n898  mega financial holding co ltd            NaN                      NaN   \n\n    founded employees                            ceo  \n0      2015       NaN                            NaN  \n1      2010       NaN                            NaN  \n2      2015       NaN                            NaN  \n3      2017       NaN                            NaN  \n4      2013       NaN                            NaN  \n..      ...       ...                            ...  \n894    1930    20,300       thomas sinnickson gayner  \n895    1939    12,023       j powell brown cpcu cpcu  \n896            16,196                shingo konomoto  \n897    1986    52,000   william joseph hornbuckle iv  \n898             9,594                                 \n\n[2084 rows x 6 columns]",
      "text/html": "<div>\n<style scoped>\n    .dataframe tbody tr th:only-of-type {\n        vertical-align: middle;\n    }\n\n    .dataframe tbody tr th {\n        vertical-align: top;\n    }\n\n    .dataframe thead th {\n        text-align: right;\n    }\n</style>\n<table border=\"1\" class=\"dataframe\">\n  <thead>\n    <tr style=\"text-align: right;\">\n      <th></th>\n      <th>name</th>\n      <th>country</th>\n      <th>industry</th>\n      <th>founded</th>\n      <th>employees</th>\n      <th>ceo</th>\n    </tr>\n  </thead>\n  <tbody>\n    <tr>\n      <th>0</th>\n      <td>lacework</td>\n      <td>united states</td>\n      <td>cybersecurity</td>\n      <td>2015</td>\n      <td>NaN</td>\n      <td>NaN</td>\n    </tr>\n    <tr>\n      <th>1</th>\n      <td>tipalti</td>\n      <td>united states</td>\n      <td>fintech</td>\n      <td>2010</td>\n      <td>NaN</td>\n      <td>NaN</td>\n    </tr>\n    <tr>\n      <th>2</th>\n      <td>tempus</td>\n      <td>united states</td>\n      <td>health</td>\n      <td>2015</td>\n      <td>NaN</td>\n      <td>NaN</td>\n    </tr>\n    <tr>\n      <th>3</th>\n      <td>anduril</td>\n      <td>united states</td>\n      <td>artificial intelligence</td>\n      <td>2017</td>\n      <td>NaN</td>\n      <td>NaN</td>\n    </tr>\n    <tr>\n      <th>4</th>\n      <td>bolt</td>\n      <td>estonia</td>\n      <td>auto &amp; transportation</td>\n      <td>2013</td>\n      <td>NaN</td>\n      <td>NaN</td>\n    </tr>\n    <tr>\n      <th>...</th>\n      <td>...</td>\n      <td>...</td>\n      <td>...</td>\n      <td>...</td>\n      <td>...</td>\n      <td>...</td>\n    </tr>\n    <tr>\n      <th>894</th>\n      <td>markel corporation</td>\n      <td>NaN</td>\n      <td>NaN</td>\n      <td>1930</td>\n      <td>20,300</td>\n      <td>thomas sinnickson gayner</td>\n    </tr>\n    <tr>\n      <th>895</th>\n      <td>brown &amp; brown inc</td>\n      <td>NaN</td>\n      <td>NaN</td>\n      <td>1939</td>\n      <td>12,023</td>\n      <td>j powell brown cpcu cpcu</td>\n    </tr>\n    <tr>\n      <th>896</th>\n      <td>nomura research institute ltd</td>\n      <td>NaN</td>\n      <td>NaN</td>\n      <td></td>\n      <td>16,196</td>\n      <td>shingo konomoto</td>\n    </tr>\n    <tr>\n      <th>897</th>\n      <td>mgm resorts international</td>\n      <td>NaN</td>\n      <td>NaN</td>\n      <td>1986</td>\n      <td>52,000</td>\n      <td>william joseph hornbuckle iv</td>\n    </tr>\n    <tr>\n      <th>898</th>\n      <td>mega financial holding co ltd</td>\n      <td>NaN</td>\n      <td>NaN</td>\n      <td></td>\n      <td>9,594</td>\n      <td></td>\n    </tr>\n  </tbody>\n</table>\n<p>2084 rows × 6 columns</p>\n</div>"
     },
     "execution_count": 32,
     "metadata": {},
     "output_type": "execute_result"
    }
   ],
   "source": [
    "result"
   ],
   "metadata": {
    "collapsed": false,
    "pycharm": {
     "name": "#%%\n"
    }
   }
  },
  {
   "cell_type": "code",
   "execution_count": null,
   "outputs": [],
   "source": [],
   "metadata": {
    "collapsed": false,
    "pycharm": {
     "name": "#%%\n"
    }
   }
  },
  {
   "cell_type": "code",
   "execution_count": null,
   "outputs": [],
   "source": [],
   "metadata": {
    "collapsed": false,
    "pycharm": {
     "name": "#%%\n"
    }
   }
  },
  {
   "cell_type": "code",
   "execution_count": null,
   "outputs": [],
   "source": [],
   "metadata": {
    "collapsed": false,
    "pycharm": {
     "name": "#%%\n"
    }
   }
  },
  {
   "cell_type": "code",
   "execution_count": null,
   "outputs": [],
   "source": [],
   "metadata": {
    "collapsed": false,
    "pycharm": {
     "name": "#%%\n"
    }
   }
  },
  {
   "cell_type": "code",
   "execution_count": null,
   "outputs": [],
   "source": [],
   "metadata": {
    "collapsed": false,
    "pycharm": {
     "name": "#%%\n"
    }
   }
  },
  {
   "cell_type": "code",
   "execution_count": null,
   "outputs": [],
   "source": [],
   "metadata": {
    "collapsed": false,
    "pycharm": {
     "name": "#%%\n"
    }
   }
  },
  {
   "cell_type": "code",
   "execution_count": null,
   "outputs": [],
   "source": [],
   "metadata": {
    "collapsed": false,
    "pycharm": {
     "name": "#%%\n"
    }
   }
  },
  {
   "cell_type": "code",
   "execution_count": null,
   "outputs": [],
   "source": [],
   "metadata": {
    "collapsed": false,
    "pycharm": {
     "name": "#%%\n"
    }
   }
  },
  {
   "cell_type": "code",
   "execution_count": null,
   "outputs": [],
   "source": [],
   "metadata": {
    "collapsed": false,
    "pycharm": {
     "name": "#%%\n"
    }
   }
  },
  {
   "cell_type": "code",
   "execution_count": null,
   "outputs": [],
   "source": [],
   "metadata": {
    "collapsed": false,
    "pycharm": {
     "name": "#%%\n"
    }
   }
  },
  {
   "cell_type": "code",
   "execution_count": null,
   "outputs": [],
   "source": [],
   "metadata": {
    "collapsed": false,
    "pycharm": {
     "name": "#%%\n"
    }
   }
  },
  {
   "cell_type": "code",
   "execution_count": null,
   "outputs": [],
   "source": [],
   "metadata": {
    "collapsed": false,
    "pycharm": {
     "name": "#%%\n"
    }
   }
  },
  {
   "cell_type": "code",
   "execution_count": null,
   "outputs": [],
   "source": [],
   "metadata": {
    "collapsed": false,
    "pycharm": {
     "name": "#%%\n"
    }
   }
  },
  {
   "cell_type": "code",
   "execution_count": null,
   "outputs": [],
   "source": [],
   "metadata": {
    "collapsed": false,
    "pycharm": {
     "name": "#%%\n"
    }
   }
  },
  {
   "cell_type": "code",
   "execution_count": null,
   "outputs": [],
   "source": [],
   "metadata": {
    "collapsed": false,
    "pycharm": {
     "name": "#%%\n"
    }
   }
  },
  {
   "cell_type": "code",
   "execution_count": null,
   "outputs": [],
   "source": [],
   "metadata": {
    "collapsed": false,
    "pycharm": {
     "name": "#%%\n"
    }
   }
  },
  {
   "cell_type": "code",
   "execution_count": null,
   "outputs": [],
   "source": [],
   "metadata": {
    "collapsed": false,
    "pycharm": {
     "name": "#%%\n"
    }
   }
  },
  {
   "cell_type": "code",
   "execution_count": 653,
   "outputs": [
    {
     "name": "stdout",
     "output_type": "stream",
     "text": [
      "WARNING:recordlinkage:indexing - performance warning - A full index can result in large number of record pairs.\n"
     ]
    }
   ],
   "source": [
    "features, feature_value = get_features(df_l, df_r, 0.95, False)\n",
    "pairs = get_pairs(features, feature_value)"
   ],
   "metadata": {
    "collapsed": false,
    "pycharm": {
     "name": "#%%\n"
    }
   }
  },
  {
   "cell_type": "code",
   "execution_count": 654,
   "outputs": [
    {
     "data": {
      "text/plain": "0.0    1065315\ndtype: int64"
     },
     "execution_count": 654,
     "metadata": {},
     "output_type": "execute_result"
    }
   ],
   "source": [
    "features.sum(axis=1).value_counts().sort_index(ascending=False)"
   ],
   "metadata": {
    "collapsed": false,
    "pycharm": {
     "name": "#%%\n"
    }
   }
  },
  {
   "cell_type": "code",
   "execution_count": 656,
   "outputs": [],
   "source": [
    "left = []\n",
    "right = []\n",
    "\n",
    "for elem in pairs:\n",
    "    left.append(df_l.loc[elem[0]])\n",
    "    right.append(df_r.loc[elem[1]])\n",
    "\n",
    "matching_dataset_left = pd.DataFrame(left)\n",
    "matching_dataset_right = pd.DataFrame(right)\n",
    "matching_dataset_left = matching_dataset_left.reset_index(drop=True)\n",
    "matching_dataset_right = matching_dataset_right.reset_index(drop=True)"
   ],
   "metadata": {
    "collapsed": false,
    "pycharm": {
     "name": "#%%\n"
    }
   }
  },
  {
   "cell_type": "code",
   "execution_count": 657,
   "outputs": [
    {
     "data": {
      "text/plain": "Empty DataFrame\nColumns: []\nIndex: []",
      "text/html": "<div>\n<style scoped>\n    .dataframe tbody tr th:only-of-type {\n        vertical-align: middle;\n    }\n\n    .dataframe tbody tr th {\n        vertical-align: top;\n    }\n\n    .dataframe thead th {\n        text-align: right;\n    }\n</style>\n<table border=\"1\" class=\"dataframe\">\n  <thead>\n    <tr style=\"text-align: right;\">\n      <th></th>\n    </tr>\n  </thead>\n  <tbody>\n  </tbody>\n</table>\n</div>"
     },
     "execution_count": 657,
     "metadata": {},
     "output_type": "execute_result"
    }
   ],
   "source": [
    "matching_dataset_left"
   ],
   "metadata": {
    "collapsed": false,
    "pycharm": {
     "name": "#%%\n"
    }
   }
  },
  {
   "cell_type": "code",
   "execution_count": 3,
   "outputs": [],
   "source": [
    "def get_features(df_l, df_r, name_threshold, is_name):\n",
    "    feature_value = 0\n",
    "    columns_l = df_l.columns.values.tolist()\n",
    "    columns_r = df_r.columns.values.tolist()\n",
    "    # set_index\n",
    "    indexer = recordlinkage.Index()\n",
    "    indexer.full()\n",
    "    candidate_links = indexer.index(df_l, df_r)\n",
    "\n",
    "    # Comparison step\n",
    "    compare_cl = recordlinkage.Compare()\n",
    "    compare_cl.string(\"name\", \"name\", method=\"levenshtein\", threshold=name_threshold, label=\"name\")\n",
    "\n",
    "    if not is_name:\n",
    "        if 'ceo' in columns_l and 'ceo' in columns_r:\n",
    "            compare_cl.string(\"ceo\", \"ceo\", method=\"levenshtein\", threshold=0.85, label=\"ceo\")\n",
    "            feature_value = 1\n",
    "\n",
    "    # compare_cl.exact(\"country\", \"country\", label=\"country\")\n",
    "\n",
    "    return compare_cl.compute(candidate_links, df_l, df_r), feature_value\n",
    "\n",
    "\n",
    "def get_pairs(features, feature_value):\n",
    "    # Classification step\n",
    "    pairs = features[features.sum(axis=1) > feature_value]\n",
    "    return pairs['name'].keys().to_list()\n",
    "\n",
    "\n",
    "def rename_columns(columns_l, columns_r):\n",
    "    columns_l = [c + '_l' for c in columns_l]\n",
    "    columns_r = [c + '_r' for c in columns_r]\n",
    "    columns_join = columns_l + columns_r\n",
    "    return columns_l, columns_r\n",
    "\n",
    "\n",
    "def find_duplicated_columns(columns_l, columns_r):\n",
    "    attr_cleaned = columns_l + columns_r\n",
    "    duplicates = [item for item, count in collections.Counter(attr_cleaned).items() if count > 1]\n",
    "    return duplicates\n",
    "\n",
    "def join(matching_dataset_left, matching_dataset_right):\n",
    "    column_left, column_right = rename_columns(matching_dataset_left.columns.values.tolist(),\n",
    "                                           matching_dataset_right.columns.values.tolist())\n",
    "    matching_dataset_left.columns = column_left\n",
    "    matching_dataset_right.columns = column_right\n",
    "    joined_df = pd.concat([matching_dataset_left, matching_dataset_right], axis=1)\n",
    "\n",
    "    duplicates = find_duplicated_columns(df_l.columns.values.tolist(), df_r.columns.values.tolist())\n",
    "    for col in duplicates:\n",
    "        candidates = joined_df[[col + '_l', col + '_r']].sample(20)\n",
    "        candidate_labels = candidates.columns.values.tolist()\n",
    "        display(candidates.sample(10))\n",
    "        time.sleep(1)\n",
    "        idx_drop = int(input(\"Inserisci l'indice (0 o 1) della colonna che vuoi scartare nel dataset finale: \"))\n",
    "        joined_df.drop(candidate_labels[idx_drop], axis=1, inplace=True)\n",
    "\n",
    "    joined_df.columns = [col[:-2] for col in joined_df.columns.values.tolist()]\n",
    "    return joined_df"
   ],
   "metadata": {
    "collapsed": false,
    "pycharm": {
     "name": "#%%\n"
    }
   }
  },
  {
   "cell_type": "code",
   "execution_count": 658,
   "outputs": [
    {
     "data": {
      "text/plain": "Empty DataFrame\nColumns: []\nIndex: []",
      "text/html": "<div>\n<style scoped>\n    .dataframe tbody tr th:only-of-type {\n        vertical-align: middle;\n    }\n\n    .dataframe tbody tr th {\n        vertical-align: top;\n    }\n\n    .dataframe thead th {\n        text-align: right;\n    }\n</style>\n<table border=\"1\" class=\"dataframe\">\n  <thead>\n    <tr style=\"text-align: right;\">\n      <th></th>\n    </tr>\n  </thead>\n  <tbody>\n  </tbody>\n</table>\n</div>"
     },
     "execution_count": 658,
     "metadata": {},
     "output_type": "execute_result"
    }
   ],
   "source": [
    "matching_dataset_right"
   ],
   "metadata": {
    "collapsed": false,
    "pycharm": {
     "name": "#%%\n"
    }
   }
  },
  {
   "cell_type": "code",
   "execution_count": 659,
   "outputs": [],
   "source": [
    "difference_l = pd.concat([df_l, matching_dataset_left]).drop_duplicates(keep=False)\n",
    "difference_r = pd.concat([df_r, matching_dataset_right]).drop_duplicates(keep=False)"
   ],
   "metadata": {
    "collapsed": false,
    "pycharm": {
     "name": "#%%\n"
    }
   }
  },
  {
   "cell_type": "code",
   "execution_count": 660,
   "outputs": [
    {
     "data": {
      "text/plain": "            name        country                             industry founded\n0       lacework  united states                        cybersecurity    2015\n1        tipalti  united states                              fintech    2010\n2         tempus  united states                               health    2015\n3        anduril  united states              artificial intelligence    2017\n4           bolt        estonia                auto & transportation    2013\n...          ...            ...                                  ...     ...\n1180      spacex  united states                                other    2002\n1181    fanatics  united states      e-commerce & direct-to-consumer    1995\n1182   instacart  united states  supply chain, logistics, & delivery    2012\n1183  databricks  united states          data management & analytics    2013\n1184      stripe  united states                              fintech    2010\n\n[1185 rows x 4 columns]",
      "text/html": "<div>\n<style scoped>\n    .dataframe tbody tr th:only-of-type {\n        vertical-align: middle;\n    }\n\n    .dataframe tbody tr th {\n        vertical-align: top;\n    }\n\n    .dataframe thead th {\n        text-align: right;\n    }\n</style>\n<table border=\"1\" class=\"dataframe\">\n  <thead>\n    <tr style=\"text-align: right;\">\n      <th></th>\n      <th>name</th>\n      <th>country</th>\n      <th>industry</th>\n      <th>founded</th>\n    </tr>\n  </thead>\n  <tbody>\n    <tr>\n      <th>0</th>\n      <td>lacework</td>\n      <td>united states</td>\n      <td>cybersecurity</td>\n      <td>2015</td>\n    </tr>\n    <tr>\n      <th>1</th>\n      <td>tipalti</td>\n      <td>united states</td>\n      <td>fintech</td>\n      <td>2010</td>\n    </tr>\n    <tr>\n      <th>2</th>\n      <td>tempus</td>\n      <td>united states</td>\n      <td>health</td>\n      <td>2015</td>\n    </tr>\n    <tr>\n      <th>3</th>\n      <td>anduril</td>\n      <td>united states</td>\n      <td>artificial intelligence</td>\n      <td>2017</td>\n    </tr>\n    <tr>\n      <th>4</th>\n      <td>bolt</td>\n      <td>estonia</td>\n      <td>auto &amp; transportation</td>\n      <td>2013</td>\n    </tr>\n    <tr>\n      <th>...</th>\n      <td>...</td>\n      <td>...</td>\n      <td>...</td>\n      <td>...</td>\n    </tr>\n    <tr>\n      <th>1180</th>\n      <td>spacex</td>\n      <td>united states</td>\n      <td>other</td>\n      <td>2002</td>\n    </tr>\n    <tr>\n      <th>1181</th>\n      <td>fanatics</td>\n      <td>united states</td>\n      <td>e-commerce &amp; direct-to-consumer</td>\n      <td>1995</td>\n    </tr>\n    <tr>\n      <th>1182</th>\n      <td>instacart</td>\n      <td>united states</td>\n      <td>supply chain, logistics, &amp; delivery</td>\n      <td>2012</td>\n    </tr>\n    <tr>\n      <th>1183</th>\n      <td>databricks</td>\n      <td>united states</td>\n      <td>data management &amp; analytics</td>\n      <td>2013</td>\n    </tr>\n    <tr>\n      <th>1184</th>\n      <td>stripe</td>\n      <td>united states</td>\n      <td>fintech</td>\n      <td>2010</td>\n    </tr>\n  </tbody>\n</table>\n<p>1185 rows × 4 columns</p>\n</div>"
     },
     "execution_count": 660,
     "metadata": {},
     "output_type": "execute_result"
    }
   ],
   "source": [
    "difference_l"
   ],
   "metadata": {
    "collapsed": false,
    "pycharm": {
     "name": "#%%\n"
    }
   }
  },
  {
   "cell_type": "code",
   "execution_count": 661,
   "outputs": [
    {
     "data": {
      "text/plain": "               founded    employees                            ceo  \\\n0        april 1, 1976      100,000                 timothy d cook   \n1        april 4, 1975      181,000                  satya nadella   \n2                                                    amin h nasser   \n3      october 2, 2015      156,500                  sundar pichai   \n4         july 5, 1994    1,608,000                 andrew r jassy   \n..                 ...          ...                            ...   \n894               1930       20,300       thomas sinnickson gayner   \n895               1939       12,023       j powell brown cpcu cpcu   \n896                          16,196                shingo konomoto   \n897               1986       52,000   william joseph hornbuckle iv   \n898                           9,594                                  \n\n                              name  \n0                            apple  \n1                        microsoft  \n2                           aramco  \n3                         alphabet  \n4                           amazon  \n..                             ...  \n894             markel corporation  \n895              brown & brown inc  \n896  nomura research institute ltd  \n897      mgm resorts international  \n898  mega financial holding co ltd  \n\n[899 rows x 4 columns]",
      "text/html": "<div>\n<style scoped>\n    .dataframe tbody tr th:only-of-type {\n        vertical-align: middle;\n    }\n\n    .dataframe tbody tr th {\n        vertical-align: top;\n    }\n\n    .dataframe thead th {\n        text-align: right;\n    }\n</style>\n<table border=\"1\" class=\"dataframe\">\n  <thead>\n    <tr style=\"text-align: right;\">\n      <th></th>\n      <th>founded</th>\n      <th>employees</th>\n      <th>ceo</th>\n      <th>name</th>\n    </tr>\n  </thead>\n  <tbody>\n    <tr>\n      <th>0</th>\n      <td>april 1, 1976</td>\n      <td>100,000</td>\n      <td>timothy d cook</td>\n      <td>apple</td>\n    </tr>\n    <tr>\n      <th>1</th>\n      <td>april 4, 1975</td>\n      <td>181,000</td>\n      <td>satya nadella</td>\n      <td>microsoft</td>\n    </tr>\n    <tr>\n      <th>2</th>\n      <td></td>\n      <td></td>\n      <td>amin h nasser</td>\n      <td>aramco</td>\n    </tr>\n    <tr>\n      <th>3</th>\n      <td>october 2, 2015</td>\n      <td>156,500</td>\n      <td>sundar pichai</td>\n      <td>alphabet</td>\n    </tr>\n    <tr>\n      <th>4</th>\n      <td>july 5, 1994</td>\n      <td>1,608,000</td>\n      <td>andrew r jassy</td>\n      <td>amazon</td>\n    </tr>\n    <tr>\n      <th>...</th>\n      <td>...</td>\n      <td>...</td>\n      <td>...</td>\n      <td>...</td>\n    </tr>\n    <tr>\n      <th>894</th>\n      <td>1930</td>\n      <td>20,300</td>\n      <td>thomas sinnickson gayner</td>\n      <td>markel corporation</td>\n    </tr>\n    <tr>\n      <th>895</th>\n      <td>1939</td>\n      <td>12,023</td>\n      <td>j powell brown cpcu cpcu</td>\n      <td>brown &amp; brown inc</td>\n    </tr>\n    <tr>\n      <th>896</th>\n      <td></td>\n      <td>16,196</td>\n      <td>shingo konomoto</td>\n      <td>nomura research institute ltd</td>\n    </tr>\n    <tr>\n      <th>897</th>\n      <td>1986</td>\n      <td>52,000</td>\n      <td>william joseph hornbuckle iv</td>\n      <td>mgm resorts international</td>\n    </tr>\n    <tr>\n      <th>898</th>\n      <td></td>\n      <td>9,594</td>\n      <td></td>\n      <td>mega financial holding co ltd</td>\n    </tr>\n  </tbody>\n</table>\n<p>899 rows × 4 columns</p>\n</div>"
     },
     "execution_count": 661,
     "metadata": {},
     "output_type": "execute_result"
    }
   ],
   "source": [
    "difference_r"
   ],
   "metadata": {
    "collapsed": false,
    "pycharm": {
     "name": "#%%\n"
    }
   }
  },
  {
   "cell_type": "code",
   "execution_count": 663,
   "outputs": [
    {
     "ename": "KeyError",
     "evalue": "\"None of [Index(['name_l', 'name_r'], dtype='object')] are in the [columns]\"",
     "output_type": "error",
     "traceback": [
      "\u001B[0;31m---------------------------------------------------------------------------\u001B[0m",
      "\u001B[0;31mKeyError\u001B[0m                                  Traceback (most recent call last)",
      "Cell \u001B[0;32mIn[663], line 1\u001B[0m\n\u001B[0;32m----> 1\u001B[0m match_join_df \u001B[38;5;241m=\u001B[39m \u001B[43mjoin\u001B[49m\u001B[43m(\u001B[49m\u001B[43mmatching_dataset_left\u001B[49m\u001B[43m,\u001B[49m\u001B[43m \u001B[49m\u001B[43mmatching_dataset_right\u001B[49m\u001B[43m)\u001B[49m\n",
      "Cell \u001B[0;32mIn[662], line 10\u001B[0m, in \u001B[0;36mjoin\u001B[0;34m(matching_dataset_left, matching_dataset_right)\u001B[0m\n\u001B[1;32m      8\u001B[0m duplicates \u001B[38;5;241m=\u001B[39m find_duplicated_columns(df_l\u001B[38;5;241m.\u001B[39mcolumns\u001B[38;5;241m.\u001B[39mvalues\u001B[38;5;241m.\u001B[39mtolist(), df_r\u001B[38;5;241m.\u001B[39mcolumns\u001B[38;5;241m.\u001B[39mvalues\u001B[38;5;241m.\u001B[39mtolist())\n\u001B[1;32m      9\u001B[0m \u001B[38;5;28;01mfor\u001B[39;00m col \u001B[38;5;129;01min\u001B[39;00m duplicates:\n\u001B[0;32m---> 10\u001B[0m     candidates \u001B[38;5;241m=\u001B[39m \u001B[43mjoined_df\u001B[49m\u001B[43m[\u001B[49m\u001B[43m[\u001B[49m\u001B[43mcol\u001B[49m\u001B[43m \u001B[49m\u001B[38;5;241;43m+\u001B[39;49m\u001B[43m \u001B[49m\u001B[38;5;124;43m'\u001B[39;49m\u001B[38;5;124;43m_l\u001B[39;49m\u001B[38;5;124;43m'\u001B[39;49m\u001B[43m,\u001B[49m\u001B[43m \u001B[49m\u001B[43mcol\u001B[49m\u001B[43m \u001B[49m\u001B[38;5;241;43m+\u001B[39;49m\u001B[43m \u001B[49m\u001B[38;5;124;43m'\u001B[39;49m\u001B[38;5;124;43m_r\u001B[39;49m\u001B[38;5;124;43m'\u001B[39;49m\u001B[43m]\u001B[49m\u001B[43m]\u001B[49m\u001B[38;5;241m.\u001B[39msample(\u001B[38;5;241m20\u001B[39m)\n\u001B[1;32m     11\u001B[0m     candidate_labels \u001B[38;5;241m=\u001B[39m candidates\u001B[38;5;241m.\u001B[39mcolumns\u001B[38;5;241m.\u001B[39mvalues\u001B[38;5;241m.\u001B[39mtolist()\n\u001B[1;32m     12\u001B[0m     display(candidates\u001B[38;5;241m.\u001B[39msample(\u001B[38;5;241m10\u001B[39m))\n",
      "File \u001B[0;32m~/opt/anaconda3/envs/Homework8/lib/python3.10/site-packages/pandas/core/frame.py:3813\u001B[0m, in \u001B[0;36mDataFrame.__getitem__\u001B[0;34m(self, key)\u001B[0m\n\u001B[1;32m   3811\u001B[0m     \u001B[38;5;28;01mif\u001B[39;00m is_iterator(key):\n\u001B[1;32m   3812\u001B[0m         key \u001B[38;5;241m=\u001B[39m \u001B[38;5;28mlist\u001B[39m(key)\n\u001B[0;32m-> 3813\u001B[0m     indexer \u001B[38;5;241m=\u001B[39m \u001B[38;5;28;43mself\u001B[39;49m\u001B[38;5;241;43m.\u001B[39;49m\u001B[43mcolumns\u001B[49m\u001B[38;5;241;43m.\u001B[39;49m\u001B[43m_get_indexer_strict\u001B[49m\u001B[43m(\u001B[49m\u001B[43mkey\u001B[49m\u001B[43m,\u001B[49m\u001B[43m \u001B[49m\u001B[38;5;124;43m\"\u001B[39;49m\u001B[38;5;124;43mcolumns\u001B[39;49m\u001B[38;5;124;43m\"\u001B[39;49m\u001B[43m)\u001B[49m[\u001B[38;5;241m1\u001B[39m]\n\u001B[1;32m   3815\u001B[0m \u001B[38;5;66;03m# take() does not accept boolean indexers\u001B[39;00m\n\u001B[1;32m   3816\u001B[0m \u001B[38;5;28;01mif\u001B[39;00m \u001B[38;5;28mgetattr\u001B[39m(indexer, \u001B[38;5;124m\"\u001B[39m\u001B[38;5;124mdtype\u001B[39m\u001B[38;5;124m\"\u001B[39m, \u001B[38;5;28;01mNone\u001B[39;00m) \u001B[38;5;241m==\u001B[39m \u001B[38;5;28mbool\u001B[39m:\n",
      "File \u001B[0;32m~/opt/anaconda3/envs/Homework8/lib/python3.10/site-packages/pandas/core/indexes/base.py:6070\u001B[0m, in \u001B[0;36mIndex._get_indexer_strict\u001B[0;34m(self, key, axis_name)\u001B[0m\n\u001B[1;32m   6067\u001B[0m \u001B[38;5;28;01melse\u001B[39;00m:\n\u001B[1;32m   6068\u001B[0m     keyarr, indexer, new_indexer \u001B[38;5;241m=\u001B[39m \u001B[38;5;28mself\u001B[39m\u001B[38;5;241m.\u001B[39m_reindex_non_unique(keyarr)\n\u001B[0;32m-> 6070\u001B[0m \u001B[38;5;28;43mself\u001B[39;49m\u001B[38;5;241;43m.\u001B[39;49m\u001B[43m_raise_if_missing\u001B[49m\u001B[43m(\u001B[49m\u001B[43mkeyarr\u001B[49m\u001B[43m,\u001B[49m\u001B[43m \u001B[49m\u001B[43mindexer\u001B[49m\u001B[43m,\u001B[49m\u001B[43m \u001B[49m\u001B[43maxis_name\u001B[49m\u001B[43m)\u001B[49m\n\u001B[1;32m   6072\u001B[0m keyarr \u001B[38;5;241m=\u001B[39m \u001B[38;5;28mself\u001B[39m\u001B[38;5;241m.\u001B[39mtake(indexer)\n\u001B[1;32m   6073\u001B[0m \u001B[38;5;28;01mif\u001B[39;00m \u001B[38;5;28misinstance\u001B[39m(key, Index):\n\u001B[1;32m   6074\u001B[0m     \u001B[38;5;66;03m# GH 42790 - Preserve name from an Index\u001B[39;00m\n",
      "File \u001B[0;32m~/opt/anaconda3/envs/Homework8/lib/python3.10/site-packages/pandas/core/indexes/base.py:6130\u001B[0m, in \u001B[0;36mIndex._raise_if_missing\u001B[0;34m(self, key, indexer, axis_name)\u001B[0m\n\u001B[1;32m   6128\u001B[0m     \u001B[38;5;28;01mif\u001B[39;00m use_interval_msg:\n\u001B[1;32m   6129\u001B[0m         key \u001B[38;5;241m=\u001B[39m \u001B[38;5;28mlist\u001B[39m(key)\n\u001B[0;32m-> 6130\u001B[0m     \u001B[38;5;28;01mraise\u001B[39;00m \u001B[38;5;167;01mKeyError\u001B[39;00m(\u001B[38;5;124mf\u001B[39m\u001B[38;5;124m\"\u001B[39m\u001B[38;5;124mNone of [\u001B[39m\u001B[38;5;132;01m{\u001B[39;00mkey\u001B[38;5;132;01m}\u001B[39;00m\u001B[38;5;124m] are in the [\u001B[39m\u001B[38;5;132;01m{\u001B[39;00maxis_name\u001B[38;5;132;01m}\u001B[39;00m\u001B[38;5;124m]\u001B[39m\u001B[38;5;124m\"\u001B[39m)\n\u001B[1;32m   6132\u001B[0m not_found \u001B[38;5;241m=\u001B[39m \u001B[38;5;28mlist\u001B[39m(ensure_index(key)[missing_mask\u001B[38;5;241m.\u001B[39mnonzero()[\u001B[38;5;241m0\u001B[39m]]\u001B[38;5;241m.\u001B[39munique())\n\u001B[1;32m   6133\u001B[0m \u001B[38;5;28;01mraise\u001B[39;00m \u001B[38;5;167;01mKeyError\u001B[39;00m(\u001B[38;5;124mf\u001B[39m\u001B[38;5;124m\"\u001B[39m\u001B[38;5;132;01m{\u001B[39;00mnot_found\u001B[38;5;132;01m}\u001B[39;00m\u001B[38;5;124m not in index\u001B[39m\u001B[38;5;124m\"\u001B[39m)\n",
      "\u001B[0;31mKeyError\u001B[0m: \"None of [Index(['name_l', 'name_r'], dtype='object')] are in the [columns]\""
     ]
    }
   ],
   "source": [
    "match_join_df = join(matching_dataset_left, matching_dataset_right)"
   ],
   "metadata": {
    "collapsed": false,
    "pycharm": {
     "name": "#%%\n"
    }
   }
  },
  {
   "cell_type": "code",
   "execution_count": 644,
   "outputs": [
    {
     "name": "stdout",
     "output_type": "stream",
     "text": [
      "WARNING:recordlinkage:indexing - performance warning - A full index can result in large number of record pairs.\n"
     ]
    }
   ],
   "source": [
    "features_difference, feature_value_difference = get_features(difference_l, difference_r, 0.95, True)\n",
    "pairs_difference = get_pairs(features_difference, feature_value_difference)"
   ],
   "metadata": {
    "collapsed": false,
    "pycharm": {
     "name": "#%%\n"
    }
   }
  },
  {
   "cell_type": "code",
   "execution_count": 645,
   "outputs": [
    {
     "data": {
      "text/plain": "1.0      171\n0.0    46341\ndtype: int64"
     },
     "execution_count": 645,
     "metadata": {},
     "output_type": "execute_result"
    }
   ],
   "source": [
    "features_difference.sum(axis=1).value_counts().sort_index(ascending=False)"
   ],
   "metadata": {
    "collapsed": false,
    "pycharm": {
     "name": "#%%\n"
    }
   }
  },
  {
   "cell_type": "code",
   "execution_count": 646,
   "outputs": [],
   "source": [
    "left = []\n",
    "right = []\n",
    "\n",
    "for elem in pairs_difference:\n",
    "    left.append(difference_l.loc[elem[0]])\n",
    "    right.append(difference_r.loc[elem[1]])\n",
    "\n",
    "matching_difference_dataset_left = pd.DataFrame(left)\n",
    "matching_difference_dataset_right = pd.DataFrame(right)\n",
    "matching_difference_dataset_left = matching_difference_dataset_left.reset_index(drop=True)\n",
    "matching_difference_dataset_right = matching_difference_dataset_right.reset_index(drop=True)"
   ],
   "metadata": {
    "collapsed": false,
    "pycharm": {
     "name": "#%%\n"
    }
   }
  },
  {
   "cell_type": "code",
   "execution_count": 647,
   "outputs": [
    {
     "ename": "KeyError",
     "evalue": "\"None of [Index(['name_l', 'name_r'], dtype='object')] are in the [columns]\"",
     "output_type": "error",
     "traceback": [
      "\u001B[0;31m---------------------------------------------------------------------------\u001B[0m",
      "\u001B[0;31mKeyError\u001B[0m                                  Traceback (most recent call last)",
      "Cell \u001B[0;32mIn[647], line 1\u001B[0m\n\u001B[0;32m----> 1\u001B[0m difference_join_df \u001B[38;5;241m=\u001B[39m \u001B[43mjoin\u001B[49m\u001B[43m(\u001B[49m\u001B[43mmatching_dataset_left\u001B[49m\u001B[43m,\u001B[49m\u001B[43m \u001B[49m\u001B[43mmatching_dataset_right\u001B[49m\u001B[43m)\u001B[49m\n\u001B[1;32m      2\u001B[0m difference_join_df\n",
      "Cell \u001B[0;32mIn[642], line 10\u001B[0m, in \u001B[0;36mjoin\u001B[0;34m(matching_dataset_left, matching_dataset_right)\u001B[0m\n\u001B[1;32m      8\u001B[0m duplicates \u001B[38;5;241m=\u001B[39m find_duplicated_columns(df_l\u001B[38;5;241m.\u001B[39mcolumns\u001B[38;5;241m.\u001B[39mvalues\u001B[38;5;241m.\u001B[39mtolist(), df_r\u001B[38;5;241m.\u001B[39mcolumns\u001B[38;5;241m.\u001B[39mvalues\u001B[38;5;241m.\u001B[39mtolist())\n\u001B[1;32m      9\u001B[0m \u001B[38;5;28;01mfor\u001B[39;00m col \u001B[38;5;129;01min\u001B[39;00m duplicates:\n\u001B[0;32m---> 10\u001B[0m     candidates \u001B[38;5;241m=\u001B[39m \u001B[43mjoined_df\u001B[49m\u001B[43m[\u001B[49m\u001B[43m[\u001B[49m\u001B[43mcol\u001B[49m\u001B[43m \u001B[49m\u001B[38;5;241;43m+\u001B[39;49m\u001B[43m \u001B[49m\u001B[38;5;124;43m'\u001B[39;49m\u001B[38;5;124;43m_l\u001B[39;49m\u001B[38;5;124;43m'\u001B[39;49m\u001B[43m,\u001B[49m\u001B[43m \u001B[49m\u001B[43mcol\u001B[49m\u001B[43m \u001B[49m\u001B[38;5;241;43m+\u001B[39;49m\u001B[43m \u001B[49m\u001B[38;5;124;43m'\u001B[39;49m\u001B[38;5;124;43m_r\u001B[39;49m\u001B[38;5;124;43m'\u001B[39;49m\u001B[43m]\u001B[49m\u001B[43m]\u001B[49m\u001B[38;5;241m.\u001B[39msample(\u001B[38;5;241m20\u001B[39m)\n\u001B[1;32m     11\u001B[0m     candidate_labels \u001B[38;5;241m=\u001B[39m candidates\u001B[38;5;241m.\u001B[39mcolumns\u001B[38;5;241m.\u001B[39mvalues\u001B[38;5;241m.\u001B[39mtolist()\n\u001B[1;32m     12\u001B[0m     display(candidates\u001B[38;5;241m.\u001B[39msample(\u001B[38;5;241m10\u001B[39m))\n",
      "File \u001B[0;32m~/opt/anaconda3/envs/Homework8/lib/python3.10/site-packages/pandas/core/frame.py:3813\u001B[0m, in \u001B[0;36mDataFrame.__getitem__\u001B[0;34m(self, key)\u001B[0m\n\u001B[1;32m   3811\u001B[0m     \u001B[38;5;28;01mif\u001B[39;00m is_iterator(key):\n\u001B[1;32m   3812\u001B[0m         key \u001B[38;5;241m=\u001B[39m \u001B[38;5;28mlist\u001B[39m(key)\n\u001B[0;32m-> 3813\u001B[0m     indexer \u001B[38;5;241m=\u001B[39m \u001B[38;5;28;43mself\u001B[39;49m\u001B[38;5;241;43m.\u001B[39;49m\u001B[43mcolumns\u001B[49m\u001B[38;5;241;43m.\u001B[39;49m\u001B[43m_get_indexer_strict\u001B[49m\u001B[43m(\u001B[49m\u001B[43mkey\u001B[49m\u001B[43m,\u001B[49m\u001B[43m \u001B[49m\u001B[38;5;124;43m\"\u001B[39;49m\u001B[38;5;124;43mcolumns\u001B[39;49m\u001B[38;5;124;43m\"\u001B[39;49m\u001B[43m)\u001B[49m[\u001B[38;5;241m1\u001B[39m]\n\u001B[1;32m   3815\u001B[0m \u001B[38;5;66;03m# take() does not accept boolean indexers\u001B[39;00m\n\u001B[1;32m   3816\u001B[0m \u001B[38;5;28;01mif\u001B[39;00m \u001B[38;5;28mgetattr\u001B[39m(indexer, \u001B[38;5;124m\"\u001B[39m\u001B[38;5;124mdtype\u001B[39m\u001B[38;5;124m\"\u001B[39m, \u001B[38;5;28;01mNone\u001B[39;00m) \u001B[38;5;241m==\u001B[39m \u001B[38;5;28mbool\u001B[39m:\n",
      "File \u001B[0;32m~/opt/anaconda3/envs/Homework8/lib/python3.10/site-packages/pandas/core/indexes/base.py:6070\u001B[0m, in \u001B[0;36mIndex._get_indexer_strict\u001B[0;34m(self, key, axis_name)\u001B[0m\n\u001B[1;32m   6067\u001B[0m \u001B[38;5;28;01melse\u001B[39;00m:\n\u001B[1;32m   6068\u001B[0m     keyarr, indexer, new_indexer \u001B[38;5;241m=\u001B[39m \u001B[38;5;28mself\u001B[39m\u001B[38;5;241m.\u001B[39m_reindex_non_unique(keyarr)\n\u001B[0;32m-> 6070\u001B[0m \u001B[38;5;28;43mself\u001B[39;49m\u001B[38;5;241;43m.\u001B[39;49m\u001B[43m_raise_if_missing\u001B[49m\u001B[43m(\u001B[49m\u001B[43mkeyarr\u001B[49m\u001B[43m,\u001B[49m\u001B[43m \u001B[49m\u001B[43mindexer\u001B[49m\u001B[43m,\u001B[49m\u001B[43m \u001B[49m\u001B[43maxis_name\u001B[49m\u001B[43m)\u001B[49m\n\u001B[1;32m   6072\u001B[0m keyarr \u001B[38;5;241m=\u001B[39m \u001B[38;5;28mself\u001B[39m\u001B[38;5;241m.\u001B[39mtake(indexer)\n\u001B[1;32m   6073\u001B[0m \u001B[38;5;28;01mif\u001B[39;00m \u001B[38;5;28misinstance\u001B[39m(key, Index):\n\u001B[1;32m   6074\u001B[0m     \u001B[38;5;66;03m# GH 42790 - Preserve name from an Index\u001B[39;00m\n",
      "File \u001B[0;32m~/opt/anaconda3/envs/Homework8/lib/python3.10/site-packages/pandas/core/indexes/base.py:6130\u001B[0m, in \u001B[0;36mIndex._raise_if_missing\u001B[0;34m(self, key, indexer, axis_name)\u001B[0m\n\u001B[1;32m   6128\u001B[0m     \u001B[38;5;28;01mif\u001B[39;00m use_interval_msg:\n\u001B[1;32m   6129\u001B[0m         key \u001B[38;5;241m=\u001B[39m \u001B[38;5;28mlist\u001B[39m(key)\n\u001B[0;32m-> 6130\u001B[0m     \u001B[38;5;28;01mraise\u001B[39;00m \u001B[38;5;167;01mKeyError\u001B[39;00m(\u001B[38;5;124mf\u001B[39m\u001B[38;5;124m\"\u001B[39m\u001B[38;5;124mNone of [\u001B[39m\u001B[38;5;132;01m{\u001B[39;00mkey\u001B[38;5;132;01m}\u001B[39;00m\u001B[38;5;124m] are in the [\u001B[39m\u001B[38;5;132;01m{\u001B[39;00maxis_name\u001B[38;5;132;01m}\u001B[39;00m\u001B[38;5;124m]\u001B[39m\u001B[38;5;124m\"\u001B[39m)\n\u001B[1;32m   6132\u001B[0m not_found \u001B[38;5;241m=\u001B[39m \u001B[38;5;28mlist\u001B[39m(ensure_index(key)[missing_mask\u001B[38;5;241m.\u001B[39mnonzero()[\u001B[38;5;241m0\u001B[39m]]\u001B[38;5;241m.\u001B[39munique())\n\u001B[1;32m   6133\u001B[0m \u001B[38;5;28;01mraise\u001B[39;00m \u001B[38;5;167;01mKeyError\u001B[39;00m(\u001B[38;5;124mf\u001B[39m\u001B[38;5;124m\"\u001B[39m\u001B[38;5;132;01m{\u001B[39;00mnot_found\u001B[38;5;132;01m}\u001B[39;00m\u001B[38;5;124m not in index\u001B[39m\u001B[38;5;124m\"\u001B[39m)\n",
      "\u001B[0;31mKeyError\u001B[0m: \"None of [Index(['name_l', 'name_r'], dtype='object')] are in the [columns]\""
     ]
    }
   ],
   "source": [
    "difference_join_df = join(matching_dataset_left, matching_dataset_right)\n",
    "difference_join_df"
   ],
   "metadata": {
    "collapsed": false,
    "pycharm": {
     "name": "#%%\n"
    }
   }
  },
  {
   "cell_type": "code",
   "execution_count": 591,
   "outputs": [
    {
     "data": {
      "text/plain": "        country      continent         market_cap  \\\n0     cupertino             ca      2825000000000   \n1    washington             dc       208030000000   \n2    kenilworth             nj       210380000000   \n3     melbourne            vic   a$281.66 billion   \n4     beaverton             or       213600000000   \n..          ...            ...                ...   \n166      riyadh    saudiarabia    sr76.56 billion   \n167      london  unitedkingdom      15.84 billion   \n168                             hk$165.86 billion   \n169                              cn134.96 billion   \n170      geneva    switzerland   chf19.83 billion   \n\n                                            categories  \\\n0    unitedstates, technology, consumerelectronics,...   \n1    unitedstates, healthcare, diagnostics&research...   \n2    unitedstates, healthcare, drugmanufacturersgen...   \n3    australia, basicmaterials, otherindustrialmeta...   \n4    unitedstates, consumerdiscretionary, footwear&...   \n..                                                 ...   \n166  saudiarabia, financials, banks, saudiarabiafin...   \n167  unitedkingdom, financials, banks, unitedkingdo...   \n168  hongkong, consumerstaples, packagedfoods, hong...   \n169  china, basicmaterials, otherindustrialmetals&m...   \n170  switzerland, industrials, consultingservices, ...   \n\n                                               founded  employees  \\\n0                                        april 1, 1976    100,000   \n1                                                 1969     78,000   \n2                                                 1891     67,000   \n3                                                 1885     40,110   \n4                                     january 25, 1964     73,300   \n..                                                 ...        ...   \n166                                                         3,280   \n167  as chartered bank of india, australia, and chi...     81,770   \n168                                                                 \n169                                                                 \n170                                                        96,216   \n\n                            ceo                        name  \n0                timothy d cook                       apple  \n1                rainer m blair                     danaher  \n2             robert m davis jd                       merck  \n3     mike p henry bsc bsc chem                         bhp  \n4             john j donahoe ii                        nike  \n..                          ...                         ...  \n166                                             alinma bank  \n167                                  standard chartered plc  \n168                              china mengniu dairy co ltd  \n169                               china northern rare earth  \n170                                                  sgs sa  \n\n[899 rows x 8 columns]",
      "text/html": "<div>\n<style scoped>\n    .dataframe tbody tr th:only-of-type {\n        vertical-align: middle;\n    }\n\n    .dataframe tbody tr th {\n        vertical-align: top;\n    }\n\n    .dataframe thead th {\n        text-align: right;\n    }\n</style>\n<table border=\"1\" class=\"dataframe\">\n  <thead>\n    <tr style=\"text-align: right;\">\n      <th></th>\n      <th>country</th>\n      <th>continent</th>\n      <th>market_cap</th>\n      <th>categories</th>\n      <th>founded</th>\n      <th>employees</th>\n      <th>ceo</th>\n      <th>name</th>\n    </tr>\n  </thead>\n  <tbody>\n    <tr>\n      <th>0</th>\n      <td>cupertino</td>\n      <td>ca</td>\n      <td>2825000000000</td>\n      <td>unitedstates, technology, consumerelectronics,...</td>\n      <td>april 1, 1976</td>\n      <td>100,000</td>\n      <td>timothy d cook</td>\n      <td>apple</td>\n    </tr>\n    <tr>\n      <th>1</th>\n      <td>washington</td>\n      <td>dc</td>\n      <td>208030000000</td>\n      <td>unitedstates, healthcare, diagnostics&amp;research...</td>\n      <td>1969</td>\n      <td>78,000</td>\n      <td>rainer m blair</td>\n      <td>danaher</td>\n    </tr>\n    <tr>\n      <th>2</th>\n      <td>kenilworth</td>\n      <td>nj</td>\n      <td>210380000000</td>\n      <td>unitedstates, healthcare, drugmanufacturersgen...</td>\n      <td>1891</td>\n      <td>67,000</td>\n      <td>robert m davis jd</td>\n      <td>merck</td>\n    </tr>\n    <tr>\n      <th>3</th>\n      <td>melbourne</td>\n      <td>vic</td>\n      <td>a$281.66 billion</td>\n      <td>australia, basicmaterials, otherindustrialmeta...</td>\n      <td>1885</td>\n      <td>40,110</td>\n      <td>mike p henry bsc bsc chem</td>\n      <td>bhp</td>\n    </tr>\n    <tr>\n      <th>4</th>\n      <td>beaverton</td>\n      <td>or</td>\n      <td>213600000000</td>\n      <td>unitedstates, consumerdiscretionary, footwear&amp;...</td>\n      <td>january 25, 1964</td>\n      <td>73,300</td>\n      <td>john j donahoe ii</td>\n      <td>nike</td>\n    </tr>\n    <tr>\n      <th>...</th>\n      <td>...</td>\n      <td>...</td>\n      <td>...</td>\n      <td>...</td>\n      <td>...</td>\n      <td>...</td>\n      <td>...</td>\n      <td>...</td>\n    </tr>\n    <tr>\n      <th>166</th>\n      <td>riyadh</td>\n      <td>saudiarabia</td>\n      <td>sr76.56 billion</td>\n      <td>saudiarabia, financials, banks, saudiarabiafin...</td>\n      <td></td>\n      <td>3,280</td>\n      <td></td>\n      <td>alinma bank</td>\n    </tr>\n    <tr>\n      <th>167</th>\n      <td>london</td>\n      <td>unitedkingdom</td>\n      <td>15.84 billion</td>\n      <td>unitedkingdom, financials, banks, unitedkingdo...</td>\n      <td>as chartered bank of india, australia, and chi...</td>\n      <td>81,770</td>\n      <td></td>\n      <td>standard chartered plc</td>\n    </tr>\n    <tr>\n      <th>168</th>\n      <td></td>\n      <td></td>\n      <td>hk$165.86 billion</td>\n      <td>hongkong, consumerstaples, packagedfoods, hong...</td>\n      <td></td>\n      <td></td>\n      <td></td>\n      <td>china mengniu dairy co ltd</td>\n    </tr>\n    <tr>\n      <th>169</th>\n      <td></td>\n      <td></td>\n      <td>cn134.96 billion</td>\n      <td>china, basicmaterials, otherindustrialmetals&amp;m...</td>\n      <td></td>\n      <td></td>\n      <td></td>\n      <td>china northern rare earth</td>\n    </tr>\n    <tr>\n      <th>170</th>\n      <td>geneva</td>\n      <td>switzerland</td>\n      <td>chf19.83 billion</td>\n      <td>switzerland, industrials, consultingservices, ...</td>\n      <td></td>\n      <td>96,216</td>\n      <td></td>\n      <td>sgs sa</td>\n    </tr>\n  </tbody>\n</table>\n<p>899 rows × 8 columns</p>\n</div>"
     },
     "execution_count": 591,
     "metadata": {},
     "output_type": "execute_result"
    }
   ],
   "source": [
    "result = pd.concat([match_join_df, difference_join_df])\n",
    "result"
   ],
   "metadata": {
    "collapsed": false,
    "pycharm": {
     "name": "#%%\n"
    }
   }
  },
  {
   "cell_type": "code",
   "execution_count": 596,
   "outputs": [],
   "source": [
    "unique_l = pd.concat([difference_l, matching_dataset_left]).drop_duplicates(keep=False)\n",
    "unique_r = pd.concat([difference_r, matching_dataset_right]).drop_duplicates(keep=False)"
   ],
   "metadata": {
    "collapsed": false,
    "pycharm": {
     "name": "#%%\n"
    }
   }
  },
  {
   "cell_type": "code",
   "execution_count": 597,
   "outputs": [
    {
     "data": {
      "text/plain": "                           name  country continent founded employees  ceo  \\\n15                         icbc  beijing     china           439,787        \n27              kweichow moutai  renhuai     china            29,031        \n57   agricultural bank of china  beijing     china           459,000        \n66                         catl   ningde     china            33,078        \n69      china construction bank  beijing     china           373,814        \n..                          ...      ...       ...     ...       ...  ...   \n166                         NaN      NaN       NaN     NaN       NaN  NaN   \n167                         NaN      NaN       NaN     NaN       NaN  NaN   \n168                         NaN      NaN       NaN     NaN       NaN  NaN   \n169                         NaN      NaN       NaN     NaN       NaN  NaN   \n170                         NaN      NaN       NaN     NaN       NaN  NaN   \n\n           market_cap                                         categories  \\\n15   cn1.593 trillion  china, financials, banks, chinafinancials, chi...   \n27   cn2.216 trillion  china, consumerstaples, beverageswineries&dist...   \n57   cn1.050 trillion  china, financials, banks, chinafinancials, chi...   \n66   cn1.181 trillion  china, industrials, electricalequipment&parts,...   \n69   cn1.205 trillion  china, financials, banks, chinafinancials, chi...   \n..                ...                                                ...   \n166               NaN                                                NaN   \n167               NaN                                                NaN   \n168               NaN                                                NaN   \n169               NaN                                                NaN   \n170               NaN                                                NaN   \n\n                         name_l country_l    continent_l  \\\n15                          NaN       NaN            NaN   \n27                          NaN       NaN            NaN   \n57                          NaN       NaN            NaN   \n66                          NaN       NaN            NaN   \n69                          NaN       NaN            NaN   \n..                          ...       ...            ...   \n166                 alinma bank    riyadh    saudiarabia   \n167      standard chartered plc    london  unitedkingdom   \n168  china mengniu dairy co ltd                            \n169   china northern rare earth                            \n170                      sgs sa    geneva    switzerland   \n\n                                             founded_l employees_l ceo_l  \\\n15                                                 NaN         NaN   NaN   \n27                                                 NaN         NaN   NaN   \n57                                                 NaN         NaN   NaN   \n66                                                 NaN         NaN   NaN   \n69                                                 NaN         NaN   NaN   \n..                                                 ...         ...   ...   \n166                                                          3,280         \n167  as chartered bank of india, australia, and chi...      81,770         \n168                                                                        \n169                                                                        \n170                                                         96,216         \n\n          market_cap_l                                       categories_l  \n15                 NaN                                                NaN  \n27                 NaN                                                NaN  \n57                 NaN                                                NaN  \n66                 NaN                                                NaN  \n69                 NaN                                                NaN  \n..                 ...                                                ...  \n166    sr76.56 billion  saudiarabia, financials, banks, saudiarabiafin...  \n167      15.84 billion  unitedkingdom, financials, banks, unitedkingdo...  \n168  hk$165.86 billion  hongkong, consumerstaples, packagedfoods, hong...  \n169   cn134.96 billion  china, basicmaterials, otherindustrialmetals&m...  \n170   chf19.83 billion  switzerland, industrials, consultingservices, ...  \n\n[443 rows x 16 columns]",
      "text/html": "<div>\n<style scoped>\n    .dataframe tbody tr th:only-of-type {\n        vertical-align: middle;\n    }\n\n    .dataframe tbody tr th {\n        vertical-align: top;\n    }\n\n    .dataframe thead th {\n        text-align: right;\n    }\n</style>\n<table border=\"1\" class=\"dataframe\">\n  <thead>\n    <tr style=\"text-align: right;\">\n      <th></th>\n      <th>name</th>\n      <th>country</th>\n      <th>continent</th>\n      <th>founded</th>\n      <th>employees</th>\n      <th>ceo</th>\n      <th>market_cap</th>\n      <th>categories</th>\n      <th>name_l</th>\n      <th>country_l</th>\n      <th>continent_l</th>\n      <th>founded_l</th>\n      <th>employees_l</th>\n      <th>ceo_l</th>\n      <th>market_cap_l</th>\n      <th>categories_l</th>\n    </tr>\n  </thead>\n  <tbody>\n    <tr>\n      <th>15</th>\n      <td>icbc</td>\n      <td>beijing</td>\n      <td>china</td>\n      <td></td>\n      <td>439,787</td>\n      <td></td>\n      <td>cn1.593 trillion</td>\n      <td>china, financials, banks, chinafinancials, chi...</td>\n      <td>NaN</td>\n      <td>NaN</td>\n      <td>NaN</td>\n      <td>NaN</td>\n      <td>NaN</td>\n      <td>NaN</td>\n      <td>NaN</td>\n      <td>NaN</td>\n    </tr>\n    <tr>\n      <th>27</th>\n      <td>kweichow moutai</td>\n      <td>renhuai</td>\n      <td>china</td>\n      <td></td>\n      <td>29,031</td>\n      <td></td>\n      <td>cn2.216 trillion</td>\n      <td>china, consumerstaples, beverageswineries&amp;dist...</td>\n      <td>NaN</td>\n      <td>NaN</td>\n      <td>NaN</td>\n      <td>NaN</td>\n      <td>NaN</td>\n      <td>NaN</td>\n      <td>NaN</td>\n      <td>NaN</td>\n    </tr>\n    <tr>\n      <th>57</th>\n      <td>agricultural bank of china</td>\n      <td>beijing</td>\n      <td>china</td>\n      <td></td>\n      <td>459,000</td>\n      <td></td>\n      <td>cn1.050 trillion</td>\n      <td>china, financials, banks, chinafinancials, chi...</td>\n      <td>NaN</td>\n      <td>NaN</td>\n      <td>NaN</td>\n      <td>NaN</td>\n      <td>NaN</td>\n      <td>NaN</td>\n      <td>NaN</td>\n      <td>NaN</td>\n    </tr>\n    <tr>\n      <th>66</th>\n      <td>catl</td>\n      <td>ningde</td>\n      <td>china</td>\n      <td></td>\n      <td>33,078</td>\n      <td></td>\n      <td>cn1.181 trillion</td>\n      <td>china, industrials, electricalequipment&amp;parts,...</td>\n      <td>NaN</td>\n      <td>NaN</td>\n      <td>NaN</td>\n      <td>NaN</td>\n      <td>NaN</td>\n      <td>NaN</td>\n      <td>NaN</td>\n      <td>NaN</td>\n    </tr>\n    <tr>\n      <th>69</th>\n      <td>china construction bank</td>\n      <td>beijing</td>\n      <td>china</td>\n      <td></td>\n      <td>373,814</td>\n      <td></td>\n      <td>cn1.205 trillion</td>\n      <td>china, financials, banks, chinafinancials, chi...</td>\n      <td>NaN</td>\n      <td>NaN</td>\n      <td>NaN</td>\n      <td>NaN</td>\n      <td>NaN</td>\n      <td>NaN</td>\n      <td>NaN</td>\n      <td>NaN</td>\n    </tr>\n    <tr>\n      <th>...</th>\n      <td>...</td>\n      <td>...</td>\n      <td>...</td>\n      <td>...</td>\n      <td>...</td>\n      <td>...</td>\n      <td>...</td>\n      <td>...</td>\n      <td>...</td>\n      <td>...</td>\n      <td>...</td>\n      <td>...</td>\n      <td>...</td>\n      <td>...</td>\n      <td>...</td>\n      <td>...</td>\n    </tr>\n    <tr>\n      <th>166</th>\n      <td>NaN</td>\n      <td>NaN</td>\n      <td>NaN</td>\n      <td>NaN</td>\n      <td>NaN</td>\n      <td>NaN</td>\n      <td>NaN</td>\n      <td>NaN</td>\n      <td>alinma bank</td>\n      <td>riyadh</td>\n      <td>saudiarabia</td>\n      <td></td>\n      <td>3,280</td>\n      <td></td>\n      <td>sr76.56 billion</td>\n      <td>saudiarabia, financials, banks, saudiarabiafin...</td>\n    </tr>\n    <tr>\n      <th>167</th>\n      <td>NaN</td>\n      <td>NaN</td>\n      <td>NaN</td>\n      <td>NaN</td>\n      <td>NaN</td>\n      <td>NaN</td>\n      <td>NaN</td>\n      <td>NaN</td>\n      <td>standard chartered plc</td>\n      <td>london</td>\n      <td>unitedkingdom</td>\n      <td>as chartered bank of india, australia, and chi...</td>\n      <td>81,770</td>\n      <td></td>\n      <td>15.84 billion</td>\n      <td>unitedkingdom, financials, banks, unitedkingdo...</td>\n    </tr>\n    <tr>\n      <th>168</th>\n      <td>NaN</td>\n      <td>NaN</td>\n      <td>NaN</td>\n      <td>NaN</td>\n      <td>NaN</td>\n      <td>NaN</td>\n      <td>NaN</td>\n      <td>NaN</td>\n      <td>china mengniu dairy co ltd</td>\n      <td></td>\n      <td></td>\n      <td></td>\n      <td></td>\n      <td></td>\n      <td>hk$165.86 billion</td>\n      <td>hongkong, consumerstaples, packagedfoods, hong...</td>\n    </tr>\n    <tr>\n      <th>169</th>\n      <td>NaN</td>\n      <td>NaN</td>\n      <td>NaN</td>\n      <td>NaN</td>\n      <td>NaN</td>\n      <td>NaN</td>\n      <td>NaN</td>\n      <td>NaN</td>\n      <td>china northern rare earth</td>\n      <td></td>\n      <td></td>\n      <td></td>\n      <td></td>\n      <td></td>\n      <td>cn134.96 billion</td>\n      <td>china, basicmaterials, otherindustrialmetals&amp;m...</td>\n    </tr>\n    <tr>\n      <th>170</th>\n      <td>NaN</td>\n      <td>NaN</td>\n      <td>NaN</td>\n      <td>NaN</td>\n      <td>NaN</td>\n      <td>NaN</td>\n      <td>NaN</td>\n      <td>NaN</td>\n      <td>sgs sa</td>\n      <td>geneva</td>\n      <td>switzerland</td>\n      <td></td>\n      <td>96,216</td>\n      <td></td>\n      <td>chf19.83 billion</td>\n      <td>switzerland, industrials, consultingservices, ...</td>\n    </tr>\n  </tbody>\n</table>\n<p>443 rows × 16 columns</p>\n</div>"
     },
     "execution_count": 597,
     "metadata": {},
     "output_type": "execute_result"
    }
   ],
   "source": [
    "unique_l"
   ],
   "metadata": {
    "collapsed": false,
    "pycharm": {
     "name": "#%%\n"
    }
   }
  },
  {
   "cell_type": "code",
   "execution_count": 601,
   "outputs": [
    {
     "data": {
      "text/plain": "                           name   country continent       founded employees  \\\n15                         icbc   beijing     china                 439,787   \n27              kweichow moutai   renhuai     china                  29,031   \n57   agricultural bank of china   beijing     china                 459,000   \n66                         catl    ningde     china                  33,078   \n69      china construction bank   beijing     china                 373,814   \n..                          ...       ...       ...           ...       ...   \n995    asahi group holdings ltd     tokyo     japan                  30,020   \n996   haitong securities co ltd  shanghai     china                  11,282   \n997                catalent inc  somerset        nj          2007    17,300   \n998         quanta services inc   houston        tx          1997    43,700   \n999                ubiquiti inc   newyork        ny  october 2003     1,223   \n\n                  ceo        market_cap  \\\n15                     cn1.593 trillion   \n27                     cn2.216 trillion   \n57                     cn1.050 trillion   \n66                     cn1.181 trillion   \n69                     cn1.205 trillion   \n..                ...               ...   \n995   atsushi katsuki    2.231 trillion   \n996                    cn115.98 billion   \n997  john r chiminski       18240000000   \n998  earl c austin jr       18250000000   \n999     robert j pera       18250000000   \n\n                                            categories  \n15   china, financials, banks, chinafinancials, chi...  \n27   china, consumerstaples, beverageswineries&dist...  \n57   china, financials, banks, chinafinancials, chi...  \n66   china, industrials, electricalequipment&parts,...  \n69   china, financials, banks, chinafinancials, chi...  \n..                                                 ...  \n995  japan, consumerstaples, beveragesbrewers, japa...  \n996  china, financials, capitalmarkets, chinafinanc...  \n997  unitedstates, healthcare, drugmanufacturersspe...  \n998  unitedstates, industrials, engineering&constru...  \n999  unitedstates, technology, communicationequipme...  \n\n[272 rows x 8 columns]",
      "text/html": "<div>\n<style scoped>\n    .dataframe tbody tr th:only-of-type {\n        vertical-align: middle;\n    }\n\n    .dataframe tbody tr th {\n        vertical-align: top;\n    }\n\n    .dataframe thead th {\n        text-align: right;\n    }\n</style>\n<table border=\"1\" class=\"dataframe\">\n  <thead>\n    <tr style=\"text-align: right;\">\n      <th></th>\n      <th>name</th>\n      <th>country</th>\n      <th>continent</th>\n      <th>founded</th>\n      <th>employees</th>\n      <th>ceo</th>\n      <th>market_cap</th>\n      <th>categories</th>\n    </tr>\n  </thead>\n  <tbody>\n    <tr>\n      <th>15</th>\n      <td>icbc</td>\n      <td>beijing</td>\n      <td>china</td>\n      <td></td>\n      <td>439,787</td>\n      <td></td>\n      <td>cn1.593 trillion</td>\n      <td>china, financials, banks, chinafinancials, chi...</td>\n    </tr>\n    <tr>\n      <th>27</th>\n      <td>kweichow moutai</td>\n      <td>renhuai</td>\n      <td>china</td>\n      <td></td>\n      <td>29,031</td>\n      <td></td>\n      <td>cn2.216 trillion</td>\n      <td>china, consumerstaples, beverageswineries&amp;dist...</td>\n    </tr>\n    <tr>\n      <th>57</th>\n      <td>agricultural bank of china</td>\n      <td>beijing</td>\n      <td>china</td>\n      <td></td>\n      <td>459,000</td>\n      <td></td>\n      <td>cn1.050 trillion</td>\n      <td>china, financials, banks, chinafinancials, chi...</td>\n    </tr>\n    <tr>\n      <th>66</th>\n      <td>catl</td>\n      <td>ningde</td>\n      <td>china</td>\n      <td></td>\n      <td>33,078</td>\n      <td></td>\n      <td>cn1.181 trillion</td>\n      <td>china, industrials, electricalequipment&amp;parts,...</td>\n    </tr>\n    <tr>\n      <th>69</th>\n      <td>china construction bank</td>\n      <td>beijing</td>\n      <td>china</td>\n      <td></td>\n      <td>373,814</td>\n      <td></td>\n      <td>cn1.205 trillion</td>\n      <td>china, financials, banks, chinafinancials, chi...</td>\n    </tr>\n    <tr>\n      <th>...</th>\n      <td>...</td>\n      <td>...</td>\n      <td>...</td>\n      <td>...</td>\n      <td>...</td>\n      <td>...</td>\n      <td>...</td>\n      <td>...</td>\n    </tr>\n    <tr>\n      <th>995</th>\n      <td>asahi group holdings ltd</td>\n      <td>tokyo</td>\n      <td>japan</td>\n      <td></td>\n      <td>30,020</td>\n      <td>atsushi katsuki</td>\n      <td>2.231 trillion</td>\n      <td>japan, consumerstaples, beveragesbrewers, japa...</td>\n    </tr>\n    <tr>\n      <th>996</th>\n      <td>haitong securities co ltd</td>\n      <td>shanghai</td>\n      <td>china</td>\n      <td></td>\n      <td>11,282</td>\n      <td></td>\n      <td>cn115.98 billion</td>\n      <td>china, financials, capitalmarkets, chinafinanc...</td>\n    </tr>\n    <tr>\n      <th>997</th>\n      <td>catalent inc</td>\n      <td>somerset</td>\n      <td>nj</td>\n      <td>2007</td>\n      <td>17,300</td>\n      <td>john r chiminski</td>\n      <td>18240000000</td>\n      <td>unitedstates, healthcare, drugmanufacturersspe...</td>\n    </tr>\n    <tr>\n      <th>998</th>\n      <td>quanta services inc</td>\n      <td>houston</td>\n      <td>tx</td>\n      <td>1997</td>\n      <td>43,700</td>\n      <td>earl c austin jr</td>\n      <td>18250000000</td>\n      <td>unitedstates, industrials, engineering&amp;constru...</td>\n    </tr>\n    <tr>\n      <th>999</th>\n      <td>ubiquiti inc</td>\n      <td>newyork</td>\n      <td>ny</td>\n      <td>october 2003</td>\n      <td>1,223</td>\n      <td>robert j pera</td>\n      <td>18250000000</td>\n      <td>unitedstates, technology, communicationequipme...</td>\n    </tr>\n  </tbody>\n</table>\n<p>272 rows × 8 columns</p>\n</div>"
     },
     "execution_count": 601,
     "metadata": {},
     "output_type": "execute_result"
    }
   ],
   "source": [
    "difference_l"
   ],
   "metadata": {
    "collapsed": false,
    "pycharm": {
     "name": "#%%\n"
    }
   }
  },
  {
   "cell_type": "code",
   "execution_count": 602,
   "outputs": [
    {
     "data": {
      "text/plain": "                         name_l country_l    continent_l  \\\n0                          icbc   beijing          china   \n1               kweichow moutai   renhuai          china   \n2    agricultural bank of china   beijing          china   \n3                          catl    ningde          china   \n4       china construction bank   beijing          china   \n..                          ...       ...            ...   \n166                 alinma bank    riyadh    saudiarabia   \n167      standard chartered plc    london  unitedkingdom   \n168  china mengniu dairy co ltd                            \n169   china northern rare earth                            \n170                      sgs sa    geneva    switzerland   \n\n                                             founded_l employees_l ceo_l  \\\n0                                                          439,787         \n1                                                           29,031         \n2                                                          459,000         \n3                                                           33,078         \n4                                                          373,814         \n..                                                 ...         ...   ...   \n166                                                          3,280         \n167  as chartered bank of india, australia, and chi...      81,770         \n168                                                                        \n169                                                                        \n170                                                         96,216         \n\n          market_cap_l                                       categories_l  \n0     cn1.593 trillion  china, financials, banks, chinafinancials, chi...  \n1     cn2.216 trillion  china, consumerstaples, beverageswineries&dist...  \n2     cn1.050 trillion  china, financials, banks, chinafinancials, chi...  \n3     cn1.181 trillion  china, industrials, electricalequipment&parts,...  \n4     cn1.205 trillion  china, financials, banks, chinafinancials, chi...  \n..                 ...                                                ...  \n166    sr76.56 billion  saudiarabia, financials, banks, saudiarabiafin...  \n167      15.84 billion  unitedkingdom, financials, banks, unitedkingdo...  \n168  hk$165.86 billion  hongkong, consumerstaples, packagedfoods, hong...  \n169   cn134.96 billion  china, basicmaterials, otherindustrialmetals&m...  \n170   chf19.83 billion  switzerland, industrials, consultingservices, ...  \n\n[171 rows x 8 columns]",
      "text/html": "<div>\n<style scoped>\n    .dataframe tbody tr th:only-of-type {\n        vertical-align: middle;\n    }\n\n    .dataframe tbody tr th {\n        vertical-align: top;\n    }\n\n    .dataframe thead th {\n        text-align: right;\n    }\n</style>\n<table border=\"1\" class=\"dataframe\">\n  <thead>\n    <tr style=\"text-align: right;\">\n      <th></th>\n      <th>name_l</th>\n      <th>country_l</th>\n      <th>continent_l</th>\n      <th>founded_l</th>\n      <th>employees_l</th>\n      <th>ceo_l</th>\n      <th>market_cap_l</th>\n      <th>categories_l</th>\n    </tr>\n  </thead>\n  <tbody>\n    <tr>\n      <th>0</th>\n      <td>icbc</td>\n      <td>beijing</td>\n      <td>china</td>\n      <td></td>\n      <td>439,787</td>\n      <td></td>\n      <td>cn1.593 trillion</td>\n      <td>china, financials, banks, chinafinancials, chi...</td>\n    </tr>\n    <tr>\n      <th>1</th>\n      <td>kweichow moutai</td>\n      <td>renhuai</td>\n      <td>china</td>\n      <td></td>\n      <td>29,031</td>\n      <td></td>\n      <td>cn2.216 trillion</td>\n      <td>china, consumerstaples, beverageswineries&amp;dist...</td>\n    </tr>\n    <tr>\n      <th>2</th>\n      <td>agricultural bank of china</td>\n      <td>beijing</td>\n      <td>china</td>\n      <td></td>\n      <td>459,000</td>\n      <td></td>\n      <td>cn1.050 trillion</td>\n      <td>china, financials, banks, chinafinancials, chi...</td>\n    </tr>\n    <tr>\n      <th>3</th>\n      <td>catl</td>\n      <td>ningde</td>\n      <td>china</td>\n      <td></td>\n      <td>33,078</td>\n      <td></td>\n      <td>cn1.181 trillion</td>\n      <td>china, industrials, electricalequipment&amp;parts,...</td>\n    </tr>\n    <tr>\n      <th>4</th>\n      <td>china construction bank</td>\n      <td>beijing</td>\n      <td>china</td>\n      <td></td>\n      <td>373,814</td>\n      <td></td>\n      <td>cn1.205 trillion</td>\n      <td>china, financials, banks, chinafinancials, chi...</td>\n    </tr>\n    <tr>\n      <th>...</th>\n      <td>...</td>\n      <td>...</td>\n      <td>...</td>\n      <td>...</td>\n      <td>...</td>\n      <td>...</td>\n      <td>...</td>\n      <td>...</td>\n    </tr>\n    <tr>\n      <th>166</th>\n      <td>alinma bank</td>\n      <td>riyadh</td>\n      <td>saudiarabia</td>\n      <td></td>\n      <td>3,280</td>\n      <td></td>\n      <td>sr76.56 billion</td>\n      <td>saudiarabia, financials, banks, saudiarabiafin...</td>\n    </tr>\n    <tr>\n      <th>167</th>\n      <td>standard chartered plc</td>\n      <td>london</td>\n      <td>unitedkingdom</td>\n      <td>as chartered bank of india, australia, and chi...</td>\n      <td>81,770</td>\n      <td></td>\n      <td>15.84 billion</td>\n      <td>unitedkingdom, financials, banks, unitedkingdo...</td>\n    </tr>\n    <tr>\n      <th>168</th>\n      <td>china mengniu dairy co ltd</td>\n      <td></td>\n      <td></td>\n      <td></td>\n      <td></td>\n      <td></td>\n      <td>hk$165.86 billion</td>\n      <td>hongkong, consumerstaples, packagedfoods, hong...</td>\n    </tr>\n    <tr>\n      <th>169</th>\n      <td>china northern rare earth</td>\n      <td></td>\n      <td></td>\n      <td></td>\n      <td></td>\n      <td></td>\n      <td>cn134.96 billion</td>\n      <td>china, basicmaterials, otherindustrialmetals&amp;m...</td>\n    </tr>\n    <tr>\n      <th>170</th>\n      <td>sgs sa</td>\n      <td>geneva</td>\n      <td>switzerland</td>\n      <td></td>\n      <td>96,216</td>\n      <td></td>\n      <td>chf19.83 billion</td>\n      <td>switzerland, industrials, consultingservices, ...</td>\n    </tr>\n  </tbody>\n</table>\n<p>171 rows × 8 columns</p>\n</div>"
     },
     "execution_count": 602,
     "metadata": {},
     "output_type": "execute_result"
    }
   ],
   "source": [
    "matching_dataset_left"
   ],
   "metadata": {
    "collapsed": false,
    "pycharm": {
     "name": "#%%\n"
    }
   }
  },
  {
   "cell_type": "code",
   "execution_count": null,
   "outputs": [],
   "source": [],
   "metadata": {
    "collapsed": false,
    "pycharm": {
     "name": "#%%\n"
    }
   }
  },
  {
   "cell_type": "code",
   "execution_count": null,
   "outputs": [],
   "source": [],
   "metadata": {
    "collapsed": false,
    "pycharm": {
     "name": "#%%\n"
    }
   }
  },
  {
   "cell_type": "code",
   "execution_count": null,
   "outputs": [],
   "source": [],
   "metadata": {
    "collapsed": false,
    "pycharm": {
     "name": "#%%\n"
    }
   }
  },
  {
   "cell_type": "code",
   "execution_count": null,
   "outputs": [],
   "source": [],
   "metadata": {
    "collapsed": false,
    "pycharm": {
     "name": "#%%\n"
    }
   }
  },
  {
   "cell_type": "code",
   "execution_count": null,
   "outputs": [],
   "source": [],
   "metadata": {
    "collapsed": false,
    "pycharm": {
     "name": "#%%\n"
    }
   }
  },
  {
   "cell_type": "code",
   "execution_count": null,
   "outputs": [],
   "source": [],
   "metadata": {
    "collapsed": false,
    "pycharm": {
     "name": "#%%\n"
    }
   }
  },
  {
   "cell_type": "code",
   "execution_count": null,
   "outputs": [],
   "source": [],
   "metadata": {
    "collapsed": false,
    "pycharm": {
     "name": "#%%\n"
    }
   }
  },
  {
   "cell_type": "code",
   "execution_count": 462,
   "outputs": [],
   "source": [
    "column_left, column_right = rename_columns(matching_dataset_left.columns.values.tolist(),\n",
    "                                           matching_dataset_right.columns.values.tolist())\n",
    "matching_dataset_left.columns = column_left\n",
    "matching_dataset_right.columns = column_right"
   ],
   "metadata": {
    "collapsed": false,
    "pycharm": {
     "name": "#%%\n"
    }
   }
  },
  {
   "cell_type": "code",
   "execution_count": 463,
   "outputs": [
    {
     "data": {
      "text/plain": "                             name_l   country_l  continent_l  \\\n0                             apple   cupertino           ca   \n1                           danaher  washington           dc   \n2                             merck  kenilworth           nj   \n3                               bhp   melbourne          vic   \n4                              nike   beaverton           or   \n..                              ...         ...          ...   \n723           rede d'or sao luiz sa    saopaulo           sp   \n724          teck resources limited   vancouver           bc   \n725          the saudi british bank      riyadh  saudiarabia   \n726           mitsui fudosan co ltd       tokyo        japan   \n727  jb hunt transport services inc      lowell           ar   \n\n            founded_l employees_l                             ceo_l  \\\n0       april 1, 1976     100,000                    timothy d cook   \n1                1969      78,000                    rainer m blair   \n2                1891      67,000                 robert m davis jd   \n3                1885      40,110         mike p henry bsc bsc chem   \n4    january 25, 1964      73,300                 john j donahoe ii   \n..                ...         ...                               ...   \n723                                            paulo junqueira moll   \n724                        10,600  donald r lindsay bsc honours mba   \n725                         4,156            anthony william cripps   \n726                        23,992                   masanobu komoda   \n727   august 10, 1961      33,045                john n roberts iii   \n\n         market_cap_l                                       categories_l  \\\n0       2825000000000  unitedstates, technology, consumerelectronics,...   \n1        208030000000  unitedstates, healthcare, diagnostics&research...   \n2        210380000000  unitedstates, healthcare, drugmanufacturersgen...   \n3    a$281.66 billion  australia, basicmaterials, otherindustrialmeta...   \n4        213600000000  unitedstates, consumerdiscretionary, footwear&...   \n..                ...                                                ...   \n723   r$99.71 billion  brazil, healthcare, medicalcarefacilities, bra...   \n724   c$26.81 billion  canada, basicmaterials, otherindustrialmetals&...   \n725   sr80.45 billion  saudiarabia, financials, banks, saudiarabiafin...   \n726    2.629 trillion  japan, realestate, realestatediversified, japa...   \n727       21480000000  unitedstates, industrials, integratedfreight&l...   \n\n              founded_r employees_r                              ceo_r  \\\n0         april 1, 1976     100,000                     timothy d cook   \n1                  1969      78,000                     rainer m blair   \n2                  1891      67,000                  robert m davis jd   \n3                  1885      40,110          mike p henry bsc bsc chem   \n4      january 25, 1964      73,300                  john j donahoe ii   \n..                  ...         ...                                ...   \n723                                               paulo junqueira moll   \n724                          10,600   donald r lindsay bsc honours mba   \n725                           4,156             anthony william cripps   \n726                          23,992                    masanobu komoda   \n727     august 10, 1961      33,045                 john n roberts iii   \n\n                             name_r  \n0                             apple  \n1                           danaher  \n2                             merck  \n3                               bhp  \n4                              nike  \n..                              ...  \n723           rede d'or sao luiz sa  \n724          teck resources limited  \n725          the saudi british bank  \n726           mitsui fudosan co ltd  \n727  jb hunt transport services inc  \n\n[728 rows x 12 columns]",
      "text/html": "<div>\n<style scoped>\n    .dataframe tbody tr th:only-of-type {\n        vertical-align: middle;\n    }\n\n    .dataframe tbody tr th {\n        vertical-align: top;\n    }\n\n    .dataframe thead th {\n        text-align: right;\n    }\n</style>\n<table border=\"1\" class=\"dataframe\">\n  <thead>\n    <tr style=\"text-align: right;\">\n      <th></th>\n      <th>name_l</th>\n      <th>country_l</th>\n      <th>continent_l</th>\n      <th>founded_l</th>\n      <th>employees_l</th>\n      <th>ceo_l</th>\n      <th>market_cap_l</th>\n      <th>categories_l</th>\n      <th>founded_r</th>\n      <th>employees_r</th>\n      <th>ceo_r</th>\n      <th>name_r</th>\n    </tr>\n  </thead>\n  <tbody>\n    <tr>\n      <th>0</th>\n      <td>apple</td>\n      <td>cupertino</td>\n      <td>ca</td>\n      <td>april 1, 1976</td>\n      <td>100,000</td>\n      <td>timothy d cook</td>\n      <td>2825000000000</td>\n      <td>unitedstates, technology, consumerelectronics,...</td>\n      <td>april 1, 1976</td>\n      <td>100,000</td>\n      <td>timothy d cook</td>\n      <td>apple</td>\n    </tr>\n    <tr>\n      <th>1</th>\n      <td>danaher</td>\n      <td>washington</td>\n      <td>dc</td>\n      <td>1969</td>\n      <td>78,000</td>\n      <td>rainer m blair</td>\n      <td>208030000000</td>\n      <td>unitedstates, healthcare, diagnostics&amp;research...</td>\n      <td>1969</td>\n      <td>78,000</td>\n      <td>rainer m blair</td>\n      <td>danaher</td>\n    </tr>\n    <tr>\n      <th>2</th>\n      <td>merck</td>\n      <td>kenilworth</td>\n      <td>nj</td>\n      <td>1891</td>\n      <td>67,000</td>\n      <td>robert m davis jd</td>\n      <td>210380000000</td>\n      <td>unitedstates, healthcare, drugmanufacturersgen...</td>\n      <td>1891</td>\n      <td>67,000</td>\n      <td>robert m davis jd</td>\n      <td>merck</td>\n    </tr>\n    <tr>\n      <th>3</th>\n      <td>bhp</td>\n      <td>melbourne</td>\n      <td>vic</td>\n      <td>1885</td>\n      <td>40,110</td>\n      <td>mike p henry bsc bsc chem</td>\n      <td>a$281.66 billion</td>\n      <td>australia, basicmaterials, otherindustrialmeta...</td>\n      <td>1885</td>\n      <td>40,110</td>\n      <td>mike p henry bsc bsc chem</td>\n      <td>bhp</td>\n    </tr>\n    <tr>\n      <th>4</th>\n      <td>nike</td>\n      <td>beaverton</td>\n      <td>or</td>\n      <td>january 25, 1964</td>\n      <td>73,300</td>\n      <td>john j donahoe ii</td>\n      <td>213600000000</td>\n      <td>unitedstates, consumerdiscretionary, footwear&amp;...</td>\n      <td>january 25, 1964</td>\n      <td>73,300</td>\n      <td>john j donahoe ii</td>\n      <td>nike</td>\n    </tr>\n    <tr>\n      <th>...</th>\n      <td>...</td>\n      <td>...</td>\n      <td>...</td>\n      <td>...</td>\n      <td>...</td>\n      <td>...</td>\n      <td>...</td>\n      <td>...</td>\n      <td>...</td>\n      <td>...</td>\n      <td>...</td>\n      <td>...</td>\n    </tr>\n    <tr>\n      <th>723</th>\n      <td>rede d'or sao luiz sa</td>\n      <td>saopaulo</td>\n      <td>sp</td>\n      <td></td>\n      <td></td>\n      <td>paulo junqueira moll</td>\n      <td>r$99.71 billion</td>\n      <td>brazil, healthcare, medicalcarefacilities, bra...</td>\n      <td></td>\n      <td></td>\n      <td>paulo junqueira moll</td>\n      <td>rede d'or sao luiz sa</td>\n    </tr>\n    <tr>\n      <th>724</th>\n      <td>teck resources limited</td>\n      <td>vancouver</td>\n      <td>bc</td>\n      <td></td>\n      <td>10,600</td>\n      <td>donald r lindsay bsc honours mba</td>\n      <td>c$26.81 billion</td>\n      <td>canada, basicmaterials, otherindustrialmetals&amp;...</td>\n      <td></td>\n      <td>10,600</td>\n      <td>donald r lindsay bsc honours mba</td>\n      <td>teck resources limited</td>\n    </tr>\n    <tr>\n      <th>725</th>\n      <td>the saudi british bank</td>\n      <td>riyadh</td>\n      <td>saudiarabia</td>\n      <td></td>\n      <td>4,156</td>\n      <td>anthony william cripps</td>\n      <td>sr80.45 billion</td>\n      <td>saudiarabia, financials, banks, saudiarabiafin...</td>\n      <td></td>\n      <td>4,156</td>\n      <td>anthony william cripps</td>\n      <td>the saudi british bank</td>\n    </tr>\n    <tr>\n      <th>726</th>\n      <td>mitsui fudosan co ltd</td>\n      <td>tokyo</td>\n      <td>japan</td>\n      <td></td>\n      <td>23,992</td>\n      <td>masanobu komoda</td>\n      <td>2.629 trillion</td>\n      <td>japan, realestate, realestatediversified, japa...</td>\n      <td></td>\n      <td>23,992</td>\n      <td>masanobu komoda</td>\n      <td>mitsui fudosan co ltd</td>\n    </tr>\n    <tr>\n      <th>727</th>\n      <td>jb hunt transport services inc</td>\n      <td>lowell</td>\n      <td>ar</td>\n      <td>august 10, 1961</td>\n      <td>33,045</td>\n      <td>john n roberts iii</td>\n      <td>21480000000</td>\n      <td>unitedstates, industrials, integratedfreight&amp;l...</td>\n      <td>august 10, 1961</td>\n      <td>33,045</td>\n      <td>john n roberts iii</td>\n      <td>jb hunt transport services inc</td>\n    </tr>\n  </tbody>\n</table>\n<p>728 rows × 12 columns</p>\n</div>"
     },
     "execution_count": 463,
     "metadata": {},
     "output_type": "execute_result"
    }
   ],
   "source": [
    "joined_df = pd.concat([matching_dataset_left, matching_dataset_right], axis=1)\n",
    "joined_df"
   ],
   "metadata": {
    "collapsed": false,
    "pycharm": {
     "name": "#%%\n"
    }
   }
  },
  {
   "cell_type": "code",
   "execution_count": 464,
   "outputs": [
    {
     "data": {
      "text/plain": "['name', 'founded', 'employees', 'ceo']"
     },
     "execution_count": 464,
     "metadata": {},
     "output_type": "execute_result"
    }
   ],
   "source": [
    "duplicates = find_duplicated_columns(df_l.columns.values.tolist(), df_r.columns.values.tolist())\n",
    "duplicates"
   ],
   "metadata": {
    "collapsed": false,
    "pycharm": {
     "name": "#%%\n"
    }
   }
  },
  {
   "cell_type": "code",
   "execution_count": 465,
   "outputs": [
    {
     "data": {
      "text/plain": "                                    name_l  \\\n649         zebra technologies corporation   \n657                             geberit ag   \n377               simon property group inc   \n504                naturgy energy group sa   \n565                           caixabank sa   \n257           marvell technology group ltd   \n479                              oneok inc   \n609  mid-america apartment communities inc   \n562                              sartorius   \n587                  albemarle corporation   \n\n                                    name_r  \n649         zebra technologies corporation  \n657                             geberit ag  \n377               simon property group inc  \n504                naturgy energy group sa  \n565                           caixabank sa  \n257           marvell technology group ltd  \n479                              oneok inc  \n609  mid-america apartment communities inc  \n562                              sartorius  \n587                  albemarle corporation  ",
      "text/html": "<div>\n<style scoped>\n    .dataframe tbody tr th:only-of-type {\n        vertical-align: middle;\n    }\n\n    .dataframe tbody tr th {\n        vertical-align: top;\n    }\n\n    .dataframe thead th {\n        text-align: right;\n    }\n</style>\n<table border=\"1\" class=\"dataframe\">\n  <thead>\n    <tr style=\"text-align: right;\">\n      <th></th>\n      <th>name_l</th>\n      <th>name_r</th>\n    </tr>\n  </thead>\n  <tbody>\n    <tr>\n      <th>649</th>\n      <td>zebra technologies corporation</td>\n      <td>zebra technologies corporation</td>\n    </tr>\n    <tr>\n      <th>657</th>\n      <td>geberit ag</td>\n      <td>geberit ag</td>\n    </tr>\n    <tr>\n      <th>377</th>\n      <td>simon property group inc</td>\n      <td>simon property group inc</td>\n    </tr>\n    <tr>\n      <th>504</th>\n      <td>naturgy energy group sa</td>\n      <td>naturgy energy group sa</td>\n    </tr>\n    <tr>\n      <th>565</th>\n      <td>caixabank sa</td>\n      <td>caixabank sa</td>\n    </tr>\n    <tr>\n      <th>257</th>\n      <td>marvell technology group ltd</td>\n      <td>marvell technology group ltd</td>\n    </tr>\n    <tr>\n      <th>479</th>\n      <td>oneok inc</td>\n      <td>oneok inc</td>\n    </tr>\n    <tr>\n      <th>609</th>\n      <td>mid-america apartment communities inc</td>\n      <td>mid-america apartment communities inc</td>\n    </tr>\n    <tr>\n      <th>562</th>\n      <td>sartorius</td>\n      <td>sartorius</td>\n    </tr>\n    <tr>\n      <th>587</th>\n      <td>albemarle corporation</td>\n      <td>albemarle corporation</td>\n    </tr>\n  </tbody>\n</table>\n</div>"
     },
     "metadata": {},
     "output_type": "display_data"
    },
    {
     "data": {
      "text/plain": "    founded_l founded_r\n361      1883      1883\n471                    \n662                    \n460      1995      1995\n242                    \n511                    \n424      1969      1969\n478      1989      1989\n627                    \n655     1946      1946 ",
      "text/html": "<div>\n<style scoped>\n    .dataframe tbody tr th:only-of-type {\n        vertical-align: middle;\n    }\n\n    .dataframe tbody tr th {\n        vertical-align: top;\n    }\n\n    .dataframe thead th {\n        text-align: right;\n    }\n</style>\n<table border=\"1\" class=\"dataframe\">\n  <thead>\n    <tr style=\"text-align: right;\">\n      <th></th>\n      <th>founded_l</th>\n      <th>founded_r</th>\n    </tr>\n  </thead>\n  <tbody>\n    <tr>\n      <th>361</th>\n      <td>1883</td>\n      <td>1883</td>\n    </tr>\n    <tr>\n      <th>471</th>\n      <td></td>\n      <td></td>\n    </tr>\n    <tr>\n      <th>662</th>\n      <td></td>\n      <td></td>\n    </tr>\n    <tr>\n      <th>460</th>\n      <td>1995</td>\n      <td>1995</td>\n    </tr>\n    <tr>\n      <th>242</th>\n      <td></td>\n      <td></td>\n    </tr>\n    <tr>\n      <th>511</th>\n      <td></td>\n      <td></td>\n    </tr>\n    <tr>\n      <th>424</th>\n      <td>1969</td>\n      <td>1969</td>\n    </tr>\n    <tr>\n      <th>478</th>\n      <td>1989</td>\n      <td>1989</td>\n    </tr>\n    <tr>\n      <th>627</th>\n      <td></td>\n      <td></td>\n    </tr>\n    <tr>\n      <th>655</th>\n      <td>1946</td>\n      <td>1946</td>\n    </tr>\n  </tbody>\n</table>\n</div>"
     },
     "metadata": {},
     "output_type": "display_data"
    },
    {
     "data": {
      "text/plain": "    employees_l employees_r\n311      47,099      47,099\n459      52,450      52,450\n608     316,078     316,078\n151      27,605      27,605\n717       2,742       2,742\n219      50,000      50,000\n365      77,958      77,958\n272      47,000      47,000\n541      26,000      26,000\n560      22,700      22,700",
      "text/html": "<div>\n<style scoped>\n    .dataframe tbody tr th:only-of-type {\n        vertical-align: middle;\n    }\n\n    .dataframe tbody tr th {\n        vertical-align: top;\n    }\n\n    .dataframe thead th {\n        text-align: right;\n    }\n</style>\n<table border=\"1\" class=\"dataframe\">\n  <thead>\n    <tr style=\"text-align: right;\">\n      <th></th>\n      <th>employees_l</th>\n      <th>employees_r</th>\n    </tr>\n  </thead>\n  <tbody>\n    <tr>\n      <th>311</th>\n      <td>47,099</td>\n      <td>47,099</td>\n    </tr>\n    <tr>\n      <th>459</th>\n      <td>52,450</td>\n      <td>52,450</td>\n    </tr>\n    <tr>\n      <th>608</th>\n      <td>316,078</td>\n      <td>316,078</td>\n    </tr>\n    <tr>\n      <th>151</th>\n      <td>27,605</td>\n      <td>27,605</td>\n    </tr>\n    <tr>\n      <th>717</th>\n      <td>2,742</td>\n      <td>2,742</td>\n    </tr>\n    <tr>\n      <th>219</th>\n      <td>50,000</td>\n      <td>50,000</td>\n    </tr>\n    <tr>\n      <th>365</th>\n      <td>77,958</td>\n      <td>77,958</td>\n    </tr>\n    <tr>\n      <th>272</th>\n      <td>47,000</td>\n      <td>47,000</td>\n    </tr>\n    <tr>\n      <th>541</th>\n      <td>26,000</td>\n      <td>26,000</td>\n    </tr>\n    <tr>\n      <th>560</th>\n      <td>22,700</td>\n      <td>22,700</td>\n    </tr>\n  </tbody>\n</table>\n</div>"
     },
     "metadata": {},
     "output_type": "display_data"
    },
    {
     "ename": "IndexError",
     "evalue": "list index out of range",
     "output_type": "error",
     "traceback": [
      "\u001B[0;31m---------------------------------------------------------------------------\u001B[0m",
      "\u001B[0;31mIndexError\u001B[0m                                Traceback (most recent call last)",
      "Cell \u001B[0;32mIn[465], line 7\u001B[0m\n\u001B[1;32m      5\u001B[0m time\u001B[38;5;241m.\u001B[39msleep(\u001B[38;5;241m1\u001B[39m)\n\u001B[1;32m      6\u001B[0m idx_drop \u001B[38;5;241m=\u001B[39m \u001B[38;5;28mint\u001B[39m(\u001B[38;5;28minput\u001B[39m(\u001B[38;5;124m\"\u001B[39m\u001B[38;5;124mInserisci l\u001B[39m\u001B[38;5;124m'\u001B[39m\u001B[38;5;124mindice (0 o 1) della colonna che vuoi scartare nel dataset finale: \u001B[39m\u001B[38;5;124m\"\u001B[39m))\n\u001B[0;32m----> 7\u001B[0m joined_df\u001B[38;5;241m.\u001B[39mdrop(\u001B[43mcandidate_labels\u001B[49m\u001B[43m[\u001B[49m\u001B[43midx_drop\u001B[49m\u001B[43m]\u001B[49m, axis\u001B[38;5;241m=\u001B[39m\u001B[38;5;241m1\u001B[39m, inplace\u001B[38;5;241m=\u001B[39m\u001B[38;5;28;01mTrue\u001B[39;00m)\n",
      "\u001B[0;31mIndexError\u001B[0m: list index out of range"
     ]
    }
   ],
   "source": [
    "for col in duplicates:\n",
    "    candidates = joined_df[[col + '_l', col + '_r']].sample(20)\n",
    "    candidate_labels = candidates.columns.values.tolist()\n",
    "    display(candidates.sample(10))\n",
    "    time.sleep(1)\n",
    "    idx_drop = int(input(\"Inserisci l'indice (0 o 1) della colonna che vuoi scartare nel dataset finale: \"))\n",
    "    joined_df.drop(candidate_labels[idx_drop], axis=1, inplace=True)\n"
   ],
   "metadata": {
    "collapsed": false,
    "pycharm": {
     "name": "#%%\n"
    }
   }
  },
  {
   "cell_type": "code",
   "execution_count": 435,
   "outputs": [
    {
     "data": {
      "text/plain": "        country    continent        market_cap  \\\n0     cupertino           ca     2825000000000   \n1    washington           dc      208030000000   \n2    kenilworth           nj      210380000000   \n3     melbourne          vic  a$281.66 billion   \n4     beaverton           or      213600000000   \n..          ...          ...               ...   \n647    saopaulo           sp   r$99.71 billion   \n648   vancouver           bc   c$26.81 billion   \n649      riyadh  saudiarabia   sr80.45 billion   \n650       tokyo        japan    2.629 trillion   \n651      lowell           ar       21480000000   \n\n                                            categories             founded  \\\n0    unitedstates, technology, consumerelectronics,...       april 1, 1976   \n1    unitedstates, healthcare, diagnostics&research...                1969   \n2    unitedstates, healthcare, drugmanufacturersgen...                1891   \n3    australia, basicmaterials, otherindustrialmeta...                1885   \n4    unitedstates, consumerdiscretionary, footwear&...    january 25, 1964   \n..                                                 ...                 ...   \n647  brazil, healthcare, medicalcarefacilities, bra...                       \n648  canada, basicmaterials, otherindustrialmetals&...                       \n649  saudiarabia, financials, banks, saudiarabiafin...                       \n650  japan, realestate, realestatediversified, japa...                       \n651  unitedstates, industrials, integratedfreight&l...     august 10, 1961   \n\n     employees                                ceo  \\\n0      100,000                     timothy d cook   \n1       78,000                     rainer m blair   \n2       67,000                  robert m davis jd   \n3       40,110          mike p henry bsc bsc chem   \n4       73,300                  john j donahoe ii   \n..         ...                                ...   \n647                          paulo junqueira moll   \n648     10,600   donald r lindsay bsc honours mba   \n649      4,156             anthony william cripps   \n650     23,992                    masanobu komoda   \n651     33,045                 john n roberts iii   \n\n                               name  \n0                             apple  \n1                           danaher  \n2                             merck  \n3                               bhp  \n4                              nike  \n..                              ...  \n647           rede d'or sao luiz sa  \n648          teck resources limited  \n649          the saudi british bank  \n650           mitsui fudosan co ltd  \n651  jb hunt transport services inc  \n\n[652 rows x 8 columns]",
      "text/html": "<div>\n<style scoped>\n    .dataframe tbody tr th:only-of-type {\n        vertical-align: middle;\n    }\n\n    .dataframe tbody tr th {\n        vertical-align: top;\n    }\n\n    .dataframe thead th {\n        text-align: right;\n    }\n</style>\n<table border=\"1\" class=\"dataframe\">\n  <thead>\n    <tr style=\"text-align: right;\">\n      <th></th>\n      <th>country</th>\n      <th>continent</th>\n      <th>market_cap</th>\n      <th>categories</th>\n      <th>founded</th>\n      <th>employees</th>\n      <th>ceo</th>\n      <th>name</th>\n    </tr>\n  </thead>\n  <tbody>\n    <tr>\n      <th>0</th>\n      <td>cupertino</td>\n      <td>ca</td>\n      <td>2825000000000</td>\n      <td>unitedstates, technology, consumerelectronics,...</td>\n      <td>april 1, 1976</td>\n      <td>100,000</td>\n      <td>timothy d cook</td>\n      <td>apple</td>\n    </tr>\n    <tr>\n      <th>1</th>\n      <td>washington</td>\n      <td>dc</td>\n      <td>208030000000</td>\n      <td>unitedstates, healthcare, diagnostics&amp;research...</td>\n      <td>1969</td>\n      <td>78,000</td>\n      <td>rainer m blair</td>\n      <td>danaher</td>\n    </tr>\n    <tr>\n      <th>2</th>\n      <td>kenilworth</td>\n      <td>nj</td>\n      <td>210380000000</td>\n      <td>unitedstates, healthcare, drugmanufacturersgen...</td>\n      <td>1891</td>\n      <td>67,000</td>\n      <td>robert m davis jd</td>\n      <td>merck</td>\n    </tr>\n    <tr>\n      <th>3</th>\n      <td>melbourne</td>\n      <td>vic</td>\n      <td>a$281.66 billion</td>\n      <td>australia, basicmaterials, otherindustrialmeta...</td>\n      <td>1885</td>\n      <td>40,110</td>\n      <td>mike p henry bsc bsc chem</td>\n      <td>bhp</td>\n    </tr>\n    <tr>\n      <th>4</th>\n      <td>beaverton</td>\n      <td>or</td>\n      <td>213600000000</td>\n      <td>unitedstates, consumerdiscretionary, footwear&amp;...</td>\n      <td>january 25, 1964</td>\n      <td>73,300</td>\n      <td>john j donahoe ii</td>\n      <td>nike</td>\n    </tr>\n    <tr>\n      <th>...</th>\n      <td>...</td>\n      <td>...</td>\n      <td>...</td>\n      <td>...</td>\n      <td>...</td>\n      <td>...</td>\n      <td>...</td>\n      <td>...</td>\n    </tr>\n    <tr>\n      <th>647</th>\n      <td>saopaulo</td>\n      <td>sp</td>\n      <td>r$99.71 billion</td>\n      <td>brazil, healthcare, medicalcarefacilities, bra...</td>\n      <td></td>\n      <td></td>\n      <td>paulo junqueira moll</td>\n      <td>rede d'or sao luiz sa</td>\n    </tr>\n    <tr>\n      <th>648</th>\n      <td>vancouver</td>\n      <td>bc</td>\n      <td>c$26.81 billion</td>\n      <td>canada, basicmaterials, otherindustrialmetals&amp;...</td>\n      <td></td>\n      <td>10,600</td>\n      <td>donald r lindsay bsc honours mba</td>\n      <td>teck resources limited</td>\n    </tr>\n    <tr>\n      <th>649</th>\n      <td>riyadh</td>\n      <td>saudiarabia</td>\n      <td>sr80.45 billion</td>\n      <td>saudiarabia, financials, banks, saudiarabiafin...</td>\n      <td></td>\n      <td>4,156</td>\n      <td>anthony william cripps</td>\n      <td>the saudi british bank</td>\n    </tr>\n    <tr>\n      <th>650</th>\n      <td>tokyo</td>\n      <td>japan</td>\n      <td>2.629 trillion</td>\n      <td>japan, realestate, realestatediversified, japa...</td>\n      <td></td>\n      <td>23,992</td>\n      <td>masanobu komoda</td>\n      <td>mitsui fudosan co ltd</td>\n    </tr>\n    <tr>\n      <th>651</th>\n      <td>lowell</td>\n      <td>ar</td>\n      <td>21480000000</td>\n      <td>unitedstates, industrials, integratedfreight&amp;l...</td>\n      <td>august 10, 1961</td>\n      <td>33,045</td>\n      <td>john n roberts iii</td>\n      <td>jb hunt transport services inc</td>\n    </tr>\n  </tbody>\n</table>\n<p>652 rows × 8 columns</p>\n</div>"
     },
     "execution_count": 435,
     "metadata": {},
     "output_type": "execute_result"
    }
   ],
   "source": [
    "joined_df.columns = [col[:-2] for col in joined_df.columns.values.tolist()]\n",
    "joined_df"
   ],
   "metadata": {
    "collapsed": false,
    "pycharm": {
     "name": "#%%\n"
    }
   }
  },
  {
   "cell_type": "markdown",
   "source": [
    "problema con record che hanno valori vuoti"
   ],
   "metadata": {
    "collapsed": false
   }
  },
  {
   "cell_type": "code",
   "execution_count": 506,
   "outputs": [
    {
     "data": {
      "text/plain": "    founded  employees ceo     name\n229    1988    104,400      abb ltd",
      "text/html": "<div>\n<style scoped>\n    .dataframe tbody tr th:only-of-type {\n        vertical-align: middle;\n    }\n\n    .dataframe tbody tr th {\n        vertical-align: top;\n    }\n\n    .dataframe thead th {\n        text-align: right;\n    }\n</style>\n<table border=\"1\" class=\"dataframe\">\n  <thead>\n    <tr style=\"text-align: right;\">\n      <th></th>\n      <th>founded</th>\n      <th>employees</th>\n      <th>ceo</th>\n      <th>name</th>\n    </tr>\n  </thead>\n  <tbody>\n    <tr>\n      <th>229</th>\n      <td>1988</td>\n      <td>104,400</td>\n      <td></td>\n      <td>abb ltd</td>\n    </tr>\n  </tbody>\n</table>\n</div>"
     },
     "execution_count": 506,
     "metadata": {},
     "output_type": "execute_result"
    }
   ],
   "source": [
    "df_r.loc[df_r['name'] == 'abb ltd']"
   ],
   "metadata": {
    "collapsed": false,
    "pycharm": {
     "name": "#%%\n"
    }
   }
  },
  {
   "cell_type": "code",
   "execution_count": 507,
   "outputs": [
    {
     "data": {
      "text/plain": "        name country    continent founded employees ceo        market_cap  \\\n220  abb ltd  zurich  switzerland    1988   104,400      chf62.20 billion   \n\n                                            categories  \n220  switzerland, industrials, electricalequipment&...  ",
      "text/html": "<div>\n<style scoped>\n    .dataframe tbody tr th:only-of-type {\n        vertical-align: middle;\n    }\n\n    .dataframe tbody tr th {\n        vertical-align: top;\n    }\n\n    .dataframe thead th {\n        text-align: right;\n    }\n</style>\n<table border=\"1\" class=\"dataframe\">\n  <thead>\n    <tr style=\"text-align: right;\">\n      <th></th>\n      <th>name</th>\n      <th>country</th>\n      <th>continent</th>\n      <th>founded</th>\n      <th>employees</th>\n      <th>ceo</th>\n      <th>market_cap</th>\n      <th>categories</th>\n    </tr>\n  </thead>\n  <tbody>\n    <tr>\n      <th>220</th>\n      <td>abb ltd</td>\n      <td>zurich</td>\n      <td>switzerland</td>\n      <td>1988</td>\n      <td>104,400</td>\n      <td></td>\n      <td>chf62.20 billion</td>\n      <td>switzerland, industrials, electricalequipment&amp;...</td>\n    </tr>\n  </tbody>\n</table>\n</div>"
     },
     "execution_count": 507,
     "metadata": {},
     "output_type": "execute_result"
    }
   ],
   "source": [
    "df_l.loc[df_l['name'] == 'abb ltd']"
   ],
   "metadata": {
    "collapsed": false,
    "pycharm": {
     "name": "#%%\n"
    }
   }
  },
  {
   "cell_type": "code",
   "execution_count": 510,
   "outputs": [
    {
     "data": {
      "text/plain": "True"
     },
     "execution_count": 510,
     "metadata": {},
     "output_type": "execute_result"
    }
   ],
   "source": [
    "df_r['name'][229] == df_l['name'][220]"
   ],
   "metadata": {
    "collapsed": false,
    "pycharm": {
     "name": "#%%\n"
    }
   }
  },
  {
   "cell_type": "code",
   "execution_count": 512,
   "outputs": [
    {
     "data": {
      "text/plain": "True"
     },
     "execution_count": 512,
     "metadata": {},
     "output_type": "execute_result"
    }
   ],
   "source": [
    "df_r['ceo'][229] == df_l['ceo'][220]"
   ],
   "metadata": {
    "collapsed": false,
    "pycharm": {
     "name": "#%%\n"
    }
   }
  },
  {
   "cell_type": "markdown",
   "source": [],
   "metadata": {
    "collapsed": false,
    "pycharm": {
     "name": "#%% md\n"
    }
   }
  },
  {
   "cell_type": "code",
   "execution_count": 533,
   "outputs": [
    {
     "data": {
      "text/plain": "                                    name   country  continent  \\\n15                                  icbc   beijing      china   \n27                       kweichow moutai   renhuai      china   \n57            agricultural bank of china   beijing      china   \n66                                  catl    ningde      china   \n69               china construction bank   beijing      china   \n..                                   ...       ...        ...   \n976           astra international tbk pt   jakarta  indonesia   \n984                             nice ltd  raaanana     israel   \n987        zhejiang huayou cobalt co ltd                        \n993  restaurant brands international inc   toronto         on   \n996            haitong securities co ltd  shanghai      china   \n\n               founded employees ceo        market_cap  \\\n15                       439,787      cn1.593 trillion   \n27                        29,031      cn2.216 trillion   \n57                       459,000      cn1.050 trillion   \n66                        33,078      cn1.181 trillion   \n69                       373,814      cn1.205 trillion   \n..                 ...       ...  ..               ...   \n976                      123,894         17.11 billion   \n984               1986     6,800         594.2 million   \n987                                   cn122.16 billion   \n993  december 15, 2014     5,700       c$22.78 billion   \n996                       11,282      cn115.98 billion   \n\n                                            categories  \n15   china, financials, banks, chinafinancials, chi...  \n27   china, consumerstaples, beverageswineries&dist...  \n57   china, financials, banks, chinafinancials, chi...  \n66   china, industrials, electricalequipment&parts,...  \n69   china, financials, banks, chinafinancials, chi...  \n..                                                 ...  \n976  indonesia, consumerdiscretionary, autoparts, i...  \n984  israel, technology, softwareapplication, israe...  \n987  china, basicmaterials, otherindustrialmetals&m...  \n993  canada, consumerdiscretionary, restaurants, ca...  \n996  china, financials, capitalmarkets, chinafinanc...  \n\n[200 rows x 8 columns]",
      "text/html": "<div>\n<style scoped>\n    .dataframe tbody tr th:only-of-type {\n        vertical-align: middle;\n    }\n\n    .dataframe tbody tr th {\n        vertical-align: top;\n    }\n\n    .dataframe thead th {\n        text-align: right;\n    }\n</style>\n<table border=\"1\" class=\"dataframe\">\n  <thead>\n    <tr style=\"text-align: right;\">\n      <th></th>\n      <th>name</th>\n      <th>country</th>\n      <th>continent</th>\n      <th>founded</th>\n      <th>employees</th>\n      <th>ceo</th>\n      <th>market_cap</th>\n      <th>categories</th>\n    </tr>\n  </thead>\n  <tbody>\n    <tr>\n      <th>15</th>\n      <td>icbc</td>\n      <td>beijing</td>\n      <td>china</td>\n      <td></td>\n      <td>439,787</td>\n      <td></td>\n      <td>cn1.593 trillion</td>\n      <td>china, financials, banks, chinafinancials, chi...</td>\n    </tr>\n    <tr>\n      <th>27</th>\n      <td>kweichow moutai</td>\n      <td>renhuai</td>\n      <td>china</td>\n      <td></td>\n      <td>29,031</td>\n      <td></td>\n      <td>cn2.216 trillion</td>\n      <td>china, consumerstaples, beverageswineries&amp;dist...</td>\n    </tr>\n    <tr>\n      <th>57</th>\n      <td>agricultural bank of china</td>\n      <td>beijing</td>\n      <td>china</td>\n      <td></td>\n      <td>459,000</td>\n      <td></td>\n      <td>cn1.050 trillion</td>\n      <td>china, financials, banks, chinafinancials, chi...</td>\n    </tr>\n    <tr>\n      <th>66</th>\n      <td>catl</td>\n      <td>ningde</td>\n      <td>china</td>\n      <td></td>\n      <td>33,078</td>\n      <td></td>\n      <td>cn1.181 trillion</td>\n      <td>china, industrials, electricalequipment&amp;parts,...</td>\n    </tr>\n    <tr>\n      <th>69</th>\n      <td>china construction bank</td>\n      <td>beijing</td>\n      <td>china</td>\n      <td></td>\n      <td>373,814</td>\n      <td></td>\n      <td>cn1.205 trillion</td>\n      <td>china, financials, banks, chinafinancials, chi...</td>\n    </tr>\n    <tr>\n      <th>...</th>\n      <td>...</td>\n      <td>...</td>\n      <td>...</td>\n      <td>...</td>\n      <td>...</td>\n      <td>...</td>\n      <td>...</td>\n      <td>...</td>\n    </tr>\n    <tr>\n      <th>976</th>\n      <td>astra international tbk pt</td>\n      <td>jakarta</td>\n      <td>indonesia</td>\n      <td></td>\n      <td>123,894</td>\n      <td></td>\n      <td>17.11 billion</td>\n      <td>indonesia, consumerdiscretionary, autoparts, i...</td>\n    </tr>\n    <tr>\n      <th>984</th>\n      <td>nice ltd</td>\n      <td>raaanana</td>\n      <td>israel</td>\n      <td>1986</td>\n      <td>6,800</td>\n      <td></td>\n      <td>594.2 million</td>\n      <td>israel, technology, softwareapplication, israe...</td>\n    </tr>\n    <tr>\n      <th>987</th>\n      <td>zhejiang huayou cobalt co ltd</td>\n      <td></td>\n      <td></td>\n      <td></td>\n      <td></td>\n      <td></td>\n      <td>cn122.16 billion</td>\n      <td>china, basicmaterials, otherindustrialmetals&amp;m...</td>\n    </tr>\n    <tr>\n      <th>993</th>\n      <td>restaurant brands international inc</td>\n      <td>toronto</td>\n      <td>on</td>\n      <td>december 15, 2014</td>\n      <td>5,700</td>\n      <td></td>\n      <td>c$22.78 billion</td>\n      <td>canada, consumerdiscretionary, restaurants, ca...</td>\n    </tr>\n    <tr>\n      <th>996</th>\n      <td>haitong securities co ltd</td>\n      <td>shanghai</td>\n      <td>china</td>\n      <td></td>\n      <td>11,282</td>\n      <td></td>\n      <td>cn115.98 billion</td>\n      <td>china, financials, capitalmarkets, chinafinanc...</td>\n    </tr>\n  </tbody>\n</table>\n<p>200 rows × 8 columns</p>\n</div>"
     },
     "execution_count": 533,
     "metadata": {},
     "output_type": "execute_result"
    }
   ],
   "source": [
    "empty_l = difference_l.loc[difference_l['ceo'] == '']\n",
    "empty_l"
   ],
   "metadata": {
    "collapsed": false,
    "pycharm": {
     "name": "#%%\n"
    }
   }
  },
  {
   "cell_type": "code",
   "execution_count": 534,
   "outputs": [
    {
     "data": {
      "text/plain": "                                               founded  employees ceo  \\\n23                                                         29,031       \n35                                                        439,787       \n51                                          march 1996    104,323       \n58                                                        373,814       \n61                                                         33,078       \n..                                                 ...        ...  ..   \n877    as chartered bank of india, australia, and c...     81,770       \n888                                                         3,280       \n891                                                        15,198       \n892                                                        27,318       \n898                                                         9,594       \n\n                               name  \n23                  kweichow moutai  \n35                             icbc  \n51                         novartis  \n58          china construction bank  \n61                             catl  \n..                              ...  \n877          standard chartered plc  \n888                     alinma bank  \n891  guotai junan securities co ltd  \n892    nippon paint holdings co ltd  \n898   mega financial holding co ltd  \n\n[140 rows x 4 columns]",
      "text/html": "<div>\n<style scoped>\n    .dataframe tbody tr th:only-of-type {\n        vertical-align: middle;\n    }\n\n    .dataframe tbody tr th {\n        vertical-align: top;\n    }\n\n    .dataframe thead th {\n        text-align: right;\n    }\n</style>\n<table border=\"1\" class=\"dataframe\">\n  <thead>\n    <tr style=\"text-align: right;\">\n      <th></th>\n      <th>founded</th>\n      <th>employees</th>\n      <th>ceo</th>\n      <th>name</th>\n    </tr>\n  </thead>\n  <tbody>\n    <tr>\n      <th>23</th>\n      <td></td>\n      <td>29,031</td>\n      <td></td>\n      <td>kweichow moutai</td>\n    </tr>\n    <tr>\n      <th>35</th>\n      <td></td>\n      <td>439,787</td>\n      <td></td>\n      <td>icbc</td>\n    </tr>\n    <tr>\n      <th>51</th>\n      <td>march 1996</td>\n      <td>104,323</td>\n      <td></td>\n      <td>novartis</td>\n    </tr>\n    <tr>\n      <th>58</th>\n      <td></td>\n      <td>373,814</td>\n      <td></td>\n      <td>china construction bank</td>\n    </tr>\n    <tr>\n      <th>61</th>\n      <td></td>\n      <td>33,078</td>\n      <td></td>\n      <td>catl</td>\n    </tr>\n    <tr>\n      <th>...</th>\n      <td>...</td>\n      <td>...</td>\n      <td>...</td>\n      <td>...</td>\n    </tr>\n    <tr>\n      <th>877</th>\n      <td>as chartered bank of india, australia, and c...</td>\n      <td>81,770</td>\n      <td></td>\n      <td>standard chartered plc</td>\n    </tr>\n    <tr>\n      <th>888</th>\n      <td></td>\n      <td>3,280</td>\n      <td></td>\n      <td>alinma bank</td>\n    </tr>\n    <tr>\n      <th>891</th>\n      <td></td>\n      <td>15,198</td>\n      <td></td>\n      <td>guotai junan securities co ltd</td>\n    </tr>\n    <tr>\n      <th>892</th>\n      <td></td>\n      <td>27,318</td>\n      <td></td>\n      <td>nippon paint holdings co ltd</td>\n    </tr>\n    <tr>\n      <th>898</th>\n      <td></td>\n      <td>9,594</td>\n      <td></td>\n      <td>mega financial holding co ltd</td>\n    </tr>\n  </tbody>\n</table>\n<p>140 rows × 4 columns</p>\n</div>"
     },
     "execution_count": 534,
     "metadata": {},
     "output_type": "execute_result"
    }
   ],
   "source": [
    "empty_r = difference_r.loc[difference_r['ceo'] == '']\n",
    "empty_r"
   ],
   "metadata": {
    "collapsed": false,
    "pycharm": {
     "name": "#%%\n"
    }
   }
  },
  {
   "cell_type": "code",
   "execution_count": 504,
   "outputs": [
    {
     "ename": "KeyError",
     "evalue": "220",
     "output_type": "error",
     "traceback": [
      "\u001B[0;31m---------------------------------------------------------------------------\u001B[0m",
      "\u001B[0;31mKeyError\u001B[0m                                  Traceback (most recent call last)",
      "File \u001B[0;32m~/opt/anaconda3/envs/Homework8/lib/python3.10/site-packages/pandas/core/indexes/base.py:3802\u001B[0m, in \u001B[0;36mIndex.get_loc\u001B[0;34m(self, key, method, tolerance)\u001B[0m\n\u001B[1;32m   3801\u001B[0m \u001B[38;5;28;01mtry\u001B[39;00m:\n\u001B[0;32m-> 3802\u001B[0m     \u001B[38;5;28;01mreturn\u001B[39;00m \u001B[38;5;28;43mself\u001B[39;49m\u001B[38;5;241;43m.\u001B[39;49m\u001B[43m_engine\u001B[49m\u001B[38;5;241;43m.\u001B[39;49m\u001B[43mget_loc\u001B[49m\u001B[43m(\u001B[49m\u001B[43mcasted_key\u001B[49m\u001B[43m)\u001B[49m\n\u001B[1;32m   3803\u001B[0m \u001B[38;5;28;01mexcept\u001B[39;00m \u001B[38;5;167;01mKeyError\u001B[39;00m \u001B[38;5;28;01mas\u001B[39;00m err:\n",
      "File \u001B[0;32m~/opt/anaconda3/envs/Homework8/lib/python3.10/site-packages/pandas/_libs/index.pyx:138\u001B[0m, in \u001B[0;36mpandas._libs.index.IndexEngine.get_loc\u001B[0;34m()\u001B[0m\n",
      "File \u001B[0;32m~/opt/anaconda3/envs/Homework8/lib/python3.10/site-packages/pandas/_libs/index.pyx:165\u001B[0m, in \u001B[0;36mpandas._libs.index.IndexEngine.get_loc\u001B[0;34m()\u001B[0m\n",
      "File \u001B[0;32mpandas/_libs/hashtable_class_helper.pxi:2263\u001B[0m, in \u001B[0;36mpandas._libs.hashtable.Int64HashTable.get_item\u001B[0;34m()\u001B[0m\n",
      "File \u001B[0;32mpandas/_libs/hashtable_class_helper.pxi:2273\u001B[0m, in \u001B[0;36mpandas._libs.hashtable.Int64HashTable.get_item\u001B[0;34m()\u001B[0m\n",
      "\u001B[0;31mKeyError\u001B[0m: 220",
      "\nThe above exception was the direct cause of the following exception:\n",
      "\u001B[0;31mKeyError\u001B[0m                                  Traceback (most recent call last)",
      "Cell \u001B[0;32mIn[504], line 1\u001B[0m\n\u001B[0;32m----> 1\u001B[0m difference_l[\u001B[38;5;124m'\u001B[39m\u001B[38;5;124mname\u001B[39m\u001B[38;5;124m'\u001B[39m][\u001B[38;5;241m220\u001B[39m] \u001B[38;5;241m==\u001B[39m \u001B[43mdifference_r\u001B[49m\u001B[43m[\u001B[49m\u001B[38;5;124;43m'\u001B[39;49m\u001B[38;5;124;43mname\u001B[39;49m\u001B[38;5;124;43m'\u001B[39;49m\u001B[43m]\u001B[49m\u001B[43m[\u001B[49m\u001B[38;5;241;43m220\u001B[39;49m\u001B[43m]\u001B[49m\n",
      "File \u001B[0;32m~/opt/anaconda3/envs/Homework8/lib/python3.10/site-packages/pandas/core/series.py:981\u001B[0m, in \u001B[0;36mSeries.__getitem__\u001B[0;34m(self, key)\u001B[0m\n\u001B[1;32m    978\u001B[0m     \u001B[38;5;28;01mreturn\u001B[39;00m \u001B[38;5;28mself\u001B[39m\u001B[38;5;241m.\u001B[39m_values[key]\n\u001B[1;32m    980\u001B[0m \u001B[38;5;28;01melif\u001B[39;00m key_is_scalar:\n\u001B[0;32m--> 981\u001B[0m     \u001B[38;5;28;01mreturn\u001B[39;00m \u001B[38;5;28;43mself\u001B[39;49m\u001B[38;5;241;43m.\u001B[39;49m\u001B[43m_get_value\u001B[49m\u001B[43m(\u001B[49m\u001B[43mkey\u001B[49m\u001B[43m)\u001B[49m\n\u001B[1;32m    983\u001B[0m \u001B[38;5;28;01mif\u001B[39;00m is_hashable(key):\n\u001B[1;32m    984\u001B[0m     \u001B[38;5;66;03m# Otherwise index.get_value will raise InvalidIndexError\u001B[39;00m\n\u001B[1;32m    985\u001B[0m     \u001B[38;5;28;01mtry\u001B[39;00m:\n\u001B[1;32m    986\u001B[0m         \u001B[38;5;66;03m# For labels that don't resolve as scalars like tuples and frozensets\u001B[39;00m\n",
      "File \u001B[0;32m~/opt/anaconda3/envs/Homework8/lib/python3.10/site-packages/pandas/core/series.py:1089\u001B[0m, in \u001B[0;36mSeries._get_value\u001B[0;34m(self, label, takeable)\u001B[0m\n\u001B[1;32m   1086\u001B[0m     \u001B[38;5;28;01mreturn\u001B[39;00m \u001B[38;5;28mself\u001B[39m\u001B[38;5;241m.\u001B[39m_values[label]\n\u001B[1;32m   1088\u001B[0m \u001B[38;5;66;03m# Similar to Index.get_value, but we do not fall back to positional\u001B[39;00m\n\u001B[0;32m-> 1089\u001B[0m loc \u001B[38;5;241m=\u001B[39m \u001B[38;5;28;43mself\u001B[39;49m\u001B[38;5;241;43m.\u001B[39;49m\u001B[43mindex\u001B[49m\u001B[38;5;241;43m.\u001B[39;49m\u001B[43mget_loc\u001B[49m\u001B[43m(\u001B[49m\u001B[43mlabel\u001B[49m\u001B[43m)\u001B[49m\n\u001B[1;32m   1090\u001B[0m \u001B[38;5;28;01mreturn\u001B[39;00m \u001B[38;5;28mself\u001B[39m\u001B[38;5;241m.\u001B[39mindex\u001B[38;5;241m.\u001B[39m_get_values_for_loc(\u001B[38;5;28mself\u001B[39m, loc, label)\n",
      "File \u001B[0;32m~/opt/anaconda3/envs/Homework8/lib/python3.10/site-packages/pandas/core/indexes/base.py:3804\u001B[0m, in \u001B[0;36mIndex.get_loc\u001B[0;34m(self, key, method, tolerance)\u001B[0m\n\u001B[1;32m   3802\u001B[0m     \u001B[38;5;28;01mreturn\u001B[39;00m \u001B[38;5;28mself\u001B[39m\u001B[38;5;241m.\u001B[39m_engine\u001B[38;5;241m.\u001B[39mget_loc(casted_key)\n\u001B[1;32m   3803\u001B[0m \u001B[38;5;28;01mexcept\u001B[39;00m \u001B[38;5;167;01mKeyError\u001B[39;00m \u001B[38;5;28;01mas\u001B[39;00m err:\n\u001B[0;32m-> 3804\u001B[0m     \u001B[38;5;28;01mraise\u001B[39;00m \u001B[38;5;167;01mKeyError\u001B[39;00m(key) \u001B[38;5;28;01mfrom\u001B[39;00m \u001B[38;5;21;01merr\u001B[39;00m\n\u001B[1;32m   3805\u001B[0m \u001B[38;5;28;01mexcept\u001B[39;00m \u001B[38;5;167;01mTypeError\u001B[39;00m:\n\u001B[1;32m   3806\u001B[0m     \u001B[38;5;66;03m# If we have a listlike key, _check_indexing_error will raise\u001B[39;00m\n\u001B[1;32m   3807\u001B[0m     \u001B[38;5;66;03m#  InvalidIndexError. Otherwise we fall through and re-raise\u001B[39;00m\n\u001B[1;32m   3808\u001B[0m     \u001B[38;5;66;03m#  the TypeError.\u001B[39;00m\n\u001B[1;32m   3809\u001B[0m     \u001B[38;5;28mself\u001B[39m\u001B[38;5;241m.\u001B[39m_check_indexing_error(key)\n",
      "\u001B[0;31mKeyError\u001B[0m: 220"
     ]
    }
   ],
   "source": [
    "difference_l['name'][220] == difference_r['name'][220]"
   ],
   "metadata": {
    "collapsed": false,
    "pycharm": {
     "name": "#%%\n"
    }
   }
  },
  {
   "cell_type": "code",
   "execution_count": 540,
   "outputs": [
    {
     "name": "stdout",
     "output_type": "stream",
     "text": [
      "WARNING:recordlinkage:indexing - performance warning - A full index can result in large number of record pairs.\n"
     ]
    }
   ],
   "source": [
    "features_empty, feature_value_empty = get_features(difference_l, difference_r, 0.95, True)\n",
    "pairs_empty = get_pairs(features_empty, feature_value_empty)"
   ],
   "metadata": {
    "collapsed": false,
    "pycharm": {
     "name": "#%%\n"
    }
   }
  },
  {
   "cell_type": "code",
   "execution_count": 541,
   "outputs": [
    {
     "data": {
      "text/plain": "0"
     },
     "execution_count": 541,
     "metadata": {},
     "output_type": "execute_result"
    }
   ],
   "source": [
    "feature_value_empty"
   ],
   "metadata": {
    "collapsed": false,
    "pycharm": {
     "name": "#%%\n"
    }
   }
  },
  {
   "cell_type": "code",
   "execution_count": 543,
   "outputs": [
    {
     "data": {
      "text/plain": "'icbc'"
     },
     "execution_count": 543,
     "metadata": {},
     "output_type": "execute_result"
    }
   ],
   "source": [
    "difference_l['name'][15]"
   ],
   "metadata": {
    "collapsed": false,
    "pycharm": {
     "name": "#%%\n"
    }
   }
  },
  {
   "cell_type": "code",
   "execution_count": 544,
   "outputs": [
    {
     "data": {
      "text/plain": "'icbc'"
     },
     "execution_count": 544,
     "metadata": {},
     "output_type": "execute_result"
    }
   ],
   "source": [
    "difference_r['name'][35]"
   ],
   "metadata": {
    "collapsed": false,
    "pycharm": {
     "name": "#%%\n"
    }
   }
  },
  {
   "cell_type": "code",
   "execution_count": 542,
   "outputs": [
    {
     "data": {
      "text/plain": "         name\n15  23    0.0\n    35    1.0\n    51    0.0\n    58    0.0\n    61    0.0\n...       ...\n999 877   0.0\n    888   0.0\n    891   0.0\n    892   0.0\n    898   0.0\n\n[46512 rows x 1 columns]",
      "text/html": "<div>\n<style scoped>\n    .dataframe tbody tr th:only-of-type {\n        vertical-align: middle;\n    }\n\n    .dataframe tbody tr th {\n        vertical-align: top;\n    }\n\n    .dataframe thead th {\n        text-align: right;\n    }\n</style>\n<table border=\"1\" class=\"dataframe\">\n  <thead>\n    <tr style=\"text-align: right;\">\n      <th></th>\n      <th></th>\n      <th>name</th>\n    </tr>\n  </thead>\n  <tbody>\n    <tr>\n      <th rowspan=\"5\" valign=\"top\">15</th>\n      <th>23</th>\n      <td>0.0</td>\n    </tr>\n    <tr>\n      <th>35</th>\n      <td>1.0</td>\n    </tr>\n    <tr>\n      <th>51</th>\n      <td>0.0</td>\n    </tr>\n    <tr>\n      <th>58</th>\n      <td>0.0</td>\n    </tr>\n    <tr>\n      <th>61</th>\n      <td>0.0</td>\n    </tr>\n    <tr>\n      <th>...</th>\n      <th>...</th>\n      <td>...</td>\n    </tr>\n    <tr>\n      <th rowspan=\"5\" valign=\"top\">999</th>\n      <th>877</th>\n      <td>0.0</td>\n    </tr>\n    <tr>\n      <th>888</th>\n      <td>0.0</td>\n    </tr>\n    <tr>\n      <th>891</th>\n      <td>0.0</td>\n    </tr>\n    <tr>\n      <th>892</th>\n      <td>0.0</td>\n    </tr>\n    <tr>\n      <th>898</th>\n      <td>0.0</td>\n    </tr>\n  </tbody>\n</table>\n<p>46512 rows × 1 columns</p>\n</div>"
     },
     "execution_count": 542,
     "metadata": {},
     "output_type": "execute_result"
    }
   ],
   "source": [
    "features_empty"
   ],
   "metadata": {
    "collapsed": false,
    "pycharm": {
     "name": "#%%\n"
    }
   }
  },
  {
   "cell_type": "code",
   "execution_count": 545,
   "outputs": [
    {
     "data": {
      "text/plain": "1.0      171\n0.0    46341\ndtype: int64"
     },
     "execution_count": 545,
     "metadata": {},
     "output_type": "execute_result"
    }
   ],
   "source": [
    "features_empty.sum(axis=1).value_counts().sort_index(ascending=False)"
   ],
   "metadata": {
    "collapsed": false,
    "pycharm": {
     "name": "#%%\n"
    }
   }
  },
  {
   "cell_type": "code",
   "execution_count": null,
   "outputs": [],
   "source": [],
   "metadata": {
    "collapsed": false,
    "pycharm": {
     "name": "#%%\n"
    }
   }
  }
 ],
 "metadata": {
  "kernelspec": {
   "display_name": "Python 3",
   "language": "python",
   "name": "python3"
  },
  "language_info": {
   "codemirror_mode": {
    "name": "ipython",
    "version": 2
   },
   "file_extension": ".py",
   "mimetype": "text/x-python",
   "name": "python",
   "nbconvert_exporter": "python",
   "pygments_lexer": "ipython2",
   "version": "2.7.6"
  }
 },
 "nbformat": 4,
 "nbformat_minor": 0
}