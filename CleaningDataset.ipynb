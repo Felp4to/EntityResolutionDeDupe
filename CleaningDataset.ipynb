{
 "cells": [
  {
   "cell_type": "markdown",
   "source": [
    "# Data Cleaning"
   ],
   "metadata": {
    "collapsed": false
   }
  },
  {
   "cell_type": "code",
   "execution_count": 1,
   "outputs": [],
   "source": [
    "import pandas as pd"
   ],
   "metadata": {
    "collapsed": false,
    "pycharm": {
     "name": "#%%\n"
    }
   }
  },
  {
   "cell_type": "code",
   "execution_count": 2,
   "metadata": {
    "collapsed": true
   },
   "outputs": [
    {
     "data": {
      "text/plain": "                                    id                     name  rank  \\\n0     1aeb78c70807445290795f145210a39e                    Apple     1   \n1     8443bd488b2543718e4dab19e7d1b371     Bristol-myers Squibb    57   \n2     d35ff63680a645f986048ab48d2fe322              Wells Fargo    56   \n3     0664af11c7b9417bab58542ffa880c0e                     Nike    55   \n4     4a67737ea89e450b8e8677a91e90327f              Walt Disney    54   \n...                                ...                      ...   ...   \n5892  b2a4630e99454705bd2d3bcb1f064c31                   Neogen  2661   \n5893  15aae81b8c624719b905f235a602664f            Pnm Resources  2660   \n5894  75c824f0a43e40f49c5b51f3581ac2ae                 Kinnevik  2659   \n5895  c453cafe72bc4bc98107d40d7e4d775c  Topgolf Callaway Brands  2658   \n5896  147a973077244b1aba54986d28c3dab6               Atlas Corp  2657   \n\n     market_cap country share_price change_1_day change_1_year  \\\n0      $2.351 T     USA     $147.81       -0.34%        -9.74%   \n1     $172.49 B     USA      $81.13        0.31%        46.42%   \n2     $175.05 B     USA      $45.94       -1.98%        -6.07%   \n3     $175.54 B     USA     $112.20        1.29%       -34.00%   \n4     $177.08 B     USA      $99.43        0.85%       -32.45%   \n...         ...     ...         ...          ...           ...   \n5892    $4.24 B     USA      $19.62        0.36%       -43.99%   \n5893    $4.24 B     USA      $49.51        0.24%         9.25%   \n5894    $4.25 B  Sweden      $15.01       -1.76%       -53.41%   \n5895    $4.25 B     USA      $23.00        1.72%        -4.80%   \n5896    $4.25 B  Canada      $15.13        0.00%         9.32%   \n\n                                             categories  \n0     [Tech, Software, Dow jones, Tech Hardware, Ele...  \n1                            [Pharmaceuticals, Biotech]  \n2                           [Banks, Financial services]  \n3         [Sports goods, Footwear, Dow jones, Clothing]  \n4                            [Entertainment, Dow jones]  \n...                                                 ...  \n5892                                                NaN  \n5893                                                NaN  \n5894                                       [Investment]  \n5895                                     [Sports goods]  \n5896                                                NaN  \n\n[5897 rows x 9 columns]",
      "text/html": "<div>\n<style scoped>\n    .dataframe tbody tr th:only-of-type {\n        vertical-align: middle;\n    }\n\n    .dataframe tbody tr th {\n        vertical-align: top;\n    }\n\n    .dataframe thead th {\n        text-align: right;\n    }\n</style>\n<table border=\"1\" class=\"dataframe\">\n  <thead>\n    <tr style=\"text-align: right;\">\n      <th></th>\n      <th>id</th>\n      <th>name</th>\n      <th>rank</th>\n      <th>market_cap</th>\n      <th>country</th>\n      <th>share_price</th>\n      <th>change_1_day</th>\n      <th>change_1_year</th>\n      <th>categories</th>\n    </tr>\n  </thead>\n  <tbody>\n    <tr>\n      <th>0</th>\n      <td>1aeb78c70807445290795f145210a39e</td>\n      <td>Apple</td>\n      <td>1</td>\n      <td>$2.351 T</td>\n      <td>USA</td>\n      <td>$147.81</td>\n      <td>-0.34%</td>\n      <td>-9.74%</td>\n      <td>[Tech, Software, Dow jones, Tech Hardware, Ele...</td>\n    </tr>\n    <tr>\n      <th>1</th>\n      <td>8443bd488b2543718e4dab19e7d1b371</td>\n      <td>Bristol-myers Squibb</td>\n      <td>57</td>\n      <td>$172.49 B</td>\n      <td>USA</td>\n      <td>$81.13</td>\n      <td>0.31%</td>\n      <td>46.42%</td>\n      <td>[Pharmaceuticals, Biotech]</td>\n    </tr>\n    <tr>\n      <th>2</th>\n      <td>d35ff63680a645f986048ab48d2fe322</td>\n      <td>Wells Fargo</td>\n      <td>56</td>\n      <td>$175.05 B</td>\n      <td>USA</td>\n      <td>$45.94</td>\n      <td>-1.98%</td>\n      <td>-6.07%</td>\n      <td>[Banks, Financial services]</td>\n    </tr>\n    <tr>\n      <th>3</th>\n      <td>0664af11c7b9417bab58542ffa880c0e</td>\n      <td>Nike</td>\n      <td>55</td>\n      <td>$175.54 B</td>\n      <td>USA</td>\n      <td>$112.20</td>\n      <td>1.29%</td>\n      <td>-34.00%</td>\n      <td>[Sports goods, Footwear, Dow jones, Clothing]</td>\n    </tr>\n    <tr>\n      <th>4</th>\n      <td>4a67737ea89e450b8e8677a91e90327f</td>\n      <td>Walt Disney</td>\n      <td>54</td>\n      <td>$177.08 B</td>\n      <td>USA</td>\n      <td>$99.43</td>\n      <td>0.85%</td>\n      <td>-32.45%</td>\n      <td>[Entertainment, Dow jones]</td>\n    </tr>\n    <tr>\n      <th>...</th>\n      <td>...</td>\n      <td>...</td>\n      <td>...</td>\n      <td>...</td>\n      <td>...</td>\n      <td>...</td>\n      <td>...</td>\n      <td>...</td>\n      <td>...</td>\n    </tr>\n    <tr>\n      <th>5892</th>\n      <td>b2a4630e99454705bd2d3bcb1f064c31</td>\n      <td>Neogen</td>\n      <td>2661</td>\n      <td>$4.24 B</td>\n      <td>USA</td>\n      <td>$19.62</td>\n      <td>0.36%</td>\n      <td>-43.99%</td>\n      <td>NaN</td>\n    </tr>\n    <tr>\n      <th>5893</th>\n      <td>15aae81b8c624719b905f235a602664f</td>\n      <td>Pnm Resources</td>\n      <td>2660</td>\n      <td>$4.24 B</td>\n      <td>USA</td>\n      <td>$49.51</td>\n      <td>0.24%</td>\n      <td>9.25%</td>\n      <td>NaN</td>\n    </tr>\n    <tr>\n      <th>5894</th>\n      <td>75c824f0a43e40f49c5b51f3581ac2ae</td>\n      <td>Kinnevik</td>\n      <td>2659</td>\n      <td>$4.25 B</td>\n      <td>Sweden</td>\n      <td>$15.01</td>\n      <td>-1.76%</td>\n      <td>-53.41%</td>\n      <td>[Investment]</td>\n    </tr>\n    <tr>\n      <th>5895</th>\n      <td>c453cafe72bc4bc98107d40d7e4d775c</td>\n      <td>Topgolf Callaway Brands</td>\n      <td>2658</td>\n      <td>$4.25 B</td>\n      <td>USA</td>\n      <td>$23.00</td>\n      <td>1.72%</td>\n      <td>-4.80%</td>\n      <td>[Sports goods]</td>\n    </tr>\n    <tr>\n      <th>5896</th>\n      <td>147a973077244b1aba54986d28c3dab6</td>\n      <td>Atlas Corp</td>\n      <td>2657</td>\n      <td>$4.25 B</td>\n      <td>Canada</td>\n      <td>$15.13</td>\n      <td>0.00%</td>\n      <td>9.32%</td>\n      <td>NaN</td>\n    </tr>\n  </tbody>\n</table>\n<p>5897 rows × 9 columns</p>\n</div>"
     },
     "execution_count": 2,
     "metadata": {},
     "output_type": "execute_result"
    }
   ],
   "source": [
    "disfold_df = pd.read_json(\"./datasets/companiesMarketCap_dataset.jsonl\", lines=True)\n",
    "disfold_df"
   ]
  },
  {
   "cell_type": "markdown",
   "source": [
    "### Drop 'id' column"
   ],
   "metadata": {
    "collapsed": false
   }
  },
  {
   "cell_type": "code",
   "execution_count": 3,
   "outputs": [],
   "source": [
    "if 'id' in disfold_df.columns:\n",
    "    disfold_df = disfold_df.drop('id', axis=1)"
   ],
   "metadata": {
    "collapsed": false,
    "pycharm": {
     "name": "#%%\n"
    }
   }
  },
  {
   "cell_type": "markdown",
   "source": [
    "### Drop empty records"
   ],
   "metadata": {
    "collapsed": false
   }
  },
  {
   "cell_type": "code",
   "execution_count": 4,
   "outputs": [],
   "source": [
    "disfold_df = disfold_df.dropna(axis=0, how='all')"
   ],
   "metadata": {
    "collapsed": false,
    "pycharm": {
     "name": "#%%\n"
    }
   }
  },
  {
   "cell_type": "markdown",
   "source": [
    "### Replace all missing values with empty string"
   ],
   "metadata": {
    "collapsed": false
   }
  },
  {
   "cell_type": "code",
   "execution_count": 5,
   "outputs": [],
   "source": [
    "disfold_df = disfold_df.fillna('')"
   ],
   "metadata": {
    "collapsed": false,
    "pycharm": {
     "name": "#%%\n"
    }
   }
  },
  {
   "cell_type": "markdown",
   "source": [
    "### Replace lists with strings"
   ],
   "metadata": {
    "collapsed": false
   }
  },
  {
   "cell_type": "code",
   "execution_count": 6,
   "outputs": [],
   "source": [
    "for i in disfold_df:\n",
    "    disfold_df[i] = [', '.join(map(str, l)) if isinstance(l, list) else l for l in disfold_df[i]]"
   ],
   "metadata": {
    "collapsed": false,
    "pycharm": {
     "name": "#%%\n"
    }
   }
  },
  {
   "cell_type": "markdown",
   "source": [
    "### Cleaning strings"
   ],
   "metadata": {
    "collapsed": false
   }
  },
  {
   "cell_type": "markdown",
   "source": [
    "1) Lowercase strings\n",
    "2) Remove 'mr' and 'ms' text inside strings\n",
    "3) Remove punctuation\n",
    "4) Trimming whitespace from text"
   ],
   "metadata": {
    "collapsed": false
   }
  },
  {
   "cell_type": "code",
   "execution_count": 7,
   "outputs": [],
   "source": [
    "for i in disfold_df:\n",
    "    if disfold_df[i].dtype == object:\n",
    "        disfold_df[i] = disfold_df[i].str.lower()\n",
    "        disfold_df[i] = disfold_df[i].str.replace('mr|ms|[^\\w\\s]', '')\n",
    "        disfold_df[i] = disfold_df[i].str.replace('\\sb$|\\sbillion$', '000000000')\n",
    "        disfold_df[i] = disfold_df[i].str.replace('^\\strillion$|^\\st$', '000000000000')\n",
    "        disfold_df[i] = disfold_df[i].str.strip()"
   ],
   "metadata": {
    "collapsed": false,
    "pycharm": {
     "name": "#%%\n"
    }
   }
  },
  {
   "cell_type": "code",
   "execution_count": 8,
   "outputs": [
    {
     "data": {
      "text/plain": "                         name  rank      market_cap country share_price  \\\n0                       apple     1          2351 t     usa       14781   \n1         bristolmyers squibb    57  17249000000000     usa        8113   \n2                 wells fargo    56  17505000000000     usa        4594   \n3                        nike    55  17554000000000     usa       11220   \n4                 walt disney    54  17708000000000     usa        9943   \n...                       ...   ...             ...     ...         ...   \n5892                   neogen  2661    424000000000     usa        1962   \n5893            pnm resources  2660    424000000000     usa        4951   \n5894                 kinnevik  2659    425000000000  sweden        1501   \n5895  topgolf callaway brands  2658    425000000000     usa        2300   \n5896               atlas corp  2657    425000000000  canada        1513   \n\n     change_1_day change_1_year  \\\n0             034           974   \n1             031          4642   \n2             198           607   \n3             129          3400   \n4             085          3245   \n...           ...           ...   \n5892          036          4399   \n5893          024           925   \n5894          176          5341   \n5895          172           480   \n5896          000           932   \n\n                                             categories  \n0     tech software dow jones tech hardware electronics  \n1                               pharmaceuticals biotech  \n2                              banks financial services  \n3              sports goods footwear dow jones clothing  \n4                               entertainment dow jones  \n...                                                 ...  \n5892                                                     \n5893                                                     \n5894                                         investment  \n5895                                       sports goods  \n5896                                                     \n\n[5897 rows x 8 columns]",
      "text/html": "<div>\n<style scoped>\n    .dataframe tbody tr th:only-of-type {\n        vertical-align: middle;\n    }\n\n    .dataframe tbody tr th {\n        vertical-align: top;\n    }\n\n    .dataframe thead th {\n        text-align: right;\n    }\n</style>\n<table border=\"1\" class=\"dataframe\">\n  <thead>\n    <tr style=\"text-align: right;\">\n      <th></th>\n      <th>name</th>\n      <th>rank</th>\n      <th>market_cap</th>\n      <th>country</th>\n      <th>share_price</th>\n      <th>change_1_day</th>\n      <th>change_1_year</th>\n      <th>categories</th>\n    </tr>\n  </thead>\n  <tbody>\n    <tr>\n      <th>0</th>\n      <td>apple</td>\n      <td>1</td>\n      <td>2351 t</td>\n      <td>usa</td>\n      <td>14781</td>\n      <td>034</td>\n      <td>974</td>\n      <td>tech software dow jones tech hardware electronics</td>\n    </tr>\n    <tr>\n      <th>1</th>\n      <td>bristolmyers squibb</td>\n      <td>57</td>\n      <td>17249000000000</td>\n      <td>usa</td>\n      <td>8113</td>\n      <td>031</td>\n      <td>4642</td>\n      <td>pharmaceuticals biotech</td>\n    </tr>\n    <tr>\n      <th>2</th>\n      <td>wells fargo</td>\n      <td>56</td>\n      <td>17505000000000</td>\n      <td>usa</td>\n      <td>4594</td>\n      <td>198</td>\n      <td>607</td>\n      <td>banks financial services</td>\n    </tr>\n    <tr>\n      <th>3</th>\n      <td>nike</td>\n      <td>55</td>\n      <td>17554000000000</td>\n      <td>usa</td>\n      <td>11220</td>\n      <td>129</td>\n      <td>3400</td>\n      <td>sports goods footwear dow jones clothing</td>\n    </tr>\n    <tr>\n      <th>4</th>\n      <td>walt disney</td>\n      <td>54</td>\n      <td>17708000000000</td>\n      <td>usa</td>\n      <td>9943</td>\n      <td>085</td>\n      <td>3245</td>\n      <td>entertainment dow jones</td>\n    </tr>\n    <tr>\n      <th>...</th>\n      <td>...</td>\n      <td>...</td>\n      <td>...</td>\n      <td>...</td>\n      <td>...</td>\n      <td>...</td>\n      <td>...</td>\n      <td>...</td>\n    </tr>\n    <tr>\n      <th>5892</th>\n      <td>neogen</td>\n      <td>2661</td>\n      <td>424000000000</td>\n      <td>usa</td>\n      <td>1962</td>\n      <td>036</td>\n      <td>4399</td>\n      <td></td>\n    </tr>\n    <tr>\n      <th>5893</th>\n      <td>pnm resources</td>\n      <td>2660</td>\n      <td>424000000000</td>\n      <td>usa</td>\n      <td>4951</td>\n      <td>024</td>\n      <td>925</td>\n      <td></td>\n    </tr>\n    <tr>\n      <th>5894</th>\n      <td>kinnevik</td>\n      <td>2659</td>\n      <td>425000000000</td>\n      <td>sweden</td>\n      <td>1501</td>\n      <td>176</td>\n      <td>5341</td>\n      <td>investment</td>\n    </tr>\n    <tr>\n      <th>5895</th>\n      <td>topgolf callaway brands</td>\n      <td>2658</td>\n      <td>425000000000</td>\n      <td>usa</td>\n      <td>2300</td>\n      <td>172</td>\n      <td>480</td>\n      <td>sports goods</td>\n    </tr>\n    <tr>\n      <th>5896</th>\n      <td>atlas corp</td>\n      <td>2657</td>\n      <td>425000000000</td>\n      <td>canada</td>\n      <td>1513</td>\n      <td>000</td>\n      <td>932</td>\n      <td></td>\n    </tr>\n  </tbody>\n</table>\n<p>5897 rows × 8 columns</p>\n</div>"
     },
     "execution_count": 8,
     "metadata": {},
     "output_type": "execute_result"
    }
   ],
   "source": [
    "disfold_df"
   ],
   "metadata": {
    "collapsed": false,
    "pycharm": {
     "name": "#%%\n"
    }
   }
  }
 ],
 "metadata": {
  "kernelspec": {
   "display_name": "Python 3",
   "language": "python",
   "name": "python3"
  },
  "language_info": {
   "codemirror_mode": {
    "name": "ipython",
    "version": 2
   },
   "file_extension": ".py",
   "mimetype": "text/x-python",
   "name": "python",
   "nbconvert_exporter": "python",
   "pygments_lexer": "ipython2",
   "version": "2.7.6"
  }
 },
 "nbformat": 4,
 "nbformat_minor": 0
}