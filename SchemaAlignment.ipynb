{
 "cells": [
  {
   "cell_type": "markdown",
   "source": [
    "# Schema Alignment"
   ],
   "metadata": {
    "collapsed": false
   }
  },
  {
   "cell_type": "code",
   "execution_count": 1,
   "id": "efb43f79",
   "metadata": {},
   "outputs": [],
   "source": [
    "import json\n",
    "import os"
   ]
  },
  {
   "cell_type": "code",
   "execution_count": 3,
   "id": "f7ac6470",
   "metadata": {},
   "outputs": [],
   "source": [
    "CLEANED_DATASETS_PATH = \"./Cleaned Datasets/\"\n",
    "MEDIATED_DATASETS_PATH = \"./Mediated Datasets/\"\n",
    "\n",
    "#list containing labels of the mediated schema\n",
    "MEDIATED_SCHEMA = [\n",
    "    \"name\", \"headquarters\", \"country\", \"continent\", \"region\", \"sub_region\", \"founded\", \"employees\", \"ceo\",\n",
    "    \"market_cap\", \"categories\", \"sector\", \"industry\", \"revenue\", \"link\", \"share_price\", \"results_for_year\",\n",
    "    \"total_equity\", \"founders\", \"market_value\", \"address\", \"type\"\n",
    "]\n",
    "\n",
    "# match attributes\n",
    "MATCHING_ATTRIBUTES = {\n",
    "    'name': 'name', 'company': 'name',\n",
    "    #\n",
    "    'country': 'country', 'headquarters_country': 'country', 'location': 'country',\n",
    "    #\n",
    "    'sector': 'sector', 'company_type': 'sector',\n",
    "    #\n",
    "    'industry': 'industry',\n",
    "    #\n",
    "    'founded': 'founded', 'founded_year': 'founded', 'ipo_year': 'founded', 'founding_year': 'founded',\n",
    "    'registration_date': 'founded', 'family_ownership': 'founded',\n",
    "    #\n",
    "    'employees': 'employees', 'number_of_employees': 'employees',\n",
    "    #\n",
    "    'ceo': 'ceo',\n",
    "    #\n",
    "    'market_capitalization_usd': 'market_cap', 'market_cap': 'market_cap', 'marketcap': 'market_cap',\n",
    "    'mastercap': 'market_cap', 'pricecap': 'market_cap', 'master_cap': 'market_cap',\n",
    "    'market_value_apr_2022': 'market_cap', 'market_capitalization_2022': 'market_cap',\n",
    "    #\n",
    "    'share_price': 'share_price',\n",
    "    #\n",
    "    'revenue': 'revenue', 'annual_revenue_in_usd': 'revenue',\n",
    "    #\n",
    "    'link': 'link', 'company_website': 'link',\n",
    "    #\n",
    "    'headquarters_continent': 'continent', 'continent': 'continent',\n",
    "    #\n",
    "    'headquarters': 'headquarters', 'head_quarters': 'headquarters',\n",
    "    #\n",
    "    'categories': 'categories', 'company_business': 'categories', 'category': 'categories',\n",
    "    #\n",
    "    'annual_results_for_year_ending': 'results_for_year',\n",
    "    #\n",
    "    'headquarters_region_city': 'region',\n",
    "    #\n",
    "    'headquarters_sub_region': 'sub_region',\n",
    "    #\n",
    "    'founders': 'founders',\n",
    "    #\n",
    "    'address': 'address', 'registered_office_address': 'address', 'office_address': 'address',\n",
    "    #\n",
    "    'public/private': 'type', 'type': 'type'\n",
    "}"
   ]
  },
  {
   "cell_type": "code",
   "execution_count": 4,
   "outputs": [],
   "source": [
    "# return json with relabeling\n",
    "def rename_and_projection_json(company):\n",
    "    r_json = {}\n",
    "    for field in company:\n",
    "        if (field in MATCHING_ATTRIBUTES) and (MATCHING_ATTRIBUTES[field] in MEDIATED_SCHEMA):\n",
    "            r_json[MATCHING_ATTRIBUTES[field]] = company[field]\n",
    "    return json.dumps(r_json)\n",
    "\n",
    "\n",
    "def rename_and_projection_file(file_name):\n",
    "    file = open(CLEANED_DATASETS_PATH + file_name, 'r', encoding=\"utf8\")\n",
    "    rp_file = open(MEDIATED_DATASETS_PATH + file_name.replace('.jsonl', '') + \"_m\" + \".jsonl\", \"w\", encoding=\"utf8\")\n",
    "    json_str = ''\n",
    "    for line in file:\n",
    "        if line != '\\n':\n",
    "            json_str += rename_and_projection_json(json.loads(line)) + '\\n'\n",
    "    print(json_str, file=rp_file)\n",
    "    rp_file.close()\n",
    "    file.close()\n",
    "\n",
    "\n",
    "# return files list\n",
    "def get_all_files(path_dir):\n",
    "    res = []\n",
    "    for path in os.listdir(path_dir):\n",
    "        if os.path.isfile(os.path.join(path_dir, path)):\n",
    "            res.append(path)\n",
    "    return res\n",
    "\n",
    "\n",
    "# find folders list\n",
    "def get_all_folders(path):\n",
    "    return os.listdir(path)\n",
    "\n",
    "\n",
    "# create folder\n",
    "def create_folder(name, path):\n",
    "    d = os.path.join(path, name)\n",
    "    if not os.path.exists(d):\n",
    "        os.mkdir(d)\n",
    "\n",
    "\n",
    "def rename_and_projection():\n",
    "    files = get_all_files(CLEANED_DATASETS_PATH)\n",
    "    for file in files:\n",
    "        if file != '.DS_Store':\n",
    "            rename_and_projection_file(file)"
   ],
   "metadata": {
    "collapsed": false,
    "pycharm": {
     "name": "#%%\n"
    }
   }
  },
  {
   "cell_type": "code",
   "execution_count": 5,
   "id": "49953fe2",
   "metadata": {
    "pycharm": {
     "name": "#%%\n"
    }
   },
   "outputs": [],
   "source": [
    "rename_and_projection()"
   ]
  }
 ],
 "metadata": {
  "kernelspec": {
   "display_name": "Python 3 (ipykernel)",
   "language": "python",
   "name": "python3"
  },
  "language_info": {
   "codemirror_mode": {
    "name": "ipython",
    "version": 3
   },
   "file_extension": ".py",
   "mimetype": "text/x-python",
   "name": "python",
   "nbconvert_exporter": "python",
   "pygments_lexer": "ipython3",
   "version": "3.9.12"
  }
 },
 "nbformat": 4,
 "nbformat_minor": 5
}