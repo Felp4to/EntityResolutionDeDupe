{
 "cells": [
  {
   "cell_type": "code",
   "execution_count": 40,
   "metadata": {
    "collapsed": true
   },
   "outputs": [],
   "source": [
    "from os import listdir\n",
    "from os.path import isfile, join\n",
    "import pandas as pd"
   ]
  },
  {
   "cell_type": "code",
   "execution_count": 41,
   "outputs": [],
   "source": [
    "def clean_dataset(dataset):\n",
    "    if 'id' in dataset.columns:\n",
    "        dataset = dataset.drop('id', axis=1)\n",
    "\n",
    "    dataset = dataset.dropna(axis=0, how='all')\n",
    "    dataset = dataset.fillna('')\n",
    "\n",
    "    for i in dataset:\n",
    "        dataset[i] = [', '.join(map(str, l)) if isinstance(l, list) else l for l in dataset[i]]\n",
    "\n",
    "    for i in dataset:\n",
    "        if dataset[i].dtype == object:\n",
    "            dataset[i] = dataset[i].str.lower()\n",
    "            dataset[i] = dataset[i].str.replace('mr|ms|[^\\w\\s]', '')\n",
    "            dataset[i] = dataset[i].str.replace('\\sb$|\\sbillion$', '000000000')\n",
    "            dataset[i] = dataset[i].str.replace('\\st$|\\strillion$', '000000000000')\n",
    "            dataset[i] = dataset[i].str.strip()\n",
    "\n",
    "    return dataset"
   ],
   "metadata": {
    "collapsed": false,
    "pycharm": {
     "name": "#%%\n"
    }
   }
  },
  {
   "cell_type": "code",
   "execution_count": 42,
   "outputs": [],
   "source": [
    "datasets = [f for f in listdir('./datasets') if isfile(join('./datasets', f))]\n",
    "dfs = {}\n",
    "for name in datasets:\n",
    "    df = None\n",
    "    if name.endswith('.jsonl'):\n",
    "        df = pd.read_json('./datasets/' + name, lines=True)\n",
    "    elif name.endswith('.json'):\n",
    "        df = pd.read_json('./datasets/' + name, )\n",
    "    else:\n",
    "        df = pd.read_csv('./datasets/' + name, )\n",
    "    df = clean_dataset(df)\n",
    "    df.to_json('./datasets_cleaned/' + name, orient='records', lines=True)"
   ],
   "metadata": {
    "collapsed": false,
    "pycharm": {
     "name": "#%%\n"
    }
   }
  }
 ],
 "metadata": {
  "kernelspec": {
   "display_name": "Python 3",
   "language": "python",
   "name": "python3"
  },
  "language_info": {
   "codemirror_mode": {
    "name": "ipython",
    "version": 2
   },
   "file_extension": ".py",
   "mimetype": "text/x-python",
   "name": "python",
   "nbconvert_exporter": "python",
   "pygments_lexer": "ipython2",
   "version": "2.7.6"
  }
 },
 "nbformat": 4,
 "nbformat_minor": 0
}