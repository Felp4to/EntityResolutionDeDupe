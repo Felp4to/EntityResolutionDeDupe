{
 "cells": [
  {
   "cell_type": "markdown",
   "source": [
    "# Record Linkage"
   ],
   "metadata": {
    "collapsed": false
   }
  },
  {
   "cell_type": "code",
   "execution_count": 1,
   "outputs": [],
   "source": [
    "import recordlinkage\n",
    "import pandas as pd\n",
    "import numpy as np"
   ],
   "metadata": {
    "collapsed": false,
    "pycharm": {
     "name": "#%%\n"
    }
   }
  },
  {
   "cell_type": "code",
   "execution_count": 2,
   "outputs": [],
   "source": [
    "PATH_DS_A = './Mediated Datasets/cbinsights_DDD_m.jsonl'\n",
    "PATH_DS_B = './Mediated Datasets/companiesMarketCap_Avengers_m.jsonl'\n",
    "THRESHOLD = 0.95"
   ],
   "metadata": {
    "collapsed": false,
    "pycharm": {
     "name": "#%%\n"
    }
   }
  },
  {
   "cell_type": "code",
   "execution_count": 3,
   "outputs": [],
   "source": [
    "def get_features(df_a, df_b):\n",
    "    # set_index\n",
    "    indexer = recordlinkage.Index()\n",
    "    indexer.full()\n",
    "    candidate_links = indexer.index(df_a, df_b)\n",
    "    # Comparison step\n",
    "    compare_cl = recordlinkage.Compare()\n",
    "    compare_cl.string(\"name\", \"name\", method=\"jarowinkler\", threshold=THRESHOLD, label=\"name\")\n",
    "    compare_cl.exact(\"country\", \"country\", label=\"country\")\n",
    "\n",
    "    return compare_cl.compute(candidate_links, df_a, df_b)\n",
    "\n",
    "\n",
    "def get_pairs(features):\n",
    "    # Classification step\n",
    "    pairs = features[features.sum(axis=1) > 1.9]\n",
    "    return pairs['name'].keys().to_list()\n",
    "\n",
    "def rename_columns(columns_a, columns_b):\n",
    "    columns_a = [c + '_a' for c in columns_a]\n",
    "    columns_b = [c + '_b' for c in columns_b]\n",
    "    columns_join = columns_a + columns_b\n",
    "    return columns_a, columns_b, columns_join"
   ],
   "metadata": {
    "collapsed": false,
    "pycharm": {
     "name": "#%%\n"
    }
   }
  },
  {
   "cell_type": "code",
   "execution_count": 4,
   "outputs": [
    {
     "data": {
      "text/plain": "        name        country                         industry founded\n0   lacework  united states                    cybersecurity    2015\n1    tipalti  united states                          fintech    2010\n2     tempus  united states                           health    2015\n3    anduril  united states          artificial intelligence    2017\n4       bolt        estonia            auto & transportation    2013\n5  bytedance          china          artificial intelligence    2012\n6    niantic  united states      mobile & telecommunications    2015\n7    oyo roo          india                           travel    2012\n8      kavak         mexico  e-commerce & direct-to-consumer    2014\n9   personio        germany     internet software & services    2015",
      "text/html": "<div>\n<style scoped>\n    .dataframe tbody tr th:only-of-type {\n        vertical-align: middle;\n    }\n\n    .dataframe tbody tr th {\n        vertical-align: top;\n    }\n\n    .dataframe thead th {\n        text-align: right;\n    }\n</style>\n<table border=\"1\" class=\"dataframe\">\n  <thead>\n    <tr style=\"text-align: right;\">\n      <th></th>\n      <th>name</th>\n      <th>country</th>\n      <th>industry</th>\n      <th>founded</th>\n    </tr>\n  </thead>\n  <tbody>\n    <tr>\n      <th>0</th>\n      <td>lacework</td>\n      <td>united states</td>\n      <td>cybersecurity</td>\n      <td>2015</td>\n    </tr>\n    <tr>\n      <th>1</th>\n      <td>tipalti</td>\n      <td>united states</td>\n      <td>fintech</td>\n      <td>2010</td>\n    </tr>\n    <tr>\n      <th>2</th>\n      <td>tempus</td>\n      <td>united states</td>\n      <td>health</td>\n      <td>2015</td>\n    </tr>\n    <tr>\n      <th>3</th>\n      <td>anduril</td>\n      <td>united states</td>\n      <td>artificial intelligence</td>\n      <td>2017</td>\n    </tr>\n    <tr>\n      <th>4</th>\n      <td>bolt</td>\n      <td>estonia</td>\n      <td>auto &amp; transportation</td>\n      <td>2013</td>\n    </tr>\n    <tr>\n      <th>5</th>\n      <td>bytedance</td>\n      <td>china</td>\n      <td>artificial intelligence</td>\n      <td>2012</td>\n    </tr>\n    <tr>\n      <th>6</th>\n      <td>niantic</td>\n      <td>united states</td>\n      <td>mobile &amp; telecommunications</td>\n      <td>2015</td>\n    </tr>\n    <tr>\n      <th>7</th>\n      <td>oyo roo</td>\n      <td>india</td>\n      <td>travel</td>\n      <td>2012</td>\n    </tr>\n    <tr>\n      <th>8</th>\n      <td>kavak</td>\n      <td>mexico</td>\n      <td>e-commerce &amp; direct-to-consumer</td>\n      <td>2014</td>\n    </tr>\n    <tr>\n      <th>9</th>\n      <td>personio</td>\n      <td>germany</td>\n      <td>internet software &amp; services</td>\n      <td>2015</td>\n    </tr>\n  </tbody>\n</table>\n</div>"
     },
     "execution_count": 4,
     "metadata": {},
     "output_type": "execute_result"
    }
   ],
   "source": [
    "df_a = pd.read_json(PATH_DS_A, encoding='utf-8', lines=True, dtype=object)\n",
    "df_a.head(10)"
   ],
   "metadata": {
    "collapsed": false,
    "pycharm": {
     "name": "#%%\n"
    }
   }
  },
  {
   "cell_type": "code",
   "execution_count": 5,
   "outputs": [
    {
     "data": {
      "text/plain": "                   name     market_cap      country share_price  \\\n0                 apple  2351000000000          usa         147   \n1  bristol-myers squibb   172490000000          usa          81   \n2           wells fargo   175050000000          usa          45   \n3                  nike   175540000000          usa         112   \n4           walt disney   177080000000          usa          99   \n5   abbott laboratories   188460000000          usa         108   \n6             accenture   189250000000      ireland         300   \n7           t-mobile us   189620000000          usa         152   \n8              novartis   194410000000  switzerland          89   \n9                toyota   199920000000        japan         146   \n\n                                          categories  \n0  tech, software, dow jones, tech hardware, elec...  \n1                           pharmaceuticals, biotech  \n2                          banks, financial services  \n3        sports goods, footwear, dow jones, clothing  \n4                           entertainment, dow jones  \n5                                    medical devices  \n6                              professional services  \n7                                  telecommunication  \n8                           pharmaceuticals, biotech  \n9                          automakers, manufacturing  ",
      "text/html": "<div>\n<style scoped>\n    .dataframe tbody tr th:only-of-type {\n        vertical-align: middle;\n    }\n\n    .dataframe tbody tr th {\n        vertical-align: top;\n    }\n\n    .dataframe thead th {\n        text-align: right;\n    }\n</style>\n<table border=\"1\" class=\"dataframe\">\n  <thead>\n    <tr style=\"text-align: right;\">\n      <th></th>\n      <th>name</th>\n      <th>market_cap</th>\n      <th>country</th>\n      <th>share_price</th>\n      <th>categories</th>\n    </tr>\n  </thead>\n  <tbody>\n    <tr>\n      <th>0</th>\n      <td>apple</td>\n      <td>2351000000000</td>\n      <td>usa</td>\n      <td>147</td>\n      <td>tech, software, dow jones, tech hardware, elec...</td>\n    </tr>\n    <tr>\n      <th>1</th>\n      <td>bristol-myers squibb</td>\n      <td>172490000000</td>\n      <td>usa</td>\n      <td>81</td>\n      <td>pharmaceuticals, biotech</td>\n    </tr>\n    <tr>\n      <th>2</th>\n      <td>wells fargo</td>\n      <td>175050000000</td>\n      <td>usa</td>\n      <td>45</td>\n      <td>banks, financial services</td>\n    </tr>\n    <tr>\n      <th>3</th>\n      <td>nike</td>\n      <td>175540000000</td>\n      <td>usa</td>\n      <td>112</td>\n      <td>sports goods, footwear, dow jones, clothing</td>\n    </tr>\n    <tr>\n      <th>4</th>\n      <td>walt disney</td>\n      <td>177080000000</td>\n      <td>usa</td>\n      <td>99</td>\n      <td>entertainment, dow jones</td>\n    </tr>\n    <tr>\n      <th>5</th>\n      <td>abbott laboratories</td>\n      <td>188460000000</td>\n      <td>usa</td>\n      <td>108</td>\n      <td>medical devices</td>\n    </tr>\n    <tr>\n      <th>6</th>\n      <td>accenture</td>\n      <td>189250000000</td>\n      <td>ireland</td>\n      <td>300</td>\n      <td>professional services</td>\n    </tr>\n    <tr>\n      <th>7</th>\n      <td>t-mobile us</td>\n      <td>189620000000</td>\n      <td>usa</td>\n      <td>152</td>\n      <td>telecommunication</td>\n    </tr>\n    <tr>\n      <th>8</th>\n      <td>novartis</td>\n      <td>194410000000</td>\n      <td>switzerland</td>\n      <td>89</td>\n      <td>pharmaceuticals, biotech</td>\n    </tr>\n    <tr>\n      <th>9</th>\n      <td>toyota</td>\n      <td>199920000000</td>\n      <td>japan</td>\n      <td>146</td>\n      <td>automakers, manufacturing</td>\n    </tr>\n  </tbody>\n</table>\n</div>"
     },
     "execution_count": 5,
     "metadata": {},
     "output_type": "execute_result"
    }
   ],
   "source": [
    "df_b = pd.read_json(PATH_DS_B, encoding='utf-8', lines=True, dtype=object)\n",
    "df_b.head(10)"
   ],
   "metadata": {
    "collapsed": false,
    "pycharm": {
     "name": "#%%\n"
    }
   }
  },
  {
   "cell_type": "code",
   "execution_count": 6,
   "outputs": [
    {
     "name": "stdout",
     "output_type": "stream",
     "text": [
      "WARNING:recordlinkage:indexing - performance warning - A full index can result in large number of record pairs.\n",
      "[(308, 5836)]\n"
     ]
    },
    {
     "data": {
      "text/plain": "        name_a      country_a               industry_a founded_a  \\\n0     lacework  united states            cybersecurity      2015   \n1      tipalti  united states                  fintech      2010   \n2       tempus  united states                   health      2015   \n3      anduril  united states  artificial intelligence      2017   \n4         bolt        estonia    auto & transportation      2013   \n...        ...            ...                      ...       ...   \n7076       NaN            NaN                      NaN       NaN   \n7077       NaN            NaN                      NaN       NaN   \n7078       NaN            NaN                      NaN       NaN   \n7079       NaN            NaN                      NaN       NaN   \n7080       NaN            NaN                      NaN       NaN   \n\n                       name_b market_cap_b country_b share_price_b  \\\n0                         NaN          NaN       NaN           NaN   \n1                         NaN          NaN       NaN           NaN   \n2                         NaN          NaN       NaN           NaN   \n3                         NaN          NaN       NaN           NaN   \n4                         NaN          NaN       NaN           NaN   \n...                       ...          ...       ...           ...   \n7076                   neogen   4240000000       usa            19   \n7077            pnm resources   4240000000       usa            49   \n7078                 kinnevik   4250000000    sweden            15   \n7079  topgolf callaway brands   4250000000       usa            23   \n7080               atlas corp   4250000000    canada            15   \n\n      categories_b  \n0              NaN  \n1              NaN  \n2              NaN  \n3              NaN  \n4              NaN  \n...            ...  \n7076                \n7077                \n7078    investment  \n7079  sports goods  \n7080                \n\n[7081 rows x 9 columns]",
      "text/html": "<div>\n<style scoped>\n    .dataframe tbody tr th:only-of-type {\n        vertical-align: middle;\n    }\n\n    .dataframe tbody tr th {\n        vertical-align: top;\n    }\n\n    .dataframe thead th {\n        text-align: right;\n    }\n</style>\n<table border=\"1\" class=\"dataframe\">\n  <thead>\n    <tr style=\"text-align: right;\">\n      <th></th>\n      <th>name_a</th>\n      <th>country_a</th>\n      <th>industry_a</th>\n      <th>founded_a</th>\n      <th>name_b</th>\n      <th>market_cap_b</th>\n      <th>country_b</th>\n      <th>share_price_b</th>\n      <th>categories_b</th>\n    </tr>\n  </thead>\n  <tbody>\n    <tr>\n      <th>0</th>\n      <td>lacework</td>\n      <td>united states</td>\n      <td>cybersecurity</td>\n      <td>2015</td>\n      <td>NaN</td>\n      <td>NaN</td>\n      <td>NaN</td>\n      <td>NaN</td>\n      <td>NaN</td>\n    </tr>\n    <tr>\n      <th>1</th>\n      <td>tipalti</td>\n      <td>united states</td>\n      <td>fintech</td>\n      <td>2010</td>\n      <td>NaN</td>\n      <td>NaN</td>\n      <td>NaN</td>\n      <td>NaN</td>\n      <td>NaN</td>\n    </tr>\n    <tr>\n      <th>2</th>\n      <td>tempus</td>\n      <td>united states</td>\n      <td>health</td>\n      <td>2015</td>\n      <td>NaN</td>\n      <td>NaN</td>\n      <td>NaN</td>\n      <td>NaN</td>\n      <td>NaN</td>\n    </tr>\n    <tr>\n      <th>3</th>\n      <td>anduril</td>\n      <td>united states</td>\n      <td>artificial intelligence</td>\n      <td>2017</td>\n      <td>NaN</td>\n      <td>NaN</td>\n      <td>NaN</td>\n      <td>NaN</td>\n      <td>NaN</td>\n    </tr>\n    <tr>\n      <th>4</th>\n      <td>bolt</td>\n      <td>estonia</td>\n      <td>auto &amp; transportation</td>\n      <td>2013</td>\n      <td>NaN</td>\n      <td>NaN</td>\n      <td>NaN</td>\n      <td>NaN</td>\n      <td>NaN</td>\n    </tr>\n    <tr>\n      <th>...</th>\n      <td>...</td>\n      <td>...</td>\n      <td>...</td>\n      <td>...</td>\n      <td>...</td>\n      <td>...</td>\n      <td>...</td>\n      <td>...</td>\n      <td>...</td>\n    </tr>\n    <tr>\n      <th>7076</th>\n      <td>NaN</td>\n      <td>NaN</td>\n      <td>NaN</td>\n      <td>NaN</td>\n      <td>neogen</td>\n      <td>4240000000</td>\n      <td>usa</td>\n      <td>19</td>\n      <td></td>\n    </tr>\n    <tr>\n      <th>7077</th>\n      <td>NaN</td>\n      <td>NaN</td>\n      <td>NaN</td>\n      <td>NaN</td>\n      <td>pnm resources</td>\n      <td>4240000000</td>\n      <td>usa</td>\n      <td>49</td>\n      <td></td>\n    </tr>\n    <tr>\n      <th>7078</th>\n      <td>NaN</td>\n      <td>NaN</td>\n      <td>NaN</td>\n      <td>NaN</td>\n      <td>kinnevik</td>\n      <td>4250000000</td>\n      <td>sweden</td>\n      <td>15</td>\n      <td>investment</td>\n    </tr>\n    <tr>\n      <th>7079</th>\n      <td>NaN</td>\n      <td>NaN</td>\n      <td>NaN</td>\n      <td>NaN</td>\n      <td>topgolf callaway brands</td>\n      <td>4250000000</td>\n      <td>usa</td>\n      <td>23</td>\n      <td>sports goods</td>\n    </tr>\n    <tr>\n      <th>7080</th>\n      <td>NaN</td>\n      <td>NaN</td>\n      <td>NaN</td>\n      <td>NaN</td>\n      <td>atlas corp</td>\n      <td>4250000000</td>\n      <td>canada</td>\n      <td>15</td>\n      <td></td>\n    </tr>\n  </tbody>\n</table>\n<p>7081 rows × 9 columns</p>\n</div>"
     },
     "execution_count": 6,
     "metadata": {},
     "output_type": "execute_result"
    }
   ],
   "source": [
    "features = get_features(df_a, df_b)\n",
    "pairs = get_pairs(features)\n",
    "print(pairs)\n",
    "\n",
    "columns_a, columns_b, columns_join = rename_columns(df_a.columns.values.tolist(), df_b.columns.values.tolist())\n",
    "\n",
    "df_a.columns = columns_a\n",
    "df_b.columns = columns_b\n",
    "for c in columns_b:\n",
    "    df_a[c] = np.nan\n",
    "\n",
    "idx_b_to_drop = []\n",
    "for p in pairs:\n",
    "    idx_a = p[0]\n",
    "    idx_b = p[1]\n",
    "    idx_b_to_drop.append(idx_b)\n",
    "    for c in df_b.columns:\n",
    "        value_b = df_b.iloc[idx_b][c]\n",
    "        df_a.loc[idx_a,c] = str(value_b)\n",
    "\n",
    "for idx in idx_b_to_drop:\n",
    "    df_b = df_b.drop(idx)\n",
    "\n",
    "joined_df = pd.concat([df_a, df_b], ignore_index=True, sort=False)\n",
    "joined_df"
   ],
   "metadata": {
    "collapsed": false,
    "pycharm": {
     "name": "#%%\n"
    }
   }
  },
  {
   "cell_type": "code",
   "execution_count": 7,
   "outputs": [
    {
     "data": {
      "text/plain": "          name  country\n308 5836   1.0        1",
      "text/html": "<div>\n<style scoped>\n    .dataframe tbody tr th:only-of-type {\n        vertical-align: middle;\n    }\n\n    .dataframe tbody tr th {\n        vertical-align: top;\n    }\n\n    .dataframe thead th {\n        text-align: right;\n    }\n</style>\n<table border=\"1\" class=\"dataframe\">\n  <thead>\n    <tr style=\"text-align: right;\">\n      <th></th>\n      <th></th>\n      <th>name</th>\n      <th>country</th>\n    </tr>\n  </thead>\n  <tbody>\n    <tr>\n      <th>308</th>\n      <th>5836</th>\n      <td>1.0</td>\n      <td>1</td>\n    </tr>\n  </tbody>\n</table>\n</div>"
     },
     "execution_count": 7,
     "metadata": {},
     "output_type": "execute_result"
    }
   ],
   "source": [
    "matches = features[features.sum(axis=1) > 1.9]\n",
    "matches"
   ],
   "metadata": {
    "collapsed": false,
    "pycharm": {
     "name": "#%%\n"
    }
   }
  },
  {
   "cell_type": "code",
   "execution_count": 8,
   "outputs": [
    {
     "data": {
      "text/plain": "2.0          1\n1.0      90933\n0.0    6897011\ndtype: int64"
     },
     "execution_count": 8,
     "metadata": {},
     "output_type": "execute_result"
    }
   ],
   "source": [
    "features.sum(axis=1).value_counts().sort_index(ascending=False)"
   ],
   "metadata": {
    "collapsed": false,
    "pycharm": {
     "name": "#%%\n"
    }
   }
  },
  {
   "cell_type": "code",
   "execution_count": 9,
   "outputs": [
    {
     "data": {
      "text/plain": "               name       country\ncount  6.987945e+06  6.987945e+06\nmean   2.146554e-06  1.301098e-02\nstd    1.465111e-03  1.133212e-01\nmin    0.000000e+00  0.000000e+00\n25%    0.000000e+00  0.000000e+00\n50%    0.000000e+00  0.000000e+00\n75%    0.000000e+00  0.000000e+00\nmax    1.000000e+00  1.000000e+00",
      "text/html": "<div>\n<style scoped>\n    .dataframe tbody tr th:only-of-type {\n        vertical-align: middle;\n    }\n\n    .dataframe tbody tr th {\n        vertical-align: top;\n    }\n\n    .dataframe thead th {\n        text-align: right;\n    }\n</style>\n<table border=\"1\" class=\"dataframe\">\n  <thead>\n    <tr style=\"text-align: right;\">\n      <th></th>\n      <th>name</th>\n      <th>country</th>\n    </tr>\n  </thead>\n  <tbody>\n    <tr>\n      <th>count</th>\n      <td>6.987945e+06</td>\n      <td>6.987945e+06</td>\n    </tr>\n    <tr>\n      <th>mean</th>\n      <td>2.146554e-06</td>\n      <td>1.301098e-02</td>\n    </tr>\n    <tr>\n      <th>std</th>\n      <td>1.465111e-03</td>\n      <td>1.133212e-01</td>\n    </tr>\n    <tr>\n      <th>min</th>\n      <td>0.000000e+00</td>\n      <td>0.000000e+00</td>\n    </tr>\n    <tr>\n      <th>25%</th>\n      <td>0.000000e+00</td>\n      <td>0.000000e+00</td>\n    </tr>\n    <tr>\n      <th>50%</th>\n      <td>0.000000e+00</td>\n      <td>0.000000e+00</td>\n    </tr>\n    <tr>\n      <th>75%</th>\n      <td>0.000000e+00</td>\n      <td>0.000000e+00</td>\n    </tr>\n    <tr>\n      <th>max</th>\n      <td>1.000000e+00</td>\n      <td>1.000000e+00</td>\n    </tr>\n  </tbody>\n</table>\n</div>"
     },
     "execution_count": 9,
     "metadata": {},
     "output_type": "execute_result"
    }
   ],
   "source": [
    "features.describe()"
   ],
   "metadata": {
    "collapsed": false,
    "pycharm": {
     "name": "#%%\n"
    }
   }
  },
  {
   "cell_type": "markdown",
   "source": [],
   "metadata": {
    "collapsed": false
   }
  }
 ],
 "metadata": {
  "kernelspec": {
   "display_name": "Python 3",
   "language": "python",
   "name": "python3"
  },
  "language_info": {
   "codemirror_mode": {
    "name": "ipython",
    "version": 2
   },
   "file_extension": ".py",
   "mimetype": "text/x-python",
   "name": "python",
   "nbconvert_exporter": "python",
   "pygments_lexer": "ipython2",
   "version": "2.7.6"
  }
 },
 "nbformat": 4,
 "nbformat_minor": 0
}