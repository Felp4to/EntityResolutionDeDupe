{
 "cells": [
  {
   "cell_type": "markdown",
   "source": [
    "# Record Linkage"
   ],
   "metadata": {
    "collapsed": false
   }
  },
  {
   "cell_type": "code",
   "execution_count": 7,
   "metadata": {
    "collapsed": true
   },
   "outputs": [],
   "source": [
    "import recordlinkage\n",
    "import pandas as pd\n",
    "import collections\n",
    "import time\n",
    "import os"
   ]
  },
  {
   "cell_type": "code",
   "execution_count": 8,
   "outputs": [],
   "source": [
    "MEDIATED_DATASETS_PATH = \"./Mediated Datasets/\""
   ],
   "metadata": {
    "collapsed": false,
    "pycharm": {
     "name": "#%%\n"
    }
   }
  },
  {
   "cell_type": "code",
   "execution_count": 9,
   "outputs": [],
   "source": [
    "def get_all_files(path_dir):\n",
    "    res = []\n",
    "    for path in os.listdir(path_dir):\n",
    "        if os.path.isfile(os.path.join(path_dir, path)) and path != '.DS_Store':\n",
    "            res.append(path)\n",
    "    return res\n",
    "\n",
    "\n",
    "def get_features(df_l, df_r, name_threshold, is_name):\n",
    "    feature_value = 0\n",
    "    columns_l = df_l.columns.values.tolist()\n",
    "    columns_r = df_r.columns.values.tolist()\n",
    "    # set_index\n",
    "    indexer = recordlinkage.Index()\n",
    "    indexer.full()\n",
    "    candidate_links = indexer.index(df_l, df_r)\n",
    "\n",
    "    # Comparison step\n",
    "    compare_cl = recordlinkage.Compare()\n",
    "    compare_cl.string(\"name\", \"name\", method=\"levenshtein\", threshold=name_threshold, label=\"name\")\n",
    "\n",
    "    if not is_name:\n",
    "        if 'ceo' in columns_l and 'ceo' in columns_r:\n",
    "            compare_cl.string(\"ceo\", \"ceo\", method=\"levenshtein\", threshold=0.85, label=\"ceo\")\n",
    "            feature_value = 1\n",
    "\n",
    "    return compare_cl.compute(candidate_links, df_l, df_r), feature_value\n",
    "\n",
    "\n",
    "def get_pairs(features, feature_value):\n",
    "    # Classification step\n",
    "    pairs = features[features.sum(axis=1) > feature_value]\n",
    "    return pairs['name'].keys().to_list()\n",
    "\n",
    "\n",
    "def rename_columns(columns_l, columns_r):\n",
    "    columns_l = [c + '_l' for c in columns_l]\n",
    "    columns_r = [c + '_r' for c in columns_r]\n",
    "    return columns_l, columns_r\n",
    "\n",
    "def remove_suffix(columns):\n",
    "    return [c[:-2] for c in columns]\n",
    "\n",
    "\n",
    "def find_duplicated_columns(columns_l, columns_r):\n",
    "    attr_cleaned = columns_l + columns_r\n",
    "    duplicates = [item for item, count in collections.Counter(attr_cleaned).items() if count > 1]\n",
    "    return duplicates\n",
    "\n",
    "\n",
    "def join(matching_dataset_left, matching_dataset_right):\n",
    "    duplicates = find_duplicated_columns(matching_dataset_left.columns.values.tolist(), matching_dataset_right.columns.values.tolist())\n",
    "\n",
    "    column_left, column_right = rename_columns(matching_dataset_left.columns.values.tolist(),\n",
    "                                           matching_dataset_right.columns.values.tolist())\n",
    "    matching_dataset_left.columns = column_left\n",
    "    matching_dataset_right.columns = column_right\n",
    "    joined_df = pd.concat([matching_dataset_left, matching_dataset_right], axis=1)\n",
    "    candidate_joined_df = joined_df.copy()\n",
    "\n",
    "    for col in duplicates:\n",
    "        candidates = joined_df[[col + '_l', col + '_r']]\n",
    "        candidate_labels = candidates.columns.values.tolist()\n",
    "        #display(candidates.sample(10))\n",
    "        # time.sleep(1)\n",
    "        #idx_drop = int(input(\"Inserisci l'indice (0 o 1) della colonna che vuoi scartare nel dataset finale: \"))\n",
    "        joined_df.drop(candidate_labels[0], axis=1, inplace=True)\n",
    "\n",
    "    joined_df.columns = [col[:-2] for col in joined_df.columns.values.tolist()]\n",
    "    return joined_df, candidate_joined_df"
   ],
   "metadata": {
    "collapsed": false,
    "pycharm": {
     "name": "#%%\n"
    }
   }
  },
  {
   "cell_type": "code",
   "execution_count": 10,
   "outputs": [
    {
     "name": "stdout",
     "output_type": "stream",
     "text": [
      "WARNING:recordlinkage:indexing - performance warning - A full index can result in large number of record pairs.\n"
     ]
    },
    {
     "data": {
      "text/plain": "                                   name                  headquarters  \\\n0                     johnson & johnson  newbrunswick,nj,unitedstates   \n1                        morgan stanley       newyork,ny,unitedstates   \n2                                sanofi                  paris,france   \n3                        conocophillips       houston,tx,unitedstates   \n4    petroleo brasileiro sa - petrobras        riodejaneiro,rj,brazil   \n..                                  ...                           ...   \n680           capitec bank holdings ltd      stellenbosch,southafrica   \n681            asahi group holdings ltd                   tokyo,japan   \n682                        catalent inc      somerset,nj,unitedstates   \n683                 quanta services inc       houston,tx,unitedstates   \n684                        ubiquiti inc       newyork,ny,unitedstates   \n\n           country continent region sub_region          founded employees  \\\n0    united states                                 january 1886   141,700   \n1    united states                                         1935    75,000   \n2           france                                         1973    95,442   \n3    united states                               30 august 2002     9,900   \n4           brazil                               3 october 1953    46,416   \n..             ...       ...    ...        ...              ...       ...   \n680   south africa                                                 14,789   \n681          japan                                                 30,020   \n682  united states                                         2007    17,300   \n683  united states                                         1997    43,700   \n684  united states                                 october 2003     1,223   \n\n                                                   ceo    market_cap  ...  \\\n0                                        joaquin duato  475930000000  ...   \n1                                 james patrick gorman  164050000000  ...   \n2                                          paul hudson  132289999999  ...   \n3                                         ryan m lance  136320000000  ...   \n4                                 joaquim silva e luna   98370000000  ...   \n..                                                 ...           ...  ...   \n680  gerhardus metselaar fourie bcom mba bcomm hons...   18210000000  ...   \n681                                    atsushi katsuki   18210000000  ...   \n682                                   john r chiminski   18240000000  ...   \n683                                   earl c austin jr   18250000000  ...   \n684                                      robert j pera   18250000000  ...   \n\n                                  industry revenue link share_price  \\\n0                drug manufacturersgeneral                            \n1                          capital markets                            \n2                drug manufacturersgeneral                            \n3                            oil & gas e&p                            \n4                     oil & gas integrated                            \n..                                     ...     ...  ...         ...   \n680                                  banks                            \n681                       beveragesbrewers                            \n682  drug manufacturersspecialty & generic                            \n683             engineering & construction                            \n684                communication equipment                            \n\n    results_for_year total_equity founders market_value address type  \n0                                                                     \n1                                                                     \n2                                                                     \n3                                                                     \n4                                                                     \n..               ...          ...      ...          ...     ...  ...  \n680                                                                   \n681                                                                   \n682                                                                   \n683                                                                   \n684                                                                   \n\n[685 rows x 22 columns]",
      "text/html": "<div>\n<style scoped>\n    .dataframe tbody tr th:only-of-type {\n        vertical-align: middle;\n    }\n\n    .dataframe tbody tr th {\n        vertical-align: top;\n    }\n\n    .dataframe thead th {\n        text-align: right;\n    }\n</style>\n<table border=\"1\" class=\"dataframe\">\n  <thead>\n    <tr style=\"text-align: right;\">\n      <th></th>\n      <th>name</th>\n      <th>headquarters</th>\n      <th>country</th>\n      <th>continent</th>\n      <th>region</th>\n      <th>sub_region</th>\n      <th>founded</th>\n      <th>employees</th>\n      <th>ceo</th>\n      <th>market_cap</th>\n      <th>...</th>\n      <th>industry</th>\n      <th>revenue</th>\n      <th>link</th>\n      <th>share_price</th>\n      <th>results_for_year</th>\n      <th>total_equity</th>\n      <th>founders</th>\n      <th>market_value</th>\n      <th>address</th>\n      <th>type</th>\n    </tr>\n  </thead>\n  <tbody>\n    <tr>\n      <th>0</th>\n      <td>johnson &amp; johnson</td>\n      <td>newbrunswick,nj,unitedstates</td>\n      <td>united states</td>\n      <td></td>\n      <td></td>\n      <td></td>\n      <td>january 1886</td>\n      <td>141,700</td>\n      <td>joaquin duato</td>\n      <td>475930000000</td>\n      <td>...</td>\n      <td>drug manufacturersgeneral</td>\n      <td></td>\n      <td></td>\n      <td></td>\n      <td></td>\n      <td></td>\n      <td></td>\n      <td></td>\n      <td></td>\n      <td></td>\n    </tr>\n    <tr>\n      <th>1</th>\n      <td>morgan stanley</td>\n      <td>newyork,ny,unitedstates</td>\n      <td>united states</td>\n      <td></td>\n      <td></td>\n      <td></td>\n      <td>1935</td>\n      <td>75,000</td>\n      <td>james patrick gorman</td>\n      <td>164050000000</td>\n      <td>...</td>\n      <td>capital markets</td>\n      <td></td>\n      <td></td>\n      <td></td>\n      <td></td>\n      <td></td>\n      <td></td>\n      <td></td>\n      <td></td>\n      <td></td>\n    </tr>\n    <tr>\n      <th>2</th>\n      <td>sanofi</td>\n      <td>paris,france</td>\n      <td>france</td>\n      <td></td>\n      <td></td>\n      <td></td>\n      <td>1973</td>\n      <td>95,442</td>\n      <td>paul hudson</td>\n      <td>132289999999</td>\n      <td>...</td>\n      <td>drug manufacturersgeneral</td>\n      <td></td>\n      <td></td>\n      <td></td>\n      <td></td>\n      <td></td>\n      <td></td>\n      <td></td>\n      <td></td>\n      <td></td>\n    </tr>\n    <tr>\n      <th>3</th>\n      <td>conocophillips</td>\n      <td>houston,tx,unitedstates</td>\n      <td>united states</td>\n      <td></td>\n      <td></td>\n      <td></td>\n      <td>30 august 2002</td>\n      <td>9,900</td>\n      <td>ryan m lance</td>\n      <td>136320000000</td>\n      <td>...</td>\n      <td>oil &amp; gas e&amp;p</td>\n      <td></td>\n      <td></td>\n      <td></td>\n      <td></td>\n      <td></td>\n      <td></td>\n      <td></td>\n      <td></td>\n      <td></td>\n    </tr>\n    <tr>\n      <th>4</th>\n      <td>petroleo brasileiro sa - petrobras</td>\n      <td>riodejaneiro,rj,brazil</td>\n      <td>brazil</td>\n      <td></td>\n      <td></td>\n      <td></td>\n      <td>3 october 1953</td>\n      <td>46,416</td>\n      <td>joaquim silva e luna</td>\n      <td>98370000000</td>\n      <td>...</td>\n      <td>oil &amp; gas integrated</td>\n      <td></td>\n      <td></td>\n      <td></td>\n      <td></td>\n      <td></td>\n      <td></td>\n      <td></td>\n      <td></td>\n      <td></td>\n    </tr>\n    <tr>\n      <th>...</th>\n      <td>...</td>\n      <td>...</td>\n      <td>...</td>\n      <td>...</td>\n      <td>...</td>\n      <td>...</td>\n      <td>...</td>\n      <td>...</td>\n      <td>...</td>\n      <td>...</td>\n      <td>...</td>\n      <td>...</td>\n      <td>...</td>\n      <td>...</td>\n      <td>...</td>\n      <td>...</td>\n      <td>...</td>\n      <td>...</td>\n      <td>...</td>\n      <td>...</td>\n      <td>...</td>\n    </tr>\n    <tr>\n      <th>680</th>\n      <td>capitec bank holdings ltd</td>\n      <td>stellenbosch,southafrica</td>\n      <td>south africa</td>\n      <td></td>\n      <td></td>\n      <td></td>\n      <td></td>\n      <td>14,789</td>\n      <td>gerhardus metselaar fourie bcom mba bcomm hons...</td>\n      <td>18210000000</td>\n      <td>...</td>\n      <td>banks</td>\n      <td></td>\n      <td></td>\n      <td></td>\n      <td></td>\n      <td></td>\n      <td></td>\n      <td></td>\n      <td></td>\n      <td></td>\n    </tr>\n    <tr>\n      <th>681</th>\n      <td>asahi group holdings ltd</td>\n      <td>tokyo,japan</td>\n      <td>japan</td>\n      <td></td>\n      <td></td>\n      <td></td>\n      <td></td>\n      <td>30,020</td>\n      <td>atsushi katsuki</td>\n      <td>18210000000</td>\n      <td>...</td>\n      <td>beveragesbrewers</td>\n      <td></td>\n      <td></td>\n      <td></td>\n      <td></td>\n      <td></td>\n      <td></td>\n      <td></td>\n      <td></td>\n      <td></td>\n    </tr>\n    <tr>\n      <th>682</th>\n      <td>catalent inc</td>\n      <td>somerset,nj,unitedstates</td>\n      <td>united states</td>\n      <td></td>\n      <td></td>\n      <td></td>\n      <td>2007</td>\n      <td>17,300</td>\n      <td>john r chiminski</td>\n      <td>18240000000</td>\n      <td>...</td>\n      <td>drug manufacturersspecialty &amp; generic</td>\n      <td></td>\n      <td></td>\n      <td></td>\n      <td></td>\n      <td></td>\n      <td></td>\n      <td></td>\n      <td></td>\n      <td></td>\n    </tr>\n    <tr>\n      <th>683</th>\n      <td>quanta services inc</td>\n      <td>houston,tx,unitedstates</td>\n      <td>united states</td>\n      <td></td>\n      <td></td>\n      <td></td>\n      <td>1997</td>\n      <td>43,700</td>\n      <td>earl c austin jr</td>\n      <td>18250000000</td>\n      <td>...</td>\n      <td>engineering &amp; construction</td>\n      <td></td>\n      <td></td>\n      <td></td>\n      <td></td>\n      <td></td>\n      <td></td>\n      <td></td>\n      <td></td>\n      <td></td>\n    </tr>\n    <tr>\n      <th>684</th>\n      <td>ubiquiti inc</td>\n      <td>newyork,ny,unitedstates</td>\n      <td>united states</td>\n      <td></td>\n      <td></td>\n      <td></td>\n      <td>october 2003</td>\n      <td>1,223</td>\n      <td>robert j pera</td>\n      <td>18250000000</td>\n      <td>...</td>\n      <td>communication equipment</td>\n      <td></td>\n      <td></td>\n      <td></td>\n      <td></td>\n      <td></td>\n      <td></td>\n      <td></td>\n      <td></td>\n      <td></td>\n    </tr>\n  </tbody>\n</table>\n<p>685 rows × 22 columns</p>\n</div>"
     },
     "metadata": {},
     "output_type": "display_data"
    },
    {
     "name": "stdout",
     "output_type": "stream",
     "text": [
      "WARNING:recordlinkage:indexing - performance warning - A full index can result in large number of record pairs.\n"
     ]
    },
    {
     "data": {
      "text/plain": "                                     name            headquarters  \\\n0    china life insurance company limited           beijing,china   \n1       nippon telegraph & telephone corp             tokyo,japan   \n2    al rajhi banking and investment corp      riyadh,saudiarabia   \n3                                 vale sa  riodejaneiro,rj,brazil   \n4              anheuser-busch inbev sa/nv          leuven,belgium   \n..                                    ...                     ...   \n183            astra international tbk pt       jakarta,indonesia   \n184                              nice ltd         raaanana,israel   \n185         zhejiang huayou cobalt co ltd         tongxiang,china   \n186   restaurant brands international inc       toronto,on,canada   \n187             haitong securities co ltd          shanghai,china   \n\n          country continent region sub_region             founded employees  \\\n0           china                                            1949   104,160   \n1           japan                                                   324,667   \n2    saudi arabia                                                    15,078   \n3          brazil                                                             \n4         belgium                                                   169,339   \n..            ...       ...    ...        ...                 ...       ...   \n183     indonesia                                                   123,894   \n184        israel                                            1986     6,800   \n185         china                                                     8,079   \n186        canada                               december 15, 2014     5,700   \n187         china                                                    11,282   \n\n            ceo    market_cap  ...                          industry revenue  \\\n0                 97310000000  ...                     insurancelife           \n1    jun sawada  103750000000  ...                  telecom services           \n2                106370000000  ...                             banks           \n3                107990000000  ...  other industrial metals & mining           \n4                123590000000  ...                  beveragesbrewers           \n..          ...           ...  ...                               ...     ...   \n183               18900000000  ...                        auto parts           \n184               19120000000  ...               softwareapplication           \n185               19200000000  ...  other industrial metals & mining           \n186               18190000000  ...                       restaurants           \n187               18230000000  ...                   capital markets           \n\n    link share_price results_for_year total_equity founders market_value  \\\n0                                                                          \n1                                                                          \n2                                                                          \n3                                                                          \n4                                                                          \n..   ...         ...              ...          ...      ...          ...   \n183                                                                        \n184                                                                        \n185                                                                        \n186                                                                        \n187                                                                        \n\n    address type  \n0                 \n1                 \n2                 \n3                 \n4                 \n..      ...  ...  \n183               \n184               \n185               \n186               \n187               \n\n[188 rows x 22 columns]",
      "text/html": "<div>\n<style scoped>\n    .dataframe tbody tr th:only-of-type {\n        vertical-align: middle;\n    }\n\n    .dataframe tbody tr th {\n        vertical-align: top;\n    }\n\n    .dataframe thead th {\n        text-align: right;\n    }\n</style>\n<table border=\"1\" class=\"dataframe\">\n  <thead>\n    <tr style=\"text-align: right;\">\n      <th></th>\n      <th>name</th>\n      <th>headquarters</th>\n      <th>country</th>\n      <th>continent</th>\n      <th>region</th>\n      <th>sub_region</th>\n      <th>founded</th>\n      <th>employees</th>\n      <th>ceo</th>\n      <th>market_cap</th>\n      <th>...</th>\n      <th>industry</th>\n      <th>revenue</th>\n      <th>link</th>\n      <th>share_price</th>\n      <th>results_for_year</th>\n      <th>total_equity</th>\n      <th>founders</th>\n      <th>market_value</th>\n      <th>address</th>\n      <th>type</th>\n    </tr>\n  </thead>\n  <tbody>\n    <tr>\n      <th>0</th>\n      <td>china life insurance company limited</td>\n      <td>beijing,china</td>\n      <td>china</td>\n      <td></td>\n      <td></td>\n      <td></td>\n      <td>1949</td>\n      <td>104,160</td>\n      <td></td>\n      <td>97310000000</td>\n      <td>...</td>\n      <td>insurancelife</td>\n      <td></td>\n      <td></td>\n      <td></td>\n      <td></td>\n      <td></td>\n      <td></td>\n      <td></td>\n      <td></td>\n      <td></td>\n    </tr>\n    <tr>\n      <th>1</th>\n      <td>nippon telegraph &amp; telephone corp</td>\n      <td>tokyo,japan</td>\n      <td>japan</td>\n      <td></td>\n      <td></td>\n      <td></td>\n      <td></td>\n      <td>324,667</td>\n      <td>jun sawada</td>\n      <td>103750000000</td>\n      <td>...</td>\n      <td>telecom services</td>\n      <td></td>\n      <td></td>\n      <td></td>\n      <td></td>\n      <td></td>\n      <td></td>\n      <td></td>\n      <td></td>\n      <td></td>\n    </tr>\n    <tr>\n      <th>2</th>\n      <td>al rajhi banking and investment corp</td>\n      <td>riyadh,saudiarabia</td>\n      <td>saudi arabia</td>\n      <td></td>\n      <td></td>\n      <td></td>\n      <td></td>\n      <td>15,078</td>\n      <td></td>\n      <td>106370000000</td>\n      <td>...</td>\n      <td>banks</td>\n      <td></td>\n      <td></td>\n      <td></td>\n      <td></td>\n      <td></td>\n      <td></td>\n      <td></td>\n      <td></td>\n      <td></td>\n    </tr>\n    <tr>\n      <th>3</th>\n      <td>vale sa</td>\n      <td>riodejaneiro,rj,brazil</td>\n      <td>brazil</td>\n      <td></td>\n      <td></td>\n      <td></td>\n      <td></td>\n      <td></td>\n      <td></td>\n      <td>107990000000</td>\n      <td>...</td>\n      <td>other industrial metals &amp; mining</td>\n      <td></td>\n      <td></td>\n      <td></td>\n      <td></td>\n      <td></td>\n      <td></td>\n      <td></td>\n      <td></td>\n      <td></td>\n    </tr>\n    <tr>\n      <th>4</th>\n      <td>anheuser-busch inbev sa/nv</td>\n      <td>leuven,belgium</td>\n      <td>belgium</td>\n      <td></td>\n      <td></td>\n      <td></td>\n      <td></td>\n      <td>169,339</td>\n      <td></td>\n      <td>123590000000</td>\n      <td>...</td>\n      <td>beveragesbrewers</td>\n      <td></td>\n      <td></td>\n      <td></td>\n      <td></td>\n      <td></td>\n      <td></td>\n      <td></td>\n      <td></td>\n      <td></td>\n    </tr>\n    <tr>\n      <th>...</th>\n      <td>...</td>\n      <td>...</td>\n      <td>...</td>\n      <td>...</td>\n      <td>...</td>\n      <td>...</td>\n      <td>...</td>\n      <td>...</td>\n      <td>...</td>\n      <td>...</td>\n      <td>...</td>\n      <td>...</td>\n      <td>...</td>\n      <td>...</td>\n      <td>...</td>\n      <td>...</td>\n      <td>...</td>\n      <td>...</td>\n      <td>...</td>\n      <td>...</td>\n      <td>...</td>\n    </tr>\n    <tr>\n      <th>183</th>\n      <td>astra international tbk pt</td>\n      <td>jakarta,indonesia</td>\n      <td>indonesia</td>\n      <td></td>\n      <td></td>\n      <td></td>\n      <td></td>\n      <td>123,894</td>\n      <td></td>\n      <td>18900000000</td>\n      <td>...</td>\n      <td>auto parts</td>\n      <td></td>\n      <td></td>\n      <td></td>\n      <td></td>\n      <td></td>\n      <td></td>\n      <td></td>\n      <td></td>\n      <td></td>\n    </tr>\n    <tr>\n      <th>184</th>\n      <td>nice ltd</td>\n      <td>raaanana,israel</td>\n      <td>israel</td>\n      <td></td>\n      <td></td>\n      <td></td>\n      <td>1986</td>\n      <td>6,800</td>\n      <td></td>\n      <td>19120000000</td>\n      <td>...</td>\n      <td>softwareapplication</td>\n      <td></td>\n      <td></td>\n      <td></td>\n      <td></td>\n      <td></td>\n      <td></td>\n      <td></td>\n      <td></td>\n      <td></td>\n    </tr>\n    <tr>\n      <th>185</th>\n      <td>zhejiang huayou cobalt co ltd</td>\n      <td>tongxiang,china</td>\n      <td>china</td>\n      <td></td>\n      <td></td>\n      <td></td>\n      <td></td>\n      <td>8,079</td>\n      <td></td>\n      <td>19200000000</td>\n      <td>...</td>\n      <td>other industrial metals &amp; mining</td>\n      <td></td>\n      <td></td>\n      <td></td>\n      <td></td>\n      <td></td>\n      <td></td>\n      <td></td>\n      <td></td>\n      <td></td>\n    </tr>\n    <tr>\n      <th>186</th>\n      <td>restaurant brands international inc</td>\n      <td>toronto,on,canada</td>\n      <td>canada</td>\n      <td></td>\n      <td></td>\n      <td></td>\n      <td>december 15, 2014</td>\n      <td>5,700</td>\n      <td></td>\n      <td>18190000000</td>\n      <td>...</td>\n      <td>restaurants</td>\n      <td></td>\n      <td></td>\n      <td></td>\n      <td></td>\n      <td></td>\n      <td></td>\n      <td></td>\n      <td></td>\n      <td></td>\n    </tr>\n    <tr>\n      <th>187</th>\n      <td>haitong securities co ltd</td>\n      <td>shanghai,china</td>\n      <td>china</td>\n      <td></td>\n      <td></td>\n      <td></td>\n      <td></td>\n      <td>11,282</td>\n      <td></td>\n      <td>18230000000</td>\n      <td>...</td>\n      <td>capital markets</td>\n      <td></td>\n      <td></td>\n      <td></td>\n      <td></td>\n      <td></td>\n      <td></td>\n      <td></td>\n      <td></td>\n      <td></td>\n    </tr>\n  </tbody>\n</table>\n<p>188 rows × 22 columns</p>\n</div>"
     },
     "metadata": {},
     "output_type": "display_data"
    },
    {
     "data": {
      "text/plain": "                                    name                  headquarters  \\\n0                      johnson & johnson  newbrunswick,nj,unitedstates   \n1                         morgan stanley       newyork,ny,unitedstates   \n2                                 sanofi                  paris,france   \n3                         conocophillips       houston,tx,unitedstates   \n4     petroleo brasileiro sa - petrobras        riodejaneiro,rj,brazil   \n..                                   ...                           ...   \n183           astra international tbk pt             jakarta,indonesia   \n184                             nice ltd               raaanana,israel   \n185        zhejiang huayou cobalt co ltd               tongxiang,china   \n186  restaurant brands international inc             toronto,on,canada   \n187            haitong securities co ltd                shanghai,china   \n\n           country continent region sub_region             founded employees  \\\n0    united states                                    january 1886   141,700   \n1    united states                                            1935    75,000   \n2           france                                            1973    95,442   \n3    united states                                  30 august 2002     9,900   \n4           brazil                                  3 october 1953    46,416   \n..             ...       ...    ...        ...                 ...       ...   \n183      indonesia                                                   123,894   \n184         israel                                            1986     6,800   \n185          china                                                     8,079   \n186         canada                               december 15, 2014     5,700   \n187          china                                                    11,282   \n\n                      ceo    market_cap  ...  \\\n0           joaquin duato  475930000000  ...   \n1    james patrick gorman  164050000000  ...   \n2             paul hudson  132289999999  ...   \n3            ryan m lance  136320000000  ...   \n4    joaquim silva e luna   98370000000  ...   \n..                    ...           ...  ...   \n183                         18900000000  ...   \n184                         19120000000  ...   \n185                         19200000000  ...   \n186                         18190000000  ...   \n187                         18230000000  ...   \n\n                             industry revenue link share_price  \\\n0           drug manufacturersgeneral                            \n1                     capital markets                            \n2           drug manufacturersgeneral                            \n3                       oil & gas e&p                            \n4                oil & gas integrated                            \n..                                ...     ...  ...         ...   \n183                        auto parts                            \n184               softwareapplication                            \n185  other industrial metals & mining                            \n186                       restaurants                            \n187                   capital markets                            \n\n    results_for_year total_equity founders market_value address type  \n0                                                                     \n1                                                                     \n2                                                                     \n3                                                                     \n4                                                                     \n..               ...          ...      ...          ...     ...  ...  \n183                                                                   \n184                                                                   \n185                                                                   \n186                                                                   \n187                                                                   \n\n[873 rows x 22 columns]",
      "text/html": "<div>\n<style scoped>\n    .dataframe tbody tr th:only-of-type {\n        vertical-align: middle;\n    }\n\n    .dataframe tbody tr th {\n        vertical-align: top;\n    }\n\n    .dataframe thead th {\n        text-align: right;\n    }\n</style>\n<table border=\"1\" class=\"dataframe\">\n  <thead>\n    <tr style=\"text-align: right;\">\n      <th></th>\n      <th>name</th>\n      <th>headquarters</th>\n      <th>country</th>\n      <th>continent</th>\n      <th>region</th>\n      <th>sub_region</th>\n      <th>founded</th>\n      <th>employees</th>\n      <th>ceo</th>\n      <th>market_cap</th>\n      <th>...</th>\n      <th>industry</th>\n      <th>revenue</th>\n      <th>link</th>\n      <th>share_price</th>\n      <th>results_for_year</th>\n      <th>total_equity</th>\n      <th>founders</th>\n      <th>market_value</th>\n      <th>address</th>\n      <th>type</th>\n    </tr>\n  </thead>\n  <tbody>\n    <tr>\n      <th>0</th>\n      <td>johnson &amp; johnson</td>\n      <td>newbrunswick,nj,unitedstates</td>\n      <td>united states</td>\n      <td></td>\n      <td></td>\n      <td></td>\n      <td>january 1886</td>\n      <td>141,700</td>\n      <td>joaquin duato</td>\n      <td>475930000000</td>\n      <td>...</td>\n      <td>drug manufacturersgeneral</td>\n      <td></td>\n      <td></td>\n      <td></td>\n      <td></td>\n      <td></td>\n      <td></td>\n      <td></td>\n      <td></td>\n      <td></td>\n    </tr>\n    <tr>\n      <th>1</th>\n      <td>morgan stanley</td>\n      <td>newyork,ny,unitedstates</td>\n      <td>united states</td>\n      <td></td>\n      <td></td>\n      <td></td>\n      <td>1935</td>\n      <td>75,000</td>\n      <td>james patrick gorman</td>\n      <td>164050000000</td>\n      <td>...</td>\n      <td>capital markets</td>\n      <td></td>\n      <td></td>\n      <td></td>\n      <td></td>\n      <td></td>\n      <td></td>\n      <td></td>\n      <td></td>\n      <td></td>\n    </tr>\n    <tr>\n      <th>2</th>\n      <td>sanofi</td>\n      <td>paris,france</td>\n      <td>france</td>\n      <td></td>\n      <td></td>\n      <td></td>\n      <td>1973</td>\n      <td>95,442</td>\n      <td>paul hudson</td>\n      <td>132289999999</td>\n      <td>...</td>\n      <td>drug manufacturersgeneral</td>\n      <td></td>\n      <td></td>\n      <td></td>\n      <td></td>\n      <td></td>\n      <td></td>\n      <td></td>\n      <td></td>\n      <td></td>\n    </tr>\n    <tr>\n      <th>3</th>\n      <td>conocophillips</td>\n      <td>houston,tx,unitedstates</td>\n      <td>united states</td>\n      <td></td>\n      <td></td>\n      <td></td>\n      <td>30 august 2002</td>\n      <td>9,900</td>\n      <td>ryan m lance</td>\n      <td>136320000000</td>\n      <td>...</td>\n      <td>oil &amp; gas e&amp;p</td>\n      <td></td>\n      <td></td>\n      <td></td>\n      <td></td>\n      <td></td>\n      <td></td>\n      <td></td>\n      <td></td>\n      <td></td>\n    </tr>\n    <tr>\n      <th>4</th>\n      <td>petroleo brasileiro sa - petrobras</td>\n      <td>riodejaneiro,rj,brazil</td>\n      <td>brazil</td>\n      <td></td>\n      <td></td>\n      <td></td>\n      <td>3 october 1953</td>\n      <td>46,416</td>\n      <td>joaquim silva e luna</td>\n      <td>98370000000</td>\n      <td>...</td>\n      <td>oil &amp; gas integrated</td>\n      <td></td>\n      <td></td>\n      <td></td>\n      <td></td>\n      <td></td>\n      <td></td>\n      <td></td>\n      <td></td>\n      <td></td>\n    </tr>\n    <tr>\n      <th>...</th>\n      <td>...</td>\n      <td>...</td>\n      <td>...</td>\n      <td>...</td>\n      <td>...</td>\n      <td>...</td>\n      <td>...</td>\n      <td>...</td>\n      <td>...</td>\n      <td>...</td>\n      <td>...</td>\n      <td>...</td>\n      <td>...</td>\n      <td>...</td>\n      <td>...</td>\n      <td>...</td>\n      <td>...</td>\n      <td>...</td>\n      <td>...</td>\n      <td>...</td>\n      <td>...</td>\n    </tr>\n    <tr>\n      <th>183</th>\n      <td>astra international tbk pt</td>\n      <td>jakarta,indonesia</td>\n      <td>indonesia</td>\n      <td></td>\n      <td></td>\n      <td></td>\n      <td></td>\n      <td>123,894</td>\n      <td></td>\n      <td>18900000000</td>\n      <td>...</td>\n      <td>auto parts</td>\n      <td></td>\n      <td></td>\n      <td></td>\n      <td></td>\n      <td></td>\n      <td></td>\n      <td></td>\n      <td></td>\n      <td></td>\n    </tr>\n    <tr>\n      <th>184</th>\n      <td>nice ltd</td>\n      <td>raaanana,israel</td>\n      <td>israel</td>\n      <td></td>\n      <td></td>\n      <td></td>\n      <td>1986</td>\n      <td>6,800</td>\n      <td></td>\n      <td>19120000000</td>\n      <td>...</td>\n      <td>softwareapplication</td>\n      <td></td>\n      <td></td>\n      <td></td>\n      <td></td>\n      <td></td>\n      <td></td>\n      <td></td>\n      <td></td>\n      <td></td>\n    </tr>\n    <tr>\n      <th>185</th>\n      <td>zhejiang huayou cobalt co ltd</td>\n      <td>tongxiang,china</td>\n      <td>china</td>\n      <td></td>\n      <td></td>\n      <td></td>\n      <td></td>\n      <td>8,079</td>\n      <td></td>\n      <td>19200000000</td>\n      <td>...</td>\n      <td>other industrial metals &amp; mining</td>\n      <td></td>\n      <td></td>\n      <td></td>\n      <td></td>\n      <td></td>\n      <td></td>\n      <td></td>\n      <td></td>\n      <td></td>\n    </tr>\n    <tr>\n      <th>186</th>\n      <td>restaurant brands international inc</td>\n      <td>toronto,on,canada</td>\n      <td>canada</td>\n      <td></td>\n      <td></td>\n      <td></td>\n      <td>december 15, 2014</td>\n      <td>5,700</td>\n      <td></td>\n      <td>18190000000</td>\n      <td>...</td>\n      <td>restaurants</td>\n      <td></td>\n      <td></td>\n      <td></td>\n      <td></td>\n      <td></td>\n      <td></td>\n      <td></td>\n      <td></td>\n      <td></td>\n    </tr>\n    <tr>\n      <th>187</th>\n      <td>haitong securities co ltd</td>\n      <td>shanghai,china</td>\n      <td>china</td>\n      <td></td>\n      <td></td>\n      <td></td>\n      <td></td>\n      <td>11,282</td>\n      <td></td>\n      <td>18230000000</td>\n      <td>...</td>\n      <td>capital markets</td>\n      <td></td>\n      <td></td>\n      <td></td>\n      <td></td>\n      <td></td>\n      <td></td>\n      <td></td>\n      <td></td>\n      <td></td>\n    </tr>\n  </tbody>\n</table>\n<p>873 rows × 22 columns</p>\n</div>"
     },
     "metadata": {},
     "output_type": "display_data"
    },
    {
     "data": {
      "text/plain": "                                    name                  headquarters  \\\n0                      johnson & johnson  newbrunswick,nj,unitedstates   \n1                         morgan stanley       newyork,ny,unitedstates   \n2                                 sanofi                  paris,france   \n3                         conocophillips       houston,tx,unitedstates   \n4     petroleo brasileiro sa - petrobras        riodejaneiro,rj,brazil   \n...                                  ...                           ...   \n1122                   hdfc bank limited                  mumbai,india   \n1123                       blackrock inc       newyork,ny,unitedstates   \n1124                        unilever plc          london,unitedkingdom   \n1125               applied materials inc    santaclara,ca,unitedstates   \n1126                        prologis inc  sanfrancisco,ca,unitedstates   \n\n             country continent region sub_region             founded  \\\n0      united states                                    january 1886   \n1      united states                                            1935   \n2             france                                            1973   \n3      united states                                  30 august 2002   \n4             brazil                                  3 october 1953   \n...              ...       ...    ...        ...                 ...   \n1122           india                                                   \n1123   united states                                            1988   \n1124  united kingdom                                2 september 1929   \n1125   united states                               november 10, 1967   \n1126   united states                                            1983   \n\n     employees                    ceo    market_cap  ...  \\\n0      141,700          joaquin duato  475930000000  ...   \n1       75,000   james patrick gorman  164050000000  ...   \n2       95,442            paul hudson  132289999999  ...   \n3        9,900           ryan m lance  136320000000  ...   \n4       46,416   joaquim silva e luna   98370000000  ...   \n...        ...                    ...           ...  ...   \n1122   134,412    sashidhar jagdishan  115680000000  ...   \n1123    18,400  laurence douglas fink  115980000000  ...   \n1124   148,012            alan w jope  117840000000  ...   \n1125    28,500       gary e dickerson  121120000000  ...   \n1126     2,053       hamid r moghadam  121200000000  ...   \n\n                                 industry revenue link share_price  \\\n0               drug manufacturersgeneral                            \n1                         capital markets                            \n2               drug manufacturersgeneral                            \n3                           oil & gas e&p                            \n4                    oil & gas integrated                            \n...                                   ...     ...  ...         ...   \n1122                                banks                            \n1123                     asset management                            \n1124        household & personal products                            \n1125  semiconductor equipment & materials                            \n1126                       reitindustrial                            \n\n     results_for_year total_equity founders market_value address type  \n0                                                                      \n1                                                                      \n2                                                                      \n3                                                                      \n4                                                                      \n...               ...          ...      ...          ...     ...  ...  \n1122                                                                   \n1123                                                                   \n1124                                                                   \n1125                                                                   \n1126                                                                   \n\n[1127 rows x 22 columns]",
      "text/html": "<div>\n<style scoped>\n    .dataframe tbody tr th:only-of-type {\n        vertical-align: middle;\n    }\n\n    .dataframe tbody tr th {\n        vertical-align: top;\n    }\n\n    .dataframe thead th {\n        text-align: right;\n    }\n</style>\n<table border=\"1\" class=\"dataframe\">\n  <thead>\n    <tr style=\"text-align: right;\">\n      <th></th>\n      <th>name</th>\n      <th>headquarters</th>\n      <th>country</th>\n      <th>continent</th>\n      <th>region</th>\n      <th>sub_region</th>\n      <th>founded</th>\n      <th>employees</th>\n      <th>ceo</th>\n      <th>market_cap</th>\n      <th>...</th>\n      <th>industry</th>\n      <th>revenue</th>\n      <th>link</th>\n      <th>share_price</th>\n      <th>results_for_year</th>\n      <th>total_equity</th>\n      <th>founders</th>\n      <th>market_value</th>\n      <th>address</th>\n      <th>type</th>\n    </tr>\n  </thead>\n  <tbody>\n    <tr>\n      <th>0</th>\n      <td>johnson &amp; johnson</td>\n      <td>newbrunswick,nj,unitedstates</td>\n      <td>united states</td>\n      <td></td>\n      <td></td>\n      <td></td>\n      <td>january 1886</td>\n      <td>141,700</td>\n      <td>joaquin duato</td>\n      <td>475930000000</td>\n      <td>...</td>\n      <td>drug manufacturersgeneral</td>\n      <td></td>\n      <td></td>\n      <td></td>\n      <td></td>\n      <td></td>\n      <td></td>\n      <td></td>\n      <td></td>\n      <td></td>\n    </tr>\n    <tr>\n      <th>1</th>\n      <td>morgan stanley</td>\n      <td>newyork,ny,unitedstates</td>\n      <td>united states</td>\n      <td></td>\n      <td></td>\n      <td></td>\n      <td>1935</td>\n      <td>75,000</td>\n      <td>james patrick gorman</td>\n      <td>164050000000</td>\n      <td>...</td>\n      <td>capital markets</td>\n      <td></td>\n      <td></td>\n      <td></td>\n      <td></td>\n      <td></td>\n      <td></td>\n      <td></td>\n      <td></td>\n      <td></td>\n    </tr>\n    <tr>\n      <th>2</th>\n      <td>sanofi</td>\n      <td>paris,france</td>\n      <td>france</td>\n      <td></td>\n      <td></td>\n      <td></td>\n      <td>1973</td>\n      <td>95,442</td>\n      <td>paul hudson</td>\n      <td>132289999999</td>\n      <td>...</td>\n      <td>drug manufacturersgeneral</td>\n      <td></td>\n      <td></td>\n      <td></td>\n      <td></td>\n      <td></td>\n      <td></td>\n      <td></td>\n      <td></td>\n      <td></td>\n    </tr>\n    <tr>\n      <th>3</th>\n      <td>conocophillips</td>\n      <td>houston,tx,unitedstates</td>\n      <td>united states</td>\n      <td></td>\n      <td></td>\n      <td></td>\n      <td>30 august 2002</td>\n      <td>9,900</td>\n      <td>ryan m lance</td>\n      <td>136320000000</td>\n      <td>...</td>\n      <td>oil &amp; gas e&amp;p</td>\n      <td></td>\n      <td></td>\n      <td></td>\n      <td></td>\n      <td></td>\n      <td></td>\n      <td></td>\n      <td></td>\n      <td></td>\n    </tr>\n    <tr>\n      <th>4</th>\n      <td>petroleo brasileiro sa - petrobras</td>\n      <td>riodejaneiro,rj,brazil</td>\n      <td>brazil</td>\n      <td></td>\n      <td></td>\n      <td></td>\n      <td>3 october 1953</td>\n      <td>46,416</td>\n      <td>joaquim silva e luna</td>\n      <td>98370000000</td>\n      <td>...</td>\n      <td>oil &amp; gas integrated</td>\n      <td></td>\n      <td></td>\n      <td></td>\n      <td></td>\n      <td></td>\n      <td></td>\n      <td></td>\n      <td></td>\n      <td></td>\n    </tr>\n    <tr>\n      <th>...</th>\n      <td>...</td>\n      <td>...</td>\n      <td>...</td>\n      <td>...</td>\n      <td>...</td>\n      <td>...</td>\n      <td>...</td>\n      <td>...</td>\n      <td>...</td>\n      <td>...</td>\n      <td>...</td>\n      <td>...</td>\n      <td>...</td>\n      <td>...</td>\n      <td>...</td>\n      <td>...</td>\n      <td>...</td>\n      <td>...</td>\n      <td>...</td>\n      <td>...</td>\n      <td>...</td>\n    </tr>\n    <tr>\n      <th>1122</th>\n      <td>hdfc bank limited</td>\n      <td>mumbai,india</td>\n      <td>india</td>\n      <td></td>\n      <td></td>\n      <td></td>\n      <td></td>\n      <td>134,412</td>\n      <td>sashidhar jagdishan</td>\n      <td>115680000000</td>\n      <td>...</td>\n      <td>banks</td>\n      <td></td>\n      <td></td>\n      <td></td>\n      <td></td>\n      <td></td>\n      <td></td>\n      <td></td>\n      <td></td>\n      <td></td>\n    </tr>\n    <tr>\n      <th>1123</th>\n      <td>blackrock inc</td>\n      <td>newyork,ny,unitedstates</td>\n      <td>united states</td>\n      <td></td>\n      <td></td>\n      <td></td>\n      <td>1988</td>\n      <td>18,400</td>\n      <td>laurence douglas fink</td>\n      <td>115980000000</td>\n      <td>...</td>\n      <td>asset management</td>\n      <td></td>\n      <td></td>\n      <td></td>\n      <td></td>\n      <td></td>\n      <td></td>\n      <td></td>\n      <td></td>\n      <td></td>\n    </tr>\n    <tr>\n      <th>1124</th>\n      <td>unilever plc</td>\n      <td>london,unitedkingdom</td>\n      <td>united kingdom</td>\n      <td></td>\n      <td></td>\n      <td></td>\n      <td>2 september 1929</td>\n      <td>148,012</td>\n      <td>alan w jope</td>\n      <td>117840000000</td>\n      <td>...</td>\n      <td>household &amp; personal products</td>\n      <td></td>\n      <td></td>\n      <td></td>\n      <td></td>\n      <td></td>\n      <td></td>\n      <td></td>\n      <td></td>\n      <td></td>\n    </tr>\n    <tr>\n      <th>1125</th>\n      <td>applied materials inc</td>\n      <td>santaclara,ca,unitedstates</td>\n      <td>united states</td>\n      <td></td>\n      <td></td>\n      <td></td>\n      <td>november 10, 1967</td>\n      <td>28,500</td>\n      <td>gary e dickerson</td>\n      <td>121120000000</td>\n      <td>...</td>\n      <td>semiconductor equipment &amp; materials</td>\n      <td></td>\n      <td></td>\n      <td></td>\n      <td></td>\n      <td></td>\n      <td></td>\n      <td></td>\n      <td></td>\n      <td></td>\n    </tr>\n    <tr>\n      <th>1126</th>\n      <td>prologis inc</td>\n      <td>sanfrancisco,ca,unitedstates</td>\n      <td>united states</td>\n      <td></td>\n      <td></td>\n      <td></td>\n      <td>1983</td>\n      <td>2,053</td>\n      <td>hamid r moghadam</td>\n      <td>121200000000</td>\n      <td>...</td>\n      <td>reitindustrial</td>\n      <td></td>\n      <td></td>\n      <td></td>\n      <td></td>\n      <td></td>\n      <td></td>\n      <td></td>\n      <td></td>\n      <td></td>\n    </tr>\n  </tbody>\n</table>\n<p>1127 rows × 22 columns</p>\n</div>"
     },
     "execution_count": 10,
     "metadata": {},
     "output_type": "execute_result"
    }
   ],
   "source": [
    "\n",
    "def prova(df_l, df_r):\n",
    "    features, feature_value = get_features(df_l, df_r, 0.95, False)\n",
    "    pairs = get_pairs(features, feature_value)\n",
    "    features.sum(axis=1).value_counts().sort_index(ascending=False)\n",
    "\n",
    "    left = []\n",
    "    right = []\n",
    "\n",
    "    for elem in pairs:\n",
    "        left.append(df_l.loc[elem[0]])\n",
    "        right.append(df_r.loc[elem[1]])\n",
    "\n",
    "    matching_dataset_left = pd.DataFrame(left)\n",
    "    matching_dataset_right = pd.DataFrame(right)\n",
    "    matching_dataset_left = matching_dataset_left.reset_index(drop=True)\n",
    "    matching_dataset_right = matching_dataset_right.reset_index(drop=True)\n",
    "\n",
    "    difference_l = pd.concat([df_l, matching_dataset_left]).drop_duplicates(keep=False)\n",
    "    difference_r = pd.concat([df_r, matching_dataset_right]).drop_duplicates(keep=False)\n",
    "\n",
    "    match_join_df, candidate_join_df = join(matching_dataset_left, matching_dataset_right)\n",
    "    display(match_join_df)\n",
    "\n",
    "\n",
    "    features_difference, feature_value_difference = get_features(difference_l, difference_r, 0.95, True)\n",
    "    pairs_difference = get_pairs(features_difference, feature_value_difference)\n",
    "    features_difference.sum(axis=1).value_counts().sort_index(ascending=False)\n",
    "\n",
    "    left = []\n",
    "    right = []\n",
    "\n",
    "    for elem in pairs_difference:\n",
    "        left.append(difference_l.loc[elem[0]])\n",
    "        right.append(difference_r.loc[elem[1]])\n",
    "\n",
    "    matching_difference_dataset_left = pd.DataFrame(left)\n",
    "    matching_difference_dataset_right = pd.DataFrame(right)\n",
    "    matching_difference_dataset_left = matching_difference_dataset_left.reset_index(drop=True)\n",
    "    matching_difference_dataset_right = matching_difference_dataset_right.reset_index(drop=True)\n",
    "\n",
    "    difference_join_df, difference_candidate_join_df = join(matching_difference_dataset_left, matching_difference_dataset_right)\n",
    "    display(difference_join_df)\n",
    "\n",
    "    result= pd.concat([match_join_df, difference_join_df])\n",
    "    display(result)\n",
    "\n",
    "    matching_difference_dataset_left.columns = remove_suffix(matching_difference_dataset_left.columns.values.tolist())\n",
    "    matching_difference_dataset_right.columns = remove_suffix(matching_difference_dataset_right.columns.values.tolist())\n",
    "\n",
    "    unique_left_df =pd.concat([difference_l, matching_difference_dataset_left]).drop_duplicates(keep=False)\n",
    "    result = pd.concat([result, unique_left_df])\n",
    "\n",
    "    unique_right_df = pd.concat([difference_r, matching_difference_dataset_right]).drop_duplicates(keep=False)\n",
    "    result = pd.concat([result, unique_right_df])\n",
    "\n",
    "    result = result.reset_index(drop=True)\n",
    "\n",
    "    return result\n",
    "\n",
    "\n",
    "files = get_all_files(MEDIATED_DATASETS_PATH)\n",
    "df_l = pd.read_json(MEDIATED_DATASETS_PATH + files[0], encoding='utf-8', lines=True, dtype=object)\n",
    "files.pop(0)\n",
    "for file in files:\n",
    "        df_r = pd.read_json(MEDIATED_DATASETS_PATH + file, encoding='utf-8', lines=True, dtype=object)\n",
    "        df_l = prova(df_l, df_r)\n",
    "df_l"
   ],
   "metadata": {
    "collapsed": false,
    "pycharm": {
     "name": "#%%\n"
    }
   }
  },
  {
   "cell_type": "code",
   "execution_count": 5,
   "outputs": [
    {
     "ename": "KeyboardInterrupt",
     "evalue": "",
     "output_type": "error",
     "traceback": [
      "\u001B[0;31m---------------------------------------------------------------------------\u001B[0m",
      "\u001B[0;31mKeyboardInterrupt\u001B[0m                         Traceback (most recent call last)",
      "Cell \u001B[0;32mIn[5], line 3\u001B[0m\n\u001B[1;32m      1\u001B[0m files \u001B[38;5;241m=\u001B[39m get_all_files(MEDIATED_DATASETS_PATH)\n\u001B[1;32m      2\u001B[0m df_l \u001B[38;5;241m=\u001B[39m pd\u001B[38;5;241m.\u001B[39mread_json(MEDIATED_DATASETS_PATH \u001B[38;5;241m+\u001B[39m files[\u001B[38;5;241m0\u001B[39m], encoding\u001B[38;5;241m=\u001B[39m\u001B[38;5;124m'\u001B[39m\u001B[38;5;124mutf-8\u001B[39m\u001B[38;5;124m'\u001B[39m, lines\u001B[38;5;241m=\u001B[39m\u001B[38;5;28;01mTrue\u001B[39;00m, dtype\u001B[38;5;241m=\u001B[39m\u001B[38;5;28mobject\u001B[39m)\n\u001B[0;32m----> 3\u001B[0m \u001B[43mfiles\u001B[49m\u001B[38;5;241m.\u001B[39mpop(\u001B[38;5;241m0\u001B[39m)\n\u001B[1;32m      4\u001B[0m \u001B[38;5;28;01mfor\u001B[39;00m file \u001B[38;5;129;01min\u001B[39;00m files:\n\u001B[1;32m      5\u001B[0m         df_r \u001B[38;5;241m=\u001B[39m pd\u001B[38;5;241m.\u001B[39mread_json(MEDIATED_DATASETS_PATH \u001B[38;5;241m+\u001B[39m file, encoding\u001B[38;5;241m=\u001B[39m\u001B[38;5;124m'\u001B[39m\u001B[38;5;124mutf-8\u001B[39m\u001B[38;5;124m'\u001B[39m, lines\u001B[38;5;241m=\u001B[39m\u001B[38;5;28;01mTrue\u001B[39;00m, dtype\u001B[38;5;241m=\u001B[39m\u001B[38;5;28mobject\u001B[39m)\n",
      "Cell \u001B[0;32mIn[5], line 3\u001B[0m\n\u001B[1;32m      1\u001B[0m files \u001B[38;5;241m=\u001B[39m get_all_files(MEDIATED_DATASETS_PATH)\n\u001B[1;32m      2\u001B[0m df_l \u001B[38;5;241m=\u001B[39m pd\u001B[38;5;241m.\u001B[39mread_json(MEDIATED_DATASETS_PATH \u001B[38;5;241m+\u001B[39m files[\u001B[38;5;241m0\u001B[39m], encoding\u001B[38;5;241m=\u001B[39m\u001B[38;5;124m'\u001B[39m\u001B[38;5;124mutf-8\u001B[39m\u001B[38;5;124m'\u001B[39m, lines\u001B[38;5;241m=\u001B[39m\u001B[38;5;28;01mTrue\u001B[39;00m, dtype\u001B[38;5;241m=\u001B[39m\u001B[38;5;28mobject\u001B[39m)\n\u001B[0;32m----> 3\u001B[0m \u001B[43mfiles\u001B[49m\u001B[38;5;241m.\u001B[39mpop(\u001B[38;5;241m0\u001B[39m)\n\u001B[1;32m      4\u001B[0m \u001B[38;5;28;01mfor\u001B[39;00m file \u001B[38;5;129;01min\u001B[39;00m files:\n\u001B[1;32m      5\u001B[0m         df_r \u001B[38;5;241m=\u001B[39m pd\u001B[38;5;241m.\u001B[39mread_json(MEDIATED_DATASETS_PATH \u001B[38;5;241m+\u001B[39m file, encoding\u001B[38;5;241m=\u001B[39m\u001B[38;5;124m'\u001B[39m\u001B[38;5;124mutf-8\u001B[39m\u001B[38;5;124m'\u001B[39m, lines\u001B[38;5;241m=\u001B[39m\u001B[38;5;28;01mTrue\u001B[39;00m, dtype\u001B[38;5;241m=\u001B[39m\u001B[38;5;28mobject\u001B[39m)\n",
      "File \u001B[0;32m_pydevd_bundle/pydevd_cython_darwin_310_64.pyx:1180\u001B[0m, in \u001B[0;36m_pydevd_bundle.pydevd_cython_darwin_310_64.SafeCallWrapper.__call__\u001B[0;34m()\u001B[0m\n",
      "File \u001B[0;32m_pydevd_bundle/pydevd_cython_darwin_310_64.pyx:621\u001B[0m, in \u001B[0;36m_pydevd_bundle.pydevd_cython_darwin_310_64.PyDBFrame.trace_dispatch\u001B[0;34m()\u001B[0m\n",
      "File \u001B[0;32m_pydevd_bundle/pydevd_cython_darwin_310_64.pyx:1096\u001B[0m, in \u001B[0;36m_pydevd_bundle.pydevd_cython_darwin_310_64.PyDBFrame.trace_dispatch\u001B[0;34m()\u001B[0m\n",
      "File \u001B[0;32m_pydevd_bundle/pydevd_cython_darwin_310_64.pyx:1054\u001B[0m, in \u001B[0;36m_pydevd_bundle.pydevd_cython_darwin_310_64.PyDBFrame.trace_dispatch\u001B[0;34m()\u001B[0m\n",
      "File \u001B[0;32m/Applications/PyCharm.app/Contents/plugins/python/helpers-pro/jupyter_debug/pydev_jupyter_plugin.py:165\u001B[0m, in \u001B[0;36mstop\u001B[0;34m(plugin, pydb, frame, event, args, stop_info, arg, step_cmd)\u001B[0m\n\u001B[1;32m    163\u001B[0m     frame \u001B[38;5;241m=\u001B[39m suspend_jupyter(main_debugger, thread, frame, step_cmd)\n\u001B[1;32m    164\u001B[0m     \u001B[38;5;28;01mif\u001B[39;00m frame:\n\u001B[0;32m--> 165\u001B[0m         \u001B[43mmain_debugger\u001B[49m\u001B[38;5;241;43m.\u001B[39;49m\u001B[43mdo_wait_suspend\u001B[49m\u001B[43m(\u001B[49m\u001B[43mthread\u001B[49m\u001B[43m,\u001B[49m\u001B[43m \u001B[49m\u001B[43mframe\u001B[49m\u001B[43m,\u001B[49m\u001B[43m \u001B[49m\u001B[43mevent\u001B[49m\u001B[43m,\u001B[49m\u001B[43m \u001B[49m\u001B[43marg\u001B[49m\u001B[43m)\u001B[49m\n\u001B[1;32m    166\u001B[0m         \u001B[38;5;28;01mreturn\u001B[39;00m \u001B[38;5;28;01mTrue\u001B[39;00m\n\u001B[1;32m    167\u001B[0m \u001B[38;5;28;01mreturn\u001B[39;00m \u001B[38;5;28;01mFalse\u001B[39;00m\n",
      "File \u001B[0;32m/Applications/PyCharm.app/Contents/plugins/python/helpers/pydev/pydevd.py:1147\u001B[0m, in \u001B[0;36mPyDB.do_wait_suspend\u001B[0;34m(self, thread, frame, event, arg, send_suspend_message, is_unhandled_exception)\u001B[0m\n\u001B[1;32m   1144\u001B[0m         from_this_thread\u001B[38;5;241m.\u001B[39mappend(frame_id)\n\u001B[1;32m   1146\u001B[0m \u001B[38;5;28;01mwith\u001B[39;00m \u001B[38;5;28mself\u001B[39m\u001B[38;5;241m.\u001B[39m_threads_suspended_single_notification\u001B[38;5;241m.\u001B[39mnotify_thread_suspended(thread_id, stop_reason):\n\u001B[0;32m-> 1147\u001B[0m     \u001B[38;5;28;43mself\u001B[39;49m\u001B[38;5;241;43m.\u001B[39;49m\u001B[43m_do_wait_suspend\u001B[49m\u001B[43m(\u001B[49m\u001B[43mthread\u001B[49m\u001B[43m,\u001B[49m\u001B[43m \u001B[49m\u001B[43mframe\u001B[49m\u001B[43m,\u001B[49m\u001B[43m \u001B[49m\u001B[43mevent\u001B[49m\u001B[43m,\u001B[49m\u001B[43m \u001B[49m\u001B[43marg\u001B[49m\u001B[43m,\u001B[49m\u001B[43m \u001B[49m\u001B[43msuspend_type\u001B[49m\u001B[43m,\u001B[49m\u001B[43m \u001B[49m\u001B[43mfrom_this_thread\u001B[49m\u001B[43m)\u001B[49m\n",
      "File \u001B[0;32m/Applications/PyCharm.app/Contents/plugins/python/helpers/pydev/pydevd.py:1162\u001B[0m, in \u001B[0;36mPyDB._do_wait_suspend\u001B[0;34m(self, thread, frame, event, arg, suspend_type, from_this_thread)\u001B[0m\n\u001B[1;32m   1159\u001B[0m             \u001B[38;5;28mself\u001B[39m\u001B[38;5;241m.\u001B[39m_call_mpl_hook()\n\u001B[1;32m   1161\u001B[0m         \u001B[38;5;28mself\u001B[39m\u001B[38;5;241m.\u001B[39mprocess_internal_commands()\n\u001B[0;32m-> 1162\u001B[0m         \u001B[43mtime\u001B[49m\u001B[38;5;241;43m.\u001B[39;49m\u001B[43msleep\u001B[49m\u001B[43m(\u001B[49m\u001B[38;5;241;43m0.01\u001B[39;49m\u001B[43m)\u001B[49m\n\u001B[1;32m   1164\u001B[0m \u001B[38;5;28mself\u001B[39m\u001B[38;5;241m.\u001B[39mcancel_async_evaluation(get_current_thread_id(thread), \u001B[38;5;28mstr\u001B[39m(\u001B[38;5;28mid\u001B[39m(frame)))\n\u001B[1;32m   1166\u001B[0m \u001B[38;5;66;03m# process any stepping instructions\u001B[39;00m\n",
      "\u001B[0;31mKeyboardInterrupt\u001B[0m: "
     ]
    }
   ],
   "source": [
    "files = get_all_files(MEDIATED_DATASETS_PATH)\n",
    "df_l = pd.read_json(MEDIATED_DATASETS_PATH + files[0], encoding='utf-8', lines=True, dtype=object)\n",
    "files.pop(0)\n",
    "for file in files:\n",
    "        df_r = pd.read_json(MEDIATED_DATASETS_PATH + file, encoding='utf-8', lines=True, dtype=object)\n",
    "        df_l = prova(df_l, df_r)\n",
    "df_l"
   ],
   "metadata": {
    "collapsed": false,
    "pycharm": {
     "name": "#%%\n"
    }
   }
  },
  {
   "cell_type": "code",
   "execution_count": null,
   "outputs": [],
   "source": [],
   "metadata": {
    "collapsed": false,
    "pycharm": {
     "name": "#%%\n"
    }
   }
  }
 ],
 "metadata": {
  "kernelspec": {
   "display_name": "Python 3",
   "language": "python",
   "name": "python3"
  },
  "language_info": {
   "codemirror_mode": {
    "name": "ipython",
    "version": 2
   },
   "file_extension": ".py",
   "mimetype": "text/x-python",
   "name": "python",
   "nbconvert_exporter": "python",
   "pygments_lexer": "ipython2",
   "version": "2.7.6"
  }
 },
 "nbformat": 4,
 "nbformat_minor": 0
}