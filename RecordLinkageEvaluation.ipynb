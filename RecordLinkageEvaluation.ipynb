{
 "cells": [
  {
   "cell_type": "code",
   "execution_count": 8,
   "metadata": {
    "pycharm": {
     "name": "#%%\n"
    }
   },
   "outputs": [
    {
     "name": "stdout",
     "output_type": "stream",
     "text": [
      "found duplicate\n",
      "231\n",
      "precision\n",
      "0.948051948051948\n",
      "recall\n",
      "0.9125\n",
      "f-measure\n",
      "0.929936305732484\n"
     ]
    }
   ],
   "source": [
    "import csv\n",
    "import collections\n",
    "import itertools\n",
    "\n",
    "def evaluateDuplicates(found_dupes, true_dupes):\n",
    "    true_positives = found_dupes.intersection(true_dupes)\n",
    "    false_positives = found_dupes.difference(true_dupes)\n",
    "    uncovered_dupes = true_dupes.difference(found_dupes)\n",
    "\n",
    "    print('found duplicate')\n",
    "    print(len(found_dupes))\n",
    "\n",
    "    print('precision')\n",
    "    precision = 1 - len(false_positives) / float(len(found_dupes))\n",
    "    print(precision)\n",
    "\n",
    "    print('recall')\n",
    "    recall = len(true_positives) / float(len(true_dupes))\n",
    "    print(recall)\n",
    "\n",
    "    print('f-measure')\n",
    "    print((2*precision*recall)/(precision+recall))\n",
    "\n",
    "\n",
    "def linkPairs(filename, rowname) :\n",
    "    link_d = {}\n",
    "\n",
    "    with open(filename) as f:\n",
    "        reader = csv.DictReader(f, delimiter=',', quotechar='\"')\n",
    "        for i, row in enumerate(reader):\n",
    "            source_file, link_id = row['source file'], row[rowname]\n",
    "            if link_id:\n",
    "                if link_id not in link_d:\n",
    "                    link_d[link_id] = collections.defaultdict(list)\n",
    "\n",
    "                link_d[link_id][source_file].append(i)\n",
    "\n",
    "    link_s = set()\n",
    "\n",
    "    for members in link_d.values():\n",
    "        for pair in itertools.product(*members.values()):\n",
    "            link_s.add(frozenset(pair))\n",
    "\n",
    "    return link_s\n",
    "\n",
    "clusters = './Data Matching Output/data_matching_output_0.csv'\n",
    "\n",
    "true_dupes = linkPairs(clusters, 'Label')\n",
    "test_dupes = linkPairs(clusters, 'Cluster ID')\n",
    "\n",
    "evaluateDuplicates(test_dupes, true_dupes)"
   ]
  },
  {
   "cell_type": "code",
   "execution_count": null,
   "metadata": {
    "pycharm": {
     "name": "#%%\n"
    }
   },
   "outputs": [],
   "source": []
  },
  {
   "cell_type": "code",
   "execution_count": null,
   "metadata": {},
   "outputs": [],
   "source": []
  }
 ],
 "metadata": {
  "kernelspec": {
   "display_name": "Python 3",
   "language": "python",
   "name": "python3"
  },
  "language_info": {
   "codemirror_mode": {
    "name": "ipython",
    "version": 3
   },
   "file_extension": ".py",
   "mimetype": "text/x-python",
   "name": "python",
   "nbconvert_exporter": "python",
   "pygments_lexer": "ipython3",
   "version": "3.10.9"
  }
 },
 "nbformat": 4,
 "nbformat_minor": 1
}